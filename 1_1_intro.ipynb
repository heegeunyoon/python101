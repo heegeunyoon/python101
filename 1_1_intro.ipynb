{
  "nbformat": 4,
  "nbformat_minor": 0,
  "metadata": {
    "kernelspec": {
      "display_name": "Python 3",
      "language": "python",
      "name": "python3"
    },
    "language_info": {
      "codemirror_mode": {
        "name": "ipython",
        "version": 3
      },
      "file_extension": ".py",
      "mimetype": "text/x-python",
      "name": "python",
      "nbconvert_exporter": "python",
      "pygments_lexer": "ipython3",
      "version": "3.8.5"
    },
    "colab": {
      "name": "intro.ipynb",
      "provenance": [],
      "include_colab_link": true
    }
  },
  "cells": [
    {
      "cell_type": "markdown",
      "metadata": {
        "id": "view-in-github",
        "colab_type": "text"
      },
      "source": [
        "<a href=\"https://colab.research.google.com/github/pjhbrain/python101/blob/main/1_1_intro.ipynb\" target=\"_parent\"><img src=\"https://colab.research.google.com/assets/colab-badge.svg\" alt=\"Open In Colab\"/></a>"
      ]
    },
    {
      "cell_type": "markdown",
      "metadata": {
        "id": "jwMT9xqBplpA"
      },
      "source": [
        "# 주피터노트북\n"
      ]
    },
    {
      "cell_type": "code",
      "source": [
        "1"
      ],
      "metadata": {
        "id": "Iru7NkQf85Lw",
        "outputId": "aa4f9ddc-62eb-4ea4-9b0b-434c03bc08a5",
        "colab": {
          "base_uri": "https://localhost:8080/"
        }
      },
      "execution_count": 9,
      "outputs": [
        {
          "output_type": "execute_result",
          "data": {
            "text/plain": [
              "1"
            ]
          },
          "metadata": {},
          "execution_count": 9
        }
      ]
    },
    {
      "cell_type": "markdown",
      "source": [
        "# 파이썬"
      ],
      "metadata": {
        "id": "iF2zL1l89EBZ"
      }
    },
    {
      "cell_type": "markdown",
      "metadata": {
        "id": "hIN0AWUWuQGu"
      },
      "source": [
        "## 셀 타입\n",
        "\n",
        "- 코드\n",
        "- 마크다운/텍스트"
      ]
    },
    {
      "cell_type": "markdown",
      "metadata": {
        "id": "uUSqwNRIuTLX"
      },
      "source": [
        "## 셀 모드\n",
        "\n",
        "- 편집\n",
        "- 명령"
      ]
    },
    {
      "cell_type": "markdown",
      "metadata": {
        "id": "jBUE4J2GmMec"
      },
      "source": [
        "\n",
        "## 셀 실행\n",
        "\n",
        "- Shift + Enter 현재 셀 실행하고 아래 셀 선택\n",
        "- Ctrl + Enter 현재 셀 실행하고 현재 셀 선택\n",
        "- Alt + Enter (colab) 현재 셀 실행하고 아래에 새로운 코드 셀 생성"
      ]
    },
    {
      "cell_type": "markdown",
      "metadata": {
        "id": "6xAOkXo5plpC"
      },
      "source": [
        "## 단축키\n",
        "- 구글 코랩에서는 노트북 단축키를 사용자가 지정할 수 있으며, 일반적인 주피터노트북과 달리 셀 편집모드에서도 단축키를 통해 셀 잘라내기, 새로운 셀 생성 등 셀 편집이 가능\n",
        "\n",
        "- '메뉴-도구-단축키'에서 설정\n",
        "    - 셀 잘라내기 Ctrl + m, x\n",
        "    - 셀 복사하기 Ctrl + m, c\n",
        "    - 셀 붙이기 Ctrl + v\n",
        "    - 셀 삭제 Ctrl + m, d\n",
        "    - 위에 새로운 셀 삽입하기 Ctrl + m, a\n",
        "    - 아래에 새로운 셀 삽입하기 Ctrl + m, b\n",
        "    - 셀 타입 코드로 변환 Ctrl + m, y\n",
        "    - 셀 타입 마크다운으로 변환 Ctrl + m, m\n",
        "    - 실행 취소 Ctrl + m, z\n",
        "    - 단축키 확인 Ctrl + m, x\n",
        "    - 선택된 여러 셀 병합 Ctrl + Shift + m\n",
        "    - 현재 커서 위치에서 셀 분할 Ctrl + m, -\n",
        "    - 주석 설정/해제 Ctrl + /"
      ]
    },
    {
      "cell_type": "code",
      "source": [
        "import sys\n",
        "\n",
        "print(sys.version)\n",
        "print(sys.version_info)"
      ],
      "metadata": {
        "colab": {
          "base_uri": "https://localhost:8080/"
        },
        "id": "AxZULfKq-hUi",
        "outputId": "1f94104f-d20e-4f78-856b-be469ea97d20"
      },
      "execution_count": 10,
      "outputs": [
        {
          "output_type": "stream",
          "name": "stdout",
          "text": [
            "3.10.12 (main, Nov 20 2023, 15:14:05) [GCC 11.4.0]\n",
            "sys.version_info(major=3, minor=10, micro=12, releaselevel='final', serial=0)\n"
          ]
        }
      ]
    },
    {
      "cell_type": "code",
      "source": [
        "# PEP8 스타일\n",
        "# https://www.python.org/dev/peps/pep-0008/"
      ],
      "metadata": {
        "id": "t4slUHlp-wLS"
      },
      "execution_count": null,
      "outputs": []
    },
    {
      "cell_type": "code",
      "source": [
        "# 탭 대신 스페이스를 사용해서 들여쓰기\n",
        "# 라인 길이는 79개 문자 이하\n",
        "# 긴 식을 다음 줄에 이어서 쓸 경우에는 일반적인 들여쓰기보다 4 스페이스를 더 들여서 씀\n",
        "# 파일 안에서 각 함수와 클래스 사이에는 빈 줄을 두 줄 넣기\n",
        "# 클래스 안에서 메서드와 메서드 사이에는 빈 줄을 한 줄\n",
        "# 딕셔너리에서 키와 콜론 사이에는 공백을 넣지 않고, 한 줄 안에 키와 값을 같이 넣는 경우에는 콜론 다음에 스페이스 하나 넣기\n",
        "# 변수 대입에서 = 전후에는 스페이스를 하나씩만 넣기"
      ],
      "metadata": {
        "id": "dWRhfE5l_XGt"
      },
      "execution_count": null,
      "outputs": []
    },
    {
      "cell_type": "markdown",
      "metadata": {
        "id": "2lDW_v4WplpF"
      },
      "source": [
        "# 기본 자료형"
      ]
    },
    {
      "cell_type": "markdown",
      "metadata": {
        "id": "FUzXR2ySplpG"
      },
      "source": [
        "## 숫자, 참/거짓, 문자열"
      ]
    },
    {
      "cell_type": "code",
      "source": [
        "1"
      ],
      "metadata": {
        "id": "VXnGGupX96Y7",
        "outputId": "d776c538-af3a-450a-ea89-58e682e73d66",
        "colab": {
          "base_uri": "https://localhost:8080/"
        }
      },
      "execution_count": 11,
      "outputs": [
        {
          "output_type": "execute_result",
          "data": {
            "text/plain": [
              "1"
            ]
          },
          "metadata": {},
          "execution_count": 11
        }
      ]
    },
    {
      "cell_type": "code",
      "metadata": {
        "colab": {
          "base_uri": "https://localhost:8080/"
        },
        "id": "pXbt8obKplpG",
        "outputId": "690a795d-ccae-4abb-9839-5658dda18151"
      },
      "source": [
        "type(1)"
      ],
      "execution_count": 12,
      "outputs": [
        {
          "output_type": "execute_result",
          "data": {
            "text/plain": [
              "int"
            ]
          },
          "metadata": {},
          "execution_count": 12
        }
      ]
    },
    {
      "cell_type": "code",
      "metadata": {
        "colab": {
          "base_uri": "https://localhost:8080/"
        },
        "id": "q1E_vIBdplpG",
        "outputId": "c61743fd-76ff-46fc-9f47-684e5433e098"
      },
      "source": [
        "type(1.0)"
      ],
      "execution_count": 13,
      "outputs": [
        {
          "output_type": "execute_result",
          "data": {
            "text/plain": [
              "float"
            ]
          },
          "metadata": {},
          "execution_count": 13
        }
      ]
    },
    {
      "cell_type": "code",
      "source": [
        "True"
      ],
      "metadata": {
        "id": "EvOQyUhR-Gu8",
        "outputId": "589be9b4-0ac7-43be-deba-ba135a257552",
        "colab": {
          "base_uri": "https://localhost:8080/"
        }
      },
      "execution_count": 14,
      "outputs": [
        {
          "output_type": "execute_result",
          "data": {
            "text/plain": [
              "True"
            ]
          },
          "metadata": {},
          "execution_count": 14
        }
      ]
    },
    {
      "cell_type": "code",
      "metadata": {
        "colab": {
          "base_uri": "https://localhost:8080/"
        },
        "id": "TyKF1DtxplpG",
        "outputId": "c28b4468-9a67-4843-9385-b17fbac38bc8"
      },
      "source": [
        "False, True"
      ],
      "execution_count": null,
      "outputs": [
        {
          "output_type": "execute_result",
          "data": {
            "text/plain": [
              "(False, True)"
            ]
          },
          "metadata": {},
          "execution_count": 7
        }
      ]
    },
    {
      "cell_type": "code",
      "metadata": {
        "colab": {
          "base_uri": "https://localhost:8080/"
        },
        "id": "0xCcMW83plpH",
        "outputId": "ebdd58c5-84d2-4c20-a1d0-0c962ce747db"
      },
      "source": [
        "type(True)"
      ],
      "execution_count": 15,
      "outputs": [
        {
          "output_type": "execute_result",
          "data": {
            "text/plain": [
              "bool"
            ]
          },
          "metadata": {},
          "execution_count": 15
        }
      ]
    },
    {
      "cell_type": "code",
      "source": [
        "'true'"
      ],
      "metadata": {
        "id": "v4W-P4Jt-Lgh",
        "outputId": "80de7d40-55af-4ea8-a865-936cacecda88",
        "colab": {
          "base_uri": "https://localhost:8080/",
          "height": 35
        }
      },
      "execution_count": 17,
      "outputs": [
        {
          "output_type": "execute_result",
          "data": {
            "text/plain": [
              "'true'"
            ],
            "application/vnd.google.colaboratory.intrinsic+json": {
              "type": "string"
            }
          },
          "metadata": {},
          "execution_count": 17
        }
      ]
    },
    {
      "cell_type": "code",
      "metadata": {
        "colab": {
          "base_uri": "https://localhost:8080/"
        },
        "id": "gUOZPQrLplpH",
        "outputId": "3ce6ebb8-a5e5-47f1-b6ad-7c3d3388b599"
      },
      "source": [
        "type('python')"
      ],
      "execution_count": null,
      "outputs": [
        {
          "output_type": "execute_result",
          "data": {
            "text/plain": [
              "str"
            ]
          },
          "metadata": {},
          "execution_count": 9
        }
      ]
    },
    {
      "cell_type": "code",
      "metadata": {
        "colab": {
          "base_uri": "https://localhost:8080/"
        },
        "id": "r0oSz78XplpH",
        "outputId": "fc3cfcdd-dc02-4f9b-df41-b6eadb005f02"
      },
      "source": [
        "type(\"python\")"
      ],
      "execution_count": null,
      "outputs": [
        {
          "output_type": "execute_result",
          "data": {
            "text/plain": [
              "str"
            ]
          },
          "metadata": {},
          "execution_count": 10
        }
      ]
    },
    {
      "cell_type": "code",
      "metadata": {
        "colab": {
          "base_uri": "https://localhost:8080/"
        },
        "id": "Mit-TmWuplpH",
        "outputId": "effe780c-786b-45bd-8fb5-d1ddf78deb76"
      },
      "source": [
        "type('a')"
      ],
      "execution_count": null,
      "outputs": [
        {
          "output_type": "execute_result",
          "data": {
            "text/plain": [
              "str"
            ]
          },
          "metadata": {},
          "execution_count": 11
        }
      ]
    },
    {
      "cell_type": "code",
      "metadata": {
        "colab": {
          "base_uri": "https://localhost:8080/"
        },
        "id": "wg7PwJL9plpH",
        "outputId": "ce237aaf-f19d-429c-ecfd-f3802f2c65b6"
      },
      "source": [
        "type(\"p\")"
      ],
      "execution_count": null,
      "outputs": [
        {
          "output_type": "execute_result",
          "data": {
            "text/plain": [
              "str"
            ]
          },
          "metadata": {},
          "execution_count": 12
        }
      ]
    },
    {
      "cell_type": "code",
      "metadata": {
        "colab": {
          "base_uri": "https://localhost:8080/"
        },
        "id": "IP78CxLmplpI",
        "outputId": "1ed251a0-6811-43aa-8425-a6595b767375"
      },
      "source": [
        "type('python'), type(.5)"
      ],
      "execution_count": null,
      "outputs": [
        {
          "output_type": "execute_result",
          "data": {
            "text/plain": [
              "(str, float)"
            ]
          },
          "metadata": {},
          "execution_count": 13
        }
      ]
    },
    {
      "cell_type": "code",
      "source": [
        "a = 1\n",
        "b = 2"
      ],
      "metadata": {
        "id": "kGVpJpQ9-agd"
      },
      "execution_count": 23,
      "outputs": []
    },
    {
      "cell_type": "code",
      "source": [
        "print(a)\n",
        "print(b)"
      ],
      "metadata": {
        "id": "kQcywrL7-gHF",
        "outputId": "ed7731e1-6d5f-4691-e102-89278d37119c",
        "colab": {
          "base_uri": "https://localhost:8080/"
        }
      },
      "execution_count": 25,
      "outputs": [
        {
          "output_type": "stream",
          "name": "stdout",
          "text": [
            "1\n",
            "2\n"
          ]
        }
      ]
    },
    {
      "cell_type": "code",
      "source": [
        "a == 5"
      ],
      "metadata": {
        "id": "GvJudswP_Bx5",
        "outputId": "a1cd6124-2794-4485-d025-089869ff5a8e",
        "colab": {
          "base_uri": "https://localhost:8080/"
        }
      },
      "execution_count": 28,
      "outputs": [
        {
          "output_type": "execute_result",
          "data": {
            "text/plain": [
              "True"
            ]
          },
          "metadata": {},
          "execution_count": 28
        }
      ]
    },
    {
      "cell_type": "code",
      "metadata": {
        "colab": {
          "base_uri": "https://localhost:8080/"
        },
        "id": "zp7kR8nCplpI",
        "outputId": "91b7d097-f134-4ceb-b0f4-d8b8711b08cb"
      },
      "source": [
        "a = 5\n",
        "b = (a == 5)\n",
        "c = 'KOR'\n",
        "print(a, b, c)"
      ],
      "execution_count": 27,
      "outputs": [
        {
          "output_type": "stream",
          "name": "stdout",
          "text": [
            "5 True KOR\n"
          ]
        }
      ]
    },
    {
      "cell_type": "markdown",
      "metadata": {
        "id": "1RlJvVPPplpI"
      },
      "source": [
        "- 더하기"
      ]
    },
    {
      "cell_type": "code",
      "metadata": {
        "colab": {
          "base_uri": "https://localhost:8080/"
        },
        "id": "bQUcBF6kplpI",
        "outputId": "0f5505d9-ee7d-41b3-8160-ecf9fb27ae63"
      },
      "source": [
        "4 + 5"
      ],
      "execution_count": 29,
      "outputs": [
        {
          "output_type": "execute_result",
          "data": {
            "text/plain": [
              "9"
            ]
          },
          "metadata": {},
          "execution_count": 29
        }
      ]
    },
    {
      "cell_type": "code",
      "metadata": {
        "colab": {
          "base_uri": "https://localhost:8080/",
          "height": 35
        },
        "id": "4ZwrU7d-plpI",
        "outputId": "2987354e-8ed3-4902-c6ab-cec501299def"
      },
      "source": [
        "'KOR' + '15'"
      ],
      "execution_count": 30,
      "outputs": [
        {
          "output_type": "execute_result",
          "data": {
            "text/plain": [
              "'KOR15'"
            ],
            "application/vnd.google.colaboratory.intrinsic+json": {
              "type": "string"
            }
          },
          "metadata": {},
          "execution_count": 30
        }
      ]
    },
    {
      "cell_type": "code",
      "metadata": {
        "colab": {
          "base_uri": "https://localhost:8080/",
          "height": 141
        },
        "id": "wDGp9HLvplpJ",
        "outputId": "e70c5869-e384-4a4e-a859-dd62716d79be"
      },
      "source": [
        "'KOR' + 15"
      ],
      "execution_count": 31,
      "outputs": [
        {
          "output_type": "error",
          "ename": "TypeError",
          "evalue": "can only concatenate str (not \"int\") to str",
          "traceback": [
            "\u001b[0;31m---------------------------------------------------------------------------\u001b[0m",
            "\u001b[0;31mTypeError\u001b[0m                                 Traceback (most recent call last)",
            "\u001b[0;32m<ipython-input-31-20d4bb33d198>\u001b[0m in \u001b[0;36m<cell line: 1>\u001b[0;34m()\u001b[0m\n\u001b[0;32m----> 1\u001b[0;31m \u001b[0;34m'KOR'\u001b[0m \u001b[0;34m+\u001b[0m \u001b[0;36m15\u001b[0m\u001b[0;34m\u001b[0m\u001b[0;34m\u001b[0m\u001b[0m\n\u001b[0m",
            "\u001b[0;31mTypeError\u001b[0m: can only concatenate str (not \"int\") to str"
          ]
        }
      ]
    },
    {
      "cell_type": "markdown",
      "metadata": {
        "id": "CXSLZvllRNPB"
      },
      "source": [
        "- 수는 수끼리, 문자열은 문자열끼리 더할 수 있음\n",
        "- 자료형 변경은 str(), float(), int() 등을 이용"
      ]
    },
    {
      "cell_type": "code",
      "metadata": {
        "colab": {
          "base_uri": "https://localhost:8080/",
          "height": 35
        },
        "id": "fH9LuWoJplpJ",
        "outputId": "829b9334-5622-46a7-8899-abe44e4cf860"
      },
      "source": [
        "'KOR' + str(15)"
      ],
      "execution_count": 32,
      "outputs": [
        {
          "output_type": "execute_result",
          "data": {
            "text/plain": [
              "'KOR15'"
            ],
            "application/vnd.google.colaboratory.intrinsic+json": {
              "type": "string"
            }
          },
          "metadata": {},
          "execution_count": 32
        }
      ]
    },
    {
      "cell_type": "code",
      "metadata": {
        "colab": {
          "base_uri": "https://localhost:8080/"
        },
        "id": "b9XEvt9CplpJ",
        "outputId": "19adcc41-b88c-4936-8422-c7a1a7675f66"
      },
      "source": [
        "print(type(15))\n",
        "print(type(str(15)))"
      ],
      "execution_count": 33,
      "outputs": [
        {
          "output_type": "stream",
          "name": "stdout",
          "text": [
            "<class 'int'>\n",
            "<class 'str'>\n"
          ]
        }
      ]
    },
    {
      "cell_type": "code",
      "metadata": {
        "colab": {
          "base_uri": "https://localhost:8080/"
        },
        "id": "4szQuNbCplpJ",
        "outputId": "678a99cc-f857-4b68-9c5d-2fa56d5f1b19"
      },
      "source": [
        "float(str(15))"
      ],
      "execution_count": null,
      "outputs": [
        {
          "output_type": "execute_result",
          "data": {
            "text/plain": [
              "15.0"
            ]
          },
          "metadata": {},
          "execution_count": 23
        }
      ]
    },
    {
      "cell_type": "markdown",
      "metadata": {
        "id": "7g8KeLtmRulV"
      },
      "source": [
        "- bool 자료형에 사칙연산을 적용할 경우 False는 0, True는 1의 값을 갖는 것으로 처리됨"
      ]
    },
    {
      "cell_type": "code",
      "metadata": {
        "colab": {
          "base_uri": "https://localhost:8080/"
        },
        "id": "Ghzo11E0plpJ",
        "outputId": "3b917a38-8ddb-46d0-db16-fbc50d295dbb"
      },
      "source": [
        "4 + True"
      ],
      "execution_count": null,
      "outputs": [
        {
          "output_type": "execute_result",
          "data": {
            "text/plain": [
              "5"
            ]
          },
          "metadata": {},
          "execution_count": 24
        }
      ]
    },
    {
      "cell_type": "code",
      "metadata": {
        "colab": {
          "base_uri": "https://localhost:8080/"
        },
        "id": "pdtjUuBLplpJ",
        "outputId": "bb03543f-79a6-4110-87aa-594911f41f19"
      },
      "source": [
        "4 + False"
      ],
      "execution_count": null,
      "outputs": [
        {
          "output_type": "execute_result",
          "data": {
            "text/plain": [
              "4"
            ]
          },
          "metadata": {},
          "execution_count": 25
        }
      ]
    },
    {
      "cell_type": "code",
      "metadata": {
        "colab": {
          "base_uri": "https://localhost:8080/"
        },
        "id": "Yk2-dgg5plpK",
        "outputId": "8e0f39ae-eeee-45da-9a32-cca1bded5296"
      },
      "source": [
        "4 * True"
      ],
      "execution_count": null,
      "outputs": [
        {
          "output_type": "execute_result",
          "data": {
            "text/plain": [
              "4"
            ]
          },
          "metadata": {},
          "execution_count": 26
        }
      ]
    },
    {
      "cell_type": "code",
      "metadata": {
        "colab": {
          "base_uri": "https://localhost:8080/"
        },
        "id": "_WO49bD2plpK",
        "outputId": "bcfd2552-3da7-486a-8f26-bc8e7096512d"
      },
      "source": [
        "4 * False"
      ],
      "execution_count": null,
      "outputs": [
        {
          "output_type": "execute_result",
          "data": {
            "text/plain": [
              "0"
            ]
          },
          "metadata": {},
          "execution_count": 27
        }
      ]
    },
    {
      "cell_type": "code",
      "metadata": {
        "colab": {
          "base_uri": "https://localhost:8080/"
        },
        "id": "boRojZFSplpK",
        "outputId": "4dbc6a71-1a05-4422-f7fa-cacd75f56e36"
      },
      "source": [
        "int(True)"
      ],
      "execution_count": 34,
      "outputs": [
        {
          "output_type": "execute_result",
          "data": {
            "text/plain": [
              "1"
            ]
          },
          "metadata": {},
          "execution_count": 34
        }
      ]
    },
    {
      "cell_type": "code",
      "source": [
        "int(False)"
      ],
      "metadata": {
        "colab": {
          "base_uri": "https://localhost:8080/"
        },
        "id": "3nKhUI_RjvRR",
        "outputId": "d27a4643-b8f1-4708-d560-e6b871dfb5a3"
      },
      "execution_count": null,
      "outputs": [
        {
          "output_type": "execute_result",
          "data": {
            "text/plain": [
              "0"
            ]
          },
          "metadata": {},
          "execution_count": 29
        }
      ]
    },
    {
      "cell_type": "markdown",
      "metadata": {
        "id": "_DsNzxuXplpK"
      },
      "source": [
        "- 문자열 포맷 f-string"
      ]
    },
    {
      "cell_type": "code",
      "metadata": {
        "colab": {
          "base_uri": "https://localhost:8080/"
        },
        "id": "fn0Ke_hSplpK",
        "outputId": "8c0493d9-f102-4ed1-a377-328df284761b"
      },
      "source": [
        "a = 2\n",
        "b = 'two'\n",
        "print(a, b)"
      ],
      "execution_count": 39,
      "outputs": [
        {
          "output_type": "stream",
          "name": "stdout",
          "text": [
            "2 two\n"
          ]
        }
      ]
    },
    {
      "cell_type": "code",
      "source": [
        "print('abc')\n",
        "print(f'abc {a}')"
      ],
      "metadata": {
        "id": "f7AvskVT_5T8",
        "outputId": "f285ec61-0aed-4bc5-a442-409af0d6f988",
        "colab": {
          "base_uri": "https://localhost:8080/"
        }
      },
      "execution_count": 40,
      "outputs": [
        {
          "output_type": "stream",
          "name": "stdout",
          "text": [
            "abc\n",
            "abc 2\n"
          ]
        }
      ]
    },
    {
      "cell_type": "code",
      "metadata": {
        "colab": {
          "base_uri": "https://localhost:8080/"
        },
        "id": "fGvZJKfOplpK",
        "outputId": "ae320819-76a0-4d68-a606-25111993d41a"
      },
      "source": [
        "print(f'{a} is {b}')"
      ],
      "execution_count": 41,
      "outputs": [
        {
          "output_type": "stream",
          "name": "stdout",
          "text": [
            "2 is two\n"
          ]
        }
      ]
    },
    {
      "cell_type": "code",
      "source": [
        "print(f'{a:.10f} is {b}')"
      ],
      "metadata": {
        "id": "tQZDaFBwAVFF",
        "outputId": "fe66a015-94cd-4b2a-d897-46febb96a003",
        "colab": {
          "base_uri": "https://localhost:8080/"
        }
      },
      "execution_count": 43,
      "outputs": [
        {
          "output_type": "stream",
          "name": "stdout",
          "text": [
            "2.0000000000 is two\n"
          ]
        }
      ]
    },
    {
      "cell_type": "code",
      "metadata": {
        "colab": {
          "base_uri": "https://localhost:8080/"
        },
        "id": "Z35sO1nOplpK",
        "outputId": "d5fc0a09-d2af-42a3-aee6-7fa78bfd1abb"
      },
      "source": [
        "print(f'{a:.2f} is {b:}')"
      ],
      "execution_count": null,
      "outputs": [
        {
          "output_type": "stream",
          "name": "stdout",
          "text": [
            "2.00 is two\n"
          ]
        }
      ]
    },
    {
      "cell_type": "code",
      "metadata": {
        "colab": {
          "base_uri": "https://localhost:8080/"
        },
        "id": "bOWYq_dOplpL",
        "outputId": "f8cb31f1-0227-4f79-bd45-0e3f0351ba0d"
      },
      "source": [
        "print(f'{b:} is {a:.2f}')"
      ],
      "execution_count": null,
      "outputs": [
        {
          "output_type": "stream",
          "name": "stdout",
          "text": [
            "two is 2.00\n"
          ]
        }
      ]
    },
    {
      "cell_type": "code",
      "metadata": {
        "colab": {
          "base_uri": "https://localhost:8080/"
        },
        "id": "GEpSVxhsplpL",
        "outputId": "d89c07dd-6839-4e48-a2f1-5b799fed7926"
      },
      "source": [
        "print(f'{b:} is {10000:,.2f}')"
      ],
      "execution_count": 44,
      "outputs": [
        {
          "output_type": "stream",
          "name": "stdout",
          "text": [
            "two is 10,000.00\n"
          ]
        }
      ]
    },
    {
      "cell_type": "markdown",
      "metadata": {
        "id": "3siuC5njplpL"
      },
      "source": [
        "- 문자열에서 공백 없애기"
      ]
    },
    {
      "cell_type": "code",
      "metadata": {
        "colab": {
          "base_uri": "https://localhost:8080/",
          "height": 35
        },
        "id": "6ZukADH3plpL",
        "outputId": "a4edaea6-cbc6-428f-b730-24b3d7ac6840"
      },
      "source": [
        "\" abc \".lstrip()"
      ],
      "execution_count": null,
      "outputs": [
        {
          "output_type": "execute_result",
          "data": {
            "text/plain": [
              "'abc '"
            ],
            "application/vnd.google.colaboratory.intrinsic+json": {
              "type": "string"
            }
          },
          "metadata": {},
          "execution_count": 35
        }
      ]
    },
    {
      "cell_type": "code",
      "metadata": {
        "colab": {
          "base_uri": "https://localhost:8080/",
          "height": 35
        },
        "id": "7hUmNy5tplpL",
        "outputId": "4fd23889-f970-4306-adce-a59059ac1e75"
      },
      "source": [
        "\" abc \".rstrip()"
      ],
      "execution_count": null,
      "outputs": [
        {
          "output_type": "execute_result",
          "data": {
            "text/plain": [
              "' abc'"
            ],
            "application/vnd.google.colaboratory.intrinsic+json": {
              "type": "string"
            }
          },
          "metadata": {},
          "execution_count": 36
        }
      ]
    },
    {
      "cell_type": "code",
      "metadata": {
        "colab": {
          "base_uri": "https://localhost:8080/",
          "height": 35
        },
        "id": "HUdLs-17plpL",
        "outputId": "891ff855-0c5f-460d-ec58-86ab54881224"
      },
      "source": [
        "\" abc \".strip()"
      ],
      "execution_count": null,
      "outputs": [
        {
          "output_type": "execute_result",
          "data": {
            "text/plain": [
              "'abc'"
            ],
            "application/vnd.google.colaboratory.intrinsic+json": {
              "type": "string"
            }
          },
          "metadata": {},
          "execution_count": 37
        }
      ]
    },
    {
      "cell_type": "code",
      "metadata": {
        "colab": {
          "base_uri": "https://localhost:8080/",
          "height": 35
        },
        "id": "FPwUgUqOplpL",
        "outputId": "f22d0f77-e972-4461-b69b-da9dd1cf80af"
      },
      "source": [
        "\"abc\".strip('a')"
      ],
      "execution_count": null,
      "outputs": [
        {
          "output_type": "execute_result",
          "data": {
            "text/plain": [
              "'bc'"
            ],
            "application/vnd.google.colaboratory.intrinsic+json": {
              "type": "string"
            }
          },
          "metadata": {},
          "execution_count": 39
        }
      ]
    },
    {
      "cell_type": "markdown",
      "metadata": {
        "id": "zcHFY5o9plpM"
      },
      "source": [
        "## 리스트"
      ]
    },
    {
      "cell_type": "code",
      "metadata": {
        "id": "QCiLko44plpM"
      },
      "source": [
        "a = [1, 2, 3]\n",
        "b = ['one', 'two', 'three']"
      ],
      "execution_count": 45,
      "outputs": []
    },
    {
      "cell_type": "code",
      "source": [
        "print(a)\n",
        "print(b)"
      ],
      "metadata": {
        "id": "4V41XrcUA0v4",
        "outputId": "67309ef4-4810-407d-c20a-33d3937bebf4",
        "colab": {
          "base_uri": "https://localhost:8080/"
        }
      },
      "execution_count": 46,
      "outputs": [
        {
          "output_type": "stream",
          "name": "stdout",
          "text": [
            "[1, 2, 3]\n",
            "['one', 'two', 'three']\n"
          ]
        }
      ]
    },
    {
      "cell_type": "code",
      "metadata": {
        "colab": {
          "base_uri": "https://localhost:8080/"
        },
        "id": "sp7EfIO-plpM",
        "outputId": "980e7043-871b-4f45-c9f2-1eac27b387b7"
      },
      "source": [
        "type(a)"
      ],
      "execution_count": 47,
      "outputs": [
        {
          "output_type": "execute_result",
          "data": {
            "text/plain": [
              "list"
            ]
          },
          "metadata": {},
          "execution_count": 47
        }
      ]
    },
    {
      "cell_type": "code",
      "source": [
        "print(4 + 3)\n",
        "print(4 * 3)"
      ],
      "metadata": {
        "id": "bWu9edn-BCUH",
        "outputId": "f660818c-08be-4b97-da05-b08195a449d2",
        "colab": {
          "base_uri": "https://localhost:8080/"
        }
      },
      "execution_count": 50,
      "outputs": [
        {
          "output_type": "stream",
          "name": "stdout",
          "text": [
            "7\n",
            "12\n"
          ]
        }
      ]
    },
    {
      "cell_type": "code",
      "metadata": {
        "colab": {
          "base_uri": "https://localhost:8080/"
        },
        "id": "y49xn6_hplpM",
        "outputId": "3f8a815e-09c4-4b8b-e123-8c9db05da287"
      },
      "source": [
        "a * 2"
      ],
      "execution_count": 51,
      "outputs": [
        {
          "output_type": "execute_result",
          "data": {
            "text/plain": [
              "[1, 2, 3, 1, 2, 3]"
            ]
          },
          "metadata": {},
          "execution_count": 51
        }
      ]
    },
    {
      "cell_type": "code",
      "metadata": {
        "colab": {
          "base_uri": "https://localhost:8080/"
        },
        "id": "2HlEc1C0plpM",
        "outputId": "50766657-9e5b-4d9a-855a-c6c4102476a3"
      },
      "source": [
        "b * 2"
      ],
      "execution_count": 52,
      "outputs": [
        {
          "output_type": "execute_result",
          "data": {
            "text/plain": [
              "['one', 'two', 'three', 'one', 'two', 'three']"
            ]
          },
          "metadata": {},
          "execution_count": 52
        }
      ]
    },
    {
      "cell_type": "code",
      "metadata": {
        "colab": {
          "base_uri": "https://localhost:8080/"
        },
        "id": "zHDMP4G_plpM",
        "outputId": "63d202c0-2fcd-493b-aa90-a6e76bb161fa"
      },
      "source": [
        "a + b"
      ],
      "execution_count": 53,
      "outputs": [
        {
          "output_type": "execute_result",
          "data": {
            "text/plain": [
              "[1, 2, 3, 'one', 'two', 'three']"
            ]
          },
          "metadata": {},
          "execution_count": 53
        }
      ]
    },
    {
      "cell_type": "code",
      "metadata": {
        "colab": {
          "base_uri": "https://localhost:8080/",
          "height": 141
        },
        "id": "53O9ZnIFplpM",
        "outputId": "53bb9509-dc82-44e4-dc1b-e115c9f54575"
      },
      "source": [
        "a + 5"
      ],
      "execution_count": 54,
      "outputs": [
        {
          "output_type": "error",
          "ename": "TypeError",
          "evalue": "can only concatenate list (not \"int\") to list",
          "traceback": [
            "\u001b[0;31m---------------------------------------------------------------------------\u001b[0m",
            "\u001b[0;31mTypeError\u001b[0m                                 Traceback (most recent call last)",
            "\u001b[0;32m<ipython-input-54-5cd40e0bb6cf>\u001b[0m in \u001b[0;36m<cell line: 1>\u001b[0;34m()\u001b[0m\n\u001b[0;32m----> 1\u001b[0;31m \u001b[0ma\u001b[0m \u001b[0;34m+\u001b[0m \u001b[0;36m5\u001b[0m\u001b[0;34m\u001b[0m\u001b[0;34m\u001b[0m\u001b[0m\n\u001b[0m",
            "\u001b[0;31mTypeError\u001b[0m: can only concatenate list (not \"int\") to list"
          ]
        }
      ]
    },
    {
      "cell_type": "code",
      "metadata": {
        "colab": {
          "base_uri": "https://localhost:8080/",
          "height": 147
        },
        "id": "3V9pGdYFplpN",
        "outputId": "c021ecdb-7090-4301-cf25-805b73c2e063"
      },
      "source": [
        "a + 'four'"
      ],
      "execution_count": null,
      "outputs": [
        {
          "output_type": "error",
          "ename": "TypeError",
          "evalue": "can only concatenate list (not \"str\") to list",
          "traceback": [
            "\u001b[0;31m---------------------------------------------------------------------------\u001b[0m",
            "\u001b[0;31mTypeError\u001b[0m                                 Traceback (most recent call last)",
            "\u001b[0;32m<ipython-input-46-0303589e4648>\u001b[0m in \u001b[0;36m<cell line: 1>\u001b[0;34m()\u001b[0m\n\u001b[0;32m----> 1\u001b[0;31m \u001b[0ma\u001b[0m \u001b[0;34m+\u001b[0m \u001b[0;34m'four'\u001b[0m\u001b[0;34m\u001b[0m\u001b[0;34m\u001b[0m\u001b[0m\n\u001b[0m",
            "\u001b[0;31mTypeError\u001b[0m: can only concatenate list (not \"str\") to list"
          ]
        }
      ]
    },
    {
      "cell_type": "markdown",
      "metadata": {
        "id": "3dU-pVatplpN"
      },
      "source": [
        "- list에 숫자 또는 문자열을 더하는 연산이 정의되어 있지 않으므로 오류발생"
      ]
    },
    {
      "cell_type": "code",
      "metadata": {
        "colab": {
          "base_uri": "https://localhost:8080/"
        },
        "id": "YwhXBSABplpN",
        "outputId": "02ace50d-b355-4b74-f9a1-23c820b0c58d"
      },
      "source": [
        "a + [5]"
      ],
      "execution_count": null,
      "outputs": [
        {
          "output_type": "execute_result",
          "data": {
            "text/plain": [
              "[1, 2, 3, 5]"
            ]
          },
          "metadata": {},
          "execution_count": 47
        }
      ]
    },
    {
      "cell_type": "code",
      "metadata": {
        "colab": {
          "base_uri": "https://localhost:8080/"
        },
        "id": "ics6GYA-plpN",
        "outputId": "ccb7e7ac-79f7-4a6d-92ef-1fe335ce44f7"
      },
      "source": [
        "print(b)\n",
        "b.append('four')\n",
        "print(b)"
      ],
      "execution_count": 55,
      "outputs": [
        {
          "output_type": "stream",
          "name": "stdout",
          "text": [
            "['one', 'two', 'three']\n",
            "['one', 'two', 'three', 'four']\n"
          ]
        }
      ]
    },
    {
      "cell_type": "code",
      "source": [
        "print(b)\n",
        "b.append([1, 2, 3])\n",
        "print(b)"
      ],
      "metadata": {
        "id": "UNQMOGnYBn0x",
        "outputId": "dbd6592f-b387-456f-ac34-423155e8c30b",
        "colab": {
          "base_uri": "https://localhost:8080/"
        }
      },
      "execution_count": 57,
      "outputs": [
        {
          "output_type": "stream",
          "name": "stdout",
          "text": [
            "['one', 'two', 'three', 'four']\n",
            "['one', 'two', 'three', 'four', [1, 2, 3]]\n"
          ]
        }
      ]
    },
    {
      "cell_type": "code",
      "source": [
        "b"
      ],
      "metadata": {
        "id": "MkqbH-WqBzlk",
        "outputId": "f46ef6eb-1a8d-483b-bf29-0dec616803f1",
        "colab": {
          "base_uri": "https://localhost:8080/"
        }
      },
      "execution_count": 58,
      "outputs": [
        {
          "output_type": "execute_result",
          "data": {
            "text/plain": [
              "['one', 'two', 'three', 'four', [1, 2, 3]]"
            ]
          },
          "metadata": {},
          "execution_count": 58
        }
      ]
    },
    {
      "cell_type": "code",
      "source": [
        "print(b[0])\n",
        "print(b[1])\n",
        "print(b[4])\n",
        "print(b[-1])"
      ],
      "metadata": {
        "id": "YyZgUr_sB4cb",
        "outputId": "7137109b-5f73-4983-9aad-58cb82c959b9",
        "colab": {
          "base_uri": "https://localhost:8080/"
        }
      },
      "execution_count": 60,
      "outputs": [
        {
          "output_type": "stream",
          "name": "stdout",
          "text": [
            "one\n",
            "two\n",
            "[1, 2, 3]\n",
            "[1, 2, 3]\n"
          ]
        }
      ]
    },
    {
      "cell_type": "markdown",
      "metadata": {
        "id": "x1O08-aeplpN"
      },
      "source": [
        "- 숫자로 이루어진 리스트의 각 항목에 숫자를 더하기 위해서는 list comprehension이나 for-loop 이용"
      ]
    },
    {
      "cell_type": "code",
      "source": [
        "a = [1, 2, 3]"
      ],
      "metadata": {
        "id": "t-Nj6CSTF7t6"
      },
      "execution_count": 61,
      "outputs": []
    },
    {
      "cell_type": "code",
      "source": [
        "for i in a:\n",
        "  print(i)"
      ],
      "metadata": {
        "id": "EWNCxGo6F_Z7",
        "outputId": "8129b161-dda3-491e-953c-de798485bae1",
        "colab": {
          "base_uri": "https://localhost:8080/"
        }
      },
      "execution_count": 62,
      "outputs": [
        {
          "output_type": "stream",
          "name": "stdout",
          "text": [
            "1\n",
            "2\n",
            "3\n"
          ]
        }
      ]
    },
    {
      "cell_type": "code",
      "source": [
        "[i for i in a]"
      ],
      "metadata": {
        "id": "xJfIk9oPGMY5",
        "outputId": "15284d0c-462c-4adb-fe1d-6bacfd1c283b",
        "colab": {
          "base_uri": "https://localhost:8080/"
        }
      },
      "execution_count": 65,
      "outputs": [
        {
          "output_type": "execute_result",
          "data": {
            "text/plain": [
              "[1, 2, 3]"
            ]
          },
          "metadata": {},
          "execution_count": 65
        }
      ]
    },
    {
      "cell_type": "code",
      "metadata": {
        "id": "yDfDGtlNplpN",
        "colab": {
          "base_uri": "https://localhost:8080/"
        },
        "outputId": "c597bf54-1eb2-4965-e7d6-3c59a8fbdb1b"
      },
      "source": [
        "[i + 1 for i in a]"
      ],
      "execution_count": 68,
      "outputs": [
        {
          "output_type": "execute_result",
          "data": {
            "text/plain": [
              "[2, 3, 4]"
            ]
          },
          "metadata": {},
          "execution_count": 68
        }
      ]
    },
    {
      "cell_type": "markdown",
      "metadata": {
        "id": "L0ZQjuC2plpN"
      },
      "source": [
        "- 뒤에 다룰 넘파이 ndarray 자료형은 숫자형 자료 리스트처럼 생겼으나, 숫자 하나를 더할 수 있음"
      ]
    },
    {
      "cell_type": "code",
      "metadata": {
        "colab": {
          "base_uri": "https://localhost:8080/"
        },
        "id": "iPtgYebIplpN",
        "outputId": "6faa839d-9682-46e8-b690-0ab519f87093"
      },
      "source": [
        "list(range(10))"
      ],
      "execution_count": 69,
      "outputs": [
        {
          "output_type": "execute_result",
          "data": {
            "text/plain": [
              "[0, 1, 2, 3, 4, 5, 6, 7, 8, 9]"
            ]
          },
          "metadata": {},
          "execution_count": 69
        }
      ]
    },
    {
      "cell_type": "code",
      "source": [
        "for i in range(10):\n",
        "  print(i)"
      ],
      "metadata": {
        "id": "X2pWxcJ0Gr72",
        "outputId": "e85a00f0-9adc-4399-d4f2-310315e84594",
        "colab": {
          "base_uri": "https://localhost:8080/"
        }
      },
      "execution_count": 70,
      "outputs": [
        {
          "output_type": "stream",
          "name": "stdout",
          "text": [
            "0\n",
            "1\n",
            "2\n",
            "3\n",
            "4\n",
            "5\n",
            "6\n",
            "7\n",
            "8\n",
            "9\n"
          ]
        }
      ]
    },
    {
      "cell_type": "markdown",
      "metadata": {
        "id": "9hL8FpZIplpO"
      },
      "source": [
        "- 리스트에 있는 문자열을 특정 기호로 연결"
      ]
    },
    {
      "cell_type": "code",
      "metadata": {
        "colab": {
          "base_uri": "https://localhost:8080/"
        },
        "id": "weMGGcSnplpO",
        "outputId": "b4934378-9b81-4052-e9d5-f07b2de503f4"
      },
      "source": [
        "b = ['one', 'two', 'three']\n",
        "b"
      ],
      "execution_count": 72,
      "outputs": [
        {
          "output_type": "execute_result",
          "data": {
            "text/plain": [
              "['one', 'two', 'three']"
            ]
          },
          "metadata": {},
          "execution_count": 72
        }
      ]
    },
    {
      "cell_type": "code",
      "metadata": {
        "colab": {
          "base_uri": "https://localhost:8080/",
          "height": 35
        },
        "id": "ZCs23hE5plpO",
        "outputId": "afddef83-d3d4-4490-9ee3-96c2f353d362"
      },
      "source": [
        "' '.join(b)"
      ],
      "execution_count": 73,
      "outputs": [
        {
          "output_type": "execute_result",
          "data": {
            "text/plain": [
              "'one two three'"
            ],
            "application/vnd.google.colaboratory.intrinsic+json": {
              "type": "string"
            }
          },
          "metadata": {},
          "execution_count": 73
        }
      ]
    },
    {
      "cell_type": "markdown",
      "metadata": {
        "id": "VSN0RYpGplpO"
      },
      "source": [
        "- 파이썬 인덱스는 0부터 시작!!"
      ]
    },
    {
      "cell_type": "code",
      "source": [
        "a"
      ],
      "metadata": {
        "id": "Dng3S5_aHAyN",
        "outputId": "a6cd1f61-5336-4477-d79b-8b211e5cc234",
        "colab": {
          "base_uri": "https://localhost:8080/"
        }
      },
      "execution_count": 74,
      "outputs": [
        {
          "output_type": "execute_result",
          "data": {
            "text/plain": [
              "[1, 2, 3]"
            ]
          },
          "metadata": {},
          "execution_count": 74
        }
      ]
    },
    {
      "cell_type": "code",
      "metadata": {
        "colab": {
          "base_uri": "https://localhost:8080/"
        },
        "id": "K8bDKfI_plpO",
        "outputId": "1815a410-5997-44f8-b767-efffe6edd6ed"
      },
      "source": [
        "a[0]"
      ],
      "execution_count": null,
      "outputs": [
        {
          "output_type": "execute_result",
          "data": {
            "text/plain": [
              "1"
            ]
          },
          "metadata": {},
          "execution_count": 53
        }
      ]
    },
    {
      "cell_type": "code",
      "metadata": {
        "colab": {
          "base_uri": "https://localhost:8080/"
        },
        "id": "gAtXisSjplpO",
        "outputId": "96261550-bfc9-4d37-9c9a-cfce10816e03"
      },
      "source": [
        "a[0:2]"
      ],
      "execution_count": 76,
      "outputs": [
        {
          "output_type": "execute_result",
          "data": {
            "text/plain": [
              "[1, 2, 3]"
            ]
          },
          "metadata": {},
          "execution_count": 76
        }
      ]
    },
    {
      "cell_type": "code",
      "source": [
        "a[:2]"
      ],
      "metadata": {
        "id": "PvvewXgwHLeN",
        "outputId": "3367ea36-82fa-425b-ec67-0164987d397b",
        "colab": {
          "base_uri": "https://localhost:8080/"
        }
      },
      "execution_count": 77,
      "outputs": [
        {
          "output_type": "execute_result",
          "data": {
            "text/plain": [
              "[1, 2]"
            ]
          },
          "metadata": {},
          "execution_count": 77
        }
      ]
    },
    {
      "cell_type": "markdown",
      "metadata": {
        "id": "vRT8wJ74plpO"
      },
      "source": [
        "- list의 마지막 항목의 인덱스는 -1"
      ]
    },
    {
      "cell_type": "code",
      "metadata": {
        "colab": {
          "base_uri": "https://localhost:8080/"
        },
        "id": "Do_mDuYVplpO",
        "outputId": "16dc6315-e6ff-49c3-a53b-05c9c100495c"
      },
      "source": [
        "a[-1]"
      ],
      "execution_count": null,
      "outputs": [
        {
          "output_type": "execute_result",
          "data": {
            "text/plain": [
              "3"
            ]
          },
          "metadata": {},
          "execution_count": 55
        }
      ]
    },
    {
      "cell_type": "code",
      "metadata": {
        "colab": {
          "base_uri": "https://localhost:8080/"
        },
        "id": "I3GTH7SvplpP",
        "outputId": "27f735ce-9020-4296-8311-a54549d7bac8"
      },
      "source": [
        "a = ['KOR', 'USA', 'CHN']\n",
        "print(a[0], a[-1], a[:2], a[-2:])"
      ],
      "execution_count": 78,
      "outputs": [
        {
          "output_type": "stream",
          "name": "stdout",
          "text": [
            "KOR CHN ['KOR', 'USA'] ['USA', 'CHN']\n"
          ]
        }
      ]
    },
    {
      "cell_type": "markdown",
      "metadata": {
        "id": "fB3a845YplpP"
      },
      "source": [
        "- 주피터노트북에서 긴 리스트는 세로로 표시되지만, %pprint 명령어로 옵션 변경 가능,\n",
        "- print() 명령어를 사용하면, 긴 리스트도 가로로 표시"
      ]
    },
    {
      "cell_type": "code",
      "metadata": {
        "colab": {
          "base_uri": "https://localhost:8080/"
        },
        "id": "J2Byf-aJplpP",
        "outputId": "5b013373-e1d5-405f-a66a-9ec1e6b362c8"
      },
      "source": [
        "a * 4"
      ],
      "execution_count": null,
      "outputs": [
        {
          "output_type": "execute_result",
          "data": {
            "text/plain": [
              "['KOR',\n",
              " 'USA',\n",
              " 'CHN',\n",
              " 'KOR',\n",
              " 'USA',\n",
              " 'CHN',\n",
              " 'KOR',\n",
              " 'USA',\n",
              " 'CHN',\n",
              " 'KOR',\n",
              " 'USA',\n",
              " 'CHN']"
            ]
          },
          "metadata": {},
          "execution_count": 57
        }
      ]
    },
    {
      "cell_type": "code",
      "metadata": {
        "colab": {
          "base_uri": "https://localhost:8080/"
        },
        "id": "_oVw6pnWplpP",
        "outputId": "cfabe414-3045-47fe-da98-c2dea2f84506"
      },
      "source": [
        "print(a * 4)"
      ],
      "execution_count": null,
      "outputs": [
        {
          "output_type": "stream",
          "name": "stdout",
          "text": [
            "['KOR', 'USA', 'CHN', 'KOR', 'USA', 'CHN', 'KOR', 'USA', 'CHN', 'KOR', 'USA', 'CHN']\n"
          ]
        }
      ]
    },
    {
      "cell_type": "code",
      "source": [
        "from pprint import pprint"
      ],
      "metadata": {
        "id": "9lZ23JIcl-HT"
      },
      "execution_count": null,
      "outputs": []
    },
    {
      "cell_type": "code",
      "metadata": {
        "colab": {
          "base_uri": "https://localhost:8080/"
        },
        "id": "rS7Q-uLrplpP",
        "outputId": "5ca3634e-cdba-490a-d046-f1f8b986089d"
      },
      "source": [
        "%pprint"
      ],
      "execution_count": null,
      "outputs": [
        {
          "output_type": "stream",
          "name": "stdout",
          "text": [
            "Pretty printing has been turned OFF\n"
          ]
        }
      ]
    },
    {
      "cell_type": "code",
      "metadata": {
        "colab": {
          "base_uri": "https://localhost:8080/"
        },
        "id": "XXQht5hSplpP",
        "outputId": "02112213-1755-47e1-889c-920027e4e797"
      },
      "source": [
        "a * 4"
      ],
      "execution_count": null,
      "outputs": [
        {
          "output_type": "execute_result",
          "data": {
            "text/plain": [
              "['KOR', 'USA', 'CHN', 'KOR', 'USA', 'CHN', 'KOR', 'USA', 'CHN', 'KOR', 'USA', 'CHN']"
            ]
          },
          "metadata": {},
          "execution_count": 64
        }
      ]
    },
    {
      "cell_type": "code",
      "source": [
        "data = {'age': 30,\n",
        " 'education': {'grad': {'degree': 'MSc',\n",
        "                        'university': 'ABC University',\n",
        "                        'year': 2015},\n",
        "               'undergrad': {'degree': 'BSc',\n",
        "                             'university': 'XYZ University',\n",
        "                             'year': 2012}},\n",
        " 'hobbies': ['reading', 'cycling', 'hiking'],\n",
        " 'name': 'Alice',\n",
        " 'work_experience': [{'company': 'Company A', 'position': 'Engineer', 'years': 3},\n",
        "                     {'company': 'Company B',\n",
        "                      'position': 'Senior Engineer',\n",
        "                      'years': 2}]}"
      ],
      "metadata": {
        "id": "33ifljjRoMcc"
      },
      "execution_count": null,
      "outputs": []
    },
    {
      "cell_type": "code",
      "source": [
        "print(data)"
      ],
      "metadata": {
        "colab": {
          "base_uri": "https://localhost:8080/"
        },
        "id": "wLQ2WcJbopyD",
        "outputId": "d07d7dcb-4f0e-46fa-f2d1-9eb66a0e71a2"
      },
      "execution_count": null,
      "outputs": [
        {
          "output_type": "stream",
          "name": "stdout",
          "text": [
            "{'age': 30, 'education': {'grad': {'degree': 'MSc', 'university': 'ABC University', 'year': 2015}, 'undergrad': {'degree': 'BSc', 'university': 'XYZ University', 'year': 2012}}, 'hobbies': ['reading', 'cycling', 'hiking'], 'name': 'Alice', 'work_experience': [{'company': 'Company A', 'position': 'Engineer', 'years': 3}, {'company': 'Company B', 'position': 'Senior Engineer', 'years': 2}]}\n"
          ]
        }
      ]
    },
    {
      "cell_type": "code",
      "source": [
        "pprint(data)"
      ],
      "metadata": {
        "colab": {
          "base_uri": "https://localhost:8080/"
        },
        "id": "5JMdE7atotBL",
        "outputId": "afc1ecad-3d8e-4711-ec5d-467a6affd46c"
      },
      "execution_count": null,
      "outputs": [
        {
          "output_type": "stream",
          "name": "stdout",
          "text": [
            "{'age': 30,\n",
            " 'education': {'grad': {'degree': 'MSc',\n",
            "                        'university': 'ABC University',\n",
            "                        'year': 2015},\n",
            "               'undergrad': {'degree': 'BSc',\n",
            "                             'university': 'XYZ University',\n",
            "                             'year': 2012}},\n",
            " 'hobbies': ['reading', 'cycling', 'hiking'],\n",
            " 'name': 'Alice',\n",
            " 'work_experience': [{'company': 'Company A',\n",
            "                      'position': 'Engineer',\n",
            "                      'years': 3},\n",
            "                     {'company': 'Company B',\n",
            "                      'position': 'Senior Engineer',\n",
            "                      'years': 2}]}\n"
          ]
        }
      ]
    },
    {
      "cell_type": "code",
      "source": [
        "%pprint"
      ],
      "metadata": {
        "colab": {
          "base_uri": "https://localhost:8080/"
        },
        "id": "CW0qEcdVoPWU",
        "outputId": "62b333f9-a609-4a8c-c44e-ec667d33dd6b"
      },
      "execution_count": null,
      "outputs": [
        {
          "output_type": "stream",
          "name": "stdout",
          "text": [
            "Pretty printing has been turned ON\n"
          ]
        }
      ]
    },
    {
      "cell_type": "markdown",
      "metadata": {
        "id": "XJhS-OzzplpP"
      },
      "source": [
        "- 문자열 리스트의 각 항목을 따옴표 없이 print()하기 위해 리스트이름 앞에 * 입력\n",
        "- print()가 출력하는 각 항목 사이를 구분하기 위해 sep = '기호'를 지정\n",
        "- print()가 마지막에 출력할 내용을 지정하기 위해 end = '기호'를 지정(기본은 '\\n')"
      ]
    },
    {
      "cell_type": "code",
      "source": [
        "a"
      ],
      "metadata": {
        "id": "DPtfNe97HsVy",
        "outputId": "20ecc7ce-c176-4d56-8a7c-16af73a01013",
        "colab": {
          "base_uri": "https://localhost:8080/"
        }
      },
      "execution_count": 79,
      "outputs": [
        {
          "output_type": "execute_result",
          "data": {
            "text/plain": [
              "['KOR', 'USA', 'CHN']"
            ]
          },
          "metadata": {},
          "execution_count": 79
        }
      ]
    },
    {
      "cell_type": "code",
      "metadata": {
        "colab": {
          "base_uri": "https://localhost:8080/"
        },
        "id": "bgMMv7EZplpQ",
        "outputId": "c8c257f3-7327-4d74-9343-6a2d7a4f37c5"
      },
      "source": [
        "print(a)"
      ],
      "execution_count": 80,
      "outputs": [
        {
          "output_type": "stream",
          "name": "stdout",
          "text": [
            "['KOR', 'USA', 'CHN']\n"
          ]
        }
      ]
    },
    {
      "cell_type": "code",
      "metadata": {
        "colab": {
          "base_uri": "https://localhost:8080/"
        },
        "id": "dsIAYIK_plpQ",
        "outputId": "29acf232-916f-4da3-f71d-cb304a36a66f"
      },
      "source": [
        "print(*a)"
      ],
      "execution_count": 81,
      "outputs": [
        {
          "output_type": "stream",
          "name": "stdout",
          "text": [
            "KOR USA CHN\n"
          ]
        }
      ]
    },
    {
      "cell_type": "code",
      "metadata": {
        "colab": {
          "base_uri": "https://localhost:8080/"
        },
        "id": "3vSOur9jplpQ",
        "outputId": "60c7ea37-ce65-418c-c1fd-ed08cff66a81"
      },
      "source": [
        "print(*a, sep = '  ')"
      ],
      "execution_count": 83,
      "outputs": [
        {
          "output_type": "stream",
          "name": "stdout",
          "text": [
            "KOR  USA  CHN\n"
          ]
        }
      ]
    },
    {
      "cell_type": "markdown",
      "metadata": {
        "id": "i7-NlpntplpQ"
      },
      "source": [
        "- list comprehension"
      ]
    },
    {
      "cell_type": "code",
      "metadata": {
        "colab": {
          "base_uri": "https://localhost:8080/",
          "height": 141
        },
        "id": "VXAg6bIzplpQ",
        "outputId": "561fcb00-eacb-47cc-a9c7-080985c69121"
      },
      "source": [
        "['KOR', 'USA', 'CHN'] - ['CHN', 'AUS']"
      ],
      "execution_count": 84,
      "outputs": [
        {
          "output_type": "error",
          "ename": "TypeError",
          "evalue": "unsupported operand type(s) for -: 'list' and 'list'",
          "traceback": [
            "\u001b[0;31m---------------------------------------------------------------------------\u001b[0m",
            "\u001b[0;31mTypeError\u001b[0m                                 Traceback (most recent call last)",
            "\u001b[0;32m<ipython-input-84-2a9b0e82d73c>\u001b[0m in \u001b[0;36m<cell line: 1>\u001b[0;34m()\u001b[0m\n\u001b[0;32m----> 1\u001b[0;31m \u001b[0;34m[\u001b[0m\u001b[0;34m'KOR'\u001b[0m\u001b[0;34m,\u001b[0m \u001b[0;34m'USA'\u001b[0m\u001b[0;34m,\u001b[0m \u001b[0;34m'CHN'\u001b[0m\u001b[0;34m]\u001b[0m \u001b[0;34m-\u001b[0m \u001b[0;34m[\u001b[0m\u001b[0;34m'CHN'\u001b[0m\u001b[0;34m,\u001b[0m \u001b[0;34m'AUS'\u001b[0m\u001b[0;34m]\u001b[0m\u001b[0;34m\u001b[0m\u001b[0;34m\u001b[0m\u001b[0m\n\u001b[0m",
            "\u001b[0;31mTypeError\u001b[0m: unsupported operand type(s) for -: 'list' and 'list'"
          ]
        }
      ]
    },
    {
      "cell_type": "code",
      "source": [
        "[i for i in ['KOR', 'USA', 'CHN'] if i not in ['CHN', 'AUS']]"
      ],
      "metadata": {
        "id": "Lh6p3eRnIOY6",
        "outputId": "e23e813b-d638-4a5b-f113-334b6a978cf4",
        "colab": {
          "base_uri": "https://localhost:8080/"
        }
      },
      "execution_count": 87,
      "outputs": [
        {
          "output_type": "execute_result",
          "data": {
            "text/plain": [
              "['KOR', 'USA']"
            ]
          },
          "metadata": {},
          "execution_count": 87
        }
      ]
    },
    {
      "cell_type": "code",
      "metadata": {
        "colab": {
          "base_uri": "https://localhost:8080/"
        },
        "id": "UHvHPbCYplpQ",
        "outputId": "ef002995-dc80-418e-d252-3412b9e50b23"
      },
      "source": [
        "[s for s in ['KOR', 'USA', 'CHN'] if s not in ['CHN', 'AUS']]"
      ],
      "execution_count": null,
      "outputs": [
        {
          "output_type": "execute_result",
          "data": {
            "text/plain": [
              "['KOR', 'USA']"
            ]
          },
          "metadata": {},
          "execution_count": 78
        }
      ]
    },
    {
      "cell_type": "markdown",
      "metadata": {
        "id": "NLbNGd0tplpQ"
      },
      "source": [
        "- set() 이용"
      ]
    },
    {
      "cell_type": "code",
      "source": [
        "print(['KOR', 'USA', 'CHN'])\n",
        "print(set(['KOR', 'USA', 'CHN']))\n",
        "\n",
        "print(type(['KOR', 'USA', 'CHN']))\n",
        "print(type(set(['KOR', 'USA', 'CHN'])))"
      ],
      "metadata": {
        "id": "s1Zl75GAIm6t",
        "outputId": "fcf5a38c-3d2a-4137-9f35-1ffd54504db0",
        "colab": {
          "base_uri": "https://localhost:8080/"
        }
      },
      "execution_count": 89,
      "outputs": [
        {
          "output_type": "stream",
          "name": "stdout",
          "text": [
            "['KOR', 'USA', 'CHN']\n",
            "{'KOR', 'USA', 'CHN'}\n",
            "<class 'list'>\n",
            "<class 'set'>\n"
          ]
        }
      ]
    },
    {
      "cell_type": "code",
      "metadata": {
        "colab": {
          "base_uri": "https://localhost:8080/"
        },
        "id": "owFzu0rJplpQ",
        "outputId": "50ca2a5a-654d-43ab-eb12-9a8efe1d9f39"
      },
      "source": [
        "set(['KOR', 'USA', 'CHN']), set(['CHN', 'AUS'])"
      ],
      "execution_count": null,
      "outputs": [
        {
          "output_type": "execute_result",
          "data": {
            "text/plain": [
              "({'CHN', 'KOR', 'USA'}, {'AUS', 'CHN'})"
            ]
          },
          "metadata": {},
          "execution_count": 84
        }
      ]
    },
    {
      "cell_type": "code",
      "metadata": {
        "colab": {
          "base_uri": "https://localhost:8080/"
        },
        "id": "asVHCWFaplpR",
        "outputId": "ea2004a2-2d94-4dbc-c1a7-590d5d5ae5ef"
      },
      "source": [
        "set(['KOR', 'USA', 'CHN']) - set(['CHN', 'AUS'])"
      ],
      "execution_count": 90,
      "outputs": [
        {
          "output_type": "execute_result",
          "data": {
            "text/plain": [
              "{'KOR', 'USA'}"
            ]
          },
          "metadata": {},
          "execution_count": 90
        }
      ]
    },
    {
      "cell_type": "code",
      "source": [
        "list(set(['KOR', 'USA', 'CHN']).intersection(set(['CHN', 'AUS'])))"
      ],
      "metadata": {
        "id": "0dovg9wgI7yE",
        "outputId": "c95b3ba8-c202-4fa7-f37e-66fb18a1845e",
        "colab": {
          "base_uri": "https://localhost:8080/"
        }
      },
      "execution_count": 95,
      "outputs": [
        {
          "output_type": "execute_result",
          "data": {
            "text/plain": [
              "['CHN']"
            ]
          },
          "metadata": {},
          "execution_count": 95
        }
      ]
    },
    {
      "cell_type": "code",
      "metadata": {
        "colab": {
          "base_uri": "https://localhost:8080/"
        },
        "id": "txnO0BJ_plpR",
        "outputId": "10d1dd3c-4b08-41b6-de6a-6a165d09b7cd"
      },
      "source": [
        "list(set(['KOR', 'USA', 'CHN']) - set(['CHN', 'AUS']))"
      ],
      "execution_count": null,
      "outputs": [
        {
          "output_type": "execute_result",
          "data": {
            "text/plain": [
              "['KOR', 'USA']"
            ]
          },
          "metadata": {},
          "execution_count": 86
        }
      ]
    },
    {
      "cell_type": "markdown",
      "metadata": {
        "id": "owBOJbKCplpR"
      },
      "source": [
        "- 문자열 리스트 항목별로 문자열 더하기"
      ]
    },
    {
      "cell_type": "code",
      "metadata": {
        "colab": {
          "base_uri": "https://localhost:8080/"
        },
        "id": "1gsa51RnplpS",
        "outputId": "59481750-37b8-4e9f-fb47-a5a2314ed827"
      },
      "source": [
        "[s + ':g' for s in ['KOR', 'USA', 'CHN']]"
      ],
      "execution_count": null,
      "outputs": [
        {
          "output_type": "execute_result",
          "data": {
            "text/plain": [
              "['KOR:g', 'USA:g', 'CHN:g']"
            ]
          },
          "metadata": {},
          "execution_count": 87
        }
      ]
    },
    {
      "cell_type": "code",
      "source": [
        "['국가명: ' + i for i in ['대한민국', '미국', '중국']]"
      ],
      "metadata": {
        "id": "LhIlfB6yJWe3",
        "outputId": "a4d8f363-6e5b-4e9b-f323-a02be300333c",
        "colab": {
          "base_uri": "https://localhost:8080/"
        }
      },
      "execution_count": 97,
      "outputs": [
        {
          "output_type": "execute_result",
          "data": {
            "text/plain": [
              "['국가명: 대한민국', '국가명: 미국', '국가명: 중국']"
            ]
          },
          "metadata": {},
          "execution_count": 97
        }
      ]
    },
    {
      "cell_type": "markdown",
      "metadata": {
        "id": "L09r0gyUSmN-"
      },
      "source": [
        "- 문자열은 각 캐릭터(123.../abc.../가나다... 등)로 구성된 리스트"
      ]
    },
    {
      "cell_type": "code",
      "metadata": {
        "id": "AGpghLedSyFV"
      },
      "source": [
        "a = 'abcde'"
      ],
      "execution_count": 98,
      "outputs": []
    },
    {
      "cell_type": "code",
      "source": [
        "a[0]"
      ],
      "metadata": {
        "id": "p477sl0NJuAn",
        "outputId": "68afbf4c-067c-4e95-c728-5403aecc052e",
        "colab": {
          "base_uri": "https://localhost:8080/",
          "height": 35
        }
      },
      "execution_count": 99,
      "outputs": [
        {
          "output_type": "execute_result",
          "data": {
            "text/plain": [
              "'a'"
            ],
            "application/vnd.google.colaboratory.intrinsic+json": {
              "type": "string"
            }
          },
          "metadata": {},
          "execution_count": 99
        }
      ]
    },
    {
      "cell_type": "code",
      "metadata": {
        "id": "DA-2XROBS2nN",
        "colab": {
          "base_uri": "https://localhost:8080/",
          "height": 35
        },
        "outputId": "00788fdc-adb5-46a0-f64a-0b963a9ec5d0"
      },
      "source": [
        "a[:3]"
      ],
      "execution_count": 100,
      "outputs": [
        {
          "output_type": "execute_result",
          "data": {
            "text/plain": [
              "'abc'"
            ],
            "application/vnd.google.colaboratory.intrinsic+json": {
              "type": "string"
            }
          },
          "metadata": {},
          "execution_count": 100
        }
      ]
    },
    {
      "cell_type": "code",
      "metadata": {
        "id": "Fz3MQds_S4Na",
        "colab": {
          "base_uri": "https://localhost:8080/",
          "height": 35
        },
        "outputId": "de7c9cbe-7693-4675-fcc3-2edbda27704d"
      },
      "source": [
        "a[-2:]"
      ],
      "execution_count": null,
      "outputs": [
        {
          "output_type": "execute_result",
          "data": {
            "text/plain": [
              "'de'"
            ],
            "application/vnd.google.colaboratory.intrinsic+json": {
              "type": "string"
            }
          },
          "metadata": {},
          "execution_count": 90
        }
      ]
    },
    {
      "cell_type": "code",
      "metadata": {
        "id": "ln_uyVyuS6sV",
        "colab": {
          "base_uri": "https://localhost:8080/",
          "height": 35
        },
        "outputId": "f16c3466-9089-40a2-f6e1-364f7d7bb2f9"
      },
      "source": [
        "\"가나다라마\"[:2]"
      ],
      "execution_count": 101,
      "outputs": [
        {
          "output_type": "execute_result",
          "data": {
            "text/plain": [
              "'가나'"
            ],
            "application/vnd.google.colaboratory.intrinsic+json": {
              "type": "string"
            }
          },
          "metadata": {},
          "execution_count": 101
        }
      ]
    },
    {
      "cell_type": "markdown",
      "metadata": {
        "id": "qNqtBf2rplpS"
      },
      "source": [
        "- 이전 실행한 출력셀의 값 불러오기"
      ]
    },
    {
      "cell_type": "code",
      "metadata": {
        "colab": {
          "base_uri": "https://localhost:8080/",
          "height": 35
        },
        "id": "mF4jrz2ZplpS",
        "outputId": "33c5e8a0-87de-47e2-832d-1e1a3d8cb7f7"
      },
      "source": [
        "_"
      ],
      "execution_count": null,
      "outputs": [
        {
          "output_type": "execute_result",
          "data": {
            "text/plain": [
              "'가나'"
            ],
            "application/vnd.google.colaboratory.intrinsic+json": {
              "type": "string"
            }
          },
          "metadata": {},
          "execution_count": 92
        }
      ]
    },
    {
      "cell_type": "code",
      "metadata": {
        "colab": {
          "base_uri": "https://localhost:8080/",
          "height": 35
        },
        "id": "RHOEgdSfplpS",
        "outputId": "2653c9d9-8925-4fed-b3cd-9c2e0ebf6165"
      },
      "source": [
        "Out[92]"
      ],
      "execution_count": null,
      "outputs": [
        {
          "output_type": "execute_result",
          "data": {
            "text/plain": [
              "'가나'"
            ],
            "application/vnd.google.colaboratory.intrinsic+json": {
              "type": "string"
            }
          },
          "metadata": {},
          "execution_count": 94
        }
      ]
    },
    {
      "cell_type": "code",
      "metadata": {
        "colab": {
          "base_uri": "https://localhost:8080/",
          "height": 35
        },
        "id": "_tj_PHSpplpT",
        "outputId": "47506e16-e15d-4ee1-9a20-2f7474d398ad"
      },
      "source": [
        "_94"
      ],
      "execution_count": null,
      "outputs": [
        {
          "output_type": "execute_result",
          "data": {
            "text/plain": [
              "'가나'"
            ],
            "application/vnd.google.colaboratory.intrinsic+json": {
              "type": "string"
            }
          },
          "metadata": {},
          "execution_count": 95
        }
      ]
    },
    {
      "cell_type": "markdown",
      "metadata": {
        "id": "AcYPI1Ecjo0w"
      },
      "source": [
        "- range()로 수 리스트 만들기\n",
        "    - range(s, e, i): 처음 위치(생략시 0), 마지막 위치(리스트에 포함 안됨), 수 간격(생략시 1)\n",
        "    - for-loop 등에서 주로 이용하며, 순서대로 해당하는 값만 필요하므로 실제 리스트를 생성하지 않음\n",
        "        - 리스트 생성시 메모리 공간을 크게 차지할 수 있으므로 비효율적임\n",
        "    - 리스트를 생성하기 위해서는 list() 함수 실행"
      ]
    },
    {
      "cell_type": "code",
      "metadata": {
        "colab": {
          "base_uri": "https://localhost:8080/"
        },
        "id": "6wAlslqNk9c8",
        "outputId": "abcfd952-d4b7-458c-bad7-b1edd9681bf5"
      },
      "source": [
        "for i in range(5):  # range(0, 5, 1)\n",
        "    print(i)"
      ],
      "execution_count": null,
      "outputs": [
        {
          "output_type": "stream",
          "name": "stdout",
          "text": [
            "0\n",
            "1\n",
            "2\n",
            "3\n",
            "4\n"
          ]
        }
      ]
    },
    {
      "cell_type": "code",
      "metadata": {
        "colab": {
          "base_uri": "https://localhost:8080/"
        },
        "id": "kYJlQKcylL00",
        "outputId": "9ddab685-f8b5-4936-81b7-53e701de4304"
      },
      "source": [
        "for i in range(5, 0, -2):  # range(0, 5, 1)\n",
        "    print(i)"
      ],
      "execution_count": null,
      "outputs": [
        {
          "output_type": "stream",
          "name": "stdout",
          "text": [
            "5\n",
            "3\n",
            "1\n"
          ]
        }
      ]
    },
    {
      "cell_type": "code",
      "metadata": {
        "id": "6k6c6VFSj1P2",
        "colab": {
          "base_uri": "https://localhost:8080/"
        },
        "outputId": "05c894fa-3bc4-41c0-ee5f-af84c39623f1"
      },
      "source": [
        "list(range(10))"
      ],
      "execution_count": null,
      "outputs": [
        {
          "output_type": "execute_result",
          "data": {
            "text/plain": [
              "[0, 1, 2, 3, 4, 5, 6, 7, 8, 9]"
            ]
          },
          "metadata": {},
          "execution_count": 98
        }
      ]
    },
    {
      "cell_type": "markdown",
      "metadata": {
        "id": "N2daLnGRplpT"
      },
      "source": [
        "## 딕셔너리"
      ]
    },
    {
      "cell_type": "code",
      "metadata": {
        "id": "2GZchHtWplpT"
      },
      "source": [
        "iso = {'US':'USA', 'KR':'KOR', 'JP':'JPN', 'CN':'CHN'}"
      ],
      "execution_count": 102,
      "outputs": []
    },
    {
      "cell_type": "code",
      "metadata": {
        "id": "mFGzj70NplpT"
      },
      "source": [
        "kr_en = {'서울특별시':'SE', '경기도':'GG', '인청광역시':'IC'}"
      ],
      "execution_count": 104,
      "outputs": []
    },
    {
      "cell_type": "code",
      "metadata": {
        "colab": {
          "base_uri": "https://localhost:8080/",
          "height": 35
        },
        "id": "I0pbra5AplpT",
        "outputId": "5698fab0-76bd-43cb-ee92-e41bec86cac1"
      },
      "source": [
        "iso['US']"
      ],
      "execution_count": 105,
      "outputs": [
        {
          "output_type": "execute_result",
          "data": {
            "text/plain": [
              "'USA'"
            ],
            "application/vnd.google.colaboratory.intrinsic+json": {
              "type": "string"
            }
          },
          "metadata": {},
          "execution_count": 105
        }
      ]
    },
    {
      "cell_type": "code",
      "metadata": {
        "colab": {
          "base_uri": "https://localhost:8080/",
          "height": 35
        },
        "id": "QKe3n0QxplpU",
        "outputId": "6831182b-050d-4969-b5fc-b320ac210721"
      },
      "source": [
        "iso['KR']"
      ],
      "execution_count": null,
      "outputs": [
        {
          "output_type": "execute_result",
          "data": {
            "text/plain": [
              "'KOR'"
            ],
            "application/vnd.google.colaboratory.intrinsic+json": {
              "type": "string"
            }
          },
          "metadata": {},
          "execution_count": 102
        }
      ]
    },
    {
      "cell_type": "code",
      "metadata": {
        "colab": {
          "base_uri": "https://localhost:8080/"
        },
        "id": "TUOz4mGtplpU",
        "outputId": "d3b2cefb-f754-4e57-9881-c2e15612969f"
      },
      "source": [
        "iso.keys()"
      ],
      "execution_count": 106,
      "outputs": [
        {
          "output_type": "execute_result",
          "data": {
            "text/plain": [
              "dict_keys(['US', 'KR', 'JP', 'CN'])"
            ]
          },
          "metadata": {},
          "execution_count": 106
        }
      ]
    },
    {
      "cell_type": "code",
      "source": [
        "for i in list(iso.keys()):\n",
        "  print(i)"
      ],
      "metadata": {
        "id": "hhS9Ze3OKtXT",
        "outputId": "b259c4a2-8f3d-4370-b4ff-23ce3fccb852",
        "colab": {
          "base_uri": "https://localhost:8080/"
        }
      },
      "execution_count": 108,
      "outputs": [
        {
          "output_type": "stream",
          "name": "stdout",
          "text": [
            "US\n",
            "KR\n",
            "JP\n",
            "CN\n"
          ]
        }
      ]
    },
    {
      "cell_type": "code",
      "source": [
        "for i in list(iso.keys()):\n",
        "  print(i, iso[i])"
      ],
      "metadata": {
        "id": "4RpuTxT1K6W7",
        "outputId": "0ae1f1e7-1de6-40fb-ab96-3f767d1c609f",
        "colab": {
          "base_uri": "https://localhost:8080/"
        }
      },
      "execution_count": 110,
      "outputs": [
        {
          "output_type": "stream",
          "name": "stdout",
          "text": [
            "US USA\n",
            "KR KOR\n",
            "JP JPN\n",
            "CN CHN\n"
          ]
        }
      ]
    },
    {
      "cell_type": "code",
      "metadata": {
        "colab": {
          "base_uri": "https://localhost:8080/"
        },
        "id": "UYvYD2tuplpU",
        "outputId": "e915f7e2-edd8-47b2-a33a-9e65db17d1c2"
      },
      "source": [
        "iso.values()"
      ],
      "execution_count": null,
      "outputs": [
        {
          "output_type": "execute_result",
          "data": {
            "text/plain": [
              "dict_values(['USA', 'KOR', 'JPN', 'CHN'])"
            ]
          },
          "metadata": {},
          "execution_count": 104
        }
      ]
    },
    {
      "cell_type": "code",
      "source": [
        "iso['AU']"
      ],
      "metadata": {
        "id": "uiocoJ51LLnC",
        "outputId": "76c7e9e9-ad92-4d02-ec54-d616000c875e",
        "colab": {
          "base_uri": "https://localhost:8080/",
          "height": 141
        }
      },
      "execution_count": 112,
      "outputs": [
        {
          "output_type": "error",
          "ename": "KeyError",
          "evalue": "'AU'",
          "traceback": [
            "\u001b[0;31m---------------------------------------------------------------------------\u001b[0m",
            "\u001b[0;31mKeyError\u001b[0m                                  Traceback (most recent call last)",
            "\u001b[0;32m<ipython-input-112-945b5adb42f3>\u001b[0m in \u001b[0;36m<cell line: 1>\u001b[0;34m()\u001b[0m\n\u001b[0;32m----> 1\u001b[0;31m \u001b[0miso\u001b[0m\u001b[0;34m[\u001b[0m\u001b[0;34m'AU'\u001b[0m\u001b[0;34m]\u001b[0m\u001b[0;34m\u001b[0m\u001b[0;34m\u001b[0m\u001b[0m\n\u001b[0m",
            "\u001b[0;31mKeyError\u001b[0m: 'AU'"
          ]
        }
      ]
    },
    {
      "cell_type": "code",
      "metadata": {
        "id": "dVMiiQGhplpU"
      },
      "source": [
        "iso['AU'] = 'AUS'"
      ],
      "execution_count": 113,
      "outputs": []
    },
    {
      "cell_type": "code",
      "metadata": {
        "colab": {
          "base_uri": "https://localhost:8080/"
        },
        "id": "mEGXZAq6plpU",
        "outputId": "cfa4308f-62f1-40fe-8c64-3e70c186ecee"
      },
      "source": [
        "iso"
      ],
      "execution_count": 114,
      "outputs": [
        {
          "output_type": "execute_result",
          "data": {
            "text/plain": [
              "{'US': 'USA', 'KR': 'KOR', 'JP': 'JPN', 'CN': 'CHN', 'AU': 'AUS'}"
            ]
          },
          "metadata": {},
          "execution_count": 114
        }
      ]
    },
    {
      "cell_type": "markdown",
      "metadata": {
        "id": "ie0bl9duplpU"
      },
      "source": [
        "- dict, zip으로 딕셔너리 만들기"
      ]
    },
    {
      "cell_type": "code",
      "source": [
        "{'한국':'KR', '미국':'US', '일본':'JP'}"
      ],
      "metadata": {
        "id": "4gU5VYM8Lb17",
        "outputId": "717ea4a1-a1a4-4229-a2ca-05e64b907426",
        "colab": {
          "base_uri": "https://localhost:8080/"
        }
      },
      "execution_count": 115,
      "outputs": [
        {
          "output_type": "execute_result",
          "data": {
            "text/plain": [
              "{'한국': 'KR', '미국': 'US', '일본': 'JP'}"
            ]
          },
          "metadata": {},
          "execution_count": 115
        }
      ]
    },
    {
      "cell_type": "code",
      "source": [
        "print(['한국', '미국', '일본'])\n",
        "print(['KR', 'US', 'JP'])"
      ],
      "metadata": {
        "id": "7BL9F_JULoGO",
        "outputId": "8190a346-7c1b-4765-b33c-bda3c24d5afd",
        "colab": {
          "base_uri": "https://localhost:8080/"
        }
      },
      "execution_count": 117,
      "outputs": [
        {
          "output_type": "stream",
          "name": "stdout",
          "text": [
            "['한국', '미국', '일본']\n",
            "['KR', 'US', 'JP']\n"
          ]
        }
      ]
    },
    {
      "cell_type": "code",
      "metadata": {
        "colab": {
          "base_uri": "https://localhost:8080/"
        },
        "id": "FhtiG9qLplpU",
        "outputId": "3cdae25c-ed42-4d88-db7d-5fd81dd18e3e"
      },
      "source": [
        "dict(zip(['한국', '미국', '일본'], ['KR', 'US', 'JP']))"
      ],
      "execution_count": null,
      "outputs": [
        {
          "output_type": "execute_result",
          "data": {
            "text/plain": [
              "{'한국': 'KR', '미국': 'US', '일본': 'JP'}"
            ]
          },
          "metadata": {},
          "execution_count": 107
        }
      ]
    },
    {
      "cell_type": "code",
      "source": [
        "for i in ['한국', '미국', '일본']:\n",
        "  print(i)"
      ],
      "metadata": {
        "id": "88v_IONpL4Ia",
        "outputId": "3281d1e8-b14a-4e3e-90f0-82af7b42973f",
        "colab": {
          "base_uri": "https://localhost:8080/"
        }
      },
      "execution_count": 118,
      "outputs": [
        {
          "output_type": "stream",
          "name": "stdout",
          "text": [
            "한국\n",
            "미국\n",
            "일본\n"
          ]
        }
      ]
    },
    {
      "cell_type": "code",
      "source": [
        "for i, ii in zip(['한국', '미국', '일본'], ['KR', 'US', 'JP']):\n",
        "  print(i, ii)"
      ],
      "metadata": {
        "id": "PD6z9YQhL0O2",
        "outputId": "c5d22e6d-a03a-44b4-d51b-0b434f1ac0db",
        "colab": {
          "base_uri": "https://localhost:8080/"
        }
      },
      "execution_count": 119,
      "outputs": [
        {
          "output_type": "stream",
          "name": "stdout",
          "text": [
            "한국 KR\n",
            "미국 US\n",
            "일본 JP\n"
          ]
        }
      ]
    },
    {
      "cell_type": "code",
      "metadata": {
        "colab": {
          "base_uri": "https://localhost:8080/"
        },
        "id": "-1Az1sswplpV",
        "outputId": "53b8054d-5adf-45b1-e880-14061921677d"
      },
      "source": [
        "import pandas as pd\n",
        "countries = pd.Series(['South Korea', 'United States', 'North Korea'])\n",
        "print(countries)"
      ],
      "execution_count": null,
      "outputs": [
        {
          "output_type": "stream",
          "name": "stdout",
          "text": [
            "0      South Korea\n",
            "1    United States\n",
            "2      North Korea\n",
            "dtype: object\n"
          ]
        }
      ]
    },
    {
      "cell_type": "code",
      "metadata": {
        "colab": {
          "base_uri": "https://localhost:8080/"
        },
        "id": "lnZxU24BplpV",
        "outputId": "28d343a1-fff9-4b92-de64-7fcfac63f2ad"
      },
      "source": [
        "cdict = {'South Korea':'KR', 'United States':'US'}\n",
        "countries.replace(cdict)"
      ],
      "execution_count": null,
      "outputs": [
        {
          "output_type": "execute_result",
          "data": {
            "text/plain": [
              "0             KR\n",
              "1             US\n",
              "2    North Korea\n",
              "dtype: object"
            ]
          },
          "metadata": {},
          "execution_count": 109
        }
      ]
    },
    {
      "cell_type": "markdown",
      "metadata": {
        "id": "LudrxhdBplpV"
      },
      "source": [
        "### 튜플"
      ]
    },
    {
      "cell_type": "code",
      "source": [
        "a = [1, 2, 3]\n",
        "\n",
        "print(a)\n",
        "print(a[0])\n",
        "print(type(a))\n",
        "\n",
        "a[0] = 10\n",
        "\n",
        "print(a)"
      ],
      "metadata": {
        "id": "PDIkUkV3MQHQ",
        "outputId": "3703033a-7b89-4bf9-cafa-33757fc0a552",
        "colab": {
          "base_uri": "https://localhost:8080/"
        }
      },
      "execution_count": 122,
      "outputs": [
        {
          "output_type": "stream",
          "name": "stdout",
          "text": [
            "[1, 2, 3]\n",
            "1\n",
            "<class 'list'>\n",
            "[10, 2, 3]\n"
          ]
        }
      ]
    },
    {
      "cell_type": "code",
      "source": [
        "a = (1, 2, 3)\n",
        "\n",
        "print(a)\n",
        "print(a[0])\n",
        "print(type(a))\n",
        "\n",
        "a[0] = 10\n",
        "\n",
        "print(a)"
      ],
      "metadata": {
        "id": "PxATpQF5MdYq",
        "outputId": "72a13832-a158-4ddf-ae6b-789883b3b5a5",
        "colab": {
          "base_uri": "https://localhost:8080/",
          "height": 263
        }
      },
      "execution_count": 123,
      "outputs": [
        {
          "output_type": "stream",
          "name": "stdout",
          "text": [
            "(1, 2, 3)\n",
            "1\n",
            "<class 'tuple'>\n"
          ]
        },
        {
          "output_type": "error",
          "ename": "TypeError",
          "evalue": "'tuple' object does not support item assignment",
          "traceback": [
            "\u001b[0;31m---------------------------------------------------------------------------\u001b[0m",
            "\u001b[0;31mTypeError\u001b[0m                                 Traceback (most recent call last)",
            "\u001b[0;32m<ipython-input-123-88e13c5d5dcd>\u001b[0m in \u001b[0;36m<cell line: 7>\u001b[0;34m()\u001b[0m\n\u001b[1;32m      5\u001b[0m \u001b[0mprint\u001b[0m\u001b[0;34m(\u001b[0m\u001b[0mtype\u001b[0m\u001b[0;34m(\u001b[0m\u001b[0ma\u001b[0m\u001b[0;34m)\u001b[0m\u001b[0;34m)\u001b[0m\u001b[0;34m\u001b[0m\u001b[0;34m\u001b[0m\u001b[0m\n\u001b[1;32m      6\u001b[0m \u001b[0;34m\u001b[0m\u001b[0m\n\u001b[0;32m----> 7\u001b[0;31m \u001b[0ma\u001b[0m\u001b[0;34m[\u001b[0m\u001b[0;36m0\u001b[0m\u001b[0;34m]\u001b[0m \u001b[0;34m=\u001b[0m \u001b[0;36m10\u001b[0m\u001b[0;34m\u001b[0m\u001b[0;34m\u001b[0m\u001b[0m\n\u001b[0m\u001b[1;32m      8\u001b[0m \u001b[0;34m\u001b[0m\u001b[0m\n\u001b[1;32m      9\u001b[0m \u001b[0mprint\u001b[0m\u001b[0;34m(\u001b[0m\u001b[0ma\u001b[0m\u001b[0;34m)\u001b[0m\u001b[0;34m\u001b[0m\u001b[0;34m\u001b[0m\u001b[0m\n",
            "\u001b[0;31mTypeError\u001b[0m: 'tuple' object does not support item assignment"
          ]
        }
      ]
    },
    {
      "cell_type": "code",
      "source": [
        "a = 5\n",
        "b = 10\n",
        "c = 15"
      ],
      "metadata": {
        "id": "z91QxlCJM6iJ"
      },
      "execution_count": 124,
      "outputs": []
    },
    {
      "cell_type": "code",
      "metadata": {
        "id": "R60XB1a3plpV"
      },
      "source": [
        "a, b, c = 5, 10, 15"
      ],
      "execution_count": 125,
      "outputs": []
    },
    {
      "cell_type": "code",
      "metadata": {
        "colab": {
          "base_uri": "https://localhost:8080/"
        },
        "id": "pDpSREc1plpW",
        "outputId": "55198dbb-3d3f-459b-9b43-8fd5a8dae521"
      },
      "source": [
        "print(a, b, c)"
      ],
      "execution_count": null,
      "outputs": [
        {
          "output_type": "stream",
          "name": "stdout",
          "text": [
            "5 10 15\n"
          ]
        }
      ]
    },
    {
      "cell_type": "code",
      "metadata": {
        "colab": {
          "base_uri": "https://localhost:8080/"
        },
        "id": "YIF8iHoPplpW",
        "outputId": "367c0dea-0ff4-4138-ba82-ef95a773c764"
      },
      "source": [
        "a, b = b, a\n",
        "print(a, b)"
      ],
      "execution_count": 126,
      "outputs": [
        {
          "output_type": "stream",
          "name": "stdout",
          "text": [
            "10 5\n"
          ]
        }
      ]
    },
    {
      "cell_type": "code",
      "source": [
        "c = 1, 2, 3\n",
        "print(type(c))"
      ],
      "metadata": {
        "colab": {
          "base_uri": "https://localhost:8080/"
        },
        "id": "iyg3x88QsM5s",
        "outputId": "6dac4527-0c8c-48e9-f13d-994150d7954f"
      },
      "execution_count": null,
      "outputs": [
        {
          "output_type": "stream",
          "name": "stdout",
          "text": [
            "<class 'tuple'>\n"
          ]
        }
      ]
    },
    {
      "cell_type": "markdown",
      "metadata": {
        "id": "uQznY9FWplpW"
      },
      "source": [
        "## 연습문제\n",
        "\n",
        "- 아래 국가명 리스트와 연도 리스트를 이용하여 국가명_연도 문자열을 생성하라\n",
        "- 아래 리스트와 인덱스를 이용하여 일본과 중국을 제외한 국가에 대해서만 국가명_연도 문자열을 생성하라"
      ]
    },
    {
      "cell_type": "code",
      "metadata": {
        "id": "8kI8vZUNplpW"
      },
      "source": [
        "countries = ['KOR', 'USA', 'JPN', 'CHN', 'AUS', 'MEX']\n",
        "year = [17, 18, 19, 20]"
      ],
      "execution_count": null,
      "outputs": []
    },
    {
      "cell_type": "markdown",
      "metadata": {
        "id": "4IZZ5oviplpW"
      },
      "source": [
        "- 아래 문자열 리스트에서 숫자를 나타내는 문자열만 선택하여 리스트를 생성하라(힌트, isnumeric()/isdigit(), strip() 이용)"
      ]
    },
    {
      "cell_type": "code",
      "metadata": {
        "id": "aLU9e6stplpX"
      },
      "source": [
        "strings = ['KOR', '한국', '15', \"True\", '1000', '-5']"
      ],
      "execution_count": null,
      "outputs": []
    },
    {
      "cell_type": "markdown",
      "metadata": {
        "id": "bD8IrLeNplpX"
      },
      "source": [
        "# 문법\n",
        "\n",
        "- 파이썬에서 for loop, if 구문, 함수 정의시 indentation(스페이스 4개) 이용\n",
        "    - 주피터노트북에서 tab은 스페이스 4개를 입력\n",
        "- 코드작성의 자유도가 낮은 대신, 가독성이 매우 높아짐\n",
        "\n",
        "\n",
        "```\n",
        "<C>\n",
        "if (i=1; i<=n; i++) {\n",
        "  printf(\"%d\\n\", i);\n",
        "}\n",
        "\n",
        "<matlab>\n",
        "for i = 1:n\n",
        "    disp(i)\n",
        "end\n",
        "\n",
        "<python>\n",
        "for i = range(1, n+1)\n",
        "    disp(i)\n",
        "```"
      ]
    },
    {
      "cell_type": "markdown",
      "metadata": {
        "id": "Na2vfuFH_FLK"
      },
      "source": [
        "## definition"
      ]
    },
    {
      "cell_type": "code",
      "metadata": {
        "id": "fj8mNDvkplpX"
      },
      "source": [
        "def sum_two_numbers(a, b):\n",
        "    return a + b"
      ],
      "execution_count": 127,
      "outputs": []
    },
    {
      "cell_type": "code",
      "metadata": {
        "colab": {
          "base_uri": "https://localhost:8080/"
        },
        "id": "ZPVoJCD_plpX",
        "outputId": "a5e0959e-9488-460e-c0af-65338ae58541"
      },
      "source": [
        "sum_two_numbers(5, 2)"
      ],
      "execution_count": 129,
      "outputs": [
        {
          "output_type": "execute_result",
          "data": {
            "text/plain": [
              "7"
            ]
          },
          "metadata": {},
          "execution_count": 129
        }
      ]
    },
    {
      "cell_type": "code",
      "source": [
        "def cal_numbers(a, b):\n",
        "    return set([a + b, a * b])"
      ],
      "metadata": {
        "id": "esNP8hG4Ny-V"
      },
      "execution_count": 140,
      "outputs": []
    },
    {
      "cell_type": "code",
      "source": [
        "cal_numbers(3, 4)"
      ],
      "metadata": {
        "id": "2F1M2bYqN3x9",
        "outputId": "73a08f20-c26a-4cb7-a7c4-4adfa9a8f786",
        "colab": {
          "base_uri": "https://localhost:8080/"
        }
      },
      "execution_count": 141,
      "outputs": [
        {
          "output_type": "execute_result",
          "data": {
            "text/plain": [
              "{7, 12}"
            ]
          },
          "metadata": {},
          "execution_count": 141
        }
      ]
    },
    {
      "cell_type": "code",
      "metadata": {
        "id": "ZFNz4kDgByOy"
      },
      "source": [
        "def sum_three_numbers(a, b, c=4):\n",
        "    return a + 2*b + c"
      ],
      "execution_count": null,
      "outputs": []
    },
    {
      "cell_type": "code",
      "metadata": {
        "colab": {
          "base_uri": "https://localhost:8080/"
        },
        "id": "jhza4RrBBljK",
        "outputId": "0ba5147d-dd77-433b-82b9-4c912045726b"
      },
      "source": [
        "sum_three_numbers(1, 2, 0)"
      ],
      "execution_count": null,
      "outputs": [
        {
          "output_type": "execute_result",
          "data": {
            "text/plain": [
              "5"
            ]
          },
          "metadata": {},
          "execution_count": 119
        }
      ]
    },
    {
      "cell_type": "code",
      "metadata": {
        "colab": {
          "base_uri": "https://localhost:8080/"
        },
        "id": "SF4nCPoICDH6",
        "outputId": "da846d43-4685-4420-b2b7-dfaf90ef5f64"
      },
      "source": [
        "sum_three_numbers(1, 2)"
      ],
      "execution_count": null,
      "outputs": [
        {
          "output_type": "execute_result",
          "data": {
            "text/plain": [
              "9"
            ]
          },
          "metadata": {},
          "execution_count": 120
        }
      ]
    },
    {
      "cell_type": "code",
      "metadata": {
        "colab": {
          "base_uri": "https://localhost:8080/"
        },
        "id": "c0K0qo6RCJ2D",
        "outputId": "19557261-97d5-4d0d-83b8-d219af9b9fa2"
      },
      "source": [
        "sum_three_numbers(b=2, a=1)"
      ],
      "execution_count": null,
      "outputs": [
        {
          "output_type": "execute_result",
          "data": {
            "text/plain": [
              "9"
            ]
          },
          "metadata": {},
          "execution_count": 121
        }
      ]
    },
    {
      "cell_type": "code",
      "metadata": {
        "id": "LTHPsxRE_dVQ"
      },
      "source": [
        "sum_two_numbers2 = lambda x, y: x + y"
      ],
      "execution_count": null,
      "outputs": []
    },
    {
      "cell_type": "code",
      "metadata": {
        "colab": {
          "base_uri": "https://localhost:8080/"
        },
        "id": "TKqDmGAp_kfq",
        "outputId": "6b065147-4032-4c40-f0c8-6fc5708370c2"
      },
      "source": [
        "sum_two_numbers2(1, 2)"
      ],
      "execution_count": null,
      "outputs": [
        {
          "output_type": "execute_result",
          "data": {
            "text/plain": [
              "3"
            ]
          },
          "metadata": {},
          "execution_count": 123
        }
      ]
    },
    {
      "cell_type": "markdown",
      "metadata": {
        "id": "AdJnA5Mo_P2g"
      },
      "source": [
        "## for-loop, if-else"
      ]
    },
    {
      "cell_type": "code",
      "source": [
        "countries = ['KOR', 'USA', 'CHN']\n",
        "\n",
        "for c in countries:\n",
        "  if c == 'KOR':\n",
        "    print(c)\n",
        "  else:\n",
        "    print('KOR X')"
      ],
      "metadata": {
        "id": "Y_IEpx03OXrA",
        "outputId": "3e1828ea-16e8-4614-8daf-093d787ccd1b",
        "colab": {
          "base_uri": "https://localhost:8080/"
        }
      },
      "execution_count": 144,
      "outputs": [
        {
          "output_type": "stream",
          "name": "stdout",
          "text": [
            "KOR\n",
            "KOR X\n",
            "KOR X\n"
          ]
        }
      ]
    },
    {
      "cell_type": "code",
      "metadata": {
        "colab": {
          "base_uri": "https://localhost:8080/"
        },
        "id": "bBBlUm3MplpX",
        "outputId": "ca81168d-84f2-4d4b-f4ea-886de45e1631"
      },
      "source": [
        "countries = ['KOR', 'USA', 'CHN']\n",
        "for c in countries:\n",
        "    if c == 'KOR':\n",
        "        print(c, 'is my country.')\n",
        "    else:\n",
        "        print(c)"
      ],
      "execution_count": null,
      "outputs": [
        {
          "output_type": "stream",
          "name": "stdout",
          "text": [
            "KOR is my country.\n",
            "USA\n",
            "CHN\n"
          ]
        }
      ]
    },
    {
      "cell_type": "markdown",
      "metadata": {
        "id": "kRUJF1Tb-2H8"
      },
      "source": [
        "## continue, break, pass"
      ]
    },
    {
      "cell_type": "code",
      "metadata": {
        "colab": {
          "base_uri": "https://localhost:8080/"
        },
        "id": "qqdt6yCm-_sw",
        "outputId": "452501bc-68b7-4191-9795-430dbdbda784"
      },
      "source": [
        "for i in range(4):    # [0, 1, 2, 3]\n",
        "    if i==2:\n",
        "        continue\n",
        "    else:\n",
        "        print(f'{i} is not 2')\n"
      ],
      "execution_count": null,
      "outputs": [
        {
          "output_type": "stream",
          "name": "stdout",
          "text": [
            "0 is not 2\n",
            "1 is not 2\n",
            "3 is not 2\n"
          ]
        }
      ]
    },
    {
      "cell_type": "code",
      "metadata": {
        "colab": {
          "base_uri": "https://localhost:8080/"
        },
        "id": "fAbT9lG9DIZD",
        "outputId": "afab97bb-0093-4277-a2f1-8ad271918157"
      },
      "source": [
        "for i in range(4):    # [0, 1, 2, 3]\n",
        "    if i==2:\n",
        "        break\n",
        "    else:\n",
        "        print(f'{i} is not 2')\n"
      ],
      "execution_count": null,
      "outputs": [
        {
          "output_type": "stream",
          "name": "stdout",
          "text": [
            "0 is not 2\n",
            "1 is not 2\n"
          ]
        }
      ]
    },
    {
      "cell_type": "code",
      "metadata": {
        "colab": {
          "base_uri": "https://localhost:8080/"
        },
        "id": "LZa_Fq9dEi8c",
        "outputId": "396e8776-461b-4eaa-c851-4436e333e581"
      },
      "source": [
        "if True:\n",
        "  print('True')\n",
        "else:\n",
        "    print('False')"
      ],
      "execution_count": null,
      "outputs": [
        {
          "output_type": "stream",
          "name": "stdout",
          "text": [
            "True\n"
          ]
        }
      ]
    },
    {
      "cell_type": "code",
      "metadata": {
        "id": "5E02yd7EEpMt"
      },
      "source": [
        "if True:\n",
        "    pass\n",
        "else:\n",
        "    print('False')"
      ],
      "execution_count": null,
      "outputs": []
    },
    {
      "cell_type": "markdown",
      "metadata": {
        "id": "2Vt4L_TYplpX"
      },
      "source": [
        "## list comprehension v. for-loop\n",
        "- 앞 리스트에서 뒤 리스트에 속한 항목 제외하기"
      ]
    },
    {
      "cell_type": "code",
      "metadata": {
        "colab": {
          "base_uri": "https://localhost:8080/"
        },
        "id": "0VU-Q557plpY",
        "outputId": "1c17ed23-7641-47c4-afac-f4553010facc"
      },
      "source": [
        "[s for s in ['KOR', 'USA', 'CHN'] if s not in ['CHN','AUS']]"
      ],
      "execution_count": null,
      "outputs": [
        {
          "output_type": "execute_result",
          "data": {
            "text/plain": [
              "['KOR', 'USA']"
            ]
          },
          "metadata": {},
          "execution_count": 107
        }
      ]
    },
    {
      "cell_type": "code",
      "metadata": {
        "colab": {
          "base_uri": "https://localhost:8080/"
        },
        "id": "HLSa-L3JplpY",
        "outputId": "167336ca-de9e-4fd3-afaa-abda8d3d8fb0"
      },
      "source": [
        "clist = []\n",
        "for c in ['KOR', 'USA', 'CHN']:\n",
        "    if c not in ['CHN', 'AUS']:\n",
        "        clist = clist + [c] # clist.append(c)\n",
        "clist"
      ],
      "execution_count": null,
      "outputs": [
        {
          "output_type": "execute_result",
          "data": {
            "text/plain": [
              "['KOR', 'USA']"
            ]
          },
          "metadata": {},
          "execution_count": 108
        }
      ]
    },
    {
      "cell_type": "markdown",
      "metadata": {
        "id": "fXiJb2-vplpY"
      },
      "source": [
        "# 라이브러리: numpy\n",
        "- ndarray는 행(row)과 열(column) 보다 첫번째 차원, 두번째 차원, 세번째 차원 등으로 정의\n",
        "- 필요한 경우 matrix 자료형을 사용할 수 있으나 활용도가 낮음\n",
        "- ndarray자료형을 이용하여 일반적인 matrix연산을 모두 할 수 있음\n",
        "- 2-dim ndarray에서 행(row)처럼 보이는 것은 첫번째 차원임"
      ]
    },
    {
      "cell_type": "code",
      "source": [
        "list_1d = [1, 2, 3]\n",
        "list_2d = [[1, 2, 3], [4, 5, 6], [7, 8, 9]]\n",
        "\n",
        "print(list_1d)\n",
        "print(list_2d)\n",
        "print(list_2d[1])"
      ],
      "metadata": {
        "id": "_biMVPcRPRME",
        "outputId": "f4deea9d-d909-4497-b52e-102d190a0d23",
        "colab": {
          "base_uri": "https://localhost:8080/"
        }
      },
      "execution_count": 149,
      "outputs": [
        {
          "output_type": "stream",
          "name": "stdout",
          "text": [
            "[1, 2, 3]\n",
            "[[1, 2, 3], [4, 5, 6], [7, 8, 9]]\n",
            "[4, 5, 6]\n"
          ]
        }
      ]
    },
    {
      "cell_type": "code",
      "source": [
        "import numpy as np"
      ],
      "metadata": {
        "id": "AfhX-4NcPtj9"
      },
      "execution_count": 151,
      "outputs": []
    },
    {
      "cell_type": "code",
      "metadata": {
        "colab": {
          "base_uri": "https://localhost:8080/"
        },
        "id": "k2Jgfc1WplpY",
        "outputId": "d335472b-6ce3-4937-9070-ea588b0265d8"
      },
      "source": [
        "import numpy\n",
        "import numpy as np\n",
        "print(numpy.sin(0), np.sin(0))"
      ],
      "execution_count": 145,
      "outputs": [
        {
          "output_type": "stream",
          "name": "stdout",
          "text": [
            "0.0 0.0\n"
          ]
        }
      ]
    },
    {
      "cell_type": "code",
      "metadata": {
        "colab": {
          "base_uri": "https://localhost:8080/",
          "height": 141
        },
        "id": "0vLWer7XplpY",
        "outputId": "fcafe004-de98-4614-d5a0-4d9dda0bb73a"
      },
      "source": [
        "print(sin(0))"
      ],
      "execution_count": 154,
      "outputs": [
        {
          "output_type": "error",
          "ename": "NameError",
          "evalue": "name 'sin' is not defined",
          "traceback": [
            "\u001b[0;31m---------------------------------------------------------------------------\u001b[0m",
            "\u001b[0;31mNameError\u001b[0m                                 Traceback (most recent call last)",
            "\u001b[0;32m<ipython-input-154-6da8cd5a692f>\u001b[0m in \u001b[0;36m<cell line: 1>\u001b[0;34m()\u001b[0m\n\u001b[0;32m----> 1\u001b[0;31m \u001b[0mprint\u001b[0m\u001b[0;34m(\u001b[0m\u001b[0msin\u001b[0m\u001b[0;34m(\u001b[0m\u001b[0;36m0\u001b[0m\u001b[0;34m)\u001b[0m\u001b[0;34m)\u001b[0m\u001b[0;34m\u001b[0m\u001b[0;34m\u001b[0m\u001b[0m\n\u001b[0m",
            "\u001b[0;31mNameError\u001b[0m: name 'sin' is not defined"
          ]
        }
      ]
    },
    {
      "cell_type": "code",
      "metadata": {
        "colab": {
          "base_uri": "https://localhost:8080/"
        },
        "id": "O-q0Z7iWplpY",
        "outputId": "2546574c-e4e5-494b-c93f-811c534a48d4"
      },
      "source": [
        "print(np.pi)"
      ],
      "execution_count": null,
      "outputs": [
        {
          "output_type": "stream",
          "name": "stdout",
          "text": [
            "3.141592653589793\n"
          ]
        }
      ]
    },
    {
      "cell_type": "code",
      "source": [
        "a = np.pi\n",
        "print(f'a')\n",
        "print(f'{a}')\n",
        "print(f'{a:.2f}')"
      ],
      "metadata": {
        "id": "xIEtDrQ4QMIg",
        "outputId": "445b35f3-d730-4a76-bb3b-223fc515dc2f",
        "colab": {
          "base_uri": "https://localhost:8080/"
        }
      },
      "execution_count": 155,
      "outputs": [
        {
          "output_type": "stream",
          "name": "stdout",
          "text": [
            "a\n",
            "3.141592653589793\n",
            "3.14\n"
          ]
        }
      ]
    },
    {
      "cell_type": "markdown",
      "metadata": {
        "id": "e4zvp4p4plpY"
      },
      "source": [
        "## 인덱스\n",
        "\n",
        "- 특정 열(두번째 차원)에 접근하기 위해서는 콜론(:)을 첫번째 인덱스 자리에 입력"
      ]
    },
    {
      "cell_type": "code",
      "source": [
        "list1 = [[1, 2 ,3], [2, 3, 4]]\n",
        "print(type(list1))\n",
        "array1 = np.array(list1)\n",
        "print(type(array1))"
      ],
      "metadata": {
        "id": "5XnWm1l6Qg73",
        "outputId": "44fb10b0-2420-499a-decc-e1581fd743c7",
        "colab": {
          "base_uri": "https://localhost:8080/"
        }
      },
      "execution_count": 158,
      "outputs": [
        {
          "output_type": "stream",
          "name": "stdout",
          "text": [
            "<class 'list'>\n",
            "<class 'numpy.ndarray'>\n"
          ]
        }
      ]
    },
    {
      "cell_type": "code",
      "metadata": {
        "id": "-fDyxqeNplpZ"
      },
      "source": [
        "a0 = [[1, 2 ,3], [2, 3, 4]]\n",
        "a1 = np.array([[1, 2 ,3], [2, 3, 4]])"
      ],
      "execution_count": 164,
      "outputs": []
    },
    {
      "cell_type": "code",
      "source": [
        "print(a1)\n",
        "print(np.shape(a1))"
      ],
      "metadata": {
        "id": "6TOOdFOsQzL4",
        "outputId": "2345ebb7-a69c-4973-c77a-b8780742768d",
        "colab": {
          "base_uri": "https://localhost:8080/"
        }
      },
      "execution_count": 161,
      "outputs": [
        {
          "output_type": "stream",
          "name": "stdout",
          "text": [
            "[[1 2 3]\n",
            " [2 3 4]]\n",
            "(2, 3)\n"
          ]
        }
      ]
    },
    {
      "cell_type": "code",
      "source": [
        "print(a1[0, 0])"
      ],
      "metadata": {
        "id": "P3_nTD8SRAHr",
        "outputId": "613a01d5-c31f-480e-e7ae-c1b76ccb4f4c",
        "colab": {
          "base_uri": "https://localhost:8080/"
        }
      },
      "execution_count": 165,
      "outputs": [
        {
          "output_type": "stream",
          "name": "stdout",
          "text": [
            "1\n"
          ]
        }
      ]
    },
    {
      "cell_type": "code",
      "source": [
        "print(a0[0][0])"
      ],
      "metadata": {
        "id": "wcBpY6BXRPKZ",
        "outputId": "c1900dfe-d610-410d-ac41-12626c31a27a",
        "colab": {
          "base_uri": "https://localhost:8080/"
        }
      },
      "execution_count": 167,
      "outputs": [
        {
          "output_type": "stream",
          "name": "stdout",
          "text": [
            "1\n"
          ]
        }
      ]
    },
    {
      "cell_type": "code",
      "source": [
        "a1"
      ],
      "metadata": {
        "id": "6WIdwTcSRfay",
        "outputId": "fdfec6b9-023d-4e42-f971-cc8a8ee3722f",
        "colab": {
          "base_uri": "https://localhost:8080/"
        }
      },
      "execution_count": 170,
      "outputs": [
        {
          "output_type": "execute_result",
          "data": {
            "text/plain": [
              "array([[1, 2, 3],\n",
              "       [2, 3, 4]])"
            ]
          },
          "metadata": {},
          "execution_count": 170
        }
      ]
    },
    {
      "cell_type": "code",
      "source": [
        "a1[:, 0]"
      ],
      "metadata": {
        "id": "kuN-OITQRanU",
        "outputId": "445039b6-3fc4-45cc-c012-d7f7df25304b",
        "colab": {
          "base_uri": "https://localhost:8080/"
        }
      },
      "execution_count": 171,
      "outputs": [
        {
          "output_type": "execute_result",
          "data": {
            "text/plain": [
              "array([1, 2])"
            ]
          },
          "metadata": {},
          "execution_count": 171
        }
      ]
    },
    {
      "cell_type": "code",
      "metadata": {
        "colab": {
          "base_uri": "https://localhost:8080/"
        },
        "id": "AvyCmZbZplpZ",
        "outputId": "a2ce1514-3474-4dc4-c6d3-0476744621e0"
      },
      "source": [
        "a1[:, 0]"
      ],
      "execution_count": null,
      "outputs": [
        {
          "output_type": "execute_result",
          "data": {
            "text/plain": [
              "array([1, 2])"
            ]
          },
          "metadata": {},
          "execution_count": 113
        }
      ]
    },
    {
      "cell_type": "code",
      "metadata": {
        "colab": {
          "base_uri": "https://localhost:8080/"
        },
        "id": "RABxBORuplpZ",
        "outputId": "b5aa4ab6-ce0d-4b69-ef72-d3555b482c6c"
      },
      "source": [
        "a1[0, :]"
      ],
      "execution_count": null,
      "outputs": [
        {
          "output_type": "execute_result",
          "data": {
            "text/plain": [
              "array([1, 2, 3])"
            ]
          },
          "metadata": {},
          "execution_count": 114
        }
      ]
    },
    {
      "cell_type": "markdown",
      "metadata": {
        "id": "q9pQBuHXplpZ"
      },
      "source": [
        "## 통계량 및 연산"
      ]
    },
    {
      "cell_type": "code",
      "source": [
        "# Q1. 아래 n, c 리스트를 이용해서 key가 국가이고, value가 대륙인 딕셔너리를 만들어 보세요\n",
        "\n",
        "n = ['한국', '일본', '중국', '영국', '프랑스', '미국', '캐나다']\n",
        "c = ['아시아', '아시아', '아시아', '유럽', '유럽', '아메리카', '아메리카']\n",
        "\n",
        "# Q2. 1부터 10까지 제곱 수의 리스트를 만들어 보세요\n",
        "# 참고 3의 제곱은 3**2\n",
        "# [1**2, 2**2, 3**2, ...] 이렇게 말고.. 리스트컴프리헨션을 이용해서"
      ],
      "metadata": {
        "id": "vFf3k1qpSmQG"
      },
      "execution_count": 174,
      "outputs": []
    },
    {
      "cell_type": "code",
      "source": [
        "d = dict(zip(n, c))\n",
        "d = {i: ii for i, ii in zip(n, c)}\n",
        "a = [i**2 for i in range(1, 10+1)]\n",
        "\n",
        "print(d)\n",
        "print(a)"
      ],
      "metadata": {
        "id": "dyTGcvHyVWla",
        "outputId": "9d4c4ac2-b098-46a5-96eb-669ad6048d92",
        "colab": {
          "base_uri": "https://localhost:8080/"
        }
      },
      "execution_count": 176,
      "outputs": [
        {
          "output_type": "stream",
          "name": "stdout",
          "text": [
            "{'한국': '아시아', '일본': '아시아', '중국': '아시아', '영국': '유럽', '프랑스': '유럽', '미국': '아메리카', '캐나다': '아메리카'}\n",
            "[1, 4, 9, 16, 25, 36, 49, 64, 81, 100]\n"
          ]
        }
      ]
    },
    {
      "cell_type": "code",
      "metadata": {
        "colab": {
          "base_uri": "https://localhost:8080/"
        },
        "id": "CfwCsepxplpZ",
        "outputId": "a836a74d-6a7e-48da-9620-87752c7a509b"
      },
      "source": [
        "v = np.array([1, 2, 3])\n",
        "print(v)"
      ],
      "execution_count": 177,
      "outputs": [
        {
          "output_type": "stream",
          "name": "stdout",
          "text": [
            "[1 2 3]\n"
          ]
        }
      ]
    },
    {
      "cell_type": "code",
      "metadata": {
        "colab": {
          "base_uri": "https://localhost:8080/"
        },
        "id": "jtEkHINYplpZ",
        "outputId": "db657e39-6afe-46c6-d930-ba6f8909580a"
      },
      "source": [
        "type(v)"
      ],
      "execution_count": 178,
      "outputs": [
        {
          "output_type": "execute_result",
          "data": {
            "text/plain": [
              "numpy.ndarray"
            ]
          },
          "metadata": {},
          "execution_count": 178
        }
      ]
    },
    {
      "cell_type": "code",
      "metadata": {
        "colab": {
          "base_uri": "https://localhost:8080/"
        },
        "id": "3JUrDSosplpZ",
        "outputId": "35ed0fea-c8e7-4f0a-8bda-e184fcdaf105"
      },
      "source": [
        "m = np.array([[1, 2], [3, 4]])\n",
        "m"
      ],
      "execution_count": 179,
      "outputs": [
        {
          "output_type": "execute_result",
          "data": {
            "text/plain": [
              "array([[1, 2],\n",
              "       [3, 4]])"
            ]
          },
          "metadata": {},
          "execution_count": 179
        }
      ]
    },
    {
      "cell_type": "code",
      "metadata": {
        "colab": {
          "base_uri": "https://localhost:8080/"
        },
        "id": "Gg7BvYmnplpZ",
        "outputId": "34017418-2aad-422d-865c-bb056d6e0e62"
      },
      "source": [
        "print(v.mean(), v.std(), v.max())"
      ],
      "execution_count": 180,
      "outputs": [
        {
          "output_type": "stream",
          "name": "stdout",
          "text": [
            "2.0 0.816496580927726 3\n"
          ]
        }
      ]
    },
    {
      "cell_type": "code",
      "source": [
        "np.sin([0, np.pi/2, np.pi])"
      ],
      "metadata": {
        "id": "4H6GAcgRWN81",
        "outputId": "33b2095a-0c8c-460c-c601-4263762b977e",
        "colab": {
          "base_uri": "https://localhost:8080/"
        }
      },
      "execution_count": 182,
      "outputs": [
        {
          "output_type": "execute_result",
          "data": {
            "text/plain": [
              "array([0.0000000e+00, 1.0000000e+00, 1.2246468e-16])"
            ]
          },
          "metadata": {},
          "execution_count": 182
        }
      ]
    },
    {
      "cell_type": "code",
      "metadata": {
        "colab": {
          "base_uri": "https://localhost:8080/"
        },
        "id": "1lkhx8TOplpa",
        "outputId": "9b26b67c-e464-4aa3-9cb4-6ba38434dcee"
      },
      "source": [
        "np.sin([0, np.pi / 2, np.pi])"
      ],
      "execution_count": null,
      "outputs": [
        {
          "output_type": "execute_result",
          "data": {
            "text/plain": [
              "array([0.0000000e+00, 1.0000000e+00, 1.2246468e-16])"
            ]
          },
          "metadata": {},
          "execution_count": 119
        }
      ]
    },
    {
      "cell_type": "code",
      "metadata": {
        "id": "Y241PhSJplpa"
      },
      "source": [
        "a = np.array([[1, 2], [3, 4]])"
      ],
      "execution_count": null,
      "outputs": []
    },
    {
      "cell_type": "code",
      "metadata": {
        "colab": {
          "base_uri": "https://localhost:8080/"
        },
        "id": "VqX0Ckl7plpa",
        "outputId": "d96a6ff4-43d0-42c1-f346-dd157aaa6dd0"
      },
      "source": [
        "a"
      ],
      "execution_count": null,
      "outputs": [
        {
          "output_type": "execute_result",
          "data": {
            "text/plain": [
              "array([[1, 2],\n",
              "       [3, 4]])"
            ]
          },
          "metadata": {},
          "execution_count": 121
        }
      ]
    },
    {
      "cell_type": "code",
      "metadata": {
        "id": "e69wHXbSplpa"
      },
      "source": [
        "a[0,0] = -1"
      ],
      "execution_count": null,
      "outputs": []
    },
    {
      "cell_type": "code",
      "metadata": {
        "colab": {
          "base_uri": "https://localhost:8080/"
        },
        "id": "n38BC583plpa",
        "outputId": "09f39f0d-bd03-4a54-a23f-92bf093ff56a"
      },
      "source": [
        "a"
      ],
      "execution_count": null,
      "outputs": [
        {
          "output_type": "execute_result",
          "data": {
            "text/plain": [
              "array([[-1,  2],\n",
              "       [ 3,  4]])"
            ]
          },
          "metadata": {},
          "execution_count": 123
        }
      ]
    },
    {
      "cell_type": "code",
      "metadata": {
        "colab": {
          "base_uri": "https://localhost:8080/"
        },
        "id": "lIxD74iyplpb",
        "outputId": "80396657-9df8-49d8-a9a9-a0f97a272b39"
      },
      "source": [
        "a[0] = 0\n",
        "a"
      ],
      "execution_count": null,
      "outputs": [
        {
          "output_type": "execute_result",
          "data": {
            "text/plain": [
              "array([[0, 0],\n",
              "       [3, 4]])"
            ]
          },
          "metadata": {},
          "execution_count": 124
        }
      ]
    },
    {
      "cell_type": "code",
      "metadata": {
        "colab": {
          "base_uri": "https://localhost:8080/"
        },
        "id": "jKkteEbqplpb",
        "outputId": "95b2b81e-8800-4511-dc22-df34e0ba0e3a"
      },
      "source": [
        "a[:, 1] = [5, 6]\n",
        "print(a)"
      ],
      "execution_count": null,
      "outputs": [
        {
          "output_type": "stream",
          "name": "stdout",
          "text": [
            "[[0 5]\n",
            " [3 6]]\n"
          ]
        }
      ]
    },
    {
      "cell_type": "code",
      "metadata": {
        "id": "-qi7NmUYplpb"
      },
      "source": [
        "v1 = np.array([1, 2, 3])\n",
        "v2 = np.array([-1, 0, 1])"
      ],
      "execution_count": 183,
      "outputs": []
    },
    {
      "cell_type": "code",
      "metadata": {
        "colab": {
          "base_uri": "https://localhost:8080/"
        },
        "id": "V1BMn7YUplpb",
        "outputId": "72f17f95-074e-40e9-a166-aabe9f6532f6"
      },
      "source": [
        "v1 + 1"
      ],
      "execution_count": 184,
      "outputs": [
        {
          "output_type": "execute_result",
          "data": {
            "text/plain": [
              "array([2, 3, 4])"
            ]
          },
          "metadata": {},
          "execution_count": 184
        }
      ]
    },
    {
      "cell_type": "code",
      "metadata": {
        "colab": {
          "base_uri": "https://localhost:8080/"
        },
        "id": "Tfp-_yqoplpb",
        "outputId": "55415cd3-a7fd-4b53-bb3b-bb425de51b14"
      },
      "source": [
        "v1 * 2"
      ],
      "execution_count": 185,
      "outputs": [
        {
          "output_type": "execute_result",
          "data": {
            "text/plain": [
              "array([2, 4, 6])"
            ]
          },
          "metadata": {},
          "execution_count": 185
        }
      ]
    },
    {
      "cell_type": "code",
      "metadata": {
        "colab": {
          "base_uri": "https://localhost:8080/"
        },
        "id": "DR44aJT4plpb",
        "outputId": "da2d3549-40e8-4bab-d53a-14044e332751"
      },
      "source": [
        "v1 ** 2"
      ],
      "execution_count": 186,
      "outputs": [
        {
          "output_type": "execute_result",
          "data": {
            "text/plain": [
              "array([1, 4, 9])"
            ]
          },
          "metadata": {},
          "execution_count": 186
        }
      ]
    },
    {
      "cell_type": "code",
      "metadata": {
        "colab": {
          "base_uri": "https://localhost:8080/"
        },
        "id": "mNQfAJ0Uplpc",
        "outputId": "feac9f82-7db3-4855-97e8-ca8d0080d29f"
      },
      "source": [
        "np.log(v1)"
      ],
      "execution_count": null,
      "outputs": [
        {
          "output_type": "execute_result",
          "data": {
            "text/plain": [
              "array([0.        , 0.69314718, 1.09861229])"
            ]
          },
          "metadata": {},
          "execution_count": 130
        }
      ]
    },
    {
      "cell_type": "code",
      "metadata": {
        "colab": {
          "base_uri": "https://localhost:8080/"
        },
        "id": "_uk6B2JUplpc",
        "outputId": "10326b25-520e-4059-b844-857bcd32b371"
      },
      "source": [
        "np.exp(v1)"
      ],
      "execution_count": null,
      "outputs": [
        {
          "output_type": "execute_result",
          "data": {
            "text/plain": [
              "array([ 2.71828183,  7.3890561 , 20.08553692])"
            ]
          },
          "metadata": {},
          "execution_count": 131
        }
      ]
    },
    {
      "cell_type": "markdown",
      "metadata": {
        "id": "EG0e3bHCplpc"
      },
      "source": [
        "## dimension\n",
        "- ndarray 간의 +, -, *, / 등 사칙연산은 elementwise이므로 모양이 서로 같아야함"
      ]
    },
    {
      "cell_type": "code",
      "source": [
        "v1"
      ],
      "metadata": {
        "id": "lGO-U_ZMWnHQ",
        "outputId": "7ae8cae0-a938-438c-8cc9-0bc9f4b0f58d",
        "colab": {
          "base_uri": "https://localhost:8080/"
        }
      },
      "execution_count": 187,
      "outputs": [
        {
          "output_type": "execute_result",
          "data": {
            "text/plain": [
              "array([1, 2, 3])"
            ]
          },
          "metadata": {},
          "execution_count": 187
        }
      ]
    },
    {
      "cell_type": "code",
      "metadata": {
        "colab": {
          "base_uri": "https://localhost:8080/"
        },
        "id": "qVmNzEDVplpc",
        "outputId": "178fa326-97e0-400e-8725-ca239b0b65ce"
      },
      "source": [
        "v1.shape"
      ],
      "execution_count": 188,
      "outputs": [
        {
          "output_type": "execute_result",
          "data": {
            "text/plain": [
              "(3,)"
            ]
          },
          "metadata": {},
          "execution_count": 188
        }
      ]
    },
    {
      "cell_type": "code",
      "metadata": {
        "id": "O4uQS0VZplpc"
      },
      "source": [
        "a2 = np.array([[1, 2], [1, 3], [1, 4]])"
      ],
      "execution_count": 189,
      "outputs": []
    },
    {
      "cell_type": "code",
      "metadata": {
        "colab": {
          "base_uri": "https://localhost:8080/"
        },
        "id": "QOSlE45fplpc",
        "outputId": "babcc906-fd25-4da0-f63a-e9af66c0b778"
      },
      "source": [
        "a2"
      ],
      "execution_count": null,
      "outputs": [
        {
          "output_type": "execute_result",
          "data": {
            "text/plain": [
              "array([[1, 2],\n",
              "       [1, 3],\n",
              "       [1, 4]])"
            ]
          },
          "metadata": {},
          "execution_count": 134
        }
      ]
    },
    {
      "cell_type": "code",
      "metadata": {
        "colab": {
          "base_uri": "https://localhost:8080/"
        },
        "id": "26B9L5yeplpc",
        "outputId": "320992ea-c1cb-44ec-e082-149de5f11ab7"
      },
      "source": [
        "a2.shape"
      ],
      "execution_count": 190,
      "outputs": [
        {
          "output_type": "execute_result",
          "data": {
            "text/plain": [
              "(3, 2)"
            ]
          },
          "metadata": {},
          "execution_count": 190
        }
      ]
    },
    {
      "cell_type": "code",
      "metadata": {
        "colab": {
          "base_uri": "https://localhost:8080/"
        },
        "id": "9g-TQ463plpd",
        "outputId": "80cf440a-9dc6-4c6f-dcb7-a98dfcadb26b"
      },
      "source": [
        "a1"
      ],
      "execution_count": null,
      "outputs": [
        {
          "output_type": "execute_result",
          "data": {
            "text/plain": [
              "array([[1, 2, 3],\n",
              "       [2, 3, 4]])"
            ]
          },
          "metadata": {},
          "execution_count": 136
        }
      ]
    },
    {
      "cell_type": "code",
      "metadata": {
        "colab": {
          "base_uri": "https://localhost:8080/",
          "height": 174
        },
        "id": "_-MSeqXBplpd",
        "outputId": "1ec217cb-dd69-4d70-cb22-28afa6ee85e1"
      },
      "source": [
        "a1 * a2"
      ],
      "execution_count": null,
      "outputs": [
        {
          "output_type": "error",
          "ename": "ValueError",
          "evalue": "ignored",
          "traceback": [
            "\u001b[0;31m---------------------------------------------------------------------------\u001b[0m",
            "\u001b[0;31mValueError\u001b[0m                                Traceback (most recent call last)",
            "\u001b[0;32m<ipython-input-137-ea9ba2b73904>\u001b[0m in \u001b[0;36m<cell line: 1>\u001b[0;34m()\u001b[0m\n\u001b[0;32m----> 1\u001b[0;31m \u001b[0ma1\u001b[0m \u001b[0;34m*\u001b[0m \u001b[0ma2\u001b[0m\u001b[0;34m\u001b[0m\u001b[0;34m\u001b[0m\u001b[0m\n\u001b[0m",
            "\u001b[0;31mValueError\u001b[0m: operands could not be broadcast together with shapes (2,3) (3,2) "
          ]
        }
      ]
    },
    {
      "cell_type": "code",
      "metadata": {
        "colab": {
          "base_uri": "https://localhost:8080/"
        },
        "id": "xc37umndplpe",
        "outputId": "51a5ad82-aa62-40c8-dfd5-c6275c364beb"
      },
      "source": [
        "v1.shape, v2.shape"
      ],
      "execution_count": null,
      "outputs": [
        {
          "output_type": "execute_result",
          "data": {
            "text/plain": [
              "((3,), (3,))"
            ]
          },
          "metadata": {},
          "execution_count": 141
        }
      ]
    },
    {
      "cell_type": "code",
      "source": [
        "print(v1)\n",
        "print(v2)"
      ],
      "metadata": {
        "id": "T744Jd3ZW2MR",
        "outputId": "a7af4d72-e699-4d98-d805-2ac27f30533b",
        "colab": {
          "base_uri": "https://localhost:8080/"
        }
      },
      "execution_count": 191,
      "outputs": [
        {
          "output_type": "stream",
          "name": "stdout",
          "text": [
            "[1 2 3]\n",
            "[-1  0  1]\n"
          ]
        }
      ]
    },
    {
      "cell_type": "code",
      "metadata": {
        "colab": {
          "base_uri": "https://localhost:8080/"
        },
        "id": "DhFPmRpLplpe",
        "outputId": "6ce62912-ff97-401f-e4be-10116887b55e"
      },
      "source": [
        "v1 + v2"
      ],
      "execution_count": 192,
      "outputs": [
        {
          "output_type": "execute_result",
          "data": {
            "text/plain": [
              "array([0, 2, 4])"
            ]
          },
          "metadata": {},
          "execution_count": 192
        }
      ]
    },
    {
      "cell_type": "code",
      "metadata": {
        "colab": {
          "base_uri": "https://localhost:8080/"
        },
        "id": "BHn6BPDJplpe",
        "outputId": "9ff5ee2e-e330-48e2-c089-f13e7c2c00ca"
      },
      "source": [
        "v1 * v2"
      ],
      "execution_count": 193,
      "outputs": [
        {
          "output_type": "execute_result",
          "data": {
            "text/plain": [
              "array([-1,  0,  3])"
            ]
          },
          "metadata": {},
          "execution_count": 193
        }
      ]
    },
    {
      "cell_type": "code",
      "source": [
        "a1 = [1, 2, 3]\n",
        "a2 = [4, 5, 6]\n",
        "\n",
        "a1 + a2"
      ],
      "metadata": {
        "id": "1-pn8TetW_Pg",
        "outputId": "eb16186a-54b9-4c68-f82e-8a1a24281375",
        "colab": {
          "base_uri": "https://localhost:8080/"
        }
      },
      "execution_count": 195,
      "outputs": [
        {
          "output_type": "execute_result",
          "data": {
            "text/plain": [
              "[1, 2, 3, 4, 5, 6]"
            ]
          },
          "metadata": {},
          "execution_count": 195
        }
      ]
    },
    {
      "cell_type": "code",
      "metadata": {
        "colab": {
          "base_uri": "https://localhost:8080/"
        },
        "id": "EIXLQgrIplpe",
        "outputId": "1f153cd8-314a-4a2c-f47f-93ccb589ec12"
      },
      "source": [
        "v1.dot(v2)"
      ],
      "execution_count": 194,
      "outputs": [
        {
          "output_type": "execute_result",
          "data": {
            "text/plain": [
              "2"
            ]
          },
          "metadata": {},
          "execution_count": 194
        }
      ]
    },
    {
      "cell_type": "code",
      "metadata": {
        "colab": {
          "base_uri": "https://localhost:8080/"
        },
        "id": "S4L3nGSyplpe",
        "outputId": "c3482eee-7385-46ee-8847-1d3353dc5cf9"
      },
      "source": [
        "m"
      ],
      "execution_count": null,
      "outputs": [
        {
          "output_type": "execute_result",
          "data": {
            "text/plain": [
              "array([[1, 2],\n",
              "       [3, 4]])"
            ]
          },
          "metadata": {},
          "execution_count": 145
        }
      ]
    },
    {
      "cell_type": "code",
      "source": [
        "m"
      ],
      "metadata": {
        "id": "ZWgA_sKfXL2Y",
        "outputId": "fabe3482-5847-4945-a52d-546aa818a7c6",
        "colab": {
          "base_uri": "https://localhost:8080/"
        }
      },
      "execution_count": 197,
      "outputs": [
        {
          "output_type": "execute_result",
          "data": {
            "text/plain": [
              "array([[1, 2],\n",
              "       [3, 4]])"
            ]
          },
          "metadata": {},
          "execution_count": 197
        }
      ]
    },
    {
      "cell_type": "code",
      "metadata": {
        "colab": {
          "base_uri": "https://localhost:8080/"
        },
        "id": "j962-BMWplpe",
        "outputId": "9edc7f6a-e966-4000-910a-46e6eed4ad36"
      },
      "source": [
        "m.T"
      ],
      "execution_count": 196,
      "outputs": [
        {
          "output_type": "execute_result",
          "data": {
            "text/plain": [
              "array([[1, 3],\n",
              "       [2, 4]])"
            ]
          },
          "metadata": {},
          "execution_count": 196
        }
      ]
    },
    {
      "cell_type": "code",
      "metadata": {
        "colab": {
          "base_uri": "https://localhost:8080/"
        },
        "id": "VSARCbGpplpf",
        "outputId": "bb44f94b-350c-4001-ecab-f70298b2b828"
      },
      "source": [
        "v = np.array([1, 0])\n",
        "m.dot(v)"
      ],
      "execution_count": null,
      "outputs": [
        {
          "output_type": "execute_result",
          "data": {
            "text/plain": [
              "array([1, 3])"
            ]
          },
          "metadata": {},
          "execution_count": 147
        }
      ]
    },
    {
      "cell_type": "code",
      "metadata": {
        "colab": {
          "base_uri": "https://localhost:8080/"
        },
        "id": "QqAthjUYplpf",
        "outputId": "063188d1-69d7-4c01-8c4a-fe8e6fa49a56"
      },
      "source": [
        "v.dot(m)"
      ],
      "execution_count": null,
      "outputs": [
        {
          "output_type": "execute_result",
          "data": {
            "text/plain": [
              "array([1, 2])"
            ]
          },
          "metadata": {},
          "execution_count": 148
        }
      ]
    },
    {
      "cell_type": "code",
      "metadata": {
        "colab": {
          "base_uri": "https://localhost:8080/"
        },
        "id": "07pqskOtplpf",
        "outputId": "1340c865-dac9-4fc5-db80-7a7cb76f1a47"
      },
      "source": [
        "print('{} \\n\\n {}'.format(a1, a2.T))"
      ],
      "execution_count": null,
      "outputs": [
        {
          "output_type": "stream",
          "name": "stdout",
          "text": [
            "[[1 2 3]\n",
            " [2 3 4]] \n",
            "\n",
            " [[1 1 1]\n",
            " [2 3 4]]\n"
          ]
        }
      ]
    },
    {
      "cell_type": "code",
      "metadata": {
        "colab": {
          "base_uri": "https://localhost:8080/"
        },
        "id": "v98poYU5plpf",
        "outputId": "c2859f51-9ddd-47d9-bb57-07f5a05281f5"
      },
      "source": [
        "print(a1 * a2.T)"
      ],
      "execution_count": null,
      "outputs": [
        {
          "output_type": "stream",
          "name": "stdout",
          "text": [
            "[[ 1  2  3]\n",
            " [ 4  9 16]]\n"
          ]
        }
      ]
    },
    {
      "cell_type": "markdown",
      "metadata": {
        "id": "cohxp_OHplpf"
      },
      "source": [
        "## matrix operation\n",
        "\n",
        "- numpy array로 생성된 객체는 ndarray 클래스의 메소드와 속성을 가짐\n",
        "- transpose, dot product 등"
      ]
    },
    {
      "cell_type": "code",
      "metadata": {
        "colab": {
          "base_uri": "https://localhost:8080/"
        },
        "id": "zNba342Iplpf",
        "outputId": "06a7faa9-7bf2-4425-a4f2-7434d43a2c05"
      },
      "source": [
        "a1.dot(a2)"
      ],
      "execution_count": null,
      "outputs": [
        {
          "output_type": "execute_result",
          "data": {
            "text/plain": [
              "array([[ 6, 20],\n",
              "       [ 9, 29]])"
            ]
          },
          "metadata": {},
          "execution_count": 151
        }
      ]
    },
    {
      "cell_type": "code",
      "metadata": {
        "colab": {
          "base_uri": "https://localhost:8080/"
        },
        "id": "ooSu1GLoplpf",
        "outputId": "46515f1c-0215-4137-b0e2-5dc280d9f08a"
      },
      "source": [
        "np.dot(a1, a2)"
      ],
      "execution_count": null,
      "outputs": [
        {
          "output_type": "execute_result",
          "data": {
            "text/plain": [
              "array([[ 6, 20],\n",
              "       [ 9, 29]])"
            ]
          },
          "metadata": {},
          "execution_count": 152
        }
      ]
    },
    {
      "cell_type": "code",
      "metadata": {
        "colab": {
          "base_uri": "https://localhost:8080/"
        },
        "id": "tcGxp3t6plpg",
        "outputId": "5f2819fb-cbd8-4b55-b764-65fdf806cc30"
      },
      "source": [
        "A = np.dot(a1, a2)\n",
        "print(A)"
      ],
      "execution_count": null,
      "outputs": [
        {
          "output_type": "stream",
          "name": "stdout",
          "text": [
            "[[ 6 20]\n",
            " [ 9 29]]\n"
          ]
        }
      ]
    },
    {
      "cell_type": "markdown",
      "metadata": {
        "id": "iGQgM-Syplpg"
      },
      "source": [
        "- 역행렬: numpy.linalg.inv() 함수 이용"
      ]
    },
    {
      "cell_type": "code",
      "metadata": {
        "colab": {
          "base_uri": "https://localhost:8080/"
        },
        "id": "RarslNr_plpg",
        "outputId": "e95a4ddf-545a-4120-ba3b-4c5a09482f6e"
      },
      "source": [
        "print(np.linalg.inv(a1.dot(a2)))"
      ],
      "execution_count": null,
      "outputs": [
        {
          "output_type": "stream",
          "name": "stdout",
          "text": [
            "[[-4.83333333  3.33333333]\n",
            " [ 1.5        -1.        ]]\n"
          ]
        }
      ]
    },
    {
      "cell_type": "code",
      "metadata": {
        "id": "3fIn7w6mplpg"
      },
      "source": [
        "from numpy.linalg import inv"
      ],
      "execution_count": null,
      "outputs": []
    },
    {
      "cell_type": "code",
      "metadata": {
        "colab": {
          "base_uri": "https://localhost:8080/"
        },
        "id": "p_d7boJWplpg",
        "outputId": "35a477ec-b572-4f92-c0f0-9af59d037229"
      },
      "source": [
        "inv(a1.dot(a2))"
      ],
      "execution_count": null,
      "outputs": [
        {
          "output_type": "execute_result",
          "data": {
            "text/plain": [
              "array([[-4.83333333,  3.33333333],\n",
              "       [ 1.5       , -1.        ]])"
            ]
          },
          "metadata": {},
          "execution_count": 156
        }
      ]
    },
    {
      "cell_type": "code",
      "metadata": {
        "colab": {
          "base_uri": "https://localhost:8080/"
        },
        "id": "eRjBWaDuplpg",
        "outputId": "2ffcf6f5-51ca-432f-c481-f693b68f9250"
      },
      "source": [
        "np.identity(a1.shape[0])"
      ],
      "execution_count": null,
      "outputs": [
        {
          "output_type": "execute_result",
          "data": {
            "text/plain": [
              "array([[1., 0.],\n",
              "       [0., 1.]])"
            ]
          },
          "metadata": {},
          "execution_count": 157
        }
      ]
    },
    {
      "cell_type": "markdown",
      "metadata": {
        "id": "Yjn6RimLplpg"
      },
      "source": [
        "- 레온티에프 역행렬"
      ]
    },
    {
      "cell_type": "code",
      "metadata": {
        "colab": {
          "base_uri": "https://localhost:8080/"
        },
        "id": "-OOn4dz2plpg",
        "outputId": "9d96aeed-e9d1-4b58-8fe7-07d0165e7a35"
      },
      "source": [
        "np.linalg.inv(np.identity(A.shape[0]) - A)"
      ],
      "execution_count": null,
      "outputs": [
        {
          "output_type": "execute_result",
          "data": {
            "text/plain": [
              "array([[ 0.7  , -0.5  ],\n",
              "       [-0.225,  0.125]])"
            ]
          },
          "metadata": {},
          "execution_count": 158
        }
      ]
    },
    {
      "cell_type": "markdown",
      "metadata": {
        "id": "cjmOkx7Pplpg"
      },
      "source": [
        "## random sample\n",
        "\n",
        "- 동일한 랜덤표본을 얻기 위해서는 numpy.random.seed(n) (예: n=1) 실행\n",
        "    - seed()를 지정하지 않는 경우 파이썬은 현재 날짜-시간을 이용하여 seed() 지정"
      ]
    },
    {
      "cell_type": "code",
      "metadata": {
        "id": "n6JZFInlplph"
      },
      "source": [
        "import numpy as np"
      ],
      "execution_count": 198,
      "outputs": []
    },
    {
      "cell_type": "code",
      "metadata": {
        "id": "ynO-7MZDplph",
        "outputId": "6c570e43-8deb-4fd5-9205-73f62462d2b8",
        "colab": {
          "base_uri": "https://localhost:8080/"
        }
      },
      "source": [
        "rsn = np.random.randn(10)\n",
        "rsn"
      ],
      "execution_count": 204,
      "outputs": [
        {
          "output_type": "execute_result",
          "data": {
            "text/plain": [
              "array([-0.51781153, -1.5047307 ,  0.90491299,  1.24824343,  1.16282077,\n",
              "       -1.17126944,  0.12411254,  2.5729199 , -0.32607792,  0.56877728])"
            ]
          },
          "metadata": {},
          "execution_count": 204
        }
      ]
    },
    {
      "cell_type": "code",
      "metadata": {
        "colab": {
          "base_uri": "https://localhost:8080/"
        },
        "id": "9cR-_Y9yplph",
        "outputId": "a19236ee-7a68-432f-8bc2-5ad91be9e071"
      },
      "source": [
        "rsn"
      ],
      "execution_count": 200,
      "outputs": [
        {
          "output_type": "execute_result",
          "data": {
            "text/plain": [
              "array([-0.41481307, -0.08651379,  1.74024386, -0.31105128,  0.4194477 ,\n",
              "        0.75404455,  0.7031126 , -0.79205272,  1.5648141 ,  0.55920155])"
            ]
          },
          "metadata": {},
          "execution_count": 200
        }
      ]
    },
    {
      "cell_type": "code",
      "metadata": {
        "id": "p5CuBcneplph"
      },
      "source": [
        "rsi = np.random.randint(1, 10, 10)"
      ],
      "execution_count": 205,
      "outputs": []
    },
    {
      "cell_type": "code",
      "metadata": {
        "colab": {
          "base_uri": "https://localhost:8080/"
        },
        "id": "YyHZQdbZplph",
        "outputId": "8fcd2444-5d2e-4045-8e2a-4f0ba70f158c"
      },
      "source": [
        "rsi"
      ],
      "execution_count": 206,
      "outputs": [
        {
          "output_type": "execute_result",
          "data": {
            "text/plain": [
              "array([4, 3, 2, 9, 7, 7, 6, 2, 3, 4])"
            ]
          },
          "metadata": {},
          "execution_count": 206
        }
      ]
    },
    {
      "cell_type": "code",
      "metadata": {
        "id": "XDkjtSKPplph"
      },
      "source": [
        "rsu = np.random.uniform(-1, 1, 10)"
      ],
      "execution_count": null,
      "outputs": []
    },
    {
      "cell_type": "code",
      "metadata": {
        "colab": {
          "base_uri": "https://localhost:8080/"
        },
        "id": "YyvBnSEHplph",
        "outputId": "bea943db-9ace-4de9-f096-f4e5241e7e78"
      },
      "source": [
        "rsu"
      ],
      "execution_count": null,
      "outputs": [
        {
          "output_type": "execute_result",
          "data": {
            "text/plain": [
              "array([ 0.98340165, -0.82718337, -0.89835087, -0.48222867, -0.21196053,\n",
              "       -0.8024412 ,  0.56554767,  0.10349785,  0.12036892, -0.9000916 ])"
            ]
          },
          "metadata": {},
          "execution_count": 165
        }
      ]
    },
    {
      "cell_type": "code",
      "metadata": {
        "colab": {
          "base_uri": "https://localhost:8080/"
        },
        "id": "S0NbAswioKVL",
        "outputId": "4f66c41f-b6f6-43db-cc0e-5ed25e409ea1"
      },
      "source": [
        "np.random.seed(2)\n",
        "np.random.randn(3)"
      ],
      "execution_count": 209,
      "outputs": [
        {
          "output_type": "execute_result",
          "data": {
            "text/plain": [
              "array([-0.41675785, -0.05626683, -2.1361961 ])"
            ]
          },
          "metadata": {},
          "execution_count": 209
        }
      ]
    },
    {
      "cell_type": "code",
      "metadata": {
        "colab": {
          "base_uri": "https://localhost:8080/"
        },
        "id": "m3vjB6esoQ4F",
        "outputId": "7f1ee55a-9b6e-43db-fd58-f55cd6458284"
      },
      "source": [
        "np.random.seed(2)\n",
        "np.random.randn(3)"
      ],
      "execution_count": null,
      "outputs": [
        {
          "output_type": "execute_result",
          "data": {
            "text/plain": [
              "array([-0.41675785, -0.05626683, -2.1361961 ])"
            ]
          },
          "metadata": {},
          "execution_count": 167
        }
      ]
    },
    {
      "cell_type": "code",
      "metadata": {
        "colab": {
          "base_uri": "https://localhost:8080/"
        },
        "id": "DnUQd3e8oUo9",
        "outputId": "89ee78ac-db6f-4675-a9b9-db7b79d6fbf1"
      },
      "source": [
        "np.random.seed(1)\n",
        "np.random.randn(3)"
      ],
      "execution_count": null,
      "outputs": [
        {
          "output_type": "execute_result",
          "data": {
            "text/plain": [
              "array([ 1.62434536, -0.61175641, -0.52817175])"
            ]
          },
          "metadata": {},
          "execution_count": 168
        }
      ]
    },
    {
      "cell_type": "code",
      "source": [
        "# 함수 이름은 cal_xy\n",
        "# input: x, y\n",
        "# output: (x + y) ** 2\n",
        "\n",
        "# cal_xy(2, 3)\n",
        "\n",
        "def cal_xy(x, y):\n",
        "  return (x + y) ** 2\n",
        "\n",
        "print(cal_xy(2, 3))"
      ],
      "metadata": {
        "id": "30MsTqVpYFkD",
        "outputId": "142ec20c-2763-4f81-8aa0-869fd224f499",
        "colab": {
          "base_uri": "https://localhost:8080/"
        }
      },
      "execution_count": 210,
      "outputs": [
        {
          "output_type": "stream",
          "name": "stdout",
          "text": [
            "25\n"
          ]
        }
      ]
    },
    {
      "cell_type": "code",
      "metadata": {
        "id": "QDaZVQ4tiUBW"
      },
      "source": [
        "# Q1. x + y + x * y + x ** 2"
      ],
      "execution_count": null,
      "outputs": []
    },
    {
      "cell_type": "code",
      "source": [
        "def func_test(x, y):\n",
        "    return x + y + x * y + x ** 2\n",
        "\n",
        "print(func_test(1, 2))"
      ],
      "metadata": {
        "id": "t1fnvdp0L-vs",
        "outputId": "b6fcff38-6217-4b36-89db-befd0d33bfe4",
        "colab": {
          "base_uri": "https://localhost:8080/"
        }
      },
      "execution_count": null,
      "outputs": [
        {
          "output_type": "stream",
          "name": "stdout",
          "text": [
            "6\n"
          ]
        }
      ]
    },
    {
      "cell_type": "code",
      "source": [
        "# Q2. 딕셔너리"
      ],
      "metadata": {
        "id": "FibNyILuMK3z"
      },
      "execution_count": null,
      "outputs": []
    },
    {
      "cell_type": "code",
      "source": [
        "a1 = ['a', 'b', 'c', 'd', 'e']\n",
        "a2 = list(range(5))\n",
        "\n",
        "dict(zip(a1, a2))"
      ],
      "metadata": {
        "id": "NWgRnverMVoy",
        "outputId": "ecb4f928-47a4-4924-fc71-49a0470b148f",
        "colab": {
          "base_uri": "https://localhost:8080/"
        }
      },
      "execution_count": null,
      "outputs": [
        {
          "output_type": "execute_result",
          "data": {
            "text/plain": [
              "{'a': 0, 'b': 1, 'c': 2, 'd': 3, 'e': 4}"
            ]
          },
          "metadata": {},
          "execution_count": 204
        }
      ]
    },
    {
      "cell_type": "code",
      "source": [
        "# Q3. 리스트 컴프리헨션"
      ],
      "metadata": {
        "id": "ynaPcWLbMeie"
      },
      "execution_count": null,
      "outputs": []
    },
    {
      "cell_type": "code",
      "source": [
        "a = list(range(2, 10))\n",
        "[i ** 2 for i in a]"
      ],
      "metadata": {
        "id": "B8TM-c_DMhU6",
        "outputId": "e204ee2d-f05a-4da3-cf3f-df065dbe6dcb",
        "colab": {
          "base_uri": "https://localhost:8080/"
        }
      },
      "execution_count": null,
      "outputs": [
        {
          "output_type": "execute_result",
          "data": {
            "text/plain": [
              "[4, 9, 16, 25, 36, 49, 64, 81]"
            ]
          },
          "metadata": {},
          "execution_count": 206
        }
      ]
    },
    {
      "cell_type": "code",
      "source": [
        "# Q4. np.array 제곱"
      ],
      "metadata": {
        "id": "sgqTIPixMme8"
      },
      "execution_count": null,
      "outputs": []
    },
    {
      "cell_type": "code",
      "source": [
        "np.array(a) ** 2"
      ],
      "metadata": {
        "id": "hvFoippsMqVy",
        "outputId": "75802245-8520-4869-85b6-3298b0b3838d",
        "colab": {
          "base_uri": "https://localhost:8080/"
        }
      },
      "execution_count": null,
      "outputs": [
        {
          "output_type": "execute_result",
          "data": {
            "text/plain": [
              "array([ 4,  9, 16, 25, 36, 49, 64, 81])"
            ]
          },
          "metadata": {},
          "execution_count": 209
        }
      ]
    },
    {
      "cell_type": "code",
      "source": [
        "# Q5. 반복문 출력"
      ],
      "metadata": {
        "id": "LDfVyAfLMttH"
      },
      "execution_count": null,
      "outputs": []
    },
    {
      "cell_type": "code",
      "source": [
        "for i in range(1, 11):\n",
        "    print(i ** 2)"
      ],
      "metadata": {
        "id": "mImnd1fNMxA7",
        "outputId": "1343df2b-31fa-4baa-96a8-0de0604b854f",
        "colab": {
          "base_uri": "https://localhost:8080/"
        }
      },
      "execution_count": null,
      "outputs": [
        {
          "output_type": "stream",
          "name": "stdout",
          "text": [
            "1\n",
            "4\n",
            "9\n",
            "16\n",
            "25\n",
            "36\n",
            "49\n",
            "64\n",
            "81\n",
            "100\n"
          ]
        }
      ]
    },
    {
      "cell_type": "code",
      "source": [
        "# 반복문 출력 조건"
      ],
      "metadata": {
        "id": "gyqKaKsfMz7A"
      },
      "execution_count": null,
      "outputs": []
    },
    {
      "cell_type": "code",
      "source": [
        "for i in range(1, 11):\n",
        "    if i == 5:\n",
        "        continue\n",
        "    else:\n",
        "        print(i ** 2)"
      ],
      "metadata": {
        "id": "sjwwrhpFM1-o",
        "outputId": "ead49cf2-7f66-41ec-bb28-0b725cd5e9fa",
        "colab": {
          "base_uri": "https://localhost:8080/"
        }
      },
      "execution_count": null,
      "outputs": [
        {
          "output_type": "stream",
          "name": "stdout",
          "text": [
            "1\n",
            "4\n",
            "9\n",
            "16\n",
            "36\n",
            "49\n",
            "64\n",
            "81\n",
            "100\n"
          ]
        }
      ]
    }
  ]
}
