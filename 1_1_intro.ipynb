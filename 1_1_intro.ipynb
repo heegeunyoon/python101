{
  "cells": [
    {
      "cell_type": "markdown",
      "metadata": {
        "id": "view-in-github",
        "colab_type": "text"
      },
      "source": [
        "<a href=\"https://colab.research.google.com/github/heegeunyoon/python101/blob/main/1_1_intro.ipynb\" target=\"_parent\"><img src=\"https://colab.research.google.com/assets/colab-badge.svg\" alt=\"Open In Colab\"/></a>"
      ]
    },
    {
      "cell_type": "markdown",
      "metadata": {
        "id": "jwMT9xqBplpA"
      },
      "source": [
        "# 주피터노트북\n"
      ]
    },
    {
      "cell_type": "markdown",
      "metadata": {
        "id": "iF2zL1l89EBZ"
      },
      "source": [
        "# 파이썬"
      ]
    },
    {
      "cell_type": "markdown",
      "metadata": {
        "id": "hIN0AWUWuQGu"
      },
      "source": [
        "## 셀 타입\n",
        "\n",
        "- 코드\n",
        "- 마크다운/텍스트"
      ]
    },
    {
      "cell_type": "markdown",
      "metadata": {
        "id": "uUSqwNRIuTLX"
      },
      "source": [
        "## 셀 모드\n",
        "\n",
        "- 편집\n",
        "- 명령"
      ]
    },
    {
      "cell_type": "markdown",
      "metadata": {
        "id": "jBUE4J2GmMec"
      },
      "source": [
        "\n",
        "## 셀 실행\n",
        "\n",
        "- Shift + Enter 현재 셀 실행하고 아래 셀 선택\n",
        "- Ctrl + Enter 현재 셀 실행하고 현재 셀 선택\n",
        "- Alt + Enter (colab) 현재 셀 실행하고 아래에 새로운 코드 셀 생성"
      ]
    },
    {
      "cell_type": "markdown",
      "metadata": {
        "id": "6xAOkXo5plpC"
      },
      "source": [
        "## 단축키\n",
        "- 구글 코랩에서는 노트북 단축키를 사용자가 지정할 수 있으며, 일반적인 주피터노트북과 달리 셀 편집모드에서도 단축키를 통해 셀 잘라내기, 새로운 셀 생성 등 셀 편집이 가능\n",
        "\n",
        "- '메뉴-도구-단축키'에서 설정\n",
        "    - 셀 잘라내기 Ctrl + m, x\n",
        "    - 셀 복사하기 Ctrl + m, c\n",
        "    - 셀 붙이기 Ctrl + v\n",
        "    - 셀 삭제 Ctrl + m, d\n",
        "    - 위에 새로운 셀 삽입하기 Ctrl + m, a\n",
        "    - 아래에 새로운 셀 삽입하기 Ctrl + m, b\n",
        "    - 셀 타입 코드로 변환 Ctrl + m, y\n",
        "    - 셀 타입 마크다운으로 변환 Ctrl + m, m\n",
        "    - 실행 취소 Ctrl + m, z\n",
        "    - 단축키 확인 Ctrl + m, x\n",
        "    - 선택된 여러 셀 병합 Ctrl + Shift + m\n",
        "    - 현재 커서 위치에서 셀 분할 Ctrl + m, -\n",
        "    - 주석 설정/해제 Ctrl + /"
      ]
    },
    {
      "cell_type": "code",
      "execution_count": null,
      "metadata": {
        "id": "AxZULfKq-hUi"
      },
      "outputs": [],
      "source": [
        "import sys\n",
        "\n",
        "print(sys.version)\n",
        "print(sys.version_info)"
      ]
    },
    {
      "cell_type": "code",
      "execution_count": null,
      "metadata": {
        "id": "t4slUHlp-wLS"
      },
      "outputs": [],
      "source": [
        "# PEP8 스타일\n",
        "# https://www.python.org/dev/peps/pep-0008/"
      ]
    },
    {
      "cell_type": "code",
      "execution_count": null,
      "metadata": {
        "id": "dWRhfE5l_XGt"
      },
      "outputs": [],
      "source": [
        "# 탭 대신 스페이스를 사용해서 들여쓰기\n",
        "# 라인 길이는 79개 문자 이하\n",
        "# 긴 식을 다음 줄에 이어서 쓸 경우에는 일반적인 들여쓰기보다 4 스페이스를 더 들여서 씀\n",
        "# 파일 안에서 각 함수와 클래스 사이에는 빈 줄을 두 줄 넣기\n",
        "# 클래스 안에서 메서드와 메서드 사이에는 빈 줄을 한 줄\n",
        "# 딕셔너리에서 키와 콜론 사이에는 공백을 넣지 않고, 한 줄 안에 키와 값을 같이 넣는 경우에는 콜론 다음에 스페이스 하나 넣기\n",
        "# 변수 대입에서 = 전후에는 스페이스를 하나씩만 넣기"
      ]
    },
    {
      "cell_type": "markdown",
      "metadata": {
        "id": "2lDW_v4WplpF"
      },
      "source": [
        "# 기본 자료형"
      ]
    },
    {
      "cell_type": "markdown",
      "metadata": {
        "id": "FUzXR2ySplpG"
      },
      "source": [
        "## 숫자, 참/거짓, 문자열"
      ]
    },
    {
      "cell_type": "code",
      "execution_count": null,
      "metadata": {
        "id": "VXnGGupX96Y7"
      },
      "outputs": [],
      "source": [
        "1"
      ]
    },
    {
      "cell_type": "code",
      "execution_count": null,
      "metadata": {
        "id": "pXbt8obKplpG"
      },
      "outputs": [],
      "source": [
        "type(1)"
      ]
    },
    {
      "cell_type": "code",
      "execution_count": null,
      "metadata": {
        "id": "q1E_vIBdplpG"
      },
      "outputs": [],
      "source": [
        "type(1.0)"
      ]
    },
    {
      "cell_type": "code",
      "execution_count": null,
      "metadata": {
        "id": "EvOQyUhR-Gu8"
      },
      "outputs": [],
      "source": [
        "True"
      ]
    },
    {
      "cell_type": "code",
      "execution_count": null,
      "metadata": {
        "id": "TyKF1DtxplpG"
      },
      "outputs": [],
      "source": [
        "False, True"
      ]
    },
    {
      "cell_type": "code",
      "execution_count": null,
      "metadata": {
        "id": "0xCcMW83plpH"
      },
      "outputs": [],
      "source": [
        "type(True)"
      ]
    },
    {
      "cell_type": "code",
      "execution_count": null,
      "metadata": {
        "id": "v4W-P4Jt-Lgh"
      },
      "outputs": [],
      "source": [
        "'true'"
      ]
    },
    {
      "cell_type": "code",
      "execution_count": null,
      "metadata": {
        "id": "gUOZPQrLplpH"
      },
      "outputs": [],
      "source": [
        "type('python')"
      ]
    },
    {
      "cell_type": "code",
      "execution_count": null,
      "metadata": {
        "id": "r0oSz78XplpH"
      },
      "outputs": [],
      "source": [
        "type(\"python\")"
      ]
    },
    {
      "cell_type": "code",
      "execution_count": null,
      "metadata": {
        "id": "Mit-TmWuplpH"
      },
      "outputs": [],
      "source": [
        "type('a')"
      ]
    },
    {
      "cell_type": "code",
      "execution_count": null,
      "metadata": {
        "id": "wg7PwJL9plpH"
      },
      "outputs": [],
      "source": [
        "type(\"p\")"
      ]
    },
    {
      "cell_type": "code",
      "execution_count": null,
      "metadata": {
        "id": "IP78CxLmplpI"
      },
      "outputs": [],
      "source": [
        "type('python'), type(.5)"
      ]
    },
    {
      "cell_type": "code",
      "execution_count": null,
      "metadata": {
        "id": "kGVpJpQ9-agd"
      },
      "outputs": [],
      "source": [
        "a = 1\n",
        "b = 2"
      ]
    },
    {
      "cell_type": "code",
      "execution_count": null,
      "metadata": {
        "id": "kQcywrL7-gHF"
      },
      "outputs": [],
      "source": [
        "print(a)\n",
        "print(b)"
      ]
    },
    {
      "cell_type": "code",
      "execution_count": null,
      "metadata": {
        "id": "GvJudswP_Bx5"
      },
      "outputs": [],
      "source": [
        "a == 5"
      ]
    },
    {
      "cell_type": "code",
      "execution_count": null,
      "metadata": {
        "id": "zp7kR8nCplpI"
      },
      "outputs": [],
      "source": [
        "a = 5\n",
        "b = (a == 5)\n",
        "c = 'KOR'\n",
        "print(a, b, c)"
      ]
    },
    {
      "cell_type": "markdown",
      "metadata": {
        "id": "1RlJvVPPplpI"
      },
      "source": [
        "- 더하기"
      ]
    },
    {
      "cell_type": "code",
      "execution_count": null,
      "metadata": {
        "id": "bQUcBF6kplpI"
      },
      "outputs": [],
      "source": [
        "4 + 5"
      ]
    },
    {
      "cell_type": "code",
      "execution_count": null,
      "metadata": {
        "id": "4ZwrU7d-plpI"
      },
      "outputs": [],
      "source": [
        "'KOR' + '15'"
      ]
    },
    {
      "cell_type": "code",
      "execution_count": null,
      "metadata": {
        "id": "wDGp9HLvplpJ"
      },
      "outputs": [],
      "source": [
        "'KOR' + 15"
      ]
    },
    {
      "cell_type": "markdown",
      "metadata": {
        "id": "CXSLZvllRNPB"
      },
      "source": [
        "- 수는 수끼리, 문자열은 문자열끼리 더할 수 있음\n",
        "- 자료형 변경은 str(), float(), int() 등을 이용"
      ]
    },
    {
      "cell_type": "code",
      "execution_count": null,
      "metadata": {
        "id": "fH9LuWoJplpJ"
      },
      "outputs": [],
      "source": [
        "'KOR' + str(15)"
      ]
    },
    {
      "cell_type": "code",
      "execution_count": null,
      "metadata": {
        "id": "b9XEvt9CplpJ"
      },
      "outputs": [],
      "source": [
        "print(type(15))\n",
        "print(type(str(15)))"
      ]
    },
    {
      "cell_type": "code",
      "execution_count": null,
      "metadata": {
        "id": "4szQuNbCplpJ"
      },
      "outputs": [],
      "source": [
        "float(str(15))"
      ]
    },
    {
      "cell_type": "markdown",
      "metadata": {
        "id": "7g8KeLtmRulV"
      },
      "source": [
        "- bool 자료형에 사칙연산을 적용할 경우 False는 0, True는 1의 값을 갖는 것으로 처리됨"
      ]
    },
    {
      "cell_type": "code",
      "execution_count": null,
      "metadata": {
        "id": "Ghzo11E0plpJ"
      },
      "outputs": [],
      "source": [
        "4 + True"
      ]
    },
    {
      "cell_type": "code",
      "execution_count": null,
      "metadata": {
        "id": "pdtjUuBLplpJ"
      },
      "outputs": [],
      "source": [
        "4 + False"
      ]
    },
    {
      "cell_type": "code",
      "execution_count": null,
      "metadata": {
        "id": "Yk2-dgg5plpK"
      },
      "outputs": [],
      "source": [
        "4 * True"
      ]
    },
    {
      "cell_type": "code",
      "execution_count": null,
      "metadata": {
        "id": "_WO49bD2plpK"
      },
      "outputs": [],
      "source": [
        "4 * False"
      ]
    },
    {
      "cell_type": "code",
      "execution_count": null,
      "metadata": {
        "id": "boRojZFSplpK"
      },
      "outputs": [],
      "source": [
        "int(True)"
      ]
    },
    {
      "cell_type": "code",
      "execution_count": null,
      "metadata": {
        "id": "3nKhUI_RjvRR"
      },
      "outputs": [],
      "source": [
        "int(False)"
      ]
    },
    {
      "cell_type": "markdown",
      "metadata": {
        "id": "_DsNzxuXplpK"
      },
      "source": [
        "- 문자열 포맷 f-string"
      ]
    },
    {
      "cell_type": "code",
      "execution_count": null,
      "metadata": {
        "id": "fn0Ke_hSplpK"
      },
      "outputs": [],
      "source": [
        "a = 2\n",
        "b = 'two'\n",
        "print(a, b)"
      ]
    },
    {
      "cell_type": "code",
      "execution_count": null,
      "metadata": {
        "id": "f7AvskVT_5T8"
      },
      "outputs": [],
      "source": [
        "print('abc')\n",
        "print(f'abc {a}')"
      ]
    },
    {
      "cell_type": "code",
      "execution_count": null,
      "metadata": {
        "id": "fGvZJKfOplpK"
      },
      "outputs": [],
      "source": [
        "print(f'{a} is {b}')"
      ]
    },
    {
      "cell_type": "code",
      "execution_count": null,
      "metadata": {
        "id": "tQZDaFBwAVFF"
      },
      "outputs": [],
      "source": [
        "print(f'{a:.10f} is {b}')"
      ]
    },
    {
      "cell_type": "code",
      "execution_count": null,
      "metadata": {
        "id": "Z35sO1nOplpK"
      },
      "outputs": [],
      "source": [
        "print(f'{a:.2f} is {b:}')"
      ]
    },
    {
      "cell_type": "code",
      "execution_count": null,
      "metadata": {
        "id": "bOWYq_dOplpL"
      },
      "outputs": [],
      "source": [
        "print(f'{b:} is {a:.2f}')"
      ]
    },
    {
      "cell_type": "code",
      "execution_count": null,
      "metadata": {
        "id": "GEpSVxhsplpL"
      },
      "outputs": [],
      "source": [
        "print(f'{b:} is {10000:,.2f}')"
      ]
    },
    {
      "cell_type": "markdown",
      "metadata": {
        "id": "3siuC5njplpL"
      },
      "source": [
        "- 문자열에서 공백 없애기"
      ]
    },
    {
      "cell_type": "code",
      "execution_count": null,
      "metadata": {
        "id": "6ZukADH3plpL"
      },
      "outputs": [],
      "source": [
        "\" abc \".lstrip()"
      ]
    },
    {
      "cell_type": "code",
      "execution_count": null,
      "metadata": {
        "id": "7hUmNy5tplpL"
      },
      "outputs": [],
      "source": [
        "\" abc \".rstrip()"
      ]
    },
    {
      "cell_type": "code",
      "execution_count": null,
      "metadata": {
        "id": "HUdLs-17plpL"
      },
      "outputs": [],
      "source": [
        "\" abc \".strip()"
      ]
    },
    {
      "cell_type": "code",
      "execution_count": null,
      "metadata": {
        "id": "FPwUgUqOplpL"
      },
      "outputs": [],
      "source": [
        "\"abc\".strip('a')"
      ]
    },
    {
      "cell_type": "markdown",
      "metadata": {
        "id": "zcHFY5o9plpM"
      },
      "source": [
        "## 리스트"
      ]
    },
    {
      "cell_type": "code",
      "execution_count": null,
      "metadata": {
        "id": "QCiLko44plpM"
      },
      "outputs": [],
      "source": [
        "a = [1, 2, 3]\n",
        "b = ['one', 'two', 'three']"
      ]
    },
    {
      "cell_type": "code",
      "execution_count": null,
      "metadata": {
        "id": "4V41XrcUA0v4"
      },
      "outputs": [],
      "source": [
        "print(a)\n",
        "print(b)"
      ]
    },
    {
      "cell_type": "code",
      "execution_count": null,
      "metadata": {
        "id": "sp7EfIO-plpM"
      },
      "outputs": [],
      "source": [
        "type(a)"
      ]
    },
    {
      "cell_type": "code",
      "execution_count": null,
      "metadata": {
        "id": "bWu9edn-BCUH"
      },
      "outputs": [],
      "source": [
        "print(4 + 3)\n",
        "print(4 * 3)"
      ]
    },
    {
      "cell_type": "code",
      "execution_count": null,
      "metadata": {
        "id": "y49xn6_hplpM"
      },
      "outputs": [],
      "source": [
        "a * 2"
      ]
    },
    {
      "cell_type": "code",
      "execution_count": null,
      "metadata": {
        "id": "2HlEc1C0plpM"
      },
      "outputs": [],
      "source": [
        "b * 2"
      ]
    },
    {
      "cell_type": "code",
      "execution_count": null,
      "metadata": {
        "id": "zHDMP4G_plpM"
      },
      "outputs": [],
      "source": [
        "a + b"
      ]
    },
    {
      "cell_type": "code",
      "execution_count": null,
      "metadata": {
        "id": "53O9ZnIFplpM"
      },
      "outputs": [],
      "source": [
        "a + 5"
      ]
    },
    {
      "cell_type": "code",
      "execution_count": null,
      "metadata": {
        "id": "3V9pGdYFplpN"
      },
      "outputs": [],
      "source": [
        "a + 'four'"
      ]
    },
    {
      "cell_type": "markdown",
      "metadata": {
        "id": "3dU-pVatplpN"
      },
      "source": [
        "- list에 숫자 또는 문자열을 더하는 연산이 정의되어 있지 않으므로 오류발생"
      ]
    },
    {
      "cell_type": "code",
      "execution_count": null,
      "metadata": {
        "id": "YwhXBSABplpN"
      },
      "outputs": [],
      "source": [
        "a + [5]"
      ]
    },
    {
      "cell_type": "code",
      "execution_count": null,
      "metadata": {
        "id": "ics6GYA-plpN"
      },
      "outputs": [],
      "source": [
        "print(b)\n",
        "b.append('four')\n",
        "print(b)"
      ]
    },
    {
      "cell_type": "code",
      "execution_count": null,
      "metadata": {
        "id": "UNQMOGnYBn0x"
      },
      "outputs": [],
      "source": [
        "print(b)\n",
        "b.append([1, 2, 3])\n",
        "print(b)"
      ]
    },
    {
      "cell_type": "code",
      "execution_count": null,
      "metadata": {
        "id": "MkqbH-WqBzlk"
      },
      "outputs": [],
      "source": [
        "b"
      ]
    },
    {
      "cell_type": "code",
      "execution_count": null,
      "metadata": {
        "id": "YyZgUr_sB4cb"
      },
      "outputs": [],
      "source": [
        "print(b[0])\n",
        "print(b[1])\n",
        "print(b[4])\n",
        "print(b[-1])"
      ]
    },
    {
      "cell_type": "markdown",
      "metadata": {
        "id": "x1O08-aeplpN"
      },
      "source": [
        "- 숫자로 이루어진 리스트의 각 항목에 숫자를 더하기 위해서는 list comprehension이나 for-loop 이용"
      ]
    },
    {
      "cell_type": "code",
      "execution_count": null,
      "metadata": {
        "id": "t-Nj6CSTF7t6"
      },
      "outputs": [],
      "source": [
        "a = [1, 2, 3]"
      ]
    },
    {
      "cell_type": "code",
      "execution_count": null,
      "metadata": {
        "id": "EWNCxGo6F_Z7"
      },
      "outputs": [],
      "source": [
        "for i in a:\n",
        "  print(i)"
      ]
    },
    {
      "cell_type": "code",
      "execution_count": null,
      "metadata": {
        "id": "xJfIk9oPGMY5"
      },
      "outputs": [],
      "source": [
        "[i for i in a]"
      ]
    },
    {
      "cell_type": "code",
      "execution_count": null,
      "metadata": {
        "id": "yDfDGtlNplpN"
      },
      "outputs": [],
      "source": [
        "[i + 1 for i in a]"
      ]
    },
    {
      "cell_type": "markdown",
      "metadata": {
        "id": "L0ZQjuC2plpN"
      },
      "source": [
        "- 뒤에 다룰 넘파이 ndarray 자료형은 숫자형 자료 리스트처럼 생겼으나, 숫자 하나를 더할 수 있음"
      ]
    },
    {
      "cell_type": "code",
      "execution_count": null,
      "metadata": {
        "id": "iPtgYebIplpN"
      },
      "outputs": [],
      "source": [
        "list(range(10))"
      ]
    },
    {
      "cell_type": "code",
      "execution_count": null,
      "metadata": {
        "id": "X2pWxcJ0Gr72"
      },
      "outputs": [],
      "source": [
        "for i in range(10):\n",
        "  print(i)"
      ]
    },
    {
      "cell_type": "markdown",
      "metadata": {
        "id": "9hL8FpZIplpO"
      },
      "source": [
        "- 리스트에 있는 문자열을 특정 기호로 연결"
      ]
    },
    {
      "cell_type": "code",
      "execution_count": null,
      "metadata": {
        "id": "weMGGcSnplpO"
      },
      "outputs": [],
      "source": [
        "b = ['one', 'two', 'three']\n",
        "b"
      ]
    },
    {
      "cell_type": "code",
      "execution_count": null,
      "metadata": {
        "id": "ZCs23hE5plpO"
      },
      "outputs": [],
      "source": [
        "' '.join(b)"
      ]
    },
    {
      "cell_type": "markdown",
      "metadata": {
        "id": "VSN0RYpGplpO"
      },
      "source": [
        "- 파이썬 인덱스는 0부터 시작!!"
      ]
    },
    {
      "cell_type": "code",
      "execution_count": null,
      "metadata": {
        "id": "Dng3S5_aHAyN"
      },
      "outputs": [],
      "source": [
        "a"
      ]
    },
    {
      "cell_type": "code",
      "execution_count": null,
      "metadata": {
        "id": "K8bDKfI_plpO"
      },
      "outputs": [],
      "source": [
        "a[0]"
      ]
    },
    {
      "cell_type": "code",
      "execution_count": null,
      "metadata": {
        "id": "gAtXisSjplpO"
      },
      "outputs": [],
      "source": [
        "a[0:2]"
      ]
    },
    {
      "cell_type": "code",
      "execution_count": null,
      "metadata": {
        "id": "PvvewXgwHLeN"
      },
      "outputs": [],
      "source": [
        "a[:2]"
      ]
    },
    {
      "cell_type": "markdown",
      "metadata": {
        "id": "vRT8wJ74plpO"
      },
      "source": [
        "- list의 마지막 항목의 인덱스는 -1"
      ]
    },
    {
      "cell_type": "code",
      "execution_count": null,
      "metadata": {
        "id": "Do_mDuYVplpO"
      },
      "outputs": [],
      "source": [
        "a[-1]"
      ]
    },
    {
      "cell_type": "code",
      "execution_count": null,
      "metadata": {
        "id": "I3GTH7SvplpP"
      },
      "outputs": [],
      "source": [
        "a = ['KOR', 'USA', 'CHN']\n",
        "print(a[0], a[-1], a[:2], a[-2:])"
      ]
    },
    {
      "cell_type": "markdown",
      "metadata": {
        "id": "fB3a845YplpP"
      },
      "source": [
        "- 주피터노트북에서 긴 리스트는 세로로 표시되지만, %pprint 명령어로 옵션 변경 가능,\n",
        "- print() 명령어를 사용하면, 긴 리스트도 가로로 표시"
      ]
    },
    {
      "cell_type": "code",
      "execution_count": null,
      "metadata": {
        "id": "J2Byf-aJplpP"
      },
      "outputs": [],
      "source": [
        "a * 4"
      ]
    },
    {
      "cell_type": "code",
      "execution_count": null,
      "metadata": {
        "id": "_oVw6pnWplpP"
      },
      "outputs": [],
      "source": [
        "print(a * 4)"
      ]
    },
    {
      "cell_type": "code",
      "execution_count": null,
      "metadata": {
        "id": "9lZ23JIcl-HT"
      },
      "outputs": [],
      "source": [
        "from pprint import pprint"
      ]
    },
    {
      "cell_type": "code",
      "execution_count": null,
      "metadata": {
        "id": "rS7Q-uLrplpP"
      },
      "outputs": [],
      "source": [
        "%pprint"
      ]
    },
    {
      "cell_type": "code",
      "execution_count": null,
      "metadata": {
        "id": "XXQht5hSplpP"
      },
      "outputs": [],
      "source": [
        "a * 4"
      ]
    },
    {
      "cell_type": "code",
      "execution_count": null,
      "metadata": {
        "id": "33ifljjRoMcc"
      },
      "outputs": [],
      "source": [
        "data = {'age': 30,\n",
        " 'education': {'grad': {'degree': 'MSc',\n",
        "                        'university': 'ABC University',\n",
        "                        'year': 2015},\n",
        "               'undergrad': {'degree': 'BSc',\n",
        "                             'university': 'XYZ University',\n",
        "                             'year': 2012}},\n",
        " 'hobbies': ['reading', 'cycling', 'hiking'],\n",
        " 'name': 'Alice',\n",
        " 'work_experience': [{'company': 'Company A', 'position': 'Engineer', 'years': 3},\n",
        "                     {'company': 'Company B',\n",
        "                      'position': 'Senior Engineer',\n",
        "                      'years': 2}]}"
      ]
    },
    {
      "cell_type": "code",
      "execution_count": null,
      "metadata": {
        "id": "wLQ2WcJbopyD"
      },
      "outputs": [],
      "source": [
        "print(data)"
      ]
    },
    {
      "cell_type": "code",
      "execution_count": null,
      "metadata": {
        "id": "5JMdE7atotBL"
      },
      "outputs": [],
      "source": [
        "pprint(data)"
      ]
    },
    {
      "cell_type": "code",
      "execution_count": null,
      "metadata": {
        "id": "CW0qEcdVoPWU"
      },
      "outputs": [],
      "source": [
        "%pprint"
      ]
    },
    {
      "cell_type": "markdown",
      "metadata": {
        "id": "XJhS-OzzplpP"
      },
      "source": [
        "- 문자열 리스트의 각 항목을 따옴표 없이 print()하기 위해 리스트이름 앞에 * 입력\n",
        "- print()가 출력하는 각 항목 사이를 구분하기 위해 sep = '기호'를 지정\n",
        "- print()가 마지막에 출력할 내용을 지정하기 위해 end = '기호'를 지정(기본은 '\\n')"
      ]
    },
    {
      "cell_type": "code",
      "execution_count": null,
      "metadata": {
        "id": "DPtfNe97HsVy"
      },
      "outputs": [],
      "source": [
        "a"
      ]
    },
    {
      "cell_type": "code",
      "execution_count": null,
      "metadata": {
        "id": "bgMMv7EZplpQ"
      },
      "outputs": [],
      "source": [
        "print(a)"
      ]
    },
    {
      "cell_type": "code",
      "execution_count": null,
      "metadata": {
        "id": "dsIAYIK_plpQ"
      },
      "outputs": [],
      "source": [
        "print(*a)"
      ]
    },
    {
      "cell_type": "code",
      "execution_count": null,
      "metadata": {
        "id": "3vSOur9jplpQ"
      },
      "outputs": [],
      "source": [
        "print(*a, sep = '  ')"
      ]
    },
    {
      "cell_type": "markdown",
      "metadata": {
        "id": "i7-NlpntplpQ"
      },
      "source": [
        "- list comprehension"
      ]
    },
    {
      "cell_type": "code",
      "execution_count": null,
      "metadata": {
        "id": "VXAg6bIzplpQ"
      },
      "outputs": [],
      "source": [
        "['KOR', 'USA', 'CHN'] - ['CHN', 'AUS']"
      ]
    },
    {
      "cell_type": "code",
      "execution_count": null,
      "metadata": {
        "id": "Lh6p3eRnIOY6"
      },
      "outputs": [],
      "source": [
        "[i for i in ['KOR', 'USA', 'CHN'] if i not in ['CHN', 'AUS']]"
      ]
    },
    {
      "cell_type": "code",
      "execution_count": null,
      "metadata": {
        "id": "UHvHPbCYplpQ"
      },
      "outputs": [],
      "source": [
        "[s for s in ['KOR', 'USA', 'CHN'] if s not in ['CHN', 'AUS']]"
      ]
    },
    {
      "cell_type": "markdown",
      "metadata": {
        "id": "NLbNGd0tplpQ"
      },
      "source": [
        "- set() 이용"
      ]
    },
    {
      "cell_type": "code",
      "execution_count": null,
      "metadata": {
        "id": "s1Zl75GAIm6t"
      },
      "outputs": [],
      "source": [
        "print(['KOR', 'USA', 'CHN'])\n",
        "print(set(['KOR', 'USA', 'CHN']))\n",
        "\n",
        "print(type(['KOR', 'USA', 'CHN']))\n",
        "print(type(set(['KOR', 'USA', 'CHN'])))"
      ]
    },
    {
      "cell_type": "code",
      "execution_count": null,
      "metadata": {
        "id": "owFzu0rJplpQ"
      },
      "outputs": [],
      "source": [
        "set(['KOR', 'USA', 'CHN']), set(['CHN', 'AUS'])"
      ]
    },
    {
      "cell_type": "code",
      "execution_count": null,
      "metadata": {
        "id": "asVHCWFaplpR"
      },
      "outputs": [],
      "source": [
        "set(['KOR', 'USA', 'CHN']) - set(['CHN', 'AUS'])"
      ]
    },
    {
      "cell_type": "code",
      "execution_count": null,
      "metadata": {
        "id": "0dovg9wgI7yE"
      },
      "outputs": [],
      "source": [
        "list(set(['KOR', 'USA', 'CHN']).intersection(set(['CHN', 'AUS'])))"
      ]
    },
    {
      "cell_type": "code",
      "execution_count": null,
      "metadata": {
        "id": "txnO0BJ_plpR"
      },
      "outputs": [],
      "source": [
        "list(set(['KOR', 'USA', 'CHN']) - set(['CHN', 'AUS']))"
      ]
    },
    {
      "cell_type": "markdown",
      "metadata": {
        "id": "owBOJbKCplpR"
      },
      "source": [
        "- 문자열 리스트 항목별로 문자열 더하기"
      ]
    },
    {
      "cell_type": "code",
      "execution_count": null,
      "metadata": {
        "id": "1gsa51RnplpS"
      },
      "outputs": [],
      "source": [
        "[s + ':g' for s in ['KOR', 'USA', 'CHN']]"
      ]
    },
    {
      "cell_type": "code",
      "execution_count": null,
      "metadata": {
        "id": "LhIlfB6yJWe3"
      },
      "outputs": [],
      "source": [
        "['국가명: ' + i for i in ['대한민국', '미국', '중국']]"
      ]
    },
    {
      "cell_type": "markdown",
      "metadata": {
        "id": "L09r0gyUSmN-"
      },
      "source": [
        "- 문자열은 각 캐릭터(123.../abc.../가나다... 등)로 구성된 리스트"
      ]
    },
    {
      "cell_type": "code",
      "execution_count": null,
      "metadata": {
        "id": "AGpghLedSyFV"
      },
      "outputs": [],
      "source": [
        "a = 'abcde'"
      ]
    },
    {
      "cell_type": "code",
      "execution_count": null,
      "metadata": {
        "id": "p477sl0NJuAn"
      },
      "outputs": [],
      "source": [
        "a[0]"
      ]
    },
    {
      "cell_type": "code",
      "execution_count": null,
      "metadata": {
        "id": "DA-2XROBS2nN"
      },
      "outputs": [],
      "source": [
        "a[:3]"
      ]
    },
    {
      "cell_type": "code",
      "execution_count": null,
      "metadata": {
        "id": "Fz3MQds_S4Na"
      },
      "outputs": [],
      "source": [
        "a[-2:]"
      ]
    },
    {
      "cell_type": "code",
      "execution_count": null,
      "metadata": {
        "id": "ln_uyVyuS6sV"
      },
      "outputs": [],
      "source": [
        "\"가나다라마\"[:2]"
      ]
    },
    {
      "cell_type": "markdown",
      "metadata": {
        "id": "qNqtBf2rplpS"
      },
      "source": [
        "- 이전 실행한 출력셀의 값 불러오기"
      ]
    },
    {
      "cell_type": "code",
      "execution_count": null,
      "metadata": {
        "id": "mF4jrz2ZplpS"
      },
      "outputs": [],
      "source": [
        "_"
      ]
    },
    {
      "cell_type": "code",
      "execution_count": null,
      "metadata": {
        "id": "RHOEgdSfplpS"
      },
      "outputs": [],
      "source": [
        "Out[92]"
      ]
    },
    {
      "cell_type": "code",
      "execution_count": null,
      "metadata": {
        "id": "_tj_PHSpplpT"
      },
      "outputs": [],
      "source": [
        "_94"
      ]
    },
    {
      "cell_type": "markdown",
      "metadata": {
        "id": "AcYPI1Ecjo0w"
      },
      "source": [
        "- range()로 수 리스트 만들기\n",
        "    - range(s, e, i): 처음 위치(생략시 0), 마지막 위치(리스트에 포함 안됨), 수 간격(생략시 1)\n",
        "    - for-loop 등에서 주로 이용하며, 순서대로 해당하는 값만 필요하므로 실제 리스트를 생성하지 않음\n",
        "        - 리스트 생성시 메모리 공간을 크게 차지할 수 있으므로 비효율적임\n",
        "    - 리스트를 생성하기 위해서는 list() 함수 실행"
      ]
    },
    {
      "cell_type": "code",
      "execution_count": null,
      "metadata": {
        "id": "6wAlslqNk9c8"
      },
      "outputs": [],
      "source": [
        "for i in range(5):  # range(0, 5, 1)\n",
        "    print(i)"
      ]
    },
    {
      "cell_type": "code",
      "execution_count": null,
      "metadata": {
        "id": "kYJlQKcylL00"
      },
      "outputs": [],
      "source": [
        "for i in range(5, 0, -2):  # range(0, 5, 1)\n",
        "    print(i)"
      ]
    },
    {
      "cell_type": "code",
      "execution_count": null,
      "metadata": {
        "id": "6k6c6VFSj1P2"
      },
      "outputs": [],
      "source": [
        "list(range(10))"
      ]
    },
    {
      "cell_type": "markdown",
      "metadata": {
        "id": "N2daLnGRplpT"
      },
      "source": [
        "## 딕셔너리"
      ]
    },
    {
      "cell_type": "code",
      "execution_count": null,
      "metadata": {
        "id": "2GZchHtWplpT"
      },
      "outputs": [],
      "source": [
        "iso = {'US':'USA', 'KR':'KOR', 'JP':'JPN', 'CN':'CHN'}"
      ]
    },
    {
      "cell_type": "code",
      "execution_count": null,
      "metadata": {
        "id": "mFGzj70NplpT"
      },
      "outputs": [],
      "source": [
        "kr_en = {'서울특별시':'SE', '경기도':'GG', '인청광역시':'IC'}"
      ]
    },
    {
      "cell_type": "code",
      "execution_count": null,
      "metadata": {
        "id": "I0pbra5AplpT"
      },
      "outputs": [],
      "source": [
        "iso['US']"
      ]
    },
    {
      "cell_type": "code",
      "execution_count": null,
      "metadata": {
        "id": "QKe3n0QxplpU"
      },
      "outputs": [],
      "source": [
        "iso['KR']"
      ]
    },
    {
      "cell_type": "code",
      "execution_count": null,
      "metadata": {
        "id": "TUOz4mGtplpU"
      },
      "outputs": [],
      "source": [
        "iso.keys()"
      ]
    },
    {
      "cell_type": "code",
      "execution_count": null,
      "metadata": {
        "id": "hhS9Ze3OKtXT"
      },
      "outputs": [],
      "source": [
        "for i in list(iso.keys()):\n",
        "  print(i)"
      ]
    },
    {
      "cell_type": "code",
      "execution_count": null,
      "metadata": {
        "id": "4RpuTxT1K6W7"
      },
      "outputs": [],
      "source": [
        "for i in list(iso.keys()):\n",
        "  print(i, iso[i])"
      ]
    },
    {
      "cell_type": "code",
      "execution_count": null,
      "metadata": {
        "id": "UYvYD2tuplpU"
      },
      "outputs": [],
      "source": [
        "iso.values()"
      ]
    },
    {
      "cell_type": "code",
      "execution_count": null,
      "metadata": {
        "id": "uiocoJ51LLnC"
      },
      "outputs": [],
      "source": [
        "iso['AU']"
      ]
    },
    {
      "cell_type": "code",
      "execution_count": null,
      "metadata": {
        "id": "dVMiiQGhplpU"
      },
      "outputs": [],
      "source": [
        "iso['AU'] = 'AUS'"
      ]
    },
    {
      "cell_type": "code",
      "execution_count": null,
      "metadata": {
        "id": "mEGXZAq6plpU"
      },
      "outputs": [],
      "source": [
        "iso"
      ]
    },
    {
      "cell_type": "markdown",
      "metadata": {
        "id": "ie0bl9duplpU"
      },
      "source": [
        "- dict, zip으로 딕셔너리 만들기"
      ]
    },
    {
      "cell_type": "code",
      "execution_count": null,
      "metadata": {
        "id": "4gU5VYM8Lb17"
      },
      "outputs": [],
      "source": [
        "{'한국':'KR', '미국':'US', '일본':'JP'}"
      ]
    },
    {
      "cell_type": "code",
      "execution_count": null,
      "metadata": {
        "id": "7BL9F_JULoGO"
      },
      "outputs": [],
      "source": [
        "print(['한국', '미국', '일본'])\n",
        "print(['KR', 'US', 'JP'])"
      ]
    },
    {
      "cell_type": "code",
      "execution_count": null,
      "metadata": {
        "id": "FhtiG9qLplpU"
      },
      "outputs": [],
      "source": [
        "dict(zip(['한국', '미국', '일본'], ['KR', 'US', 'JP']))"
      ]
    },
    {
      "cell_type": "code",
      "execution_count": null,
      "metadata": {
        "id": "88v_IONpL4Ia"
      },
      "outputs": [],
      "source": [
        "for i in ['한국', '미국', '일본']:\n",
        "  print(i)"
      ]
    },
    {
      "cell_type": "code",
      "execution_count": null,
      "metadata": {
        "id": "PD6z9YQhL0O2"
      },
      "outputs": [],
      "source": [
        "for i, ii in zip(['한국', '미국', '일본'], ['KR', 'US', 'JP']):\n",
        "  print(i, ii)"
      ]
    },
    {
      "cell_type": "code",
      "execution_count": null,
      "metadata": {
        "id": "-1Az1sswplpV"
      },
      "outputs": [],
      "source": [
        "import pandas as pd\n",
        "countries = pd.Series(['South Korea', 'United States', 'North Korea'])\n",
        "print(countries)"
      ]
    },
    {
      "cell_type": "code",
      "execution_count": null,
      "metadata": {
        "id": "lnZxU24BplpV"
      },
      "outputs": [],
      "source": [
        "cdict = {'South Korea':'KR', 'United States':'US'}\n",
        "countries.replace(cdict)"
      ]
    },
    {
      "cell_type": "markdown",
      "metadata": {
        "id": "LudrxhdBplpV"
      },
      "source": [
        "### 튜플"
      ]
    },
    {
      "cell_type": "code",
      "execution_count": null,
      "metadata": {
        "id": "PDIkUkV3MQHQ"
      },
      "outputs": [],
      "source": [
        "a = [1, 2, 3]\n",
        "\n",
        "print(a)\n",
        "print(a[0])\n",
        "print(type(a))\n",
        "\n",
        "a[0] = 10\n",
        "\n",
        "print(a)"
      ]
    },
    {
      "cell_type": "code",
      "execution_count": null,
      "metadata": {
        "id": "PxATpQF5MdYq"
      },
      "outputs": [],
      "source": [
        "a = (1, 2, 3)\n",
        "\n",
        "print(a)\n",
        "print(a[0])\n",
        "print(type(a))\n",
        "\n",
        "a[0] = 10\n",
        "\n",
        "print(a)"
      ]
    },
    {
      "cell_type": "code",
      "execution_count": null,
      "metadata": {
        "id": "z91QxlCJM6iJ"
      },
      "outputs": [],
      "source": [
        "a = 5\n",
        "b = 10\n",
        "c = 15"
      ]
    },
    {
      "cell_type": "code",
      "execution_count": null,
      "metadata": {
        "id": "R60XB1a3plpV"
      },
      "outputs": [],
      "source": [
        "a, b, c = 5, 10, 15"
      ]
    },
    {
      "cell_type": "code",
      "execution_count": null,
      "metadata": {
        "id": "pDpSREc1plpW"
      },
      "outputs": [],
      "source": [
        "print(a, b, c)"
      ]
    },
    {
      "cell_type": "code",
      "execution_count": null,
      "metadata": {
        "id": "YIF8iHoPplpW"
      },
      "outputs": [],
      "source": [
        "a, b = b, a\n",
        "print(a, b)"
      ]
    },
    {
      "cell_type": "code",
      "execution_count": null,
      "metadata": {
        "id": "iyg3x88QsM5s"
      },
      "outputs": [],
      "source": [
        "c = 1, 2, 3\n",
        "print(type(c))"
      ]
    },
    {
      "cell_type": "markdown",
      "metadata": {
        "id": "uQznY9FWplpW"
      },
      "source": [
        "## 연습문제\n",
        "\n",
        "- 아래 국가명 리스트와 연도 리스트를 이용하여 국가명_연도 문자열을 생성하라\n",
        "- 아래 리스트와 인덱스를 이용하여 일본과 중국을 제외한 국가에 대해서만 국가명_연도 문자열을 생성하라"
      ]
    },
    {
      "cell_type": "code",
      "execution_count": null,
      "metadata": {
        "id": "8kI8vZUNplpW"
      },
      "outputs": [],
      "source": [
        "countries = ['KOR', 'USA', 'JPN', 'CHN', 'AUS', 'MEX']\n",
        "year = [17, 18, 19, 20]"
      ]
    },
    {
      "cell_type": "markdown",
      "metadata": {
        "id": "4IZZ5oviplpW"
      },
      "source": [
        "- 아래 문자열 리스트에서 숫자를 나타내는 문자열만 선택하여 리스트를 생성하라(힌트, isnumeric()/isdigit(), strip() 이용)"
      ]
    },
    {
      "cell_type": "code",
      "execution_count": null,
      "metadata": {
        "id": "aLU9e6stplpX"
      },
      "outputs": [],
      "source": [
        "strings = ['KOR', '한국', '15', \"True\", '1000', '-5']"
      ]
    },
    {
      "cell_type": "markdown",
      "metadata": {
        "id": "bD8IrLeNplpX"
      },
      "source": [
        "# 문법\n",
        "\n",
        "- 파이썬에서 for loop, if 구문, 함수 정의시 indentation(스페이스 4개) 이용\n",
        "    - 주피터노트북에서 tab은 스페이스 4개를 입력\n",
        "- 코드작성의 자유도가 낮은 대신, 가독성이 매우 높아짐\n",
        "\n",
        "\n",
        "```\n",
        "<C>\n",
        "if (i=1; i<=n; i++) {\n",
        "  printf(\"%d\\n\", i);\n",
        "}\n",
        "\n",
        "<matlab>\n",
        "for i = 1:n\n",
        "    disp(i)\n",
        "end\n",
        "\n",
        "<python>\n",
        "for i = range(1, n+1)\n",
        "    disp(i)\n",
        "```"
      ]
    },
    {
      "cell_type": "markdown",
      "metadata": {
        "id": "Na2vfuFH_FLK"
      },
      "source": [
        "## definition"
      ]
    },
    {
      "cell_type": "code",
      "execution_count": null,
      "metadata": {
        "id": "fj8mNDvkplpX"
      },
      "outputs": [],
      "source": [
        "def sum_two_numbers(a, b):\n",
        "    return a + b"
      ]
    },
    {
      "cell_type": "code",
      "execution_count": null,
      "metadata": {
        "id": "ZPVoJCD_plpX"
      },
      "outputs": [],
      "source": [
        "sum_two_numbers(5, 2)"
      ]
    },
    {
      "cell_type": "code",
      "execution_count": null,
      "metadata": {
        "id": "esNP8hG4Ny-V"
      },
      "outputs": [],
      "source": [
        "def cal_numbers(a, b):\n",
        "    return set([a + b, a * b])"
      ]
    },
    {
      "cell_type": "code",
      "execution_count": null,
      "metadata": {
        "id": "2F1M2bYqN3x9"
      },
      "outputs": [],
      "source": [
        "cal_numbers(3, 4)"
      ]
    },
    {
      "cell_type": "code",
      "execution_count": null,
      "metadata": {
        "id": "ZFNz4kDgByOy"
      },
      "outputs": [],
      "source": [
        "def sum_three_numbers(a, b, c=4):\n",
        "    return a + 2*b + c"
      ]
    },
    {
      "cell_type": "code",
      "execution_count": null,
      "metadata": {
        "id": "jhza4RrBBljK"
      },
      "outputs": [],
      "source": [
        "sum_three_numbers(1, 2, 0)"
      ]
    },
    {
      "cell_type": "code",
      "execution_count": null,
      "metadata": {
        "id": "SF4nCPoICDH6"
      },
      "outputs": [],
      "source": [
        "sum_three_numbers(1, 2)"
      ]
    },
    {
      "cell_type": "code",
      "execution_count": null,
      "metadata": {
        "id": "c0K0qo6RCJ2D"
      },
      "outputs": [],
      "source": [
        "sum_three_numbers(b=2, a=1)"
      ]
    },
    {
      "cell_type": "code",
      "execution_count": null,
      "metadata": {
        "id": "LTHPsxRE_dVQ"
      },
      "outputs": [],
      "source": [
        "sum_two_numbers2 = lambda x, y: x + y"
      ]
    },
    {
      "cell_type": "code",
      "execution_count": null,
      "metadata": {
        "id": "TKqDmGAp_kfq"
      },
      "outputs": [],
      "source": [
        "sum_two_numbers2(1, 2)"
      ]
    },
    {
      "cell_type": "markdown",
      "metadata": {
        "id": "AdJnA5Mo_P2g"
      },
      "source": [
        "## for-loop, if-else"
      ]
    },
    {
      "cell_type": "code",
      "execution_count": null,
      "metadata": {
        "id": "Y_IEpx03OXrA"
      },
      "outputs": [],
      "source": [
        "countries = ['KOR', 'USA', 'CHN']\n",
        "\n",
        "for c in countries:\n",
        "  if c == 'KOR':\n",
        "    print(c)\n",
        "  else:\n",
        "    print('KOR X')"
      ]
    },
    {
      "cell_type": "code",
      "execution_count": null,
      "metadata": {
        "id": "bBBlUm3MplpX"
      },
      "outputs": [],
      "source": [
        "countries = ['KOR', 'USA', 'CHN']\n",
        "for c in countries:\n",
        "    if c == 'KOR':\n",
        "        print(c, 'is my country.')\n",
        "    else:\n",
        "        print(c)"
      ]
    },
    {
      "cell_type": "markdown",
      "metadata": {
        "id": "kRUJF1Tb-2H8"
      },
      "source": [
        "## continue, break, pass"
      ]
    },
    {
      "cell_type": "code",
      "execution_count": null,
      "metadata": {
        "id": "qqdt6yCm-_sw"
      },
      "outputs": [],
      "source": [
        "for i in range(4):    # [0, 1, 2, 3]\n",
        "    if i==2:\n",
        "        continue\n",
        "    else:\n",
        "        print(f'{i} is not 2')\n"
      ]
    },
    {
      "cell_type": "code",
      "execution_count": null,
      "metadata": {
        "id": "fAbT9lG9DIZD"
      },
      "outputs": [],
      "source": [
        "for i in range(4):    # [0, 1, 2, 3]\n",
        "    if i==2:\n",
        "        break\n",
        "    else:\n",
        "        print(f'{i} is not 2')\n"
      ]
    },
    {
      "cell_type": "code",
      "execution_count": null,
      "metadata": {
        "id": "LZa_Fq9dEi8c"
      },
      "outputs": [],
      "source": [
        "if True:\n",
        "  print('True')\n",
        "else:\n",
        "    print('False')"
      ]
    },
    {
      "cell_type": "code",
      "execution_count": null,
      "metadata": {
        "id": "5E02yd7EEpMt"
      },
      "outputs": [],
      "source": [
        "if True:\n",
        "    pass\n",
        "else:\n",
        "    print('False')"
      ]
    },
    {
      "cell_type": "markdown",
      "metadata": {
        "id": "2Vt4L_TYplpX"
      },
      "source": [
        "## list comprehension v. for-loop\n",
        "- 앞 리스트에서 뒤 리스트에 속한 항목 제외하기"
      ]
    },
    {
      "cell_type": "code",
      "execution_count": null,
      "metadata": {
        "id": "0VU-Q557plpY"
      },
      "outputs": [],
      "source": [
        "[s for s in ['KOR', 'USA', 'CHN'] if s not in ['CHN','AUS']]"
      ]
    },
    {
      "cell_type": "code",
      "execution_count": null,
      "metadata": {
        "id": "HLSa-L3JplpY"
      },
      "outputs": [],
      "source": [
        "clist = []\n",
        "for c in ['KOR', 'USA', 'CHN']:\n",
        "    if c not in ['CHN', 'AUS']:\n",
        "        clist = clist + [c] # clist.append(c)\n",
        "clist"
      ]
    },
    {
      "cell_type": "markdown",
      "metadata": {
        "id": "fXiJb2-vplpY"
      },
      "source": [
        "# 라이브러리: numpy\n",
        "- ndarray는 행(row)과 열(column) 보다 첫번째 차원, 두번째 차원, 세번째 차원 등으로 정의\n",
        "- 필요한 경우 matrix 자료형을 사용할 수 있으나 활용도가 낮음\n",
        "- ndarray자료형을 이용하여 일반적인 matrix연산을 모두 할 수 있음\n",
        "- 2-dim ndarray에서 행(row)처럼 보이는 것은 첫번째 차원임"
      ]
    },
    {
      "cell_type": "code",
      "execution_count": null,
      "metadata": {
        "id": "_biMVPcRPRME"
      },
      "outputs": [],
      "source": [
        "list_1d = [1, 2, 3]\n",
        "list_2d = [[1, 2, 3], [4, 5, 6], [7, 8, 9]]\n",
        "\n",
        "print(list_1d)\n",
        "print(list_2d)\n",
        "print(list_2d[1])"
      ]
    },
    {
      "cell_type": "code",
      "execution_count": null,
      "metadata": {
        "id": "AfhX-4NcPtj9"
      },
      "outputs": [],
      "source": [
        "import numpy as np"
      ]
    },
    {
      "cell_type": "code",
      "execution_count": null,
      "metadata": {
        "id": "k2Jgfc1WplpY"
      },
      "outputs": [],
      "source": [
        "import numpy\n",
        "import numpy as np\n",
        "print(numpy.sin(0), np.sin(0))"
      ]
    },
    {
      "cell_type": "code",
      "execution_count": null,
      "metadata": {
        "id": "0vLWer7XplpY"
      },
      "outputs": [],
      "source": [
        "print(sin(0))"
      ]
    },
    {
      "cell_type": "code",
      "execution_count": null,
      "metadata": {
        "id": "O-q0Z7iWplpY"
      },
      "outputs": [],
      "source": [
        "print(np.pi)"
      ]
    },
    {
      "cell_type": "code",
      "execution_count": null,
      "metadata": {
        "id": "xIEtDrQ4QMIg"
      },
      "outputs": [],
      "source": [
        "a = np.pi\n",
        "print(f'a')\n",
        "print(f'{a}')\n",
        "print(f'{a:.2f}')"
      ]
    },
    {
      "cell_type": "markdown",
      "metadata": {
        "id": "e4zvp4p4plpY"
      },
      "source": [
        "## 인덱스\n",
        "\n",
        "- 특정 열(두번째 차원)에 접근하기 위해서는 콜론(:)을 첫번째 인덱스 자리에 입력"
      ]
    },
    {
      "cell_type": "code",
      "execution_count": null,
      "metadata": {
        "id": "5XnWm1l6Qg73"
      },
      "outputs": [],
      "source": [
        "list1 = [[1, 2 ,3], [2, 3, 4]]\n",
        "print(type(list1))\n",
        "array1 = np.array(list1)\n",
        "print(type(array1))"
      ]
    },
    {
      "cell_type": "code",
      "execution_count": null,
      "metadata": {
        "id": "-fDyxqeNplpZ"
      },
      "outputs": [],
      "source": [
        "a0 = [[1, 2 ,3], [2, 3, 4]]\n",
        "a1 = np.array([[1, 2 ,3], [2, 3, 4]])"
      ]
    },
    {
      "cell_type": "code",
      "execution_count": null,
      "metadata": {
        "id": "6TOOdFOsQzL4"
      },
      "outputs": [],
      "source": [
        "print(a1)\n",
        "print(np.shape(a1))"
      ]
    },
    {
      "cell_type": "code",
      "execution_count": null,
      "metadata": {
        "id": "P3_nTD8SRAHr"
      },
      "outputs": [],
      "source": [
        "print(a1[0, 0])"
      ]
    },
    {
      "cell_type": "code",
      "execution_count": null,
      "metadata": {
        "id": "wcBpY6BXRPKZ"
      },
      "outputs": [],
      "source": [
        "print(a0[0][0])"
      ]
    },
    {
      "cell_type": "code",
      "execution_count": null,
      "metadata": {
        "id": "6WIdwTcSRfay"
      },
      "outputs": [],
      "source": [
        "a1"
      ]
    },
    {
      "cell_type": "code",
      "execution_count": null,
      "metadata": {
        "id": "kuN-OITQRanU"
      },
      "outputs": [],
      "source": [
        "a1[:, 0]"
      ]
    },
    {
      "cell_type": "code",
      "execution_count": null,
      "metadata": {
        "id": "AvyCmZbZplpZ"
      },
      "outputs": [],
      "source": [
        "a1[:, 0]"
      ]
    },
    {
      "cell_type": "code",
      "execution_count": null,
      "metadata": {
        "id": "RABxBORuplpZ"
      },
      "outputs": [],
      "source": [
        "a1[0, :]"
      ]
    },
    {
      "cell_type": "markdown",
      "metadata": {
        "id": "q9pQBuHXplpZ"
      },
      "source": [
        "## 통계량 및 연산"
      ]
    },
    {
      "cell_type": "code",
      "execution_count": null,
      "metadata": {
        "id": "vFf3k1qpSmQG"
      },
      "outputs": [],
      "source": [
        "# Q1. 아래 n, c 리스트를 이용해서 key가 국가이고, value가 대륙인 딕셔너리를 만들어 보세요\n",
        "\n",
        "n = ['한국', '일본', '중국', '영국', '프랑스', '미국', '캐나다']\n",
        "c = ['아시아', '아시아', '아시아', '유럽', '유럽', '아메리카', '아메리카']\n",
        "\n",
        "# Q2. 1부터 10까지 제곱 수의 리스트를 만들어 보세요\n",
        "# 참고 3의 제곱은 3**2\n",
        "# [1**2, 2**2, 3**2, ...] 이렇게 말고.. 리스트컴프리헨션을 이용해서"
      ]
    },
    {
      "cell_type": "code",
      "execution_count": null,
      "metadata": {
        "id": "dyTGcvHyVWla"
      },
      "outputs": [],
      "source": [
        "d = dict(zip(n, c))\n",
        "d = {i: ii for i, ii in zip(n, c)}\n",
        "a = [i**2 for i in range(1, 10+1)]\n",
        "\n",
        "print(d)\n",
        "print(a)"
      ]
    },
    {
      "cell_type": "code",
      "execution_count": null,
      "metadata": {
        "id": "CfwCsepxplpZ"
      },
      "outputs": [],
      "source": [
        "v = np.array([1, 2, 3])\n",
        "print(v)"
      ]
    },
    {
      "cell_type": "code",
      "execution_count": null,
      "metadata": {
        "id": "jtEkHINYplpZ"
      },
      "outputs": [],
      "source": [
        "type(v)"
      ]
    },
    {
      "cell_type": "code",
      "execution_count": null,
      "metadata": {
        "id": "3JUrDSosplpZ"
      },
      "outputs": [],
      "source": [
        "m = np.array([[1, 2], [3, 4]])\n",
        "m"
      ]
    },
    {
      "cell_type": "code",
      "execution_count": null,
      "metadata": {
        "id": "Gg7BvYmnplpZ"
      },
      "outputs": [],
      "source": [
        "print(v.mean(), v.std(), v.max())"
      ]
    },
    {
      "cell_type": "code",
      "execution_count": null,
      "metadata": {
        "id": "4H6GAcgRWN81"
      },
      "outputs": [],
      "source": [
        "np.sin([0, np.pi/2, np.pi])"
      ]
    },
    {
      "cell_type": "code",
      "execution_count": null,
      "metadata": {
        "id": "1lkhx8TOplpa"
      },
      "outputs": [],
      "source": [
        "np.sin([0, np.pi / 2, np.pi])"
      ]
    },
    {
      "cell_type": "code",
      "execution_count": null,
      "metadata": {
        "id": "Y241PhSJplpa"
      },
      "outputs": [],
      "source": [
        "a = np.array([[1, 2], [3, 4]])"
      ]
    },
    {
      "cell_type": "code",
      "execution_count": null,
      "metadata": {
        "id": "VqX0Ckl7plpa"
      },
      "outputs": [],
      "source": [
        "a"
      ]
    },
    {
      "cell_type": "code",
      "execution_count": null,
      "metadata": {
        "id": "e69wHXbSplpa"
      },
      "outputs": [],
      "source": [
        "a[0,0] = -1"
      ]
    },
    {
      "cell_type": "code",
      "execution_count": null,
      "metadata": {
        "id": "n38BC583plpa"
      },
      "outputs": [],
      "source": [
        "a"
      ]
    },
    {
      "cell_type": "code",
      "execution_count": null,
      "metadata": {
        "id": "lIxD74iyplpb"
      },
      "outputs": [],
      "source": [
        "a[0] = 0\n",
        "a"
      ]
    },
    {
      "cell_type": "code",
      "execution_count": null,
      "metadata": {
        "id": "jKkteEbqplpb"
      },
      "outputs": [],
      "source": [
        "a[:, 1] = [5, 6]\n",
        "print(a)"
      ]
    },
    {
      "cell_type": "code",
      "execution_count": null,
      "metadata": {
        "id": "-qi7NmUYplpb"
      },
      "outputs": [],
      "source": [
        "v1 = np.array([1, 2, 3])\n",
        "v2 = np.array([-1, 0, 1])"
      ]
    },
    {
      "cell_type": "code",
      "execution_count": null,
      "metadata": {
        "id": "V1BMn7YUplpb"
      },
      "outputs": [],
      "source": [
        "v1 + 1"
      ]
    },
    {
      "cell_type": "code",
      "execution_count": null,
      "metadata": {
        "id": "Tfp-_yqoplpb"
      },
      "outputs": [],
      "source": [
        "v1 * 2"
      ]
    },
    {
      "cell_type": "code",
      "execution_count": null,
      "metadata": {
        "id": "DR44aJT4plpb"
      },
      "outputs": [],
      "source": [
        "v1 ** 2"
      ]
    },
    {
      "cell_type": "code",
      "execution_count": null,
      "metadata": {
        "id": "mNQfAJ0Uplpc"
      },
      "outputs": [],
      "source": [
        "np.log(v1)"
      ]
    },
    {
      "cell_type": "code",
      "execution_count": null,
      "metadata": {
        "id": "_uk6B2JUplpc"
      },
      "outputs": [],
      "source": [
        "np.exp(v1)"
      ]
    },
    {
      "cell_type": "markdown",
      "metadata": {
        "id": "EG0e3bHCplpc"
      },
      "source": [
        "## dimension\n",
        "- ndarray 간의 +, -, *, / 등 사칙연산은 elementwise이므로 모양이 서로 같아야함"
      ]
    },
    {
      "cell_type": "code",
      "execution_count": null,
      "metadata": {
        "id": "lGO-U_ZMWnHQ"
      },
      "outputs": [],
      "source": [
        "v1"
      ]
    },
    {
      "cell_type": "code",
      "execution_count": null,
      "metadata": {
        "id": "qVmNzEDVplpc"
      },
      "outputs": [],
      "source": [
        "v1.shape"
      ]
    },
    {
      "cell_type": "code",
      "execution_count": null,
      "metadata": {
        "id": "O4uQS0VZplpc"
      },
      "outputs": [],
      "source": [
        "a2 = np.array([[1, 2], [1, 3], [1, 4]])"
      ]
    },
    {
      "cell_type": "code",
      "execution_count": null,
      "metadata": {
        "id": "QOSlE45fplpc"
      },
      "outputs": [],
      "source": [
        "a2"
      ]
    },
    {
      "cell_type": "code",
      "execution_count": null,
      "metadata": {
        "id": "26B9L5yeplpc"
      },
      "outputs": [],
      "source": [
        "a2.shape"
      ]
    },
    {
      "cell_type": "code",
      "execution_count": null,
      "metadata": {
        "id": "9g-TQ463plpd"
      },
      "outputs": [],
      "source": [
        "a1"
      ]
    },
    {
      "cell_type": "code",
      "execution_count": null,
      "metadata": {
        "id": "_-MSeqXBplpd"
      },
      "outputs": [],
      "source": [
        "a1 * a2"
      ]
    },
    {
      "cell_type": "code",
      "execution_count": null,
      "metadata": {
        "id": "xc37umndplpe"
      },
      "outputs": [],
      "source": [
        "v1.shape, v2.shape"
      ]
    },
    {
      "cell_type": "code",
      "execution_count": null,
      "metadata": {
        "id": "T744Jd3ZW2MR"
      },
      "outputs": [],
      "source": [
        "print(v1)\n",
        "print(v2)"
      ]
    },
    {
      "cell_type": "code",
      "execution_count": null,
      "metadata": {
        "id": "DhFPmRpLplpe"
      },
      "outputs": [],
      "source": [
        "v1 + v2"
      ]
    },
    {
      "cell_type": "code",
      "execution_count": null,
      "metadata": {
        "id": "BHn6BPDJplpe"
      },
      "outputs": [],
      "source": [
        "v1 * v2"
      ]
    },
    {
      "cell_type": "code",
      "execution_count": null,
      "metadata": {
        "id": "1-pn8TetW_Pg"
      },
      "outputs": [],
      "source": [
        "a1 = [1, 2, 3]\n",
        "a2 = [4, 5, 6]\n",
        "\n",
        "a1 + a2"
      ]
    },
    {
      "cell_type": "code",
      "execution_count": null,
      "metadata": {
        "id": "EIXLQgrIplpe"
      },
      "outputs": [],
      "source": [
        "v1.dot(v2)"
      ]
    },
    {
      "cell_type": "code",
      "execution_count": null,
      "metadata": {
        "id": "S4L3nGSyplpe"
      },
      "outputs": [],
      "source": [
        "m"
      ]
    },
    {
      "cell_type": "code",
      "execution_count": null,
      "metadata": {
        "id": "ZWgA_sKfXL2Y"
      },
      "outputs": [],
      "source": [
        "m"
      ]
    },
    {
      "cell_type": "code",
      "execution_count": null,
      "metadata": {
        "id": "j962-BMWplpe"
      },
      "outputs": [],
      "source": [
        "m.T"
      ]
    },
    {
      "cell_type": "code",
      "execution_count": null,
      "metadata": {
        "id": "VSARCbGpplpf"
      },
      "outputs": [],
      "source": [
        "v = np.array([1, 0])\n",
        "m.dot(v)"
      ]
    },
    {
      "cell_type": "code",
      "execution_count": null,
      "metadata": {
        "id": "QqAthjUYplpf"
      },
      "outputs": [],
      "source": [
        "v.dot(m)"
      ]
    },
    {
      "cell_type": "code",
      "execution_count": null,
      "metadata": {
        "id": "07pqskOtplpf"
      },
      "outputs": [],
      "source": [
        "print('{} \\n\\n {}'.format(a1, a2.T))"
      ]
    },
    {
      "cell_type": "code",
      "execution_count": null,
      "metadata": {
        "id": "v98poYU5plpf"
      },
      "outputs": [],
      "source": [
        "print(a1 * a2.T)"
      ]
    },
    {
      "cell_type": "markdown",
      "metadata": {
        "id": "cohxp_OHplpf"
      },
      "source": [
        "## matrix operation\n",
        "\n",
        "- numpy array로 생성된 객체는 ndarray 클래스의 메소드와 속성을 가짐\n",
        "- transpose, dot product 등"
      ]
    },
    {
      "cell_type": "code",
      "execution_count": null,
      "metadata": {
        "id": "zNba342Iplpf"
      },
      "outputs": [],
      "source": [
        "a1.dot(a2)"
      ]
    },
    {
      "cell_type": "code",
      "execution_count": null,
      "metadata": {
        "id": "ooSu1GLoplpf"
      },
      "outputs": [],
      "source": [
        "np.dot(a1, a2)"
      ]
    },
    {
      "cell_type": "code",
      "execution_count": null,
      "metadata": {
        "id": "tcGxp3t6plpg"
      },
      "outputs": [],
      "source": [
        "A = np.dot(a1, a2)\n",
        "print(A)"
      ]
    },
    {
      "cell_type": "markdown",
      "metadata": {
        "id": "iGQgM-Syplpg"
      },
      "source": [
        "- 역행렬: numpy.linalg.inv() 함수 이용"
      ]
    },
    {
      "cell_type": "code",
      "execution_count": null,
      "metadata": {
        "id": "RarslNr_plpg"
      },
      "outputs": [],
      "source": [
        "print(np.linalg.inv(a1.dot(a2)))"
      ]
    },
    {
      "cell_type": "code",
      "execution_count": null,
      "metadata": {
        "id": "3fIn7w6mplpg"
      },
      "outputs": [],
      "source": [
        "from numpy.linalg import inv"
      ]
    },
    {
      "cell_type": "code",
      "execution_count": null,
      "metadata": {
        "id": "p_d7boJWplpg"
      },
      "outputs": [],
      "source": [
        "inv(a1.dot(a2))"
      ]
    },
    {
      "cell_type": "code",
      "execution_count": null,
      "metadata": {
        "id": "eRjBWaDuplpg"
      },
      "outputs": [],
      "source": [
        "np.identity(a1.shape[0])"
      ]
    },
    {
      "cell_type": "markdown",
      "metadata": {
        "id": "Yjn6RimLplpg"
      },
      "source": [
        "- 레온티에프 역행렬"
      ]
    },
    {
      "cell_type": "code",
      "execution_count": null,
      "metadata": {
        "id": "-OOn4dz2plpg"
      },
      "outputs": [],
      "source": [
        "np.linalg.inv(np.identity(A.shape[0]) - A)"
      ]
    },
    {
      "cell_type": "markdown",
      "metadata": {
        "id": "cjmOkx7Pplpg"
      },
      "source": [
        "## random sample\n",
        "\n",
        "- 동일한 랜덤표본을 얻기 위해서는 numpy.random.seed(n) (예: n=1) 실행\n",
        "    - seed()를 지정하지 않는 경우 파이썬은 현재 날짜-시간을 이용하여 seed() 지정"
      ]
    },
    {
      "cell_type": "code",
      "execution_count": null,
      "metadata": {
        "id": "n6JZFInlplph"
      },
      "outputs": [],
      "source": [
        "import numpy as np"
      ]
    },
    {
      "cell_type": "code",
      "execution_count": null,
      "metadata": {
        "id": "ynO-7MZDplph"
      },
      "outputs": [],
      "source": [
        "rsn = np.random.randn(10)\n",
        "rsn"
      ]
    },
    {
      "cell_type": "code",
      "execution_count": null,
      "metadata": {
        "id": "9cR-_Y9yplph"
      },
      "outputs": [],
      "source": [
        "rsn"
      ]
    },
    {
      "cell_type": "code",
      "execution_count": null,
      "metadata": {
        "id": "p5CuBcneplph"
      },
      "outputs": [],
      "source": [
        "rsi = np.random.randint(1, 10, 10)"
      ]
    },
    {
      "cell_type": "code",
      "execution_count": null,
      "metadata": {
        "id": "YyHZQdbZplph"
      },
      "outputs": [],
      "source": [
        "rsi"
      ]
    },
    {
      "cell_type": "code",
      "execution_count": null,
      "metadata": {
        "id": "XDkjtSKPplph"
      },
      "outputs": [],
      "source": [
        "rsu = np.random.uniform(-1, 1, 10)"
      ]
    },
    {
      "cell_type": "code",
      "execution_count": null,
      "metadata": {
        "id": "YyvBnSEHplph"
      },
      "outputs": [],
      "source": [
        "rsu"
      ]
    },
    {
      "cell_type": "code",
      "execution_count": null,
      "metadata": {
        "id": "S0NbAswioKVL"
      },
      "outputs": [],
      "source": [
        "np.random.seed(2)\n",
        "np.random.randn(3)"
      ]
    },
    {
      "cell_type": "code",
      "execution_count": null,
      "metadata": {
        "id": "m3vjB6esoQ4F"
      },
      "outputs": [],
      "source": [
        "np.random.seed(2)\n",
        "np.random.randn(3)"
      ]
    },
    {
      "cell_type": "code",
      "execution_count": null,
      "metadata": {
        "id": "DnUQd3e8oUo9"
      },
      "outputs": [],
      "source": [
        "np.random.seed(1)\n",
        "np.random.randn(3)"
      ]
    },
    {
      "cell_type": "code",
      "execution_count": null,
      "metadata": {
        "id": "30MsTqVpYFkD"
      },
      "outputs": [],
      "source": [
        "# 함수 이름은 cal_xy\n",
        "# input: x, y\n",
        "# output: (x + y) ** 2\n",
        "\n",
        "# cal_xy(2, 3)\n",
        "\n",
        "def cal_xy(x, y):\n",
        "  return (x + y) ** 2\n",
        "\n",
        "print(cal_xy(2, 3))"
      ]
    },
    {
      "cell_type": "code",
      "execution_count": null,
      "metadata": {
        "id": "QDaZVQ4tiUBW"
      },
      "outputs": [],
      "source": [
        "# Q1. x + y + x * y + x ** 2"
      ]
    },
    {
      "cell_type": "code",
      "execution_count": null,
      "metadata": {
        "id": "t1fnvdp0L-vs"
      },
      "outputs": [],
      "source": [
        "def func_test(x, y):\n",
        "    return x + y + x * y + x ** 2\n",
        "\n",
        "print(func_test(1, 2))"
      ]
    },
    {
      "cell_type": "code",
      "execution_count": null,
      "metadata": {
        "id": "FibNyILuMK3z"
      },
      "outputs": [],
      "source": [
        "# Q2. 딕셔너리"
      ]
    },
    {
      "cell_type": "code",
      "execution_count": null,
      "metadata": {
        "id": "NWgRnverMVoy"
      },
      "outputs": [],
      "source": [
        "a1 = ['a', 'b', 'c', 'd', 'e']\n",
        "a2 = list(range(5))\n",
        "\n",
        "dict(zip(a1, a2))"
      ]
    },
    {
      "cell_type": "code",
      "execution_count": null,
      "metadata": {
        "id": "ynaPcWLbMeie"
      },
      "outputs": [],
      "source": [
        "# Q3. 리스트 컴프리헨션"
      ]
    },
    {
      "cell_type": "code",
      "execution_count": null,
      "metadata": {
        "id": "B8TM-c_DMhU6"
      },
      "outputs": [],
      "source": [
        "a = list(range(2, 10))\n",
        "[i ** 2 for i in a]"
      ]
    },
    {
      "cell_type": "code",
      "execution_count": null,
      "metadata": {
        "id": "sgqTIPixMme8"
      },
      "outputs": [],
      "source": [
        "# Q4. np.array 제곱"
      ]
    },
    {
      "cell_type": "code",
      "execution_count": null,
      "metadata": {
        "id": "hvFoippsMqVy"
      },
      "outputs": [],
      "source": [
        "np.array(a) ** 2"
      ]
    },
    {
      "cell_type": "code",
      "execution_count": null,
      "metadata": {
        "id": "LDfVyAfLMttH"
      },
      "outputs": [],
      "source": [
        "# Q5. 반복문 출력"
      ]
    },
    {
      "cell_type": "code",
      "execution_count": null,
      "metadata": {
        "id": "mImnd1fNMxA7"
      },
      "outputs": [],
      "source": [
        "for i in range(1, 11):\n",
        "    print(i ** 2)"
      ]
    },
    {
      "cell_type": "code",
      "execution_count": null,
      "metadata": {
        "id": "gyqKaKsfMz7A"
      },
      "outputs": [],
      "source": [
        "# 반복문 출력 조건"
      ]
    },
    {
      "cell_type": "code",
      "execution_count": null,
      "metadata": {
        "id": "sjwwrhpFM1-o"
      },
      "outputs": [],
      "source": [
        "for i in range(1, 11):\n",
        "    if i == 5:\n",
        "        continue\n",
        "    else:\n",
        "        print(i ** 2)"
      ]
    }
  ],
  "metadata": {
    "colab": {
      "name": "intro.ipynb",
      "provenance": [],
      "include_colab_link": true
    },
    "kernelspec": {
      "display_name": "Python 3",
      "language": "python",
      "name": "python3"
    },
    "language_info": {
      "codemirror_mode": {
        "name": "ipython",
        "version": 3
      },
      "file_extension": ".py",
      "mimetype": "text/x-python",
      "name": "python",
      "nbconvert_exporter": "python",
      "pygments_lexer": "ipython3",
      "version": "3.8.5"
    }
  },
  "nbformat": 4,
  "nbformat_minor": 0
}