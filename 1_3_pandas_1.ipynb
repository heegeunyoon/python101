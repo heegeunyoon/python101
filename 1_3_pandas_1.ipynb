{
  "cells": [
    {
      "cell_type": "markdown",
      "metadata": {
        "colab_type": "text",
        "id": "view-in-github"
      },
      "source": [
        "<a href=\"https://colab.research.google.com/github/heegeunyoon/python101/blob/main/1_3_pandas_1.ipynb\" target=\"_parent\"><img src=\"https://colab.research.google.com/assets/colab-badge.svg\" alt=\"Open In Colab\"/></a>"
      ]
    },
    {
      "cell_type": "markdown",
      "metadata": {
        "id": "KSG_VOunFb5-"
      },
      "source": [
        "# 자료형: 데이터프레임\n",
        "\n",
        "1. 넘파이 2차원 리스트/어레이를 입력변수로 하여 생성\n",
        "2. 칼럼이름과 1차원 리스트/어레이으로 구성된 딕셔너리를 입력변수로 하여 생성"
      ]
    },
    {
      "cell_type": "code",
      "execution_count": null,
      "metadata": {
        "id": "82inE3YJFb5_"
      },
      "outputs": [],
      "source": [
        "import pandas as pd"
      ]
    },
    {
      "cell_type": "code",
      "execution_count": null,
      "metadata": {
        "id": "KPKC8iAUFb6A"
      },
      "outputs": [],
      "source": [
        "df = pd.DataFrame([[1, 2], [3, 4]])"
      ]
    },
    {
      "cell_type": "code",
      "execution_count": null,
      "metadata": {
        "colab": {
          "base_uri": "https://localhost:8080/",
          "height": 112
        },
        "id": "QdDnrM1oFb6A",
        "outputId": "dce63639-c6f0-4118-b923-02699c509096"
      },
      "outputs": [],
      "source": [
        "df"
      ]
    },
    {
      "cell_type": "code",
      "execution_count": null,
      "metadata": {
        "colab": {
          "base_uri": "https://localhost:8080/"
        },
        "id": "1xKOId6lFb6B",
        "outputId": "5bee6404-06d4-43e5-d87c-b819548b65fe"
      },
      "outputs": [],
      "source": [
        "type(df)"
      ]
    },
    {
      "cell_type": "code",
      "execution_count": null,
      "metadata": {
        "colab": {
          "base_uri": "https://localhost:8080/"
        },
        "id": "qXVNvM_pFusJ",
        "outputId": "39fc2ecb-da4b-4f31-ce9e-6d6bd273b2ac"
      },
      "outputs": [],
      "source": [
        "type(df)==pd.DataFrame"
      ]
    },
    {
      "cell_type": "code",
      "execution_count": null,
      "metadata": {
        "colab": {
          "base_uri": "https://localhost:8080/",
          "height": 143
        },
        "id": "L09G9vkSFb6B",
        "outputId": "493e27aa-e980-4cf0-eecf-404b7a6e2e42"
      },
      "outputs": [],
      "source": [
        "df.set_index(0)"
      ]
    },
    {
      "cell_type": "code",
      "execution_count": null,
      "metadata": {
        "id": "g2_fSU7AFb6C"
      },
      "outputs": [],
      "source": [
        "df = pd.DataFrame([[1, 2], [3, 4], [5, 6]])"
      ]
    },
    {
      "cell_type": "code",
      "execution_count": null,
      "metadata": {
        "colab": {
          "base_uri": "https://localhost:8080/",
          "height": 143
        },
        "id": "0e3L0i4zFb6C",
        "outputId": "c6b19675-cb51-4b15-cfed-45fe075890f9"
      },
      "outputs": [],
      "source": [
        "df"
      ]
    },
    {
      "cell_type": "code",
      "execution_count": null,
      "metadata": {
        "id": "p0Tg0JDTFb6D"
      },
      "outputs": [],
      "source": [
        "df.columns = ['KOR', 'USA']"
      ]
    },
    {
      "cell_type": "code",
      "execution_count": null,
      "metadata": {
        "id": "fE4Ig6KUFb6D"
      },
      "outputs": [],
      "source": [
        "df.index = [17, 18, 19]"
      ]
    },
    {
      "cell_type": "code",
      "execution_count": null,
      "metadata": {
        "colab": {
          "base_uri": "https://localhost:8080/",
          "height": 143
        },
        "id": "pNMbiNgLFb6E",
        "outputId": "49b052c4-d87c-4aa3-9467-e3ccba4d60fe"
      },
      "outputs": [],
      "source": [
        "df"
      ]
    },
    {
      "cell_type": "code",
      "execution_count": null,
      "metadata": {
        "id": "MBrZ5RQuiW-X"
      },
      "outputs": [],
      "source": [
        "df = pd.DataFrame({'a':[1, 2], 'b':[3, 4]})"
      ]
    },
    {
      "cell_type": "code",
      "execution_count": null,
      "metadata": {
        "colab": {
          "base_uri": "https://localhost:8080/",
          "height": 112
        },
        "id": "jq5USPn8ic3q",
        "outputId": "964600e2-8ea4-4c08-8f33-dbeb9f429bbb"
      },
      "outputs": [],
      "source": [
        "df"
      ]
    },
    {
      "cell_type": "markdown",
      "metadata": {
        "id": "inyWlFCUFb6E"
      },
      "source": [
        "- 데이터프레임 통계량"
      ]
    },
    {
      "cell_type": "code",
      "execution_count": null,
      "metadata": {
        "colab": {
          "base_uri": "https://localhost:8080/"
        },
        "id": "ABNxEuSYFb6E",
        "outputId": "23845833-f49d-4444-a3fe-820f4b5aba39"
      },
      "outputs": [],
      "source": [
        "df.mean()"
      ]
    },
    {
      "cell_type": "code",
      "execution_count": null,
      "metadata": {
        "colab": {
          "base_uri": "https://localhost:8080/",
          "height": 112
        },
        "id": "JTqH_nJcFb6F",
        "outputId": "c7d29278-d139-4425-c284-2f0f6893dba3"
      },
      "outputs": [],
      "source": [
        "df.mean().to_frame('mean')"
      ]
    },
    {
      "cell_type": "code",
      "execution_count": null,
      "metadata": {
        "colab": {
          "base_uri": "https://localhost:8080/",
          "height": 175
        },
        "id": "C8m0lm2bXQ-N",
        "outputId": "a8992d9a-1729-4302-bf89-12cb536d25aa"
      },
      "outputs": [],
      "source": [
        "df.apply(['mean', 'median', 'sum', 'std'])  # prod"
      ]
    },
    {
      "cell_type": "markdown",
      "metadata": {
        "id": "-8qrybUDFb6F"
      },
      "source": [
        "## 슬라이스"
      ]
    },
    {
      "cell_type": "code",
      "execution_count": null,
      "metadata": {
        "colab": {
          "base_uri": "https://localhost:8080/",
          "height": 143
        },
        "id": "zVFPkseuFb6F",
        "outputId": "9d24d8ee-bda9-4c44-a0de-e99e7738d2f2"
      },
      "outputs": [],
      "source": [
        "df"
      ]
    },
    {
      "cell_type": "code",
      "execution_count": null,
      "metadata": {
        "colab": {
          "base_uri": "https://localhost:8080/",
          "height": 112
        },
        "id": "-n9-0WnlFb6F",
        "outputId": "2e081a28-bc46-45bc-e743-83687f6aff7b"
      },
      "outputs": [],
      "source": [
        "df.loc[18:, :]"
      ]
    },
    {
      "cell_type": "code",
      "execution_count": null,
      "metadata": {
        "colab": {
          "base_uri": "https://localhost:8080/"
        },
        "id": "gQZN7ISXFb6G",
        "outputId": "fb61f2d8-e919-4f4b-9a0a-7caa746a2160"
      },
      "outputs": [],
      "source": [
        "df.loc[17, :]"
      ]
    },
    {
      "cell_type": "code",
      "execution_count": null,
      "metadata": {
        "colab": {
          "base_uri": "https://localhost:8080/",
          "height": 81
        },
        "id": "P0xVGoqFFb6G",
        "outputId": "f1ad0eae-d7a7-4dbd-cccd-ab7720a4bbaa"
      },
      "outputs": [],
      "source": [
        "df.loc[[17]]"
      ]
    },
    {
      "cell_type": "code",
      "execution_count": null,
      "metadata": {
        "id": "_Jni6I5OFb6G"
      },
      "outputs": [],
      "source": [
        "df = df.loc[18:, :].copy()"
      ]
    },
    {
      "cell_type": "markdown",
      "metadata": {
        "id": "A41vwQa8Fb6H"
      },
      "source": [
        "- 값 지정"
      ]
    },
    {
      "cell_type": "code",
      "execution_count": null,
      "metadata": {
        "colab": {
          "base_uri": "https://localhost:8080/",
          "height": 112
        },
        "id": "YMxrIhwkFb6H",
        "outputId": "f137bc46-4caa-466d-8ca8-c092a4caaa47"
      },
      "outputs": [],
      "source": [
        "df"
      ]
    },
    {
      "cell_type": "code",
      "execution_count": null,
      "metadata": {
        "id": "X0bN1bOaFb6H"
      },
      "outputs": [],
      "source": [
        "df.loc[18, 'KOR'] = 0"
      ]
    },
    {
      "cell_type": "code",
      "execution_count": null,
      "metadata": {
        "colab": {
          "base_uri": "https://localhost:8080/",
          "height": 112
        },
        "id": "LQENYkKOFb6H",
        "outputId": "90654740-c22e-4087-ff4d-aeb10c2b4ed0"
      },
      "outputs": [],
      "source": [
        "df"
      ]
    },
    {
      "cell_type": "code",
      "execution_count": null,
      "metadata": {
        "id": "WqspKdNaFb6H"
      },
      "outputs": [],
      "source": [
        "df.loc[:, 'USA'] = 1"
      ]
    },
    {
      "cell_type": "code",
      "execution_count": null,
      "metadata": {
        "colab": {
          "base_uri": "https://localhost:8080/",
          "height": 112
        },
        "id": "XdrGp4lLFb6H",
        "outputId": "d1e54ce4-e56a-4fc6-d1ee-7b6b51352eba"
      },
      "outputs": [],
      "source": [
        "df"
      ]
    },
    {
      "cell_type": "code",
      "execution_count": null,
      "metadata": {
        "id": "6L_-qYKYFb6I"
      },
      "outputs": [],
      "source": [
        "df.loc[:, :] = [[1, 2], [3, 4]]"
      ]
    },
    {
      "cell_type": "code",
      "execution_count": null,
      "metadata": {
        "colab": {
          "base_uri": "https://localhost:8080/",
          "height": 112
        },
        "id": "YZiRi6yLFb6I",
        "outputId": "a248dd27-2114-45dc-d12c-1f5817deb74e"
      },
      "outputs": [],
      "source": [
        "df"
      ]
    },
    {
      "cell_type": "code",
      "execution_count": null,
      "metadata": {
        "id": "WEL4erYjFb6I"
      },
      "outputs": [],
      "source": [
        "df = [[1, 2], [3, 4]]"
      ]
    },
    {
      "cell_type": "code",
      "execution_count": null,
      "metadata": {
        "colab": {
          "base_uri": "https://localhost:8080/"
        },
        "id": "8i_pNlvmFb6I",
        "outputId": "eddd3c76-d3ac-49ca-d1da-e2f49f3ae26c"
      },
      "outputs": [],
      "source": [
        "df"
      ]
    },
    {
      "cell_type": "markdown",
      "metadata": {
        "id": "FvfXMKPVFb6I"
      },
      "source": [
        "## 멀티인덱스"
      ]
    },
    {
      "cell_type": "code",
      "execution_count": null,
      "metadata": {
        "id": "llFendVRFb6I"
      },
      "outputs": [],
      "source": [
        "df = pd.DataFrame({'country':['USA', 'KOR', 'USA', 'KOR'],\n",
        "                   'pop':[1, 2, 3, 4],\n",
        "                   'gdp':[3, 4, 5, 6]},\n",
        "                  index = [16, 16, 17, 17])"
      ]
    },
    {
      "cell_type": "code",
      "execution_count": null,
      "metadata": {
        "colab": {
          "base_uri": "https://localhost:8080/",
          "height": 175
        },
        "id": "zRMikIq-Fb6J",
        "outputId": "45ec767d-68f1-439a-c99b-ffcb285dc4a4"
      },
      "outputs": [],
      "source": [
        "df"
      ]
    },
    {
      "cell_type": "code",
      "execution_count": null,
      "metadata": {
        "id": "tkeihnctFb6J"
      },
      "outputs": [],
      "source": [
        "df = df.set_index('country', append=True)"
      ]
    },
    {
      "cell_type": "code",
      "execution_count": null,
      "metadata": {
        "colab": {
          "base_uri": "https://localhost:8080/",
          "height": 206
        },
        "id": "3rHSjfjfFb6J",
        "outputId": "21c36ef8-dda7-4a6a-8ebd-a83b5e8ac91c"
      },
      "outputs": [],
      "source": [
        "df"
      ]
    },
    {
      "cell_type": "code",
      "execution_count": null,
      "metadata": {
        "id": "sf0QR9hHFb6J"
      },
      "outputs": [],
      "source": [
        "from pandas import MultiIndex as MI"
      ]
    },
    {
      "cell_type": "code",
      "execution_count": null,
      "metadata": {
        "id": "siMrWviQFb6J"
      },
      "outputs": [],
      "source": [
        "df.index = MI.from_product([['16', '17'], ['미국', '한국']])"
      ]
    },
    {
      "cell_type": "code",
      "execution_count": null,
      "metadata": {
        "colab": {
          "base_uri": "https://localhost:8080/",
          "height": 175
        },
        "id": "ZMrhzfKWFb6J",
        "outputId": "7e13f01e-82c9-46fe-e6a7-2a79c4c1ddca"
      },
      "outputs": [],
      "source": [
        "df"
      ]
    },
    {
      "cell_type": "code",
      "execution_count": null,
      "metadata": {
        "id": "5VHxRRa2Fb6K"
      },
      "outputs": [],
      "source": [
        "df.index = [':'.join(c).strip() for c in df.index.values]"
      ]
    },
    {
      "cell_type": "code",
      "execution_count": null,
      "metadata": {
        "colab": {
          "base_uri": "https://localhost:8080/",
          "height": 175
        },
        "id": "CqhnEpXCFb6K",
        "outputId": "38a9ffd8-f39a-4cc2-fcc7-4b95ce43fc6a"
      },
      "outputs": [],
      "source": [
        "df"
      ]
    },
    {
      "cell_type": "code",
      "execution_count": null,
      "metadata": {
        "colab": {
          "base_uri": "https://localhost:8080/"
        },
        "id": "wPjt_0TpFb6K",
        "outputId": "a7c6ae3e-5a5a-4af4-9bbc-ba5d396bc1e7"
      },
      "outputs": [],
      "source": [
        "df.index.str.split(':').tolist()"
      ]
    },
    {
      "cell_type": "markdown",
      "metadata": {
        "id": "OL6mTBMuXuEv"
      },
      "source": [
        "라벨이 주어진 형태에 따라 멀티인덱스 생성 함수를 선택\n",
        "\n",
        "\n",
        "```\n",
        "- from_tuples() : [['16', '미국'], ['16', '한국'], ['17', '미국'], ['17', '한국']]\n",
        "- from_product() : [['16', '17'], ['미국', '한국']]\n",
        "- from_arrays() : [['16', '16', '17', '17'], ['미국', '미국', '한국', '한국']]\n",
        "```"
      ]
    },
    {
      "cell_type": "code",
      "execution_count": null,
      "metadata": {
        "id": "Q8splM2pFb6K"
      },
      "outputs": [],
      "source": [
        "df.index = MI.from_tuples(df.index.str.split(':').tolist())"
      ]
    },
    {
      "cell_type": "code",
      "execution_count": null,
      "metadata": {
        "colab": {
          "base_uri": "https://localhost:8080/",
          "height": 175
        },
        "id": "CME_jUWeFb6K",
        "outputId": "f037a06b-7f15-4097-91eb-086d98092e41"
      },
      "outputs": [],
      "source": [
        "df"
      ]
    },
    {
      "cell_type": "markdown",
      "metadata": {
        "id": "xTSiA2zcFb6K"
      },
      "source": [
        "IndexSlice: 다양한 층위에서 데이터 선택"
      ]
    },
    {
      "cell_type": "code",
      "execution_count": null,
      "metadata": {
        "id": "ZUd5WGaFFb6K"
      },
      "outputs": [],
      "source": [
        "df = pd.DataFrame({'country':['USA', 'KOR', 'USA', 'KOR'],\n",
        "                   'pop':[1, 2, 3, 4],\n",
        "                   'gdp':[3, 4, 5, 6]},\n",
        "                  index = [16, 16, 17, 17])"
      ]
    },
    {
      "cell_type": "code",
      "execution_count": null,
      "metadata": {
        "id": "0Qnx37FrFb6L"
      },
      "outputs": [],
      "source": [
        "df = df.set_index('country', append=True)"
      ]
    },
    {
      "cell_type": "code",
      "execution_count": null,
      "metadata": {
        "id": "9AFbUmSnFb6L"
      },
      "outputs": [],
      "source": [
        "idx = pd.IndexSlice"
      ]
    },
    {
      "cell_type": "code",
      "execution_count": null,
      "metadata": {
        "colab": {
          "base_uri": "https://localhost:8080/",
          "height": 143
        },
        "id": "vKt3N6P7Fb6L",
        "outputId": "8f55ff78-eb36-417e-e526-32663c7836bd"
      },
      "outputs": [],
      "source": [
        "df.loc[idx[:, 'USA'], :]"
      ]
    },
    {
      "cell_type": "code",
      "execution_count": null,
      "metadata": {
        "colab": {
          "base_uri": "https://localhost:8080/"
        },
        "id": "q6HeKk_DFb6L",
        "outputId": "45c6b5a1-c911-47fb-e7e7-69eefd67f031"
      },
      "outputs": [],
      "source": [
        "df.loc[idx[16, 'USA'], :]"
      ]
    },
    {
      "cell_type": "code",
      "execution_count": null,
      "metadata": {
        "id": "gVwZilgIFb6L"
      },
      "outputs": [],
      "source": [
        "df = pd.DataFrame({'country':['USA', 'KOR', 'USA', 'KOR'],\n",
        "                   'pop':[1, 2, 3, 4],\n",
        "                   'gdp':[3, 4, 5, 6]},\n",
        "                  index = [16, 16, 17, 17])"
      ]
    },
    {
      "cell_type": "code",
      "execution_count": null,
      "metadata": {
        "colab": {
          "base_uri": "https://localhost:8080/",
          "height": 175
        },
        "id": "ogWJ7-IHFb6L",
        "outputId": "acf38d1d-fe00-4da8-dcbc-049b3c084cfe"
      },
      "outputs": [],
      "source": [
        "df"
      ]
    },
    {
      "cell_type": "code",
      "execution_count": null,
      "metadata": {
        "colab": {
          "base_uri": "https://localhost:8080/",
          "height": 112
        },
        "id": "lbO_yKewFb6L",
        "outputId": "29dc70f1-b7a9-45a4-a245-ec762638c8db"
      },
      "outputs": [],
      "source": [
        "df.loc[df['pop'].ge(3)]"
      ]
    },
    {
      "cell_type": "code",
      "execution_count": null,
      "metadata": {
        "colab": {
          "base_uri": "https://localhost:8080/",
          "height": 175
        },
        "id": "6EUgpJzrFb6M",
        "outputId": "ee38f06f-cf3b-4ad6-ec7c-85f2fae5d1dc"
      },
      "outputs": [],
      "source": [
        "df"
      ]
    },
    {
      "cell_type": "code",
      "execution_count": null,
      "metadata": {
        "colab": {
          "base_uri": "https://localhost:8080/",
          "height": 112
        },
        "id": "wkB6zT6TFb6M",
        "outputId": "acb91f9c-7139-405b-c47a-00ac35673340"
      },
      "outputs": [],
      "source": [
        "df.loc[df.country.isin(['USA', 'JPN'])]"
      ]
    },
    {
      "cell_type": "markdown",
      "metadata": {
        "id": "rjyhnkPTFb6M"
      },
      "source": [
        "- droplevels\n",
        "- get_level_values\n",
        "- reorder_levels"
      ]
    },
    {
      "cell_type": "code",
      "execution_count": null,
      "metadata": {
        "colab": {
          "base_uri": "https://localhost:8080/",
          "height": 175
        },
        "id": "2ZdVvSvAFb6M",
        "outputId": "395fc828-5a0d-40b5-ce91-455b62c52749"
      },
      "outputs": [],
      "source": [
        "df"
      ]
    },
    {
      "cell_type": "code",
      "execution_count": null,
      "metadata": {
        "id": "nP0xVFvJFb6M"
      },
      "outputs": [],
      "source": [
        "df = df.set_index('country', append=True)"
      ]
    },
    {
      "cell_type": "code",
      "execution_count": null,
      "metadata": {
        "id": "57HNR0HLFb6M"
      },
      "outputs": [],
      "source": [
        "df.index.names = ['yr', 'country']"
      ]
    },
    {
      "cell_type": "code",
      "execution_count": null,
      "metadata": {
        "colab": {
          "base_uri": "https://localhost:8080/",
          "height": 206
        },
        "id": "hty55evqFb6N",
        "outputId": "89da230b-a74c-43a0-8d9f-80b987569b98"
      },
      "outputs": [],
      "source": [
        "df"
      ]
    },
    {
      "cell_type": "code",
      "execution_count": null,
      "metadata": {
        "colab": {
          "base_uri": "https://localhost:8080/"
        },
        "id": "pyTNXzmvFb6N",
        "outputId": "e52f6260-d17c-41f5-b158-f4c860f9cef8"
      },
      "outputs": [],
      "source": [
        "df.index.get_level_values(0).unique()"
      ]
    },
    {
      "cell_type": "code",
      "execution_count": null,
      "metadata": {
        "colab": {
          "base_uri": "https://localhost:8080/"
        },
        "id": "NKl-hA3xFb6N",
        "outputId": "75e35f70-b256-47af-da7e-b28eb1090fbb"
      },
      "outputs": [],
      "source": [
        "df.index.get_level_values(1).unique()"
      ]
    },
    {
      "cell_type": "code",
      "execution_count": null,
      "metadata": {
        "id": "JphVi29kFb6N"
      },
      "outputs": [],
      "source": [
        "df = df.loc[idx[:, 'USA'], :]"
      ]
    },
    {
      "cell_type": "code",
      "execution_count": null,
      "metadata": {
        "colab": {
          "base_uri": "https://localhost:8080/",
          "height": 143
        },
        "id": "QlhDiRfiFb6N",
        "outputId": "f78e2280-a0a2-41a7-cf66-ad324f65007d"
      },
      "outputs": [],
      "source": [
        "df"
      ]
    },
    {
      "cell_type": "code",
      "execution_count": null,
      "metadata": {
        "id": "l2QWkTNXFb6N"
      },
      "outputs": [],
      "source": [
        "df.index = df.index.droplevel(level = 1)"
      ]
    },
    {
      "cell_type": "code",
      "execution_count": null,
      "metadata": {
        "colab": {
          "base_uri": "https://localhost:8080/",
          "height": 143
        },
        "id": "CwW-khqYFb6N",
        "outputId": "b01dff8e-9687-42c3-d3ae-6d9bddc28837"
      },
      "outputs": [],
      "source": [
        "df"
      ]
    },
    {
      "cell_type": "markdown",
      "metadata": {
        "id": "TZXWDtRuFb6O"
      },
      "source": [
        "## 연습문제\n",
        "\n",
        "1.  연도(2017~2020), 국가별(kr, us, jp) 경제성장률과 물가상승률 데이터프레임을 생성하시오\n",
        "    - 인덱스 첫번째 레벨은 연도, 두번째 레벨은 국가명, 칼럼 라벨은 [gdp, inf]\n",
        "    - 경제성장률과 물가상승률은 넘파이 랜덤표본 이용\n",
        "\n",
        "3.  2018년 이후 국가별 경제성장률과 물가상승률을 보이시오"
      ]
    },
    {
      "cell_type": "markdown",
      "metadata": {
        "id": "TZI5iU7wFb6O"
      },
      "source": [
        "# 연산"
      ]
    },
    {
      "cell_type": "code",
      "execution_count": null,
      "metadata": {
        "id": "x1Riglx2Fb6O"
      },
      "outputs": [],
      "source": [
        "# 데이터프레임을 병렬로 표시하기 위한 함수 정의\n",
        "from IPython.display import display_html\n",
        "def display_by_side(*args):\n",
        "    html_str=''\n",
        "    for df in args:\n",
        "        html_str+=df.to_html()\n",
        "    display_html(html_str.replace('table','table style=\"display:inline\"'),raw=True)"
      ]
    },
    {
      "cell_type": "code",
      "execution_count": null,
      "metadata": {
        "id": "cgS0MsnGFb6O"
      },
      "outputs": [],
      "source": [
        "df = pd.DataFrame({'KOR':[1, 3], 'USA':[2, 4]})"
      ]
    },
    {
      "cell_type": "code",
      "execution_count": null,
      "metadata": {
        "id": "6ui4W9sPFb6P"
      },
      "outputs": [],
      "source": [
        "df1 = df + 10"
      ]
    },
    {
      "cell_type": "code",
      "execution_count": null,
      "metadata": {
        "id": "A0SMErWnFb6P"
      },
      "outputs": [],
      "source": [
        "df1.columns = ['USA', 'CHN']"
      ]
    },
    {
      "cell_type": "code",
      "execution_count": null,
      "metadata": {
        "colab": {
          "base_uri": "https://localhost:8080/",
          "height": 112
        },
        "id": "i_EoQTidFb6P",
        "outputId": "ad99f3d5-ec50-42a9-d44b-cf4764e5a538"
      },
      "outputs": [],
      "source": [
        "display_by_side(df1, df + df1)"
      ]
    },
    {
      "cell_type": "code",
      "execution_count": null,
      "metadata": {
        "colab": {
          "base_uri": "https://localhost:8080/",
          "height": 207
        },
        "id": "9y3TvVHBFb6P",
        "outputId": "58902dd4-6291-4ef0-8494-edc1e5d9479e"
      },
      "outputs": [],
      "source": [
        "display(df, df.T)"
      ]
    },
    {
      "cell_type": "code",
      "execution_count": null,
      "metadata": {
        "colab": {
          "base_uri": "https://localhost:8080/",
          "height": 112
        },
        "id": "gy-VVs5zFb6P",
        "outputId": "701b5f79-7437-46d4-c33d-7e869e66dd48"
      },
      "outputs": [],
      "source": [
        "df.dot(df.T)"
      ]
    },
    {
      "cell_type": "code",
      "execution_count": null,
      "metadata": {
        "colab": {
          "base_uri": "https://localhost:8080/",
          "height": 112
        },
        "id": "jiUXEJ29Fb6P",
        "outputId": "8cd2e9f2-18c6-491e-bf53-e1c6d8fa6f98"
      },
      "outputs": [],
      "source": [
        "df.T.dot(df)"
      ]
    },
    {
      "cell_type": "code",
      "execution_count": null,
      "metadata": {
        "colab": {
          "base_uri": "https://localhost:8080/",
          "height": 288
        },
        "id": "H1XtL82SFb6Q",
        "outputId": "930a90cf-205f-429e-8e46-8b12f8365468"
      },
      "outputs": [],
      "source": [
        "df.dot(df)"
      ]
    },
    {
      "cell_type": "code",
      "execution_count": null,
      "metadata": {
        "id": "KsbUXKftFb6Q"
      },
      "outputs": [],
      "source": [
        "df1 = pd.DataFrame({'USA':[1, 3], 'CHN':[2, 4]})\n",
        "df2 = pd.DataFrame({'JPN':[2, 4], 'KOR':[6, 8]})"
      ]
    },
    {
      "cell_type": "code",
      "execution_count": null,
      "metadata": {
        "colab": {
          "base_uri": "https://localhost:8080/",
          "height": 207
        },
        "id": "yT7WQIaeFb6Q",
        "outputId": "156dca58-0b6e-4d07-c88f-74b4d37abae4"
      },
      "outputs": [],
      "source": [
        "display(df1, df2)"
      ]
    },
    {
      "cell_type": "code",
      "execution_count": null,
      "metadata": {
        "colab": {
          "base_uri": "https://localhost:8080/",
          "height": 112
        },
        "id": "-uOYUIFgFb6Q",
        "outputId": "fa00a57f-e77c-4a00-ed23-a569a347f85a"
      },
      "outputs": [],
      "source": [
        "pd.concat([df1, df2], axis = 1)"
      ]
    },
    {
      "cell_type": "code",
      "execution_count": null,
      "metadata": {
        "colab": {
          "base_uri": "https://localhost:8080/",
          "height": 175
        },
        "id": "zoE2i4Q7Fb6Q",
        "outputId": "b0a29c03-4813-47d5-afe8-fbfb002261cb"
      },
      "outputs": [],
      "source": [
        "pd.concat([df1, df2], axis = 0)"
      ]
    },
    {
      "cell_type": "markdown",
      "metadata": {
        "id": "1QanSsPDFb6Q"
      },
      "source": [
        "## merge, concat\n",
        "\n"
      ]
    },
    {
      "cell_type": "code",
      "execution_count": null,
      "metadata": {
        "colab": {
          "base_uri": "https://localhost:8080/"
        },
        "id": "Y7QvZRLOKNF0",
        "outputId": "8859c882-0be7-4468-af0c-e532b30c7ec2"
      },
      "outputs": [],
      "source": [
        "print(df1)\n",
        "print(df2)"
      ]
    },
    {
      "cell_type": "code",
      "execution_count": null,
      "metadata": {
        "id": "CguyYdjRFb6Q"
      },
      "outputs": [],
      "source": [
        "df2.columns = ['CHN', 'KOR']"
      ]
    },
    {
      "cell_type": "code",
      "execution_count": null,
      "metadata": {
        "colab": {
          "base_uri": "https://localhost:8080/"
        },
        "id": "GJkoc5dBKVkg",
        "outputId": "007eed32-f15c-44fa-9d94-628896ea1664"
      },
      "outputs": [],
      "source": [
        "print(df1)\n",
        "print('')\n",
        "print(df2)"
      ]
    },
    {
      "cell_type": "code",
      "execution_count": null,
      "metadata": {
        "colab": {
          "base_uri": "https://localhost:8080/",
          "height": 112
        },
        "id": "UP0uAmN3Fb6R",
        "outputId": "f6f97929-9448-4884-dfdd-fdf3db7b5986"
      },
      "outputs": [],
      "source": [
        "df1.merge(df2, on = 'CHN', how = 'left')"
      ]
    },
    {
      "cell_type": "markdown",
      "metadata": {
        "id": "Z83FoLYFFb6R"
      },
      "source": [
        "## add, sub, mul, div"
      ]
    },
    {
      "cell_type": "code",
      "execution_count": null,
      "metadata": {
        "colab": {
          "base_uri": "https://localhost:8080/",
          "height": 125
        },
        "id": "l37XvMbiKqen",
        "outputId": "4a663dfc-09fc-476c-ebfd-2757ef6c9c04"
      },
      "outputs": [],
      "source": [
        "df"
      ]
    },
    {
      "cell_type": "code",
      "execution_count": null,
      "metadata": {
        "colab": {
          "base_uri": "https://localhost:8080/"
        },
        "id": "Ose41ZpMKnGp",
        "outputId": "9a228217-9711-4baa-b56f-662ec19f412e"
      },
      "outputs": [],
      "source": [
        "print(df.sum(axis=0))\n",
        "print('')\n",
        "print(df.sum(axis=1))"
      ]
    },
    {
      "cell_type": "code",
      "execution_count": null,
      "metadata": {
        "colab": {
          "base_uri": "https://localhost:8080/",
          "height": 478
        },
        "id": "iig9sQlPK_Co",
        "outputId": "3594f718-b474-4ca5-b16d-cf46cc7115db"
      },
      "outputs": [],
      "source": [
        "df['Total']"
      ]
    },
    {
      "cell_type": "code",
      "execution_count": null,
      "metadata": {
        "colab": {
          "base_uri": "https://localhost:8080/",
          "height": 125
        },
        "id": "nuXeYsyaFb6R",
        "outputId": "3d8f6b2d-d04a-4e5f-e974-1d640499bd4b"
      },
      "outputs": [],
      "source": [
        "df['Total'] = df.sum(axis = 1)\n",
        "df"
      ]
    },
    {
      "cell_type": "code",
      "execution_count": null,
      "metadata": {
        "colab": {
          "base_uri": "https://localhost:8080/",
          "height": 112
        },
        "id": "6h2nFaPpFb6R",
        "outputId": "bdae0c60-6251-41b7-b868-ceda5dae0537"
      },
      "outputs": [],
      "source": [
        "df.div(df.Total, axis = 0)"
      ]
    },
    {
      "cell_type": "code",
      "execution_count": null,
      "metadata": {
        "colab": {
          "base_uri": "https://localhost:8080/",
          "height": 112
        },
        "id": "UMO_Zgs1Fb6R",
        "outputId": "af155acf-ce8a-4d82-9ed4-54c388abfcb3"
      },
      "outputs": [],
      "source": [
        "df.div(df.Total, axis = 1)"
      ]
    },
    {
      "cell_type": "markdown",
      "metadata": {
        "id": "O46OqJEnFb6R"
      },
      "source": [
        "## cut, qcut\n",
        "\n",
        "- 숫자 데이터를 범주형 데이터로 변환"
      ]
    },
    {
      "cell_type": "code",
      "execution_count": null,
      "metadata": {
        "colab": {
          "base_uri": "https://localhost:8080/",
          "height": 175
        },
        "id": "vacW6ZpHFb6R",
        "outputId": "824e17d0-45d1-452b-9025-ddda7309af29"
      },
      "outputs": [],
      "source": [
        "from numpy.random import randint\n",
        "df = pd.DataFrame({'a':range(4), 'b':randint(1,10,4)})\n",
        "df"
      ]
    },
    {
      "cell_type": "code",
      "execution_count": null,
      "metadata": {
        "colab": {
          "base_uri": "https://localhost:8080/"
        },
        "id": "eI2fE8V5Fb6S",
        "outputId": "d892a714-2ac2-449f-8026-32ea43f4e11f"
      },
      "outputs": [],
      "source": [
        "pd.cut(df.b, [0, 5, 10])"
      ]
    },
    {
      "cell_type": "code",
      "execution_count": null,
      "metadata": {
        "id": "vCRKd05rFb6S"
      },
      "outputs": [],
      "source": [
        "df.loc[:, 'c'] = pd.cut(df.b, [0, 5, 10], labels=False)"
      ]
    },
    {
      "cell_type": "code",
      "execution_count": null,
      "metadata": {
        "colab": {
          "base_uri": "https://localhost:8080/",
          "height": 175
        },
        "id": "xn7zvZKSFb6S",
        "outputId": "eab18f54-b196-4199-9d32-772ebc905f02"
      },
      "outputs": [],
      "source": [
        "df"
      ]
    },
    {
      "cell_type": "code",
      "execution_count": null,
      "metadata": {
        "colab": {
          "base_uri": "https://localhost:8080/"
        },
        "id": "_08fMH40Fb6S",
        "outputId": "62432f12-73c4-46a5-8fdf-00a18baf03b1"
      },
      "outputs": [],
      "source": [
        "pd.qcut(df.b, 2)"
      ]
    },
    {
      "cell_type": "markdown",
      "metadata": {
        "id": "1ob2Q1l0Fb6S"
      },
      "source": [
        "## groupby"
      ]
    },
    {
      "cell_type": "code",
      "execution_count": null,
      "metadata": {
        "id": "I8C-x8ScFb6S"
      },
      "outputs": [],
      "source": [
        "df = pd.DataFrame({'country':['USA', 'KOR', 'USA', 'KOR'],\n",
        "                   'pop':[1, 2, 3, 4],\n",
        "                   'gdp':[3, 4, 5, 6]},\n",
        "                  index = [16, 16, 17, 17])"
      ]
    },
    {
      "cell_type": "code",
      "execution_count": null,
      "metadata": {
        "colab": {
          "base_uri": "https://localhost:8080/",
          "height": 175
        },
        "id": "O4oI-gZpLNaH",
        "outputId": "34a15d84-c662-485d-93a7-22130d03c024"
      },
      "outputs": [],
      "source": [
        "df"
      ]
    },
    {
      "cell_type": "code",
      "execution_count": null,
      "metadata": {
        "colab": {
          "base_uri": "https://localhost:8080/",
          "height": 143
        },
        "id": "goXsR01iFb6S",
        "outputId": "c2a72873-9384-4a68-a174-fe67c4a021c4"
      },
      "outputs": [],
      "source": [
        "df.groupby('country').mean()"
      ]
    },
    {
      "cell_type": "code",
      "execution_count": null,
      "metadata": {
        "id": "lqFZ7Hh8Fb6S"
      },
      "outputs": [],
      "source": [
        "df = df[['pop', 'gdp']]"
      ]
    },
    {
      "cell_type": "code",
      "execution_count": null,
      "metadata": {
        "colab": {
          "base_uri": "https://localhost:8080/"
        },
        "id": "E9xWkOwvFb6T",
        "outputId": "40cda880-7d6c-4793-9db5-c8e3995275cb"
      },
      "outputs": [],
      "source": [
        "df.groupby(pd.cut(df['pop'], [0, 2, 4]))['gdp'].mean()"
      ]
    },
    {
      "cell_type": "markdown",
      "metadata": {
        "id": "FMHEb2UbFb6T"
      },
      "source": [
        "## lambda 함수"
      ]
    },
    {
      "cell_type": "code",
      "execution_count": null,
      "metadata": {
        "id": "8hMRuiDFLg0T"
      },
      "outputs": [],
      "source": [
        "def cal_square(x):\n",
        "  return x**2"
      ]
    },
    {
      "cell_type": "code",
      "execution_count": null,
      "metadata": {
        "id": "7x6M5I2sFb6U"
      },
      "outputs": [],
      "source": [
        "square = lambda x: x * x"
      ]
    },
    {
      "cell_type": "code",
      "execution_count": null,
      "metadata": {
        "colab": {
          "base_uri": "https://localhost:8080/"
        },
        "id": "UdS8A-5NFb6U",
        "outputId": "3777ef60-1606-4a80-fb07-bc941e414fbe"
      },
      "outputs": [],
      "source": [
        "square(2)"
      ]
    },
    {
      "cell_type": "code",
      "execution_count": null,
      "metadata": {
        "colab": {
          "base_uri": "https://localhost:8080/"
        },
        "id": "wlJDm7ATLywO",
        "outputId": "482ef135-c7d3-4ff2-8e38-583c8c5a1b6b"
      },
      "outputs": [],
      "source": [
        "cal_square(2)"
      ]
    },
    {
      "cell_type": "markdown",
      "metadata": {
        "id": "Texb31pkFb6U"
      },
      "source": [
        "## apply/applymap/map"
      ]
    },
    {
      "cell_type": "code",
      "execution_count": null,
      "metadata": {
        "id": "RABzpkabFb6U"
      },
      "outputs": [],
      "source": [
        "df = pd.DataFrame({'country':['USA', 'KOR', 'USA', 'KOR'],\n",
        "                   'pop':[1, 2, 3, 4],\n",
        "                   'gdp':[3, 4, 5, 6]},\n",
        "                  index = [16, 16, 17, 17])"
      ]
    },
    {
      "cell_type": "code",
      "execution_count": null,
      "metadata": {
        "colab": {
          "base_uri": "https://localhost:8080/",
          "height": 175
        },
        "id": "P8B0nWbLL-d7",
        "outputId": "caf9c30f-ea99-4c59-fdf0-365fd424a0d0"
      },
      "outputs": [],
      "source": [
        "df[['pop', 'gdp']].apply(lambda x: x+100)"
      ]
    },
    {
      "cell_type": "code",
      "execution_count": null,
      "metadata": {
        "colab": {
          "base_uri": "https://localhost:8080/",
          "height": 175
        },
        "id": "4eslS_DSMJIi",
        "outputId": "e4244ce7-1551-44d3-b931-c129f6750b1d"
      },
      "outputs": [],
      "source": [
        "df[['pop', 'gdp']].apply(lambda x: x.div(x.sum()))"
      ]
    },
    {
      "cell_type": "code",
      "execution_count": null,
      "metadata": {
        "colab": {
          "base_uri": "https://localhost:8080/",
          "height": 175
        },
        "id": "qy7ZDNGVFb6U",
        "outputId": "aa107cbf-ff8a-4c90-d4b4-ebd8260a1146"
      },
      "outputs": [],
      "source": [
        "df[['pop', 'gdp']].apply(lambda x: x.div(x.sum()))"
      ]
    },
    {
      "cell_type": "code",
      "execution_count": null,
      "metadata": {
        "colab": {
          "base_uri": "https://localhost:8080/",
          "height": 175
        },
        "id": "j-fk7mzNFb6V",
        "outputId": "600ab638-de7a-49b3-968a-0c7a47f6e45a"
      },
      "outputs": [],
      "source": [
        "df = df[['pop', 'gdp']].apply(lambda x: x.div(x.sum()))\n",
        "df.applymap(lambda x: '{:,.2f}'.format(x))"
      ]
    },
    {
      "cell_type": "markdown",
      "metadata": {
        "id": "EvgmlRAkFb6V"
      },
      "source": [
        "## stack/unstack"
      ]
    },
    {
      "cell_type": "code",
      "execution_count": null,
      "metadata": {
        "id": "WsCMBSD5Fb6V"
      },
      "outputs": [],
      "source": [
        "df = pd.DataFrame({'country':['USA', 'KOR', 'USA', 'KOR'],\n",
        "                   'pop':[1, 2, 3, 4],\n",
        "                   'gdp':[3, 4, 5, 6]},\n",
        "                  index = [16, 16, 17, 17])\n",
        "\n",
        "df = df.set_index('country', append=True)"
      ]
    },
    {
      "cell_type": "code",
      "execution_count": null,
      "metadata": {
        "colab": {
          "base_uri": "https://localhost:8080/",
          "height": 143
        },
        "id": "Nme-3ZupFb6V",
        "outputId": "d4373fd9-5f07-446e-b613-44a28787a0bc"
      },
      "outputs": [],
      "source": [
        "df.unstack(level = 1)"
      ]
    },
    {
      "cell_type": "code",
      "execution_count": null,
      "metadata": {
        "id": "q0UGrRKaFb6V"
      },
      "outputs": [],
      "source": []
    },
    {
      "cell_type": "code",
      "execution_count": null,
      "metadata": {
        "id": "HMs9Lko9Fb6V"
      },
      "outputs": [],
      "source": []
    },
    {
      "cell_type": "markdown",
      "metadata": {
        "id": "WVXOvyFEFb6V"
      },
      "source": [
        "## 연습문제"
      ]
    },
    {
      "cell_type": "markdown",
      "metadata": {
        "id": "SoygnEUIFb6V"
      },
      "source": [
        "1.  앞에서 계산한 연도(2017~2020), 국가별(kr, us, jp) 경제성장률과 물가상승률 데이터프레임을 이용하여\n",
        "    - 2018년 이후 국가별 평균 경제성장률과 물가상승률을 계산하라\n",
        "    - 2018년 이후 한국과 미국의 연도별 평균경제성장률을 계산하라\n",
        "\n",
        "2.  같은 방식으로 중국(cn)의 경제성장률과 물가상승률 데이터프레임을 생성하여 결합하라\n",
        "\n",
        "3.  4개 국가 평균 경제성장률이 0보다 큰 연도를 찾아라"
      ]
    },
    {
      "cell_type": "markdown",
      "metadata": {
        "id": "AIVC5jL6Fb6W"
      },
      "source": [
        "# 시계열"
      ]
    },
    {
      "cell_type": "code",
      "execution_count": null,
      "metadata": {
        "colab": {
          "base_uri": "https://localhost:8080/"
        },
        "id": "SMEEgBwhMZVv",
        "outputId": "5645eb74-0afa-4e59-d4c8-86e0d503e7ff"
      },
      "outputs": [],
      "source": [
        "a = np.random.randint(1, 20, 24)\n",
        "print(a)\n",
        "print(np.shape(a))\n",
        "\n",
        "print(a.reshape(12, 2))\n",
        "print(np.shape(a.reshape(12, 2)))"
      ]
    },
    {
      "cell_type": "code",
      "execution_count": null,
      "metadata": {
        "colab": {
          "base_uri": "https://localhost:8080/",
          "height": 426
        },
        "id": "llGpNcujM-kO",
        "outputId": "85e7ed4b-6aa3-4f74-e5dc-c060df4b2857"
      },
      "outputs": [],
      "source": [
        "pd.DataFrame(np.random.randint(1, 20, 24).reshape(12, 2), columns=['con', 'gdp'])"
      ]
    },
    {
      "cell_type": "code",
      "execution_count": null,
      "metadata": {
        "id": "e421xR4yFb6W"
      },
      "outputs": [],
      "source": [
        "import numpy as np\n",
        "df = pd.DataFrame(np.random.randint(1, 20, 24).reshape(12, 2), columns=['con', 'gdp'])"
      ]
    },
    {
      "cell_type": "code",
      "execution_count": null,
      "metadata": {
        "colab": {
          "base_uri": "https://localhost:8080/",
          "height": 426
        },
        "id": "XqDVcDx2Fb6W",
        "outputId": "2636d166-1cbb-4a2f-8ffb-a86658157ac7"
      },
      "outputs": [],
      "source": [
        "df"
      ]
    },
    {
      "cell_type": "code",
      "execution_count": null,
      "metadata": {
        "id": "gwgF96pWFb6W"
      },
      "outputs": [],
      "source": [
        "df.index = pd.date_range('2017-3-31', '2019-12-31', freq='Q')"
      ]
    },
    {
      "cell_type": "code",
      "execution_count": null,
      "metadata": {
        "colab": {
          "base_uri": "https://localhost:8080/",
          "height": 426
        },
        "id": "lG9j_OCvFb6W",
        "outputId": "ebb1e849-2457-4774-b4cf-085502daca82"
      },
      "outputs": [],
      "source": [
        "df"
      ]
    },
    {
      "cell_type": "code",
      "execution_count": null,
      "metadata": {
        "colab": {
          "base_uri": "https://localhost:8080/",
          "height": 1000
        },
        "id": "8bVJD1YXNaEK",
        "outputId": "6af8aacc-f5e3-4ca9-9ae9-e84ec747841e"
      },
      "outputs": [],
      "source": [
        "import matplotlib.pyplot as plt\n",
        "\n",
        "fig, ax = plt.subplots(1, 1, figsize=[12, 8])\n",
        "ax.plot(df['gdp'])\n",
        "plt.show()"
      ]
    },
    {
      "cell_type": "code",
      "execution_count": null,
      "metadata": {
        "colab": {
          "base_uri": "https://localhost:8080/"
        },
        "id": "4wywtDpnFb6W",
        "outputId": "8dd54182-6758-42ef-80b2-d65426dd998f"
      },
      "outputs": [],
      "source": [
        "type(df.index)"
      ]
    },
    {
      "cell_type": "markdown",
      "metadata": {
        "id": "y0ah28fmRHMb"
      },
      "source": [
        "## resample"
      ]
    },
    {
      "cell_type": "code",
      "execution_count": null,
      "metadata": {
        "colab": {
          "base_uri": "https://localhost:8080/",
          "height": 143
        },
        "id": "KeQtJkTeFb6X",
        "outputId": "394b6a06-c3bb-49ac-e1d2-b8e9fbc10a07"
      },
      "outputs": [],
      "source": [
        "df.resample('A').sum()"
      ]
    },
    {
      "cell_type": "code",
      "execution_count": null,
      "metadata": {
        "colab": {
          "base_uri": "https://localhost:8080/",
          "height": 143
        },
        "id": "K0m0d_84Fb6X",
        "outputId": "99b1e4f1-8eaa-4868-da08-94143ebc58ae"
      },
      "outputs": [],
      "source": [
        "df.resample('A').last()"
      ]
    },
    {
      "cell_type": "code",
      "execution_count": null,
      "metadata": {
        "colab": {
          "base_uri": "https://localhost:8080/",
          "height": 143
        },
        "id": "shkBcxDFFb6X",
        "outputId": "4e62dd27-df92-4a23-cedd-d8c87657ff34"
      },
      "outputs": [],
      "source": [
        "df.resample('A').mean()"
      ]
    },
    {
      "cell_type": "code",
      "execution_count": null,
      "metadata": {
        "colab": {
          "base_uri": "https://localhost:8080/",
          "height": 143
        },
        "id": "yWpHt6L-OOOf",
        "outputId": "9c88400f-9194-43be-be32-c3d71b5e169a"
      },
      "outputs": [],
      "source": [
        "df.resample('A').agg({'con': 'mean', 'gdp': 'sum'})"
      ]
    },
    {
      "cell_type": "markdown",
      "metadata": {
        "id": "HQvJHYdUPHbd"
      },
      "source": [
        "## simple graph"
      ]
    },
    {
      "cell_type": "code",
      "execution_count": null,
      "metadata": {
        "colab": {
          "base_uri": "https://localhost:8080/",
          "height": 294
        },
        "id": "fUTUDC33Fb6X",
        "outputId": "f2e10993-bba7-4c90-8bf6-3c503bc48bd5"
      },
      "outputs": [],
      "source": [
        "df.plot()"
      ]
    },
    {
      "cell_type": "code",
      "execution_count": null,
      "metadata": {
        "colab": {
          "base_uri": "https://localhost:8080/",
          "height": 377
        },
        "id": "Mc217b1RFb6X",
        "outputId": "fcd6638b-4ec0-4200-c551-a52cd72c9301"
      },
      "outputs": [],
      "source": [
        "df.plot.bar()"
      ]
    },
    {
      "cell_type": "code",
      "execution_count": null,
      "metadata": {
        "colab": {
          "base_uri": "https://localhost:8080/",
          "height": 1000
        },
        "id": "h5ilVq7XFb6X",
        "outputId": "1a57a362-38cd-49a7-f917-1994306f1026"
      },
      "outputs": [],
      "source": [
        "df.resample('M').interpolate(method='cubic').plot()\n",
        "# ‘nearest’, ‘zero’, ‘slinear’, ‘quadratic’, ‘cubic’, ‘spline’, ‘barycentric’, ‘polynomial’"
      ]
    },
    {
      "cell_type": "code",
      "execution_count": null,
      "metadata": {
        "colab": {
          "base_uri": "https://localhost:8080/",
          "height": 294
        },
        "id": "0-D_RBBxFb6Y",
        "outputId": "ce4450fb-57d2-4522-e9c1-23b506bfdca9"
      },
      "outputs": [],
      "source": [
        "df.plot()\n",
        "# ‘nearest’, ‘zero’, ‘slinear’, ‘quadratic’, ‘cubic’, ‘spline’, ‘barycentric’, ‘polynomial’"
      ]
    },
    {
      "cell_type": "code",
      "execution_count": null,
      "metadata": {
        "id": "rT2pmMfHFb6Y"
      },
      "outputs": [],
      "source": [
        "df = pd.DataFrame({'value':[2, 4, 5, 6], 'date':['20201201', '2019-9-1', '1 jul 2018', '2017q1']})"
      ]
    },
    {
      "cell_type": "code",
      "execution_count": null,
      "metadata": {
        "colab": {
          "base_uri": "https://localhost:8080/",
          "height": 175
        },
        "id": "lnmRFNCgFb6Y",
        "outputId": "2b6a501d-3be9-4e88-cae5-ec7dcea99731"
      },
      "outputs": [],
      "source": [
        "df"
      ]
    },
    {
      "cell_type": "code",
      "execution_count": null,
      "metadata": {
        "id": "OxYNZfJ6Fb6Y"
      },
      "outputs": [],
      "source": [
        "df.date = pd.to_datetime(df.date)"
      ]
    },
    {
      "cell_type": "code",
      "execution_count": null,
      "metadata": {
        "colab": {
          "base_uri": "https://localhost:8080/",
          "height": 175
        },
        "id": "-iK7z3YBFb6Y",
        "outputId": "410f1279-a75a-4593-9453-3de957edecf7"
      },
      "outputs": [],
      "source": [
        "df"
      ]
    },
    {
      "cell_type": "code",
      "execution_count": null,
      "metadata": {
        "id": "qOIIlVeOFb6Y"
      },
      "outputs": [],
      "source": [
        "df = df.set_index('date')"
      ]
    },
    {
      "cell_type": "code",
      "execution_count": null,
      "metadata": {
        "colab": {
          "base_uri": "https://localhost:8080/",
          "height": 206
        },
        "id": "62qIa9ggFb6Z",
        "outputId": "33a7746a-1e9d-49e7-ce81-bda8dddc0c51"
      },
      "outputs": [],
      "source": [
        "df"
      ]
    },
    {
      "cell_type": "markdown",
      "metadata": {
        "id": "ZrtGEUTLFb6Z"
      },
      "source": [
        "- 전기 대비 증가율, 차분 등 함수를 원래 의도대로 적용하기 위해서는 데이터프레임의 데이트타임인덱스가 빠짐없이 순서대로 정렬되어야 함\n",
        "- date_range()로 전체 샘플기간에 대한 데이터타임인덱스를 생성한 후 데이터프레임의 reindex(index)를 이용하여 적용"
      ]
    },
    {
      "cell_type": "code",
      "execution_count": null,
      "metadata": {
        "colab": {
          "base_uri": "https://localhost:8080/",
          "height": 206
        },
        "id": "l3Xi9XvJFb6Z",
        "outputId": "873f051b-ed91-4035-eebd-c68111262be4"
      },
      "outputs": [],
      "source": [
        "df.pct_change()"
      ]
    },
    {
      "cell_type": "markdown",
      "metadata": {
        "id": "CzKeBEk-Q1Gx"
      },
      "source": [
        "## offsets"
      ]
    },
    {
      "cell_type": "code",
      "execution_count": null,
      "metadata": {
        "id": "QwUPCpwcFb6Z"
      },
      "outputs": [],
      "source": [
        "from pandas.tseries.offsets import YearEnd, YearBegin, QuarterEnd, QuarterBegin"
      ]
    },
    {
      "cell_type": "code",
      "execution_count": null,
      "metadata": {
        "colab": {
          "base_uri": "https://localhost:8080/",
          "height": 206
        },
        "id": "3zZx49MNFb6Z",
        "outputId": "cbd740d2-b0d9-439f-98fc-2c2dd65c818d"
      },
      "outputs": [],
      "source": [
        "df.index = df.index + YearEnd()\n",
        "df"
      ]
    },
    {
      "cell_type": "code",
      "execution_count": null,
      "metadata": {
        "id": "i1DjpmHDFb6Z"
      },
      "outputs": [],
      "source": [
        "df = pd.DataFrame({'value':[2, 4, 5, 6], 'date':['20201201', '2019-9-1', '1 jul 2018', '2017q1']})\n",
        "df.date = pd.to_datetime(df.date)\n",
        "df = df.set_index('date')"
      ]
    },
    {
      "cell_type": "code",
      "execution_count": null,
      "metadata": {
        "colab": {
          "base_uri": "https://localhost:8080/",
          "height": 206
        },
        "id": "93DSNi5hFb6Z",
        "outputId": "ef00006a-49fd-4d36-b0fa-0811d6221fa5"
      },
      "outputs": [],
      "source": [
        "df.index = df.index + QuarterEnd()\n",
        "df"
      ]
    },
    {
      "cell_type": "markdown",
      "metadata": {
        "id": "B8fdQyUDFb6Z"
      },
      "source": [
        "데이트타임에서 연도, 분기, 월 추출"
      ]
    },
    {
      "cell_type": "code",
      "execution_count": null,
      "metadata": {
        "id": "ebz68UQ4Fb6a"
      },
      "outputs": [],
      "source": [
        "df = pd.DataFrame({'value':[2, 4, 5, 6], 'date':['20201201', '2019-9-1', '1 jul 2018', '2017q1']})\n",
        "df.date = pd.to_datetime(df.date)"
      ]
    },
    {
      "cell_type": "code",
      "execution_count": null,
      "metadata": {
        "colab": {
          "base_uri": "https://localhost:8080/",
          "height": 175
        },
        "id": "DVdNsNtxFb6a",
        "outputId": "e32c4ab3-1014-49d7-c92a-c62e5343169f"
      },
      "outputs": [],
      "source": [
        "df"
      ]
    },
    {
      "cell_type": "code",
      "execution_count": null,
      "metadata": {
        "id": "1ZlR35FlFb6a"
      },
      "outputs": [],
      "source": [
        "df['month'] = df.date.dt.month"
      ]
    },
    {
      "cell_type": "code",
      "execution_count": null,
      "metadata": {
        "colab": {
          "base_uri": "https://localhost:8080/",
          "height": 175
        },
        "id": "QtAsguFiFb6a",
        "outputId": "cb84724c-684b-40c0-9ec2-35dd4b0f858c"
      },
      "outputs": [],
      "source": [
        "df"
      ]
    },
    {
      "cell_type": "code",
      "execution_count": null,
      "metadata": {
        "id": "N3bjvDnPFb6a"
      },
      "outputs": [],
      "source": [
        "df['day'] = df.date.dt.day"
      ]
    },
    {
      "cell_type": "code",
      "execution_count": null,
      "metadata": {
        "colab": {
          "base_uri": "https://localhost:8080/",
          "height": 175
        },
        "id": "X3uG6hLOFb6a",
        "outputId": "d752308e-10af-4533-f2e7-3c4665873940"
      },
      "outputs": [],
      "source": [
        "df"
      ]
    },
    {
      "cell_type": "markdown",
      "metadata": {
        "id": "AzapvEsUFb6a"
      },
      "source": [
        "# save/read"
      ]
    },
    {
      "cell_type": "code",
      "execution_count": null,
      "metadata": {
        "colab": {
          "base_uri": "https://localhost:8080/",
          "height": 35
        },
        "id": "XGy5IMEMFb6a",
        "outputId": "bf1aef38-8c7c-46fc-9777-77b52d1b159f"
      },
      "outputs": [],
      "source": [
        "pwd"
      ]
    },
    {
      "cell_type": "code",
      "execution_count": null,
      "metadata": {
        "id": "nPHBnj9fPhxd"
      },
      "outputs": [],
      "source": [
        "import os\n",
        "os.mkdir('pickles')"
      ]
    },
    {
      "cell_type": "markdown",
      "metadata": {
        "id": "HHBvtS69Fb6b"
      },
      "source": [
        "## to_pickle()\n",
        "\n",
        "- python에서 매우 효율적임"
      ]
    },
    {
      "cell_type": "code",
      "execution_count": null,
      "metadata": {
        "colab": {
          "base_uri": "https://localhost:8080/"
        },
        "id": "sudf6dF8Fb6b",
        "outputId": "991ab0a1-9bfe-4748-be3a-df70e80a3de3"
      },
      "outputs": [],
      "source": [
        "ls"
      ]
    },
    {
      "cell_type": "code",
      "execution_count": null,
      "metadata": {
        "id": "pV312C01Fb6b"
      },
      "outputs": [],
      "source": [
        "df.to_pickle('pickles/df.pkl')"
      ]
    },
    {
      "cell_type": "code",
      "execution_count": null,
      "metadata": {
        "colab": {
          "base_uri": "https://localhost:8080/"
        },
        "id": "XlqEli4fFb6b",
        "outputId": "556f68e2-878a-41d4-d4f7-7f140d8b7bac"
      },
      "outputs": [],
      "source": [
        "ls pickles/"
      ]
    },
    {
      "cell_type": "code",
      "execution_count": null,
      "metadata": {
        "id": "o0iFuyMiFb6c"
      },
      "outputs": [],
      "source": [
        "df1 = pd.read_pickle('pickles/df.pkl')"
      ]
    },
    {
      "cell_type": "code",
      "execution_count": null,
      "metadata": {
        "colab": {
          "base_uri": "https://localhost:8080/",
          "height": 175
        },
        "id": "Ecr9LGWXFb6c",
        "outputId": "bca8d7bd-9fcd-4aef-af49-7648d1aac746"
      },
      "outputs": [],
      "source": [
        "df1"
      ]
    },
    {
      "cell_type": "markdown",
      "metadata": {
        "id": "Aa4YU84eFb6c"
      },
      "source": [
        "## to_csv()"
      ]
    },
    {
      "cell_type": "code",
      "execution_count": null,
      "metadata": {
        "id": "uDVUIJ7-Fb6c"
      },
      "outputs": [],
      "source": [
        "df.to_csv('df.csv')\n",
        "df_csv = pd.read_csv('df.csv', index_col=0)"
      ]
    },
    {
      "cell_type": "markdown",
      "metadata": {
        "id": "M42uPNdAFb6c"
      },
      "source": [
        "## to_stata()"
      ]
    },
    {
      "cell_type": "code",
      "execution_count": null,
      "metadata": {
        "id": "14SU7FHpFb6c"
      },
      "outputs": [],
      "source": [
        "df1.to_stata('df.dta')\n",
        "df1_dta = pd.read_stata('df.dta')"
      ]
    },
    {
      "cell_type": "markdown",
      "metadata": {
        "id": "FLdjst57Fb6c"
      },
      "source": [
        "## to_excel()"
      ]
    },
    {
      "cell_type": "code",
      "execution_count": null,
      "metadata": {
        "id": "-mZShRYTFb6c"
      },
      "outputs": [],
      "source": [
        "writer = pd.ExcelWriter('dfs.xlsx')\n",
        "df.to_excel(writer,'df')\n",
        "df1.to_excel(writer,'df1')\n",
        "df2.to_excel(writer,'df2')\n",
        "writer.save()"
      ]
    },
    {
      "cell_type": "markdown",
      "metadata": {
        "id": "x2KhYeW6Fb6d"
      },
      "source": [
        "## save multiple dataframes"
      ]
    },
    {
      "cell_type": "code",
      "execution_count": null,
      "metadata": {
        "id": "NATICZFtFb6d"
      },
      "outputs": [],
      "source": [
        "dfs = {'df': df, 'df1': df1, 'df2': df2}"
      ]
    },
    {
      "cell_type": "code",
      "execution_count": null,
      "metadata": {
        "id": "yBSZFPzcFb6d"
      },
      "outputs": [],
      "source": [
        "import pickle"
      ]
    },
    {
      "cell_type": "code",
      "execution_count": null,
      "metadata": {
        "id": "tzP9frzwFb6d"
      },
      "outputs": [],
      "source": [
        "with open('dfs.pkl', 'wb') as handle:\n",
        "    pickle.dump(dfs, handle, protocol=pickle.HIGHEST_PROTOCOL)"
      ]
    },
    {
      "cell_type": "code",
      "execution_count": null,
      "metadata": {
        "id": "uNupKad5Fb6d"
      },
      "outputs": [],
      "source": [
        "with open('dfs.pkl', 'rb') as handle:\n",
        "    dfs_pkl = pickle.load(handle)"
      ]
    },
    {
      "cell_type": "markdown",
      "metadata": {
        "id": "cMzkWzHvFb6e"
      },
      "source": [
        "# matplotlib"
      ]
    },
    {
      "cell_type": "code",
      "execution_count": null,
      "metadata": {
        "id": "S-jEj8aKFb6e"
      },
      "outputs": [],
      "source": [
        "%matplotlib inline"
      ]
    },
    {
      "cell_type": "code",
      "execution_count": null,
      "metadata": {
        "colab": {
          "base_uri": "https://localhost:8080/",
          "height": 282
        },
        "id": "NXasMp6QFb6e",
        "outputId": "b72b81e9-804e-4eb1-f8d0-cb7810e21420"
      },
      "outputs": [],
      "source": [
        "df = pd.DataFrame([0, 1, 2, 3, 4, 4], columns = ['y'])\n",
        "df.plot()"
      ]
    },
    {
      "cell_type": "code",
      "execution_count": null,
      "metadata": {
        "id": "2yQahyLPFb6e"
      },
      "outputs": [],
      "source": [
        "# %matplotlib notebook"
      ]
    },
    {
      "cell_type": "code",
      "execution_count": null,
      "metadata": {
        "colab": {
          "base_uri": "https://localhost:8080/",
          "height": 294
        },
        "id": "6xFyoa4uFb6e",
        "outputId": "56d71ad0-4a28-4b1b-becc-036eaf9b78bc"
      },
      "outputs": [],
      "source": [
        "import matplotlib.pyplot as plt\n",
        "\n",
        "fig, ax = plt.subplots(1, 2, figsize=(12, 4))\n",
        "\n",
        "df.plot(ax=ax[0])\n",
        "df.loc[2:].plot(ax=ax[1])\n",
        "ax[1].legend(loc=4, fontsize=18)\n",
        "ax[0].set_title('ax1')\n",
        "fig.suptitle('graph', fontsize=18);"
      ]
    },
    {
      "cell_type": "markdown",
      "metadata": {
        "id": "K4GQbJDoFb6f"
      },
      "source": [
        "## x, y-axis"
      ]
    },
    {
      "cell_type": "code",
      "execution_count": null,
      "metadata": {
        "colab": {
          "base_uri": "https://localhost:8080/",
          "height": 294
        },
        "id": "4yEmNk-rFb6f",
        "outputId": "e318d407-3036-4c59-f955-075202103308"
      },
      "outputs": [],
      "source": [
        "from matplotlib.ticker import FuncFormatter as FF\n",
        "\n",
        "fig, ax = plt.subplots(1, 2, figsize=(12, 4))\n",
        "\n",
        "df.plot(ax=ax[0])\n",
        "df.loc[2:].plot(ax=ax[1])\n",
        "ax[1].legend(loc=4, fontsize=18)\n",
        "ax[0].set_title('ax1')\n",
        "fig.suptitle('graph', fontsize=18);\n",
        "\n",
        "dp2 = lambda x, p: '{:,.2f}'.format(x)\n",
        "dp0 = lambda x, p: '{:,.0f}'.format(x)\n",
        "ax[1].yaxis.set_major_formatter(FF(dp2))\n",
        "ax[1].xaxis.set_major_formatter(FF(dp0))"
      ]
    },
    {
      "cell_type": "code",
      "execution_count": null,
      "metadata": {
        "colab": {
          "base_uri": "https://localhost:8080/",
          "height": 296
        },
        "id": "eEajV4QoFb6f",
        "outputId": "b511d56b-e1a8-489a-85a6-34297281e60a"
      },
      "outputs": [],
      "source": [
        "df['x'] = df['y'] * 2\n",
        "\n",
        "fig, ax = plt.subplots(1, 3, figsize=(12, 4))\n",
        "\n",
        "df.plot.bar(ax=ax[0])\n",
        "df.plot.bar(stacked=True, ax=ax[1])\n",
        "df.plot.scatter(x='x', y='y', ax=ax[2])"
      ]
    },
    {
      "cell_type": "markdown",
      "metadata": {
        "id": "oPqcvGzsFb6f"
      },
      "source": [
        "## bar chart"
      ]
    },
    {
      "cell_type": "code",
      "execution_count": null,
      "metadata": {
        "id": "IgBAIR5sFb6g"
      },
      "outputs": [],
      "source": [
        "import pandas as pd\n",
        "import numpy as np\n",
        "df = pd.DataFrame(np.random.randint(1, 20, 24).reshape(12, 2), columns=['con', 'gdp'],\n",
        "                  index = pd.date_range('2017-3-31', '2019-12-31', freq='Q'))"
      ]
    },
    {
      "cell_type": "code",
      "execution_count": null,
      "metadata": {
        "colab": {
          "base_uri": "https://localhost:8080/",
          "height": 377
        },
        "id": "jl3unOYeFb6g",
        "outputId": "affef664-72a4-4d1e-ea5c-2882e5da24c6"
      },
      "outputs": [],
      "source": [
        "import matplotlib.pyplot as plt\n",
        "\n",
        "fig, ax = plt.subplots(1, 1)\n",
        "\n",
        "df.plot.bar(ax=ax)"
      ]
    },
    {
      "cell_type": "code",
      "execution_count": null,
      "metadata": {
        "colab": {
          "base_uri": "https://localhost:8080/",
          "height": 277
        },
        "id": "CPq9dz58Fb6g",
        "outputId": "48d94540-e792-4d02-e554-48f741cd2d60"
      },
      "outputs": [],
      "source": [
        "import matplotlib.pyplot as plt\n",
        "\n",
        "fig, ax = plt.subplots(1, 1)\n",
        "\n",
        "df.plot.bar(ax=ax)\n",
        "\n",
        "ticklabels = [pd.to_datetime(t.get_text()).strftime('%b\\n%y') for t in ax.get_xticklabels()]\n",
        "ax.set_xticklabels(ticklabels, rotation=0);"
      ]
    },
    {
      "cell_type": "code",
      "execution_count": null,
      "metadata": {
        "id": "6NLy3GDwFb6g"
      },
      "outputs": [],
      "source": [
        "def xaxis_date_format(ax, fmt = '%y'):\n",
        "    '''fmt: '%b\\n%y', '%y-%m-%d', etc '''\n",
        "    ticklabels = [pd.to_datetime(t.get_text()).strftime(fmt) for t in ax.get_xticklabels()]\n",
        "    ax.set_xticklabels(ticklabels, rotation=0)"
      ]
    },
    {
      "cell_type": "markdown",
      "metadata": {
        "id": "qKGTAx5tmzAF"
      },
      "source": [
        "## 한글"
      ]
    },
    {
      "cell_type": "code",
      "execution_count": null,
      "metadata": {
        "colab": {
          "base_uri": "https://localhost:8080/",
          "height": 606
        },
        "id": "8rtNh9-Em6vo",
        "outputId": "5c8234de-3d24-412d-a7a9-64dc18b382f4"
      },
      "outputs": [],
      "source": [
        "import pandas as pd\n",
        "import numpy as np\n",
        "df = pd.DataFrame(np.random.randn(100).cumsum(), columns=['환율'])\n",
        "df.plot()"
      ]
    },
    {
      "cell_type": "markdown",
      "metadata": {
        "id": "AzbG6CMfeT2J"
      },
      "source": [
        "현재 matplotlib가 사용할 수 있는 한글폰트 확인"
      ]
    },
    {
      "cell_type": "code",
      "execution_count": null,
      "metadata": {
        "colab": {
          "base_uri": "https://localhost:8080/"
        },
        "id": "EHPZKLv0eSev",
        "outputId": "518ff707-a18f-4129-8077-8d15326f538e"
      },
      "outputs": [],
      "source": [
        "import matplotlib.font_manager as fm\n",
        "[f for f in fm.fontManager.ttflist if 'Nanum' in f.name]"
      ]
    },
    {
      "cell_type": "markdown",
      "metadata": {
        "id": "1Ajqpmaye2NY"
      },
      "source": [
        "나눔글꼴 설치(리눅스)"
      ]
    },
    {
      "cell_type": "code",
      "execution_count": null,
      "metadata": {
        "colab": {
          "base_uri": "https://localhost:8080/"
        },
        "id": "SDR1vHAwe7cW",
        "outputId": "5e475c4b-77ee-43c0-fec2-6893782786e8"
      },
      "outputs": [],
      "source": [
        "!apt-get -y install fonts-nanum"
      ]
    },
    {
      "cell_type": "markdown",
      "metadata": {
        "id": "OcJrhvOHfUsx"
      },
      "source": [
        "matplotlib가 사용할 수 있는 폰트 리스트를 재구성하고, 코랩 재시작"
      ]
    },
    {
      "cell_type": "code",
      "execution_count": null,
      "metadata": {
        "colab": {
          "base_uri": "https://localhost:8080/",
          "height": 193
        },
        "id": "h_hc8QKPfEWi",
        "outputId": "16176b98-90d7-4230-9f9b-aca25960992f"
      },
      "outputs": [],
      "source": [
        "import os\n",
        "\n",
        "fm._rebuild()\n",
        "os.kill(os.getpid(), 9)"
      ]
    },
    {
      "cell_type": "markdown",
      "metadata": {
        "id": "Lwu5Qm_tfPeL"
      },
      "source": [
        "현재 matplotlib가 사용할 수 있는 한글폰트 확인"
      ]
    },
    {
      "cell_type": "code",
      "execution_count": null,
      "metadata": {
        "id": "xC8_paBMP2vB"
      },
      "outputs": [],
      "source": []
    },
    {
      "cell_type": "code",
      "execution_count": null,
      "metadata": {
        "colab": {
          "base_uri": "https://localhost:8080/"
        },
        "id": "z4smCyJZfPeM",
        "outputId": "f2095c0c-873e-44ae-fdf1-fd0379bfb541"
      },
      "outputs": [],
      "source": [
        "import matplotlib.font_manager as fm\n",
        "[f for f in fm.fontManager.ttflist if 'Nanum' in f.name]"
      ]
    },
    {
      "cell_type": "markdown",
      "metadata": {
        "id": "rj2yFknNfKru"
      },
      "source": [
        "matplotlib에서 사용하려는 한글 폰트 지정하고, 그래프의 마이너스 라벨이 제대로 표시되도록 설정"
      ]
    },
    {
      "cell_type": "code",
      "execution_count": null,
      "metadata": {
        "id": "1REWbPVPrAvC"
      },
      "outputs": [],
      "source": [
        "import matplotlib.pyplot as plt\n",
        "\n",
        "plt.rc('font', family='NanumGothic')\n",
        "plt.rcParams['axes.unicode_minus'] = False"
      ]
    },
    {
      "cell_type": "code",
      "execution_count": null,
      "metadata": {
        "colab": {
          "base_uri": "https://localhost:8080/",
          "height": 1000
        },
        "id": "ymiKTxcGf-jw",
        "outputId": "532e1af0-8f20-4b95-ae1e-c0f9b15442f0"
      },
      "outputs": [],
      "source": [
        "import pandas as pd\n",
        "import numpy as np\n",
        "df = pd.DataFrame(np.random.randn(100).cumsum(), columns=['환율'])\n",
        "df.plot()"
      ]
    },
    {
      "cell_type": "markdown",
      "metadata": {
        "id": "aNN1r1O2Fb6g"
      },
      "source": [
        "# 연습문제\n",
        "\n",
        "1. 성인 500명에 대한 키(cm)와 몸무게(kg) 데이터를 아래 관계에 따라 데이터프레임으로 생성하시오\n",
        "\n",
        "$height \\sim norm(170, 15)$\n",
        "\n",
        "$weight = (height - 100)^{1.2} + u$, $u \\sim norm(0, 5)$\n",
        "\n",
        "2. 키와 몸무게 각각에 대한 히스토그램(5 kg/cm 구간)을 subplots을 이용하여 그리시오\n",
        "\n",
        "3. 키 180cm 이상 및 이하로 그룹을 나누어 키와 몸무게의 산포도를 그리시오"
      ]
    },
    {
      "cell_type": "code",
      "execution_count": null,
      "metadata": {
        "colab": {
          "base_uri": "https://localhost:8080/"
        },
        "id": "qyru7z-KEa0f",
        "outputId": "62077184-b05f-49ef-f048-d3d969b5f8a8"
      },
      "outputs": [],
      "source": [
        "!pip install countryinfo"
      ]
    },
    {
      "cell_type": "code",
      "execution_count": null,
      "metadata": {
        "colab": {
          "base_uri": "https://localhost:8080/"
        },
        "id": "hPbw6JI2F9G4",
        "outputId": "fb28b565-c3de-48ae-aca0-cf16c702a49d"
      },
      "outputs": [],
      "source": [
        "!pip install pycountry"
      ]
    },
    {
      "cell_type": "code",
      "execution_count": null,
      "metadata": {
        "id": "OAxOYj25EV0n"
      },
      "outputs": [],
      "source": [
        "import pycountry\n",
        "from countryinfo import CountryInfo"
      ]
    },
    {
      "cell_type": "code",
      "execution_count": null,
      "metadata": {
        "colab": {
          "base_uri": "https://localhost:8080/"
        },
        "id": "PLMomjsPGE2X",
        "outputId": "c9f5ba6b-4536-4e5f-ebfe-8196327b2325"
      },
      "outputs": [],
      "source": [
        "country_names = [country.name for country in pycountry.countries]\n",
        "\n",
        "[i for i in country_names if 'Korea' in i]"
      ]
    },
    {
      "cell_type": "code",
      "execution_count": null,
      "metadata": {
        "colab": {
          "base_uri": "https://localhost:8080/"
        },
        "id": "c2yAaRR1GcZ2",
        "outputId": "7eb837af-c149-48ac-cbc9-a0034cd5a17b"
      },
      "outputs": [],
      "source": [
        "country_dict = {}\n",
        "\n",
        "for country in pycountry.countries:\n",
        "  try:\n",
        "    if country.name == 'Korea, Republic of':\n",
        "      country.name = 'South Korea'\n",
        "    elif country.name == \"Korea, Democratic People's Republic of\":\n",
        "      country.name = 'North Korea'\n",
        "\n",
        "    country_info = CountryInfo(country.name)\n",
        "    info = {\n",
        "        'name': country.name,\n",
        "        'continent': country_info.region(),\n",
        "        'capital': country_info.capital(),\n",
        "        'currency': country_info.currencies(),\n",
        "        'language': country_info.languages(),\n",
        "        'borders': country_info.borders()\n",
        "    }\n",
        "    country_dict[country.alpha_3] = info\n",
        "\n",
        "  except KeyError:\n",
        "    print('country name error: ', country.name)\n",
        "    continue\n"
      ]
    },
    {
      "cell_type": "code",
      "execution_count": null,
      "metadata": {
        "colab": {
          "base_uri": "https://localhost:8080/"
        },
        "id": "hJAonWH1HlJB",
        "outputId": "25aa6635-dc14-4742-a508-95080e143f30"
      },
      "outputs": [],
      "source": [
        "print(country_dict['KOR'])\n",
        "print(country_dict['PRK'])"
      ]
    },
    {
      "cell_type": "code",
      "execution_count": null,
      "metadata": {
        "id": "Sws0dGycVaKO"
      },
      "outputs": [],
      "source": [
        "!apt-get update -qq\n",
        "!apt-get install -qq fonts-nanum"
      ]
    },
    {
      "cell_type": "code",
      "execution_count": null,
      "metadata": {
        "colab": {
          "base_uri": "https://localhost:8080/"
        },
        "id": "_umN1k_CV5FC",
        "outputId": "4bd7619e-098b-4069-8e10-0e28f3a6ad21"
      },
      "outputs": [],
      "source": [
        "!sudo apt-get install -y fonts-nanum"
      ]
    },
    {
      "cell_type": "code",
      "execution_count": null,
      "metadata": {
        "colab": {
          "base_uri": "https://localhost:8080/"
        },
        "id": "5ERv6jPpWbXK",
        "outputId": "1233a050-e9ae-461f-f9d1-1fad818b7be7"
      },
      "outputs": [],
      "source": [
        "!sudo fc-cache -fv\n",
        "!rm ~/.cache/matplotlib -rf"
      ]
    },
    {
      "cell_type": "code",
      "execution_count": null,
      "metadata": {
        "id": "jn0rnIeGWfn4"
      },
      "outputs": [],
      "source": [
        "import matplotlib.pyplot as plt\n",
        "\n",
        "plt.rc('font', family = 'NanumBarunGothic')"
      ]
    },
    {
      "cell_type": "code",
      "execution_count": null,
      "metadata": {
        "colab": {
          "base_uri": "https://localhost:8080/",
          "height": 537
        },
        "id": "ixrYimTVWwPs",
        "outputId": "283acf04-4837-4763-cf9a-7137b89a7987"
      },
      "outputs": [],
      "source": [
        "import pandas as pd\n",
        "import numpy as np\n",
        "df = pd.DataFrame(np.random.randn(100).cumsum(), columns=['환율'])\n",
        "df.plot()"
      ]
    }
  ],
  "metadata": {
    "colab": {
      "collapsed_sections": [
        "EvgmlRAkFb6V",
        "WVXOvyFEFb6V",
        "HHBvtS69Fb6b",
        "Aa4YU84eFb6c",
        "M42uPNdAFb6c",
        "FLdjst57Fb6c",
        "K4GQbJDoFb6f",
        "oPqcvGzsFb6f",
        "aNN1r1O2Fb6g"
      ],
      "include_colab_link": true,
      "name": "pandas.ipynb",
      "provenance": [],
      "toc_visible": true
    },
    "kernelspec": {
      "display_name": "Python 3",
      "language": "python",
      "name": "python3"
    },
    "language_info": {
      "codemirror_mode": {
        "name": "ipython",
        "version": 3
      },
      "file_extension": ".py",
      "mimetype": "text/x-python",
      "name": "python",
      "nbconvert_exporter": "python",
      "pygments_lexer": "ipython3",
      "version": "3.8.5"
    }
  },
  "nbformat": 4,
  "nbformat_minor": 0
}
