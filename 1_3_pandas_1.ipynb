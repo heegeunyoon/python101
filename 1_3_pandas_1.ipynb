{
  "cells": [
    {
      "cell_type": "markdown",
      "metadata": {
        "id": "view-in-github",
        "colab_type": "text"
      },
      "source": [
        "<a href=\"https://colab.research.google.com/github/heegeunyoon/python101/blob/main/1_3_pandas_1.ipynb\" target=\"_parent\"><img src=\"https://colab.research.google.com/assets/colab-badge.svg\" alt=\"Open In Colab\"/></a>"
      ]
    },
    {
      "cell_type": "markdown",
      "metadata": {
        "id": "KSG_VOunFb5-"
      },
      "source": [
        "# 자료형: 데이터프레임\n",
        "\n",
        "1. 넘파이 2차원 리스트/어레이를 입력변수로 하여 생성\n",
        "2. 칼럼이름과 1차원 리스트/어레이으로 구성된 딕셔너리를 입력변수로 하여 생성"
      ]
    },
    {
      "cell_type": "code",
      "execution_count": null,
      "metadata": {
        "id": "82inE3YJFb5_"
      },
      "outputs": [],
      "source": [
        "import pandas as pd"
      ]
    },
    {
      "cell_type": "code",
      "execution_count": null,
      "metadata": {
        "id": "KPKC8iAUFb6A"
      },
      "outputs": [],
      "source": [
        "df = pd.DataFrame([[1, 2], [3, 4]])"
      ]
    },
    {
      "cell_type": "code",
      "execution_count": null,
      "metadata": {
        "id": "QdDnrM1oFb6A"
      },
      "outputs": [],
      "source": [
        "df"
      ]
    },
    {
      "cell_type": "code",
      "execution_count": null,
      "metadata": {
        "id": "1xKOId6lFb6B"
      },
      "outputs": [],
      "source": [
        "type(df)"
      ]
    },
    {
      "cell_type": "code",
      "execution_count": null,
      "metadata": {
        "id": "qXVNvM_pFusJ"
      },
      "outputs": [],
      "source": [
        "type(df)==pd.DataFrame"
      ]
    },
    {
      "cell_type": "code",
      "execution_count": null,
      "metadata": {
        "id": "L09G9vkSFb6B"
      },
      "outputs": [],
      "source": [
        "df.set_index(0)"
      ]
    },
    {
      "cell_type": "code",
      "execution_count": null,
      "metadata": {
        "id": "g2_fSU7AFb6C"
      },
      "outputs": [],
      "source": [
        "df = pd.DataFrame([[1, 2], [3, 4], [5, 6]])"
      ]
    },
    {
      "cell_type": "code",
      "execution_count": null,
      "metadata": {
        "id": "0e3L0i4zFb6C"
      },
      "outputs": [],
      "source": [
        "df"
      ]
    },
    {
      "cell_type": "code",
      "execution_count": null,
      "metadata": {
        "id": "p0Tg0JDTFb6D"
      },
      "outputs": [],
      "source": [
        "df.columns = ['KOR', 'USA']"
      ]
    },
    {
      "cell_type": "code",
      "execution_count": null,
      "metadata": {
        "id": "fE4Ig6KUFb6D"
      },
      "outputs": [],
      "source": [
        "df.index = [17, 18, 19]"
      ]
    },
    {
      "cell_type": "code",
      "execution_count": null,
      "metadata": {
        "id": "pNMbiNgLFb6E"
      },
      "outputs": [],
      "source": [
        "df"
      ]
    },
    {
      "cell_type": "code",
      "execution_count": null,
      "metadata": {
        "id": "MBrZ5RQuiW-X"
      },
      "outputs": [],
      "source": [
        "df = pd.DataFrame({'a':[1, 2], 'b':[3, 4]})"
      ]
    },
    {
      "cell_type": "code",
      "execution_count": null,
      "metadata": {
        "id": "jq5USPn8ic3q"
      },
      "outputs": [],
      "source": [
        "df"
      ]
    },
    {
      "cell_type": "markdown",
      "metadata": {
        "id": "inyWlFCUFb6E"
      },
      "source": [
        "- 데이터프레임 통계량"
      ]
    },
    {
      "cell_type": "code",
      "execution_count": null,
      "metadata": {
        "id": "ABNxEuSYFb6E"
      },
      "outputs": [],
      "source": [
        "df.mean()"
      ]
    },
    {
      "cell_type": "code",
      "execution_count": null,
      "metadata": {
        "id": "JTqH_nJcFb6F"
      },
      "outputs": [],
      "source": [
        "df.mean().to_frame('mean')"
      ]
    },
    {
      "cell_type": "code",
      "execution_count": null,
      "metadata": {
        "id": "C8m0lm2bXQ-N"
      },
      "outputs": [],
      "source": [
        "df.apply(['mean', 'median', 'sum', 'std'])  # prod"
      ]
    },
    {
      "cell_type": "markdown",
      "metadata": {
        "id": "-8qrybUDFb6F"
      },
      "source": [
        "## 슬라이스"
      ]
    },
    {
      "cell_type": "code",
      "execution_count": null,
      "metadata": {
        "id": "zVFPkseuFb6F"
      },
      "outputs": [],
      "source": [
        "df"
      ]
    },
    {
      "cell_type": "code",
      "execution_count": null,
      "metadata": {
        "id": "-n9-0WnlFb6F"
      },
      "outputs": [],
      "source": [
        "df.loc[18:, :]"
      ]
    },
    {
      "cell_type": "code",
      "execution_count": null,
      "metadata": {
        "id": "gQZN7ISXFb6G"
      },
      "outputs": [],
      "source": [
        "df.loc[17, :]"
      ]
    },
    {
      "cell_type": "code",
      "execution_count": null,
      "metadata": {
        "id": "P0xVGoqFFb6G"
      },
      "outputs": [],
      "source": [
        "df.loc[[17]]"
      ]
    },
    {
      "cell_type": "code",
      "execution_count": null,
      "metadata": {
        "id": "_Jni6I5OFb6G"
      },
      "outputs": [],
      "source": [
        "df = df.loc[18:, :].copy()"
      ]
    },
    {
      "cell_type": "markdown",
      "metadata": {
        "id": "A41vwQa8Fb6H"
      },
      "source": [
        "- 값 지정"
      ]
    },
    {
      "cell_type": "code",
      "execution_count": null,
      "metadata": {
        "id": "YMxrIhwkFb6H"
      },
      "outputs": [],
      "source": [
        "df"
      ]
    },
    {
      "cell_type": "code",
      "execution_count": null,
      "metadata": {
        "id": "X0bN1bOaFb6H"
      },
      "outputs": [],
      "source": [
        "df.loc[18, 'KOR'] = 0"
      ]
    },
    {
      "cell_type": "code",
      "execution_count": null,
      "metadata": {
        "id": "LQENYkKOFb6H"
      },
      "outputs": [],
      "source": [
        "df"
      ]
    },
    {
      "cell_type": "code",
      "execution_count": null,
      "metadata": {
        "id": "WqspKdNaFb6H"
      },
      "outputs": [],
      "source": [
        "df.loc[:, 'USA'] = 1"
      ]
    },
    {
      "cell_type": "code",
      "execution_count": null,
      "metadata": {
        "id": "XdrGp4lLFb6H"
      },
      "outputs": [],
      "source": [
        "df"
      ]
    },
    {
      "cell_type": "code",
      "execution_count": null,
      "metadata": {
        "id": "6L_-qYKYFb6I"
      },
      "outputs": [],
      "source": [
        "df.loc[:, :] = [[1, 2], [3, 4]]"
      ]
    },
    {
      "cell_type": "code",
      "execution_count": null,
      "metadata": {
        "id": "YZiRi6yLFb6I"
      },
      "outputs": [],
      "source": [
        "df"
      ]
    },
    {
      "cell_type": "code",
      "execution_count": null,
      "metadata": {
        "id": "WEL4erYjFb6I"
      },
      "outputs": [],
      "source": [
        "df = [[1, 2], [3, 4]]"
      ]
    },
    {
      "cell_type": "code",
      "execution_count": null,
      "metadata": {
        "id": "8i_pNlvmFb6I"
      },
      "outputs": [],
      "source": [
        "df"
      ]
    },
    {
      "cell_type": "markdown",
      "metadata": {
        "id": "FvfXMKPVFb6I"
      },
      "source": [
        "## 멀티인덱스"
      ]
    },
    {
      "cell_type": "code",
      "execution_count": null,
      "metadata": {
        "id": "llFendVRFb6I"
      },
      "outputs": [],
      "source": [
        "df = pd.DataFrame({'country':['USA', 'KOR', 'USA', 'KOR'],\n",
        "                   'pop':[1, 2, 3, 4],\n",
        "                   'gdp':[3, 4, 5, 6]},\n",
        "                  index = [16, 16, 17, 17])"
      ]
    },
    {
      "cell_type": "code",
      "execution_count": null,
      "metadata": {
        "id": "zRMikIq-Fb6J"
      },
      "outputs": [],
      "source": [
        "df"
      ]
    },
    {
      "cell_type": "code",
      "execution_count": null,
      "metadata": {
        "id": "tkeihnctFb6J"
      },
      "outputs": [],
      "source": [
        "df = df.set_index('country', append=True)"
      ]
    },
    {
      "cell_type": "code",
      "execution_count": null,
      "metadata": {
        "id": "3rHSjfjfFb6J"
      },
      "outputs": [],
      "source": [
        "df"
      ]
    },
    {
      "cell_type": "code",
      "execution_count": null,
      "metadata": {
        "id": "sf0QR9hHFb6J"
      },
      "outputs": [],
      "source": [
        "from pandas import MultiIndex as MI"
      ]
    },
    {
      "cell_type": "code",
      "execution_count": null,
      "metadata": {
        "id": "siMrWviQFb6J"
      },
      "outputs": [],
      "source": [
        "df.index = MI.from_product([['16', '17'], ['미국', '한국']])"
      ]
    },
    {
      "cell_type": "code",
      "execution_count": null,
      "metadata": {
        "id": "ZMrhzfKWFb6J"
      },
      "outputs": [],
      "source": [
        "df"
      ]
    },
    {
      "cell_type": "code",
      "execution_count": null,
      "metadata": {
        "id": "5VHxRRa2Fb6K"
      },
      "outputs": [],
      "source": [
        "df.index = [':'.join(c).strip() for c in df.index.values]"
      ]
    },
    {
      "cell_type": "code",
      "execution_count": null,
      "metadata": {
        "id": "CqhnEpXCFb6K"
      },
      "outputs": [],
      "source": [
        "df"
      ]
    },
    {
      "cell_type": "code",
      "execution_count": null,
      "metadata": {
        "id": "wPjt_0TpFb6K"
      },
      "outputs": [],
      "source": [
        "df.index.str.split(':').tolist()"
      ]
    },
    {
      "cell_type": "markdown",
      "metadata": {
        "id": "OL6mTBMuXuEv"
      },
      "source": [
        "라벨이 주어진 형태에 따라 멀티인덱스 생성 함수를 선택\n",
        "\n",
        "\n",
        "```\n",
        "- from_tuples() : [['16', '미국'], ['16', '한국'], ['17', '미국'], ['17', '한국']]\n",
        "- from_product() : [['16', '17'], ['미국', '한국']]\n",
        "- from_arrays() : [['16', '16', '17', '17'], ['미국', '미국', '한국', '한국']]\n",
        "```"
      ]
    },
    {
      "cell_type": "code",
      "execution_count": null,
      "metadata": {
        "id": "Q8splM2pFb6K"
      },
      "outputs": [],
      "source": [
        "df.index = MI.from_tuples(df.index.str.split(':').tolist())"
      ]
    },
    {
      "cell_type": "code",
      "execution_count": null,
      "metadata": {
        "id": "CME_jUWeFb6K"
      },
      "outputs": [],
      "source": [
        "df"
      ]
    },
    {
      "cell_type": "markdown",
      "metadata": {
        "id": "xTSiA2zcFb6K"
      },
      "source": [
        "IndexSlice: 다양한 층위에서 데이터 선택"
      ]
    },
    {
      "cell_type": "code",
      "execution_count": null,
      "metadata": {
        "id": "ZUd5WGaFFb6K"
      },
      "outputs": [],
      "source": [
        "df = pd.DataFrame({'country':['USA', 'KOR', 'USA', 'KOR'],\n",
        "                   'pop':[1, 2, 3, 4],\n",
        "                   'gdp':[3, 4, 5, 6]},\n",
        "                  index = [16, 16, 17, 17])"
      ]
    },
    {
      "cell_type": "code",
      "execution_count": null,
      "metadata": {
        "id": "0Qnx37FrFb6L"
      },
      "outputs": [],
      "source": [
        "df = df.set_index('country', append=True)"
      ]
    },
    {
      "cell_type": "code",
      "execution_count": null,
      "metadata": {
        "id": "9AFbUmSnFb6L"
      },
      "outputs": [],
      "source": [
        "idx = pd.IndexSlice"
      ]
    },
    {
      "cell_type": "code",
      "execution_count": null,
      "metadata": {
        "id": "vKt3N6P7Fb6L"
      },
      "outputs": [],
      "source": [
        "df.loc[idx[:, 'USA'], :]"
      ]
    },
    {
      "cell_type": "code",
      "execution_count": null,
      "metadata": {
        "id": "q6HeKk_DFb6L"
      },
      "outputs": [],
      "source": [
        "df.loc[idx[16, 'USA'], :]"
      ]
    },
    {
      "cell_type": "code",
      "execution_count": null,
      "metadata": {
        "id": "gVwZilgIFb6L"
      },
      "outputs": [],
      "source": [
        "df = pd.DataFrame({'country':['USA', 'KOR', 'USA', 'KOR'],\n",
        "                   'pop':[1, 2, 3, 4],\n",
        "                   'gdp':[3, 4, 5, 6]},\n",
        "                  index = [16, 16, 17, 17])"
      ]
    },
    {
      "cell_type": "code",
      "execution_count": null,
      "metadata": {
        "id": "ogWJ7-IHFb6L"
      },
      "outputs": [],
      "source": [
        "df"
      ]
    },
    {
      "cell_type": "code",
      "execution_count": null,
      "metadata": {
        "id": "lbO_yKewFb6L"
      },
      "outputs": [],
      "source": [
        "df.loc[df['pop'].ge(3)]"
      ]
    },
    {
      "cell_type": "code",
      "execution_count": null,
      "metadata": {
        "id": "6EUgpJzrFb6M"
      },
      "outputs": [],
      "source": [
        "df"
      ]
    },
    {
      "cell_type": "code",
      "execution_count": null,
      "metadata": {
        "id": "wkB6zT6TFb6M"
      },
      "outputs": [],
      "source": [
        "df.loc[df.country.isin(['USA', 'JPN'])]"
      ]
    },
    {
      "cell_type": "markdown",
      "metadata": {
        "id": "rjyhnkPTFb6M"
      },
      "source": [
        "- droplevels\n",
        "- get_level_values\n",
        "- reorder_levels"
      ]
    },
    {
      "cell_type": "code",
      "execution_count": null,
      "metadata": {
        "id": "2ZdVvSvAFb6M"
      },
      "outputs": [],
      "source": [
        "df"
      ]
    },
    {
      "cell_type": "code",
      "execution_count": null,
      "metadata": {
        "id": "nP0xVFvJFb6M"
      },
      "outputs": [],
      "source": [
        "df = df.set_index('country', append=True)"
      ]
    },
    {
      "cell_type": "code",
      "execution_count": null,
      "metadata": {
        "id": "57HNR0HLFb6M"
      },
      "outputs": [],
      "source": [
        "df.index.names = ['yr', 'country']"
      ]
    },
    {
      "cell_type": "code",
      "execution_count": null,
      "metadata": {
        "id": "hty55evqFb6N"
      },
      "outputs": [],
      "source": [
        "df"
      ]
    },
    {
      "cell_type": "code",
      "execution_count": null,
      "metadata": {
        "id": "pyTNXzmvFb6N"
      },
      "outputs": [],
      "source": [
        "df.index.get_level_values(0).unique()"
      ]
    },
    {
      "cell_type": "code",
      "execution_count": null,
      "metadata": {
        "id": "NKl-hA3xFb6N"
      },
      "outputs": [],
      "source": [
        "df.index.get_level_values(1).unique()"
      ]
    },
    {
      "cell_type": "code",
      "execution_count": null,
      "metadata": {
        "id": "JphVi29kFb6N"
      },
      "outputs": [],
      "source": [
        "df = df.loc[idx[:, 'USA'], :]"
      ]
    },
    {
      "cell_type": "code",
      "execution_count": null,
      "metadata": {
        "id": "QlhDiRfiFb6N"
      },
      "outputs": [],
      "source": [
        "df"
      ]
    },
    {
      "cell_type": "code",
      "execution_count": null,
      "metadata": {
        "id": "l2QWkTNXFb6N"
      },
      "outputs": [],
      "source": [
        "df.index = df.index.droplevel(level = 1)"
      ]
    },
    {
      "cell_type": "code",
      "execution_count": null,
      "metadata": {
        "id": "CwW-khqYFb6N"
      },
      "outputs": [],
      "source": [
        "df"
      ]
    },
    {
      "cell_type": "markdown",
      "metadata": {
        "id": "TZXWDtRuFb6O"
      },
      "source": [
        "## 연습문제\n",
        "\n",
        "1.  연도(2017~2020), 국가별(kr, us, jp) 경제성장률과 물가상승률 데이터프레임을 생성하시오\n",
        "    - 인덱스 첫번째 레벨은 연도, 두번째 레벨은 국가명, 칼럼 라벨은 [gdp, inf]\n",
        "    - 경제성장률과 물가상승률은 넘파이 랜덤표본 이용\n",
        "\n",
        "3.  2018년 이후 국가별 경제성장률과 물가상승률을 보이시오"
      ]
    },
    {
      "cell_type": "markdown",
      "metadata": {
        "id": "TZI5iU7wFb6O"
      },
      "source": [
        "# 연산"
      ]
    },
    {
      "cell_type": "code",
      "execution_count": null,
      "metadata": {
        "id": "x1Riglx2Fb6O"
      },
      "outputs": [],
      "source": [
        "# 데이터프레임을 병렬로 표시하기 위한 함수 정의\n",
        "from IPython.display import display_html\n",
        "def display_by_side(*args):\n",
        "    html_str=''\n",
        "    for df in args:\n",
        "        html_str+=df.to_html()\n",
        "    display_html(html_str.replace('table','table style=\"display:inline\"'),raw=True)"
      ]
    },
    {
      "cell_type": "code",
      "execution_count": null,
      "metadata": {
        "id": "cgS0MsnGFb6O"
      },
      "outputs": [],
      "source": [
        "df = pd.DataFrame({'KOR':[1, 3], 'USA':[2, 4]})"
      ]
    },
    {
      "cell_type": "code",
      "execution_count": null,
      "metadata": {
        "id": "6ui4W9sPFb6P"
      },
      "outputs": [],
      "source": [
        "df1 = df + 10"
      ]
    },
    {
      "cell_type": "code",
      "execution_count": null,
      "metadata": {
        "id": "A0SMErWnFb6P"
      },
      "outputs": [],
      "source": [
        "df1.columns = ['USA', 'CHN']"
      ]
    },
    {
      "cell_type": "code",
      "execution_count": null,
      "metadata": {
        "id": "i_EoQTidFb6P"
      },
      "outputs": [],
      "source": [
        "display_by_side(df1, df + df1)"
      ]
    },
    {
      "cell_type": "code",
      "execution_count": null,
      "metadata": {
        "id": "9y3TvVHBFb6P"
      },
      "outputs": [],
      "source": [
        "display(df, df.T)"
      ]
    },
    {
      "cell_type": "code",
      "execution_count": null,
      "metadata": {
        "id": "gy-VVs5zFb6P"
      },
      "outputs": [],
      "source": [
        "df.dot(df.T)"
      ]
    },
    {
      "cell_type": "code",
      "execution_count": null,
      "metadata": {
        "id": "jiUXEJ29Fb6P"
      },
      "outputs": [],
      "source": [
        "df.T.dot(df)"
      ]
    },
    {
      "cell_type": "code",
      "execution_count": null,
      "metadata": {
        "id": "H1XtL82SFb6Q"
      },
      "outputs": [],
      "source": [
        "df.dot(df)"
      ]
    },
    {
      "cell_type": "code",
      "execution_count": null,
      "metadata": {
        "id": "KsbUXKftFb6Q"
      },
      "outputs": [],
      "source": [
        "df1 = pd.DataFrame({'USA':[1, 3], 'CHN':[2, 4]})\n",
        "df2 = pd.DataFrame({'JPN':[2, 4], 'KOR':[6, 8]})"
      ]
    },
    {
      "cell_type": "code",
      "execution_count": null,
      "metadata": {
        "id": "yT7WQIaeFb6Q"
      },
      "outputs": [],
      "source": [
        "display(df1, df2)"
      ]
    },
    {
      "cell_type": "code",
      "execution_count": null,
      "metadata": {
        "id": "-uOYUIFgFb6Q"
      },
      "outputs": [],
      "source": [
        "pd.concat([df1, df2], axis = 1)"
      ]
    },
    {
      "cell_type": "code",
      "execution_count": null,
      "metadata": {
        "id": "zoE2i4Q7Fb6Q"
      },
      "outputs": [],
      "source": [
        "pd.concat([df1, df2], axis = 0)"
      ]
    },
    {
      "cell_type": "markdown",
      "metadata": {
        "id": "1QanSsPDFb6Q"
      },
      "source": [
        "## merge, concat\n",
        "\n"
      ]
    },
    {
      "cell_type": "code",
      "execution_count": null,
      "metadata": {
        "id": "Y7QvZRLOKNF0"
      },
      "outputs": [],
      "source": [
        "print(df1)\n",
        "print(df2)"
      ]
    },
    {
      "cell_type": "code",
      "execution_count": null,
      "metadata": {
        "id": "CguyYdjRFb6Q"
      },
      "outputs": [],
      "source": [
        "df2.columns = ['CHN', 'KOR']"
      ]
    },
    {
      "cell_type": "code",
      "execution_count": null,
      "metadata": {
        "id": "GJkoc5dBKVkg"
      },
      "outputs": [],
      "source": [
        "print(df1)\n",
        "print('')\n",
        "print(df2)"
      ]
    },
    {
      "cell_type": "code",
      "execution_count": null,
      "metadata": {
        "id": "UP0uAmN3Fb6R"
      },
      "outputs": [],
      "source": [
        "df1.merge(df2, on = 'CHN', how = 'left')"
      ]
    },
    {
      "cell_type": "markdown",
      "metadata": {
        "id": "Z83FoLYFFb6R"
      },
      "source": [
        "## add, sub, mul, div"
      ]
    },
    {
      "cell_type": "code",
      "execution_count": null,
      "metadata": {
        "id": "l37XvMbiKqen"
      },
      "outputs": [],
      "source": [
        "df"
      ]
    },
    {
      "cell_type": "code",
      "execution_count": null,
      "metadata": {
        "id": "Ose41ZpMKnGp"
      },
      "outputs": [],
      "source": [
        "print(df.sum(axis=0))\n",
        "print('')\n",
        "print(df.sum(axis=1))"
      ]
    },
    {
      "cell_type": "code",
      "execution_count": null,
      "metadata": {
        "id": "iig9sQlPK_Co"
      },
      "outputs": [],
      "source": [
        "df['Total']"
      ]
    },
    {
      "cell_type": "code",
      "execution_count": null,
      "metadata": {
        "id": "nuXeYsyaFb6R"
      },
      "outputs": [],
      "source": [
        "df['Total'] = df.sum(axis = 1)\n",
        "df"
      ]
    },
    {
      "cell_type": "code",
      "execution_count": null,
      "metadata": {
        "id": "6h2nFaPpFb6R"
      },
      "outputs": [],
      "source": [
        "df.div(df.Total, axis = 0)"
      ]
    },
    {
      "cell_type": "code",
      "execution_count": null,
      "metadata": {
        "id": "UMO_Zgs1Fb6R"
      },
      "outputs": [],
      "source": [
        "df.div(df.Total, axis = 1)"
      ]
    },
    {
      "cell_type": "markdown",
      "metadata": {
        "id": "O46OqJEnFb6R"
      },
      "source": [
        "## cut, qcut\n",
        "\n",
        "- 숫자 데이터를 범주형 데이터로 변환"
      ]
    },
    {
      "cell_type": "code",
      "execution_count": null,
      "metadata": {
        "id": "vacW6ZpHFb6R"
      },
      "outputs": [],
      "source": [
        "from numpy.random import randint\n",
        "df = pd.DataFrame({'a':range(4), 'b':randint(1,10,4)})\n",
        "df"
      ]
    },
    {
      "cell_type": "code",
      "execution_count": null,
      "metadata": {
        "id": "eI2fE8V5Fb6S"
      },
      "outputs": [],
      "source": [
        "pd.cut(df.b, [0, 5, 10])"
      ]
    },
    {
      "cell_type": "code",
      "execution_count": null,
      "metadata": {
        "id": "vCRKd05rFb6S"
      },
      "outputs": [],
      "source": [
        "df.loc[:, 'c'] = pd.cut(df.b, [0, 5, 10], labels=False)"
      ]
    },
    {
      "cell_type": "code",
      "execution_count": null,
      "metadata": {
        "id": "xn7zvZKSFb6S"
      },
      "outputs": [],
      "source": [
        "df"
      ]
    },
    {
      "cell_type": "code",
      "execution_count": null,
      "metadata": {
        "id": "_08fMH40Fb6S"
      },
      "outputs": [],
      "source": [
        "pd.qcut(df.b, 2)"
      ]
    },
    {
      "cell_type": "markdown",
      "metadata": {
        "id": "1ob2Q1l0Fb6S"
      },
      "source": [
        "## groupby"
      ]
    },
    {
      "cell_type": "code",
      "execution_count": null,
      "metadata": {
        "id": "I8C-x8ScFb6S"
      },
      "outputs": [],
      "source": [
        "df = pd.DataFrame({'country':['USA', 'KOR', 'USA', 'KOR'],\n",
        "                   'pop':[1, 2, 3, 4],\n",
        "                   'gdp':[3, 4, 5, 6]},\n",
        "                  index = [16, 16, 17, 17])"
      ]
    },
    {
      "cell_type": "code",
      "execution_count": null,
      "metadata": {
        "id": "O4oI-gZpLNaH"
      },
      "outputs": [],
      "source": [
        "df"
      ]
    },
    {
      "cell_type": "code",
      "execution_count": null,
      "metadata": {
        "id": "goXsR01iFb6S"
      },
      "outputs": [],
      "source": [
        "df.groupby('country').mean()"
      ]
    },
    {
      "cell_type": "code",
      "execution_count": null,
      "metadata": {
        "id": "lqFZ7Hh8Fb6S"
      },
      "outputs": [],
      "source": [
        "df = df[['pop', 'gdp']]"
      ]
    },
    {
      "cell_type": "code",
      "execution_count": null,
      "metadata": {
        "id": "E9xWkOwvFb6T"
      },
      "outputs": [],
      "source": [
        "df.groupby(pd.cut(df['pop'], [0, 2, 4]))['gdp'].mean()"
      ]
    },
    {
      "cell_type": "markdown",
      "metadata": {
        "id": "FMHEb2UbFb6T"
      },
      "source": [
        "## lambda 함수"
      ]
    },
    {
      "cell_type": "code",
      "execution_count": null,
      "metadata": {
        "id": "8hMRuiDFLg0T"
      },
      "outputs": [],
      "source": [
        "def cal_square(x):\n",
        "  return x**2"
      ]
    },
    {
      "cell_type": "code",
      "execution_count": null,
      "metadata": {
        "id": "7x6M5I2sFb6U"
      },
      "outputs": [],
      "source": [
        "square = lambda x: x * x"
      ]
    },
    {
      "cell_type": "code",
      "execution_count": null,
      "metadata": {
        "id": "UdS8A-5NFb6U"
      },
      "outputs": [],
      "source": [
        "square(2)"
      ]
    },
    {
      "cell_type": "code",
      "execution_count": null,
      "metadata": {
        "id": "wlJDm7ATLywO"
      },
      "outputs": [],
      "source": [
        "cal_square(2)"
      ]
    },
    {
      "cell_type": "markdown",
      "metadata": {
        "id": "Texb31pkFb6U"
      },
      "source": [
        "## apply/applymap/map"
      ]
    },
    {
      "cell_type": "code",
      "execution_count": null,
      "metadata": {
        "id": "RABzpkabFb6U"
      },
      "outputs": [],
      "source": [
        "df = pd.DataFrame({'country':['USA', 'KOR', 'USA', 'KOR'],\n",
        "                   'pop':[1, 2, 3, 4],\n",
        "                   'gdp':[3, 4, 5, 6]},\n",
        "                  index = [16, 16, 17, 17])"
      ]
    },
    {
      "cell_type": "code",
      "execution_count": null,
      "metadata": {
        "id": "P8B0nWbLL-d7"
      },
      "outputs": [],
      "source": [
        "df[['pop', 'gdp']].apply(lambda x: x+100)"
      ]
    },
    {
      "cell_type": "code",
      "execution_count": null,
      "metadata": {
        "id": "4eslS_DSMJIi"
      },
      "outputs": [],
      "source": [
        "df[['pop', 'gdp']].apply(lambda x: x.div(x.sum()))"
      ]
    },
    {
      "cell_type": "code",
      "execution_count": null,
      "metadata": {
        "id": "qy7ZDNGVFb6U"
      },
      "outputs": [],
      "source": [
        "df[['pop', 'gdp']].apply(lambda x: x.div(x.sum()))"
      ]
    },
    {
      "cell_type": "code",
      "execution_count": null,
      "metadata": {
        "id": "j-fk7mzNFb6V"
      },
      "outputs": [],
      "source": [
        "df = df[['pop', 'gdp']].apply(lambda x: x.div(x.sum()))\n",
        "df.applymap(lambda x: '{:,.2f}'.format(x))"
      ]
    },
    {
      "cell_type": "markdown",
      "metadata": {
        "id": "EvgmlRAkFb6V"
      },
      "source": [
        "## stack/unstack"
      ]
    },
    {
      "cell_type": "code",
      "execution_count": null,
      "metadata": {
        "id": "WsCMBSD5Fb6V"
      },
      "outputs": [],
      "source": [
        "df = pd.DataFrame({'country':['USA', 'KOR', 'USA', 'KOR'],\n",
        "                   'pop':[1, 2, 3, 4],\n",
        "                   'gdp':[3, 4, 5, 6]},\n",
        "                  index = [16, 16, 17, 17])\n",
        "\n",
        "df = df.set_index('country', append=True)"
      ]
    },
    {
      "cell_type": "code",
      "execution_count": null,
      "metadata": {
        "id": "Nme-3ZupFb6V"
      },
      "outputs": [],
      "source": [
        "df.unstack(level = 1)"
      ]
    },
    {
      "cell_type": "code",
      "execution_count": null,
      "metadata": {
        "id": "q0UGrRKaFb6V"
      },
      "outputs": [],
      "source": []
    },
    {
      "cell_type": "code",
      "execution_count": null,
      "metadata": {
        "id": "HMs9Lko9Fb6V"
      },
      "outputs": [],
      "source": []
    },
    {
      "cell_type": "markdown",
      "metadata": {
        "id": "WVXOvyFEFb6V"
      },
      "source": [
        "## 연습문제"
      ]
    },
    {
      "cell_type": "markdown",
      "metadata": {
        "id": "SoygnEUIFb6V"
      },
      "source": [
        "1.  앞에서 계산한 연도(2017~2020), 국가별(kr, us, jp) 경제성장률과 물가상승률 데이터프레임을 이용하여\n",
        "    - 2018년 이후 국가별 평균 경제성장률과 물가상승률을 계산하라\n",
        "    - 2018년 이후 한국과 미국의 연도별 평균경제성장률을 계산하라\n",
        "\n",
        "2.  같은 방식으로 중국(cn)의 경제성장률과 물가상승률 데이터프레임을 생성하여 결합하라\n",
        "\n",
        "3.  4개 국가 평균 경제성장률이 0보다 큰 연도를 찾아라"
      ]
    },
    {
      "cell_type": "markdown",
      "metadata": {
        "id": "AIVC5jL6Fb6W"
      },
      "source": [
        "# 시계열"
      ]
    },
    {
      "cell_type": "code",
      "execution_count": null,
      "metadata": {
        "id": "SMEEgBwhMZVv"
      },
      "outputs": [],
      "source": [
        "a = np.random.randint(1, 20, 24)\n",
        "print(a)\n",
        "print(np.shape(a))\n",
        "\n",
        "print(a.reshape(12, 2))\n",
        "print(np.shape(a.reshape(12, 2)))"
      ]
    },
    {
      "cell_type": "code",
      "execution_count": null,
      "metadata": {
        "id": "llGpNcujM-kO"
      },
      "outputs": [],
      "source": [
        "pd.DataFrame(np.random.randint(1, 20, 24).reshape(12, 2), columns=['con', 'gdp'])"
      ]
    },
    {
      "cell_type": "code",
      "execution_count": null,
      "metadata": {
        "id": "e421xR4yFb6W"
      },
      "outputs": [],
      "source": [
        "import numpy as np\n",
        "df = pd.DataFrame(np.random.randint(1, 20, 24).reshape(12, 2), columns=['con', 'gdp'])"
      ]
    },
    {
      "cell_type": "code",
      "execution_count": null,
      "metadata": {
        "id": "XqDVcDx2Fb6W"
      },
      "outputs": [],
      "source": [
        "df"
      ]
    },
    {
      "cell_type": "code",
      "execution_count": null,
      "metadata": {
        "id": "gwgF96pWFb6W"
      },
      "outputs": [],
      "source": [
        "df.index = pd.date_range('2017-3-31', '2019-12-31', freq='Q')"
      ]
    },
    {
      "cell_type": "code",
      "execution_count": null,
      "metadata": {
        "id": "lG9j_OCvFb6W"
      },
      "outputs": [],
      "source": [
        "df"
      ]
    },
    {
      "cell_type": "code",
      "execution_count": null,
      "metadata": {
        "id": "8bVJD1YXNaEK"
      },
      "outputs": [],
      "source": [
        "import matplotlib.pyplot as plt\n",
        "\n",
        "fig, ax = plt.subplots(1, 1, figsize=[12, 8])\n",
        "ax.plot(df['gdp'])\n",
        "plt.show()"
      ]
    },
    {
      "cell_type": "code",
      "execution_count": null,
      "metadata": {
        "id": "4wywtDpnFb6W"
      },
      "outputs": [],
      "source": [
        "type(df.index)"
      ]
    },
    {
      "cell_type": "markdown",
      "metadata": {
        "id": "y0ah28fmRHMb"
      },
      "source": [
        "## resample"
      ]
    },
    {
      "cell_type": "code",
      "execution_count": null,
      "metadata": {
        "id": "KeQtJkTeFb6X"
      },
      "outputs": [],
      "source": [
        "df.resample('A').sum()"
      ]
    },
    {
      "cell_type": "code",
      "execution_count": null,
      "metadata": {
        "id": "K0m0d_84Fb6X"
      },
      "outputs": [],
      "source": [
        "df.resample('A').last()"
      ]
    },
    {
      "cell_type": "code",
      "execution_count": null,
      "metadata": {
        "id": "shkBcxDFFb6X"
      },
      "outputs": [],
      "source": [
        "df.resample('A').mean()"
      ]
    },
    {
      "cell_type": "code",
      "execution_count": null,
      "metadata": {
        "id": "yWpHt6L-OOOf"
      },
      "outputs": [],
      "source": [
        "df.resample('A').agg({'con': 'mean', 'gdp': 'sum'})"
      ]
    },
    {
      "cell_type": "markdown",
      "metadata": {
        "id": "HQvJHYdUPHbd"
      },
      "source": [
        "## simple graph"
      ]
    },
    {
      "cell_type": "code",
      "execution_count": null,
      "metadata": {
        "id": "fUTUDC33Fb6X"
      },
      "outputs": [],
      "source": [
        "df.plot()"
      ]
    },
    {
      "cell_type": "code",
      "execution_count": null,
      "metadata": {
        "id": "Mc217b1RFb6X"
      },
      "outputs": [],
      "source": [
        "df.plot.bar()"
      ]
    },
    {
      "cell_type": "code",
      "execution_count": null,
      "metadata": {
        "id": "h5ilVq7XFb6X"
      },
      "outputs": [],
      "source": [
        "df.resample('M').interpolate(method='cubic').plot()\n",
        "# ‘nearest’, ‘zero’, ‘slinear’, ‘quadratic’, ‘cubic’, ‘spline’, ‘barycentric’, ‘polynomial’"
      ]
    },
    {
      "cell_type": "code",
      "execution_count": null,
      "metadata": {
        "id": "0-D_RBBxFb6Y"
      },
      "outputs": [],
      "source": [
        "df.plot()\n",
        "# ‘nearest’, ‘zero’, ‘slinear’, ‘quadratic’, ‘cubic’, ‘spline’, ‘barycentric’, ‘polynomial’"
      ]
    },
    {
      "cell_type": "code",
      "execution_count": null,
      "metadata": {
        "id": "rT2pmMfHFb6Y"
      },
      "outputs": [],
      "source": [
        "df = pd.DataFrame({'value':[2, 4, 5, 6], 'date':['20201201', '2019-9-1', '1 jul 2018', '2017q1']})"
      ]
    },
    {
      "cell_type": "code",
      "execution_count": null,
      "metadata": {
        "id": "lnmRFNCgFb6Y"
      },
      "outputs": [],
      "source": [
        "df"
      ]
    },
    {
      "cell_type": "code",
      "execution_count": null,
      "metadata": {
        "id": "OxYNZfJ6Fb6Y"
      },
      "outputs": [],
      "source": [
        "df.date = pd.to_datetime(df.date)"
      ]
    },
    {
      "cell_type": "code",
      "execution_count": null,
      "metadata": {
        "id": "-iK7z3YBFb6Y"
      },
      "outputs": [],
      "source": [
        "df"
      ]
    },
    {
      "cell_type": "code",
      "execution_count": null,
      "metadata": {
        "id": "qOIIlVeOFb6Y"
      },
      "outputs": [],
      "source": [
        "df = df.set_index('date')"
      ]
    },
    {
      "cell_type": "code",
      "execution_count": null,
      "metadata": {
        "id": "62qIa9ggFb6Z"
      },
      "outputs": [],
      "source": [
        "df"
      ]
    },
    {
      "cell_type": "markdown",
      "metadata": {
        "id": "ZrtGEUTLFb6Z"
      },
      "source": [
        "- 전기 대비 증가율, 차분 등 함수를 원래 의도대로 적용하기 위해서는 데이터프레임의 데이트타임인덱스가 빠짐없이 순서대로 정렬되어야 함\n",
        "- date_range()로 전체 샘플기간에 대한 데이터타임인덱스를 생성한 후 데이터프레임의 reindex(index)를 이용하여 적용"
      ]
    },
    {
      "cell_type": "code",
      "execution_count": null,
      "metadata": {
        "id": "l3Xi9XvJFb6Z"
      },
      "outputs": [],
      "source": [
        "df.pct_change()"
      ]
    },
    {
      "cell_type": "markdown",
      "metadata": {
        "id": "CzKeBEk-Q1Gx"
      },
      "source": [
        "## offsets"
      ]
    },
    {
      "cell_type": "code",
      "execution_count": null,
      "metadata": {
        "id": "QwUPCpwcFb6Z"
      },
      "outputs": [],
      "source": [
        "from pandas.tseries.offsets import YearEnd, YearBegin, QuarterEnd, QuarterBegin"
      ]
    },
    {
      "cell_type": "code",
      "execution_count": null,
      "metadata": {
        "id": "3zZx49MNFb6Z"
      },
      "outputs": [],
      "source": [
        "df.index = df.index + YearEnd()\n",
        "df"
      ]
    },
    {
      "cell_type": "code",
      "execution_count": null,
      "metadata": {
        "id": "i1DjpmHDFb6Z"
      },
      "outputs": [],
      "source": [
        "df = pd.DataFrame({'value':[2, 4, 5, 6], 'date':['20201201', '2019-9-1', '1 jul 2018', '2017q1']})\n",
        "df.date = pd.to_datetime(df.date)\n",
        "df = df.set_index('date')"
      ]
    },
    {
      "cell_type": "code",
      "execution_count": null,
      "metadata": {
        "id": "93DSNi5hFb6Z"
      },
      "outputs": [],
      "source": [
        "df.index = df.index + QuarterEnd()\n",
        "df"
      ]
    },
    {
      "cell_type": "markdown",
      "metadata": {
        "id": "B8fdQyUDFb6Z"
      },
      "source": [
        "데이트타임에서 연도, 분기, 월 추출"
      ]
    },
    {
      "cell_type": "code",
      "execution_count": null,
      "metadata": {
        "id": "ebz68UQ4Fb6a"
      },
      "outputs": [],
      "source": [
        "df = pd.DataFrame({'value':[2, 4, 5, 6], 'date':['20201201', '2019-9-1', '1 jul 2018', '2017q1']})\n",
        "df.date = pd.to_datetime(df.date)"
      ]
    },
    {
      "cell_type": "code",
      "execution_count": null,
      "metadata": {
        "id": "DVdNsNtxFb6a"
      },
      "outputs": [],
      "source": [
        "df"
      ]
    },
    {
      "cell_type": "code",
      "execution_count": null,
      "metadata": {
        "id": "1ZlR35FlFb6a"
      },
      "outputs": [],
      "source": [
        "df['month'] = df.date.dt.month"
      ]
    },
    {
      "cell_type": "code",
      "execution_count": null,
      "metadata": {
        "id": "QtAsguFiFb6a"
      },
      "outputs": [],
      "source": [
        "df"
      ]
    },
    {
      "cell_type": "code",
      "execution_count": null,
      "metadata": {
        "id": "N3bjvDnPFb6a"
      },
      "outputs": [],
      "source": [
        "df['day'] = df.date.dt.day"
      ]
    },
    {
      "cell_type": "code",
      "execution_count": null,
      "metadata": {
        "id": "X3uG6hLOFb6a"
      },
      "outputs": [],
      "source": [
        "df"
      ]
    },
    {
      "cell_type": "markdown",
      "metadata": {
        "id": "AzapvEsUFb6a"
      },
      "source": [
        "# save/read"
      ]
    },
    {
      "cell_type": "code",
      "execution_count": null,
      "metadata": {
        "id": "XGy5IMEMFb6a"
      },
      "outputs": [],
      "source": [
        "pwd"
      ]
    },
    {
      "cell_type": "code",
      "execution_count": null,
      "metadata": {
        "id": "nPHBnj9fPhxd"
      },
      "outputs": [],
      "source": [
        "import os\n",
        "os.mkdir('pickles')"
      ]
    },
    {
      "cell_type": "markdown",
      "metadata": {
        "id": "HHBvtS69Fb6b"
      },
      "source": [
        "## to_pickle()\n",
        "\n",
        "- python에서 매우 효율적임"
      ]
    },
    {
      "cell_type": "code",
      "execution_count": null,
      "metadata": {
        "id": "sudf6dF8Fb6b"
      },
      "outputs": [],
      "source": [
        "ls"
      ]
    },
    {
      "cell_type": "code",
      "execution_count": null,
      "metadata": {
        "id": "pV312C01Fb6b"
      },
      "outputs": [],
      "source": [
        "df.to_pickle('pickles/df.pkl')"
      ]
    },
    {
      "cell_type": "code",
      "execution_count": null,
      "metadata": {
        "id": "XlqEli4fFb6b"
      },
      "outputs": [],
      "source": [
        "ls pickles/"
      ]
    },
    {
      "cell_type": "code",
      "execution_count": null,
      "metadata": {
        "id": "o0iFuyMiFb6c"
      },
      "outputs": [],
      "source": [
        "df1 = pd.read_pickle('pickles/df.pkl')"
      ]
    },
    {
      "cell_type": "code",
      "execution_count": null,
      "metadata": {
        "id": "Ecr9LGWXFb6c"
      },
      "outputs": [],
      "source": [
        "df1"
      ]
    },
    {
      "cell_type": "markdown",
      "metadata": {
        "id": "Aa4YU84eFb6c"
      },
      "source": [
        "## to_csv()"
      ]
    },
    {
      "cell_type": "code",
      "execution_count": null,
      "metadata": {
        "id": "uDVUIJ7-Fb6c"
      },
      "outputs": [],
      "source": [
        "df.to_csv('df.csv')\n",
        "df_csv = pd.read_csv('df.csv', index_col=0)"
      ]
    },
    {
      "cell_type": "markdown",
      "metadata": {
        "id": "M42uPNdAFb6c"
      },
      "source": [
        "## to_stata()"
      ]
    },
    {
      "cell_type": "code",
      "execution_count": null,
      "metadata": {
        "id": "14SU7FHpFb6c"
      },
      "outputs": [],
      "source": [
        "df1.to_stata('df.dta')\n",
        "df1_dta = pd.read_stata('df.dta')"
      ]
    },
    {
      "cell_type": "markdown",
      "metadata": {
        "id": "FLdjst57Fb6c"
      },
      "source": [
        "## to_excel()"
      ]
    },
    {
      "cell_type": "code",
      "execution_count": null,
      "metadata": {
        "id": "-mZShRYTFb6c"
      },
      "outputs": [],
      "source": [
        "writer = pd.ExcelWriter('dfs.xlsx')\n",
        "df.to_excel(writer,'df')\n",
        "df1.to_excel(writer,'df1')\n",
        "df2.to_excel(writer,'df2')\n",
        "writer.save()"
      ]
    },
    {
      "cell_type": "markdown",
      "metadata": {
        "id": "x2KhYeW6Fb6d"
      },
      "source": [
        "## save multiple dataframes"
      ]
    },
    {
      "cell_type": "code",
      "execution_count": null,
      "metadata": {
        "id": "NATICZFtFb6d"
      },
      "outputs": [],
      "source": [
        "dfs = {'df': df, 'df1': df1, 'df2': df2}"
      ]
    },
    {
      "cell_type": "code",
      "execution_count": null,
      "metadata": {
        "id": "yBSZFPzcFb6d"
      },
      "outputs": [],
      "source": [
        "import pickle"
      ]
    },
    {
      "cell_type": "code",
      "execution_count": null,
      "metadata": {
        "id": "tzP9frzwFb6d"
      },
      "outputs": [],
      "source": [
        "with open('dfs.pkl', 'wb') as handle:\n",
        "    pickle.dump(dfs, handle, protocol=pickle.HIGHEST_PROTOCOL)"
      ]
    },
    {
      "cell_type": "code",
      "execution_count": null,
      "metadata": {
        "id": "uNupKad5Fb6d"
      },
      "outputs": [],
      "source": [
        "with open('dfs.pkl', 'rb') as handle:\n",
        "    dfs_pkl = pickle.load(handle)"
      ]
    },
    {
      "cell_type": "markdown",
      "metadata": {
        "id": "cMzkWzHvFb6e"
      },
      "source": [
        "# matplotlib"
      ]
    },
    {
      "cell_type": "code",
      "execution_count": null,
      "metadata": {
        "id": "S-jEj8aKFb6e"
      },
      "outputs": [],
      "source": [
        "%matplotlib inline"
      ]
    },
    {
      "cell_type": "code",
      "execution_count": null,
      "metadata": {
        "id": "NXasMp6QFb6e"
      },
      "outputs": [],
      "source": [
        "df = pd.DataFrame([0, 1, 2, 3, 4, 4], columns = ['y'])\n",
        "df.plot()"
      ]
    },
    {
      "cell_type": "code",
      "execution_count": null,
      "metadata": {
        "id": "2yQahyLPFb6e"
      },
      "outputs": [],
      "source": [
        "# %matplotlib notebook"
      ]
    },
    {
      "cell_type": "code",
      "execution_count": null,
      "metadata": {
        "id": "6xFyoa4uFb6e"
      },
      "outputs": [],
      "source": [
        "import matplotlib.pyplot as plt\n",
        "\n",
        "fig, ax = plt.subplots(1, 2, figsize=(12, 4))\n",
        "\n",
        "df.plot(ax=ax[0])\n",
        "df.loc[2:].plot(ax=ax[1])\n",
        "ax[1].legend(loc=4, fontsize=18)\n",
        "ax[0].set_title('ax1')\n",
        "fig.suptitle('graph', fontsize=18);"
      ]
    },
    {
      "cell_type": "markdown",
      "metadata": {
        "id": "K4GQbJDoFb6f"
      },
      "source": [
        "## x, y-axis"
      ]
    },
    {
      "cell_type": "code",
      "execution_count": null,
      "metadata": {
        "id": "4yEmNk-rFb6f"
      },
      "outputs": [],
      "source": [
        "from matplotlib.ticker import FuncFormatter as FF\n",
        "\n",
        "fig, ax = plt.subplots(1, 2, figsize=(12, 4))\n",
        "\n",
        "df.plot(ax=ax[0])\n",
        "df.loc[2:].plot(ax=ax[1])\n",
        "ax[1].legend(loc=4, fontsize=18)\n",
        "ax[0].set_title('ax1')\n",
        "fig.suptitle('graph', fontsize=18);\n",
        "\n",
        "dp2 = lambda x, p: '{:,.2f}'.format(x)\n",
        "dp0 = lambda x, p: '{:,.0f}'.format(x)\n",
        "ax[1].yaxis.set_major_formatter(FF(dp2))\n",
        "ax[1].xaxis.set_major_formatter(FF(dp0))"
      ]
    },
    {
      "cell_type": "code",
      "execution_count": null,
      "metadata": {
        "id": "eEajV4QoFb6f"
      },
      "outputs": [],
      "source": [
        "df['x'] = df['y'] * 2\n",
        "\n",
        "fig, ax = plt.subplots(1, 3, figsize=(12, 4))\n",
        "\n",
        "df.plot.bar(ax=ax[0])\n",
        "df.plot.bar(stacked=True, ax=ax[1])\n",
        "df.plot.scatter(x='x', y='y', ax=ax[2])"
      ]
    },
    {
      "cell_type": "markdown",
      "metadata": {
        "id": "oPqcvGzsFb6f"
      },
      "source": [
        "## bar chart"
      ]
    },
    {
      "cell_type": "code",
      "execution_count": null,
      "metadata": {
        "id": "IgBAIR5sFb6g"
      },
      "outputs": [],
      "source": [
        "import pandas as pd\n",
        "import numpy as np\n",
        "df = pd.DataFrame(np.random.randint(1, 20, 24).reshape(12, 2), columns=['con', 'gdp'],\n",
        "                  index = pd.date_range('2017-3-31', '2019-12-31', freq='Q'))"
      ]
    },
    {
      "cell_type": "code",
      "execution_count": null,
      "metadata": {
        "id": "jl3unOYeFb6g"
      },
      "outputs": [],
      "source": [
        "import matplotlib.pyplot as plt\n",
        "\n",
        "fig, ax = plt.subplots(1, 1)\n",
        "\n",
        "df.plot.bar(ax=ax)"
      ]
    },
    {
      "cell_type": "code",
      "execution_count": null,
      "metadata": {
        "id": "CPq9dz58Fb6g"
      },
      "outputs": [],
      "source": [
        "import matplotlib.pyplot as plt\n",
        "\n",
        "fig, ax = plt.subplots(1, 1)\n",
        "\n",
        "df.plot.bar(ax=ax)\n",
        "\n",
        "ticklabels = [pd.to_datetime(t.get_text()).strftime('%b\\n%y') for t in ax.get_xticklabels()]\n",
        "ax.set_xticklabels(ticklabels, rotation=0);"
      ]
    },
    {
      "cell_type": "code",
      "execution_count": null,
      "metadata": {
        "id": "6NLy3GDwFb6g"
      },
      "outputs": [],
      "source": [
        "def xaxis_date_format(ax, fmt = '%y'):\n",
        "    '''fmt: '%b\\n%y', '%y-%m-%d', etc '''\n",
        "    ticklabels = [pd.to_datetime(t.get_text()).strftime(fmt) for t in ax.get_xticklabels()]\n",
        "    ax.set_xticklabels(ticklabels, rotation=0)"
      ]
    },
    {
      "cell_type": "markdown",
      "metadata": {
        "id": "qKGTAx5tmzAF"
      },
      "source": [
        "## 한글"
      ]
    },
    {
      "cell_type": "code",
      "execution_count": null,
      "metadata": {
        "id": "8rtNh9-Em6vo"
      },
      "outputs": [],
      "source": [
        "import pandas as pd\n",
        "import numpy as np\n",
        "\n",
        "df = pd.DataFrame(np.random.randn(100).cumsum(), columns=['환율'])\n",
        "df.plot()"
      ]
    },
    {
      "cell_type": "markdown",
      "metadata": {
        "id": "AzbG6CMfeT2J"
      },
      "source": [
        "현재 matplotlib가 사용할 수 있는 한글폰트 확인"
      ]
    },
    {
      "cell_type": "code",
      "execution_count": null,
      "metadata": {
        "id": "EHPZKLv0eSev"
      },
      "outputs": [],
      "source": [
        "import matplotlib.font_manager as fm\n",
        "[f for f in fm.fontManager.ttflist if 'Nanum' in f.name]"
      ]
    },
    {
      "cell_type": "markdown",
      "metadata": {
        "id": "1Ajqpmaye2NY"
      },
      "source": [
        "나눔글꼴 설치(리눅스)"
      ]
    },
    {
      "cell_type": "code",
      "execution_count": 1,
      "metadata": {
        "colab": {
          "base_uri": "https://localhost:8080/"
        },
        "id": "SDR1vHAwe7cW",
        "outputId": "f8358711-9102-4f0f-a335-bf9f718be294"
      },
      "outputs": [
        {
          "output_type": "stream",
          "name": "stdout",
          "text": [
            "Selecting previously unselected package fonts-nanum.\n",
            "(Reading database ... 126281 files and directories currently installed.)\n",
            "Preparing to unpack .../fonts-nanum_20200506-1_all.deb ...\n",
            "Unpacking fonts-nanum (20200506-1) ...\n",
            "Setting up fonts-nanum (20200506-1) ...\n",
            "Processing triggers for fontconfig (2.13.1-4.2ubuntu5) ...\n"
          ]
        }
      ],
      "source": [
        "!dpkg -s fonts-nanum > /dev/null 2>&1 || apt-get install -qq fonts-nanum"
      ]
    },
    {
      "cell_type": "markdown",
      "metadata": {
        "id": "OcJrhvOHfUsx"
      },
      "source": [
        "matplotlib가 사용할 수 있는 폰트 리스트를 재구성하고, 코랩 재시작"
      ]
    },
    {
      "cell_type": "code",
      "execution_count": null,
      "metadata": {
        "id": "h_hc8QKPfEWi"
      },
      "outputs": [],
      "source": [
        "import os\n",
        "\n",
        "fm._rebuild()\n",
        "os.kill(os.getpid(), 9)"
      ]
    },
    {
      "cell_type": "markdown",
      "metadata": {
        "id": "Lwu5Qm_tfPeL"
      },
      "source": [
        "현재 matplotlib가 사용할 수 있는 한글폰트 확인"
      ]
    },
    {
      "cell_type": "code",
      "execution_count": null,
      "metadata": {
        "id": "z4smCyJZfPeM"
      },
      "outputs": [],
      "source": [
        "import matplotlib.font_manager as fm\n",
        "[f for f in fm.fontManager.ttflist if 'Nanum' in f.name]"
      ]
    },
    {
      "cell_type": "markdown",
      "metadata": {
        "id": "rj2yFknNfKru"
      },
      "source": [
        "matplotlib에서 사용하려는 한글 폰트 지정하고, 그래프의 마이너스 라벨이 제대로 표시되도록 설정"
      ]
    },
    {
      "cell_type": "code",
      "execution_count": null,
      "metadata": {
        "id": "1REWbPVPrAvC"
      },
      "outputs": [],
      "source": [
        "import matplotlib.pyplot as plt\n",
        "\n",
        "plt.rc('font', family='NanumGothic')\n",
        "plt.rcParams['axes.unicode_minus'] = False"
      ]
    },
    {
      "cell_type": "code",
      "execution_count": null,
      "metadata": {
        "id": "ymiKTxcGf-jw"
      },
      "outputs": [],
      "source": [
        "import pandas as pd\n",
        "import numpy as np\n",
        "\n",
        "df = pd.DataFrame(np.random.randn(100).cumsum(), columns=['환율'])\n",
        "df.plot()"
      ]
    },
    {
      "cell_type": "markdown",
      "metadata": {
        "id": "aNN1r1O2Fb6g"
      },
      "source": [
        "# 연습문제\n",
        "\n",
        "1. 성인 500명에 대한 키(cm)와 몸무게(kg) 데이터를 아래 관계에 따라 데이터프레임으로 생성하시오\n",
        "\n",
        "$height \\sim norm(170, 15)$\n",
        "\n",
        "$weight = (height - 100)^{1.2} + u$, $u \\sim norm(0, 5)$\n",
        "\n",
        "2. 키와 몸무게 각각에 대한 히스토그램(5 kg/cm 구간)을 subplots을 이용하여 그리시오\n",
        "\n",
        "3. 키 180cm 이상 및 이하로 그룹을 나누어 키와 몸무게의 산포도를 그리시오"
      ]
    },
    {
      "cell_type": "code",
      "execution_count": 5,
      "metadata": {
        "colab": {
          "base_uri": "https://localhost:8080/"
        },
        "id": "qyru7z-KEa0f",
        "outputId": "c9e2242f-15f4-4410-daa8-7c9f8d4c48a3"
      },
      "outputs": [
        {
          "output_type": "stream",
          "name": "stdout",
          "text": [
            "Collecting pycountry\n",
            "  Downloading pycountry-24.6.1-py3-none-any.whl.metadata (12 kB)\n",
            "Downloading pycountry-24.6.1-py3-none-any.whl (6.3 MB)\n",
            "\u001b[2K   \u001b[90m━━━━━━━━━━━━━━━━━━━━━━━━━━━━━━━━━━━━━━━━\u001b[0m \u001b[32m6.3/6.3 MB\u001b[0m \u001b[31m44.4 MB/s\u001b[0m eta \u001b[36m0:00:00\u001b[0m\n",
            "\u001b[?25hInstalling collected packages: pycountry\n",
            "Successfully installed pycountry-24.6.1\n"
          ]
        }
      ],
      "source": [
        "!pip show countryinfo > /dev/null 2>&1 || pip install countryinfo\n",
        "!pip show pycountry > /dev/null 2>&1 || pip install pycountry"
      ]
    },
    {
      "cell_type": "code",
      "execution_count": null,
      "metadata": {
        "id": "OAxOYj25EV0n"
      },
      "outputs": [],
      "source": [
        "import pycountry\n",
        "from countryinfo import CountryInfo"
      ]
    },
    {
      "cell_type": "code",
      "execution_count": null,
      "metadata": {
        "id": "PLMomjsPGE2X"
      },
      "outputs": [],
      "source": [
        "country_names = [country.name for country in pycountry.countries]\n",
        "\n",
        "[i for i in country_names if 'Korea' in i]"
      ]
    },
    {
      "cell_type": "code",
      "execution_count": null,
      "metadata": {
        "id": "c2yAaRR1GcZ2"
      },
      "outputs": [],
      "source": [
        "country_dict = {}\n",
        "\n",
        "for country in pycountry.countries:\n",
        "  try:\n",
        "    if country.name == 'Korea, Republic of':\n",
        "      country.name = 'South Korea'\n",
        "    elif country.name == \"Korea, Democratic People's Republic of\":\n",
        "      country.name = 'North Korea'\n",
        "\n",
        "    country_info = CountryInfo(country.name)\n",
        "    info = {\n",
        "        'name': country.name,\n",
        "        'continent': country_info.region(),\n",
        "        'capital': country_info.capital(),\n",
        "        'currency': country_info.currencies(),\n",
        "        'language': country_info.languages(),\n",
        "        'borders': country_info.borders()\n",
        "    }\n",
        "    country_dict[country.alpha_3] = info\n",
        "\n",
        "  except KeyError:\n",
        "    print('country name error: ', country.name)\n",
        "    continue\n"
      ]
    },
    {
      "cell_type": "code",
      "execution_count": null,
      "metadata": {
        "id": "hJAonWH1HlJB"
      },
      "outputs": [],
      "source": [
        "print(country_dict['KOR'])\n",
        "print(country_dict['PRK'])"
      ]
    },
    {
      "cell_type": "code",
      "execution_count": null,
      "metadata": {
        "id": "5ERv6jPpWbXK"
      },
      "outputs": [],
      "source": [
        "!sudo fc-cache -fv\n",
        "!rm ~/.cache/matplotlib -rf"
      ]
    },
    {
      "cell_type": "code",
      "execution_count": null,
      "metadata": {
        "id": "jn0rnIeGWfn4"
      },
      "outputs": [],
      "source": [
        "import matplotlib.pyplot as plt\n",
        "\n",
        "plt.rc('font', family = 'NanumBarunGothic')"
      ]
    },
    {
      "cell_type": "code",
      "execution_count": null,
      "metadata": {
        "id": "ixrYimTVWwPs"
      },
      "outputs": [],
      "source": [
        "import pandas as pd\n",
        "import numpy as np\n",
        "\n",
        "df = pd.DataFrame(np.random.randn(100).cumsum(), columns=['환율'])\n",
        "df.plot()"
      ]
    }
  ],
  "metadata": {
    "colab": {
      "collapsed_sections": [
        "EvgmlRAkFb6V",
        "WVXOvyFEFb6V",
        "HHBvtS69Fb6b",
        "Aa4YU84eFb6c",
        "M42uPNdAFb6c",
        "FLdjst57Fb6c",
        "K4GQbJDoFb6f",
        "oPqcvGzsFb6f",
        "aNN1r1O2Fb6g"
      ],
      "name": "pandas.ipynb",
      "provenance": [],
      "toc_visible": true,
      "include_colab_link": true
    },
    "kernelspec": {
      "display_name": "Python 3",
      "language": "python",
      "name": "python3"
    },
    "language_info": {
      "codemirror_mode": {
        "name": "ipython",
        "version": 3
      },
      "file_extension": ".py",
      "mimetype": "text/x-python",
      "name": "python",
      "nbconvert_exporter": "python",
      "pygments_lexer": "ipython3",
      "version": "3.8.5"
    }
  },
  "nbformat": 4,
  "nbformat_minor": 0
}