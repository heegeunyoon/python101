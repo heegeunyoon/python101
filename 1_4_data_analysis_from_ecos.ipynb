{
  "cells": [
    {
      "cell_type": "markdown",
      "metadata": {
        "colab_type": "text",
        "id": "view-in-github"
      },
      "source": [
        "<a href=\"https://colab.research.google.com/github/heegeunyoon/python101/blob/main/1_4_data_analysis_from_ecos.ipynb\" target=\"_parent\"><img src=\"https://colab.research.google.com/assets/colab-badge.svg\" alt=\"Open In Colab\"/></a>"
      ]
    },
    {
      "cell_type": "markdown",
      "metadata": {
        "id": "fJuOEOK2U9qJ"
      },
      "source": [
        "# ECOS open API\n",
        "- https://ecos.bok.or.kr/api/#/\n",
        "- 회원가입 후, '서비스 이용 - 인증키 신청'\n",
        "    - 아래 url에서 your_auth_key 부분을 인증키로 대체\n",
        "- '개발 가이드 - 언어별 개발 가이드 - 파이썬' 참고\n",
        "- '개발 가이드 - 통계코드검색'에서 원하는 통계항목의 코드 검색"
      ]
    },
    {
      "cell_type": "markdown",
      "metadata": {
        "id": "C-aP87wHU9qJ"
      },
      "source": [
        "'1.1.1.1.1. 본원통화 구성내역(평잔, 계절조정계열)'\n",
        "\n",
        "- 인증키를 이용하여 2010년부터 2020년까지, 10,000개 이내 자료를 국문 json 파일 형식으로 입수하기 위한 url 주소 생성"
      ]
    },
    {
      "cell_type": "markdown",
      "metadata": {
        "id": "WwN9q8PkDTBL"
      },
      "source": [
        "ecos open api웹페이지에서 인증키 복사"
      ]
    },
    {
      "cell_type": "code",
      "execution_count": null,
      "metadata": {
        "id": "3nFIbysjDqAg"
      },
      "outputs": [],
      "source": [
        "your_auth_key = \"xxxxxxxxxxxx\""
      ]
    },
    {
      "cell_type": "code",
      "execution_count": null,
      "metadata": {
        "id": "79zmnmrcU9qJ"
      },
      "outputs": [],
      "source": [
        "url = f'http://ecos.bok.or.kr/api/StatisticSearch/{your_auth_key}/json/kr/1/10000/102Y004/A/1950/2023/ABA1/?/?/'\n",
        "print(url)"
      ]
    },
    {
      "cell_type": "code",
      "execution_count": null,
      "metadata": {
        "id": "nUMTZwZ9U9qJ"
      },
      "outputs": [],
      "source": [
        "import json\n",
        "from urllib.request import urlopen\n",
        "\n",
        "result = urlopen(url)\n",
        "data = json.loads(result.read()) # 지정된 URL에서 JSON 형식의 데이터를 가져와서 Python의 데이터 구조로 변환하는 과정(파싱)"
      ]
    },
    {
      "cell_type": "code",
      "execution_count": null,
      "metadata": {
        "colab": {
          "base_uri": "https://localhost:8080/"
        },
        "id": "LEkgdA1QxxXb",
        "outputId": "98dba771-21d9-4dbf-ed45-67f7e31363b5"
      },
      "outputs": [],
      "source": [
        "type(data)"
      ]
    },
    {
      "cell_type": "code",
      "execution_count": null,
      "metadata": {
        "colab": {
          "base_uri": "https://localhost:8080/"
        },
        "id": "F-nihYpax3Oz",
        "outputId": "323f4015-07e9-4f5e-e5f9-337ff3c917da"
      },
      "outputs": [],
      "source": [
        "data.keys() # 딕셔너리의 키값"
      ]
    },
    {
      "cell_type": "code",
      "execution_count": null,
      "metadata": {
        "id": "-MiM_cVwx50h"
      },
      "outputs": [],
      "source": [
        "data = data['StatisticSearch']"
      ]
    },
    {
      "cell_type": "code",
      "execution_count": null,
      "metadata": {
        "colab": {
          "base_uri": "https://localhost:8080/"
        },
        "id": "8zjj1VVfx-gr",
        "outputId": "873245db-4619-426c-e2dd-c9234d435ab3"
      },
      "outputs": [],
      "source": [
        "data.keys()"
      ]
    },
    {
      "cell_type": "code",
      "execution_count": null,
      "metadata": {
        "colab": {
          "base_uri": "https://localhost:8080/"
        },
        "id": "4Gu0SOUPyAjH",
        "outputId": "dcb0234e-376f-4327-fa33-5165aa06ba7e"
      },
      "outputs": [],
      "source": [
        "data['list_total_count']"
      ]
    },
    {
      "cell_type": "code",
      "execution_count": null,
      "metadata": {
        "colab": {
          "base_uri": "https://localhost:8080/"
        },
        "id": "G69Cdwq_yDyJ",
        "outputId": "28a23233-5e5a-44b6-8f30-0e75e14e7171"
      },
      "outputs": [],
      "source": [
        "data['row']"
      ]
    },
    {
      "cell_type": "code",
      "execution_count": null,
      "metadata": {
        "id": "kl9Fm4fQyHJX"
      },
      "outputs": [],
      "source": [
        "data = data['row']"
      ]
    },
    {
      "cell_type": "code",
      "execution_count": null,
      "metadata": {
        "colab": {
          "base_uri": "https://localhost:8080/"
        },
        "id": "bLNYAS9hxu4g",
        "outputId": "d6f895cf-0d29-420e-aa36-59f0fe15b639"
      },
      "outputs": [],
      "source": [
        "data"
      ]
    },
    {
      "cell_type": "markdown",
      "metadata": {
        "id": "5aeGVPzeyQXV"
      },
      "source": [
        "딕셔너리 데이터를 이용하여 판다스 데이터프레임 생성"
      ]
    },
    {
      "cell_type": "code",
      "execution_count": null,
      "metadata": {
        "id": "feOiZMsvU9qK"
      },
      "outputs": [],
      "source": [
        "import pandas as pd\n",
        "\n",
        "df = pd.DataFrame(data)"
      ]
    },
    {
      "cell_type": "code",
      "execution_count": null,
      "metadata": {
        "colab": {
          "base_uri": "https://localhost:8080/",
          "height": 488
        },
        "id": "RI6tyfFj2PFE",
        "outputId": "b9c6b435-4c4d-4cc7-9fd0-7295823a7d67"
      },
      "outputs": [],
      "source": [
        "df"
      ]
    },
    {
      "cell_type": "code",
      "execution_count": null,
      "metadata": {
        "id": "HxTFhBdh3Msq"
      },
      "outputs": [],
      "source": [
        "df = df.set_index('TIME')\n",
        "df = df['DATA_VALUE'] # df가 시리즈로 추출"
      ]
    },
    {
      "cell_type": "code",
      "execution_count": null,
      "metadata": {
        "colab": {
          "base_uri": "https://localhost:8080/",
          "height": 203
        },
        "id": "oEU3kABhyYVp",
        "outputId": "fa0ad5fc-5fac-422c-90a8-1207ce1db5b7"
      },
      "outputs": [],
      "source": [
        "type(df)"
      ]
    },
    {
      "cell_type": "code",
      "execution_count": null,
      "metadata": {
        "colab": {
          "base_uri": "https://localhost:8080/",
          "height": 519
        },
        "id": "3NgBjmk530BX",
        "outputId": "5721f828-e690-4fe2-aec4-81950324209a"
      },
      "outputs": [],
      "source": [
        "df.index = pd.to_datetime(df.index)\n",
        "df.index.names = ['Dates']\n",
        "df = df.to_frame('DATA_VALUE')\n",
        "df"
      ]
    },
    {
      "cell_type": "code",
      "execution_count": null,
      "metadata": {
        "colab": {
          "base_uri": "https://localhost:8080/",
          "height": 203
        },
        "id": "kHMFIVnLygAi",
        "outputId": "f7005687-501d-408b-f5e2-eef39f971f7c"
      },
      "outputs": [],
      "source": [
        "type(df)"
      ]
    },
    {
      "cell_type": "code",
      "execution_count": null,
      "metadata": {
        "colab": {
          "base_uri": "https://localhost:8080/",
          "height": 488
        },
        "id": "AVwU4ipn5h3d",
        "outputId": "fe6f19ca-3913-485f-a336-b6694b616fb1"
      },
      "outputs": [],
      "source": [
        "df.index = pd.to_datetime(df.index)\n",
        "df"
      ]
    },
    {
      "cell_type": "code",
      "execution_count": null,
      "metadata": {
        "id": "GRiVu7ij7lSU"
      },
      "outputs": [],
      "source": [
        "from pandas.tseries.offsets import YearEnd, QuarterEnd, MonthEnd, YearBegin, QuarterBegin, MonthBegin\n",
        "import json\n",
        "from urllib.request import urlopen\n",
        "import pandas as pd\n",
        "\n",
        "\n",
        "def necos(code = '102Y004', item1 = 'ABA1', item2 = '?', item3 = '?',\n",
        "         freq = 'A', first = None, last = None, N = '10000',\n",
        "         detail = True, col = None):\n",
        "\n",
        "    if first is None:\n",
        "        if (freq == 'M'):\n",
        "            first = '190001'\n",
        "            last = '210012'\n",
        "        elif (freq == 'Q'):\n",
        "            first = '1900Q1'\n",
        "            last = '2100Q4'\n",
        "        elif (freq == 'A'):\n",
        "            first = '1900'\n",
        "            last = '2100'\n",
        "        elif (freq == 'D'):\n",
        "            first = '20200101'\n",
        "            last = '20301231'\n",
        "            print('Data is being retreived from 2020-01-01.')\n",
        "        else:\n",
        "            print('freq must be one of D, M, Q, A.')\n",
        "            return\n",
        "\n",
        "    '''retreive monthly, quarterly, annul time series from ecos.\n",
        "    run 'open_ecosapi() to explore ecos api codes.'''\n",
        "    ecos_key = f\"http://ecos.bok.or.kr/api/StatisticSearch/{your_auth_key}\"\n",
        "\n",
        "    url  = f\"{ecos_key}/json/kr/1/{N}/{code}/{freq}/{first}/{last}/{item1}/{item2}/{item3}/\"\n",
        "    result = urlopen(url)\n",
        "    data = json.loads(result.read())\n",
        "    data = data[\"StatisticSearch\"][\"row\"]\n",
        "    df = pd.DataFrame(data)\n",
        "\n",
        "    if detail: # 데이터 정보 프린트\n",
        "        print(f\"통계: {df.loc[0, 'STAT_NAME']}\",\n",
        "            f\"단위: {df.loc[0, 'UNIT_NAME']}\",\n",
        "            f\"기간: {df.loc[0, 'TIME']} - {df.loc[df.index[-1], 'TIME']}\",\n",
        "            f\"항목: {df.loc[0, 'ITEM_NAME1']}\",)\n",
        "\n",
        "    df = df.set_index(\"TIME\")\n",
        "    df.index.names = ['DATE']\n",
        "\n",
        "    if (freq == 'M'):\n",
        "        df.index = pd.to_datetime(df.index, format='%Y%m')\n",
        "    elif (freq == 'Q'):\n",
        "        df.index = pd.to_datetime(df.index)\n",
        "    elif (freq == 'A'):\n",
        "        df.index = pd.to_datetime(df.index, format='%Y')\n",
        "    elif (freq == 'D'):\n",
        "        df.index = pd.to_datetime(df.index, format='%Y%m%d')\n",
        "\n",
        "    df[\"DATA_VALUE\"] = df[\"DATA_VALUE\"].astype(\"float\")\n",
        "\n",
        "    return df['DATA_VALUE'].to_frame(col)"
      ]
    },
    {
      "cell_type": "code",
      "execution_count": null,
      "metadata": {
        "colab": {
          "base_uri": "https://localhost:8080/"
        },
        "id": "lpvOVBkFU9qK",
        "outputId": "b786fdaf-5e4d-46cd-8cef-880685369f1b"
      },
      "outputs": [],
      "source": [
        "cash = necos('102Y001', 'ABA203', freq='M', col = 'cash')"
      ]
    },
    {
      "cell_type": "code",
      "execution_count": null,
      "metadata": {
        "colab": {
          "base_uri": "https://localhost:8080/",
          "height": 455
        },
        "id": "7mLC8egL7HaK",
        "outputId": "a1143a6f-7dc7-4da6-9096-9f018635ac6e"
      },
      "outputs": [],
      "source": [
        "cash"
      ]
    },
    {
      "cell_type": "code",
      "execution_count": null,
      "metadata": {
        "colab": {
          "base_uri": "https://localhost:8080/"
        },
        "id": "BTy_Ymsw6wrA",
        "outputId": "863f8736-46b4-4daf-a441-e89dabbea3ef"
      },
      "outputs": [],
      "source": [
        "kospi = necos('802Y001', '0001000', freq='D', col = '코스피')"
      ]
    },
    {
      "cell_type": "code",
      "execution_count": null,
      "metadata": {
        "colab": {
          "base_uri": "https://localhost:8080/",
          "height": 455
        },
        "id": "APbuN46GEj9Y",
        "outputId": "e082abb9-8bc5-4ee4-e6e7-c5b16ddea4bc"
      },
      "outputs": [],
      "source": [
        "kospi"
      ]
    },
    {
      "cell_type": "code",
      "execution_count": null,
      "metadata": {
        "id": "rGjQ8mBuE6kX"
      },
      "outputs": [],
      "source": [
        "import matplotlib.font_manager as fm\n",
        "import matplotlib.pyplot as plt\n",
        "\n",
        "!apt-get -qq install fonts-nanum\n",
        "\n",
        "\n",
        "fe = fm.FontEntry(\n",
        "    fname=r'/usr/share/fonts/truetype/nanum/NanumGothic.ttf', # ttf 파일이 저장되어 있는 경로\n",
        "    name='NanumGothic')                        # 이 폰트의 원하는 이름 설정\n",
        "fm.fontManager.ttflist.insert(0, fe)              # Matplotlib에 폰트 추가\n",
        "plt.rcParams.update({'font.size': 18, 'font.family': 'NanumGothic'}) # 폰트 설정\n",
        "\n",
        "plt.rcParams['axes.unicode_minus'] = False # 폰트가 한글인 경우, - 표시 오류 수정"
      ]
    },
    {
      "cell_type": "code",
      "execution_count": null,
      "metadata": {
        "colab": {
          "base_uri": "https://localhost:8080/",
          "height": 505
        },
        "id": "i5PHmy-UyxWV",
        "outputId": "28092d77-9a14-4527-c441-6a08c3b59128"
      },
      "outputs": [],
      "source": [
        "fig, ax = plt.subplots(1, 2, figsize=(16, 5))\n",
        "\n",
        "kospi.plot(ax=ax[0])\n",
        "kospi.pct_change(365).plot(ax=ax[1])\n",
        "\n"
      ]
    }
  ],
  "metadata": {
    "colab": {
      "include_colab_link": true,
      "name": "data_analysis.ipynb",
      "provenance": []
    },
    "hide_code_all_hidden": false,
    "kernelspec": {
      "display_name": "base",
      "language": "python",
      "name": "python3"
    },
    "language_info": {
      "codemirror_mode": {
        "name": "ipython",
        "version": 3
      },
      "file_extension": ".py",
      "mimetype": "text/x-python",
      "name": "python",
      "nbconvert_exporter": "python",
      "pygments_lexer": "ipython3",
      "version": "3.12.7"
    }
  },
  "nbformat": 4,
  "nbformat_minor": 0
}
