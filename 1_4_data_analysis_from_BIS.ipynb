{
  "cells": [
    {
      "cell_type": "markdown",
      "metadata": {
        "id": "view-in-github",
        "colab_type": "text"
      },
      "source": [
        "<a href=\"https://colab.research.google.com/github/heegeunyoon/python101/blob/main/1_4_data_analysis_from_BIS.ipynb\" target=\"_parent\"><img src=\"https://colab.research.google.com/assets/colab-badge.svg\" alt=\"Open In Colab\"/></a>"
      ]
    },
    {
      "cell_type": "code",
      "source": [
        "# 데이터 및 git repository 다운로드\n",
        "![ ! -d python101 ] && git clone https://github.com/heegeunyoon/python101.git"
      ],
      "metadata": {
        "id": "AlM7kLGmGVlb"
      },
      "execution_count": null,
      "outputs": []
    },
    {
      "cell_type": "markdown",
      "metadata": {
        "id": "4H055G0yU9p-"
      },
      "source": [
        "# BIS\n",
        "\n",
        "- visit BIS webpage (https://www.bis.org/statistics/dsr.htm?m=6_380_671)\n",
        "- download Debt service ratios (whole data set) xlsx file"
      ]
    },
    {
      "cell_type": "markdown",
      "metadata": {
        "id": "GnCvSCR-6jKM"
      },
      "source": [
        "DSR 엑셀파일 구조\n",
        "- Quarterly Series시트 입수\n",
        "- 첫 3개 행을 제외 (그 다음 첫번째 행은 컬럼으로 자동 지정)\n",
        "- 첫번째 열을 인덱스로 지정"
      ]
    },
    {
      "cell_type": "code",
      "execution_count": null,
      "metadata": {
        "id": "zeeZjrDLU9p_"
      },
      "outputs": [],
      "source": [
        "from IPython.display import Image\n",
        "Image('python101/input/dsr_xlsx.png', width=1000)"
      ]
    },
    {
      "cell_type": "markdown",
      "metadata": {
        "id": "P9ohl8Uj6saG"
      },
      "source": [
        "DSR 엑셀파일 다운로드\n",
        "- Quarterly Series시트 입수 (sheet_name='Quarterly Series')\n",
        "- 첫 3개 행을 제외 (그 다음 첫번째 행은 컬럼으로 자동 지정) (skiprows=3)\n",
        "- 첫번째 열을 인덱스로 지정 (index_col=0)"
      ]
    },
    {
      "cell_type": "code",
      "execution_count": null,
      "metadata": {
        "id": "mKL3SYTs6SQ5"
      },
      "outputs": [],
      "source": [
        "import pandas as pd"
      ]
    },
    {
      "cell_type": "code",
      "execution_count": null,
      "metadata": {
        "id": "bqouDtUZ0Oao"
      },
      "outputs": [],
      "source": [
        "df = pd.read_excel('python101/input/dsr.xlsx',sheet_name='Quarterly Series', skiprows=3, index_col=0)"
      ]
    },
    {
      "cell_type": "code",
      "execution_count": null,
      "metadata": {
        "id": "dWzGzj4iU9qA"
      },
      "outputs": [],
      "source": [
        "df"
      ]
    },
    {
      "cell_type": "code",
      "execution_count": null,
      "metadata": {
        "id": "Y7LFcRxFk15G"
      },
      "outputs": [],
      "source": [
        "df.head(10)"
      ]
    },
    {
      "cell_type": "code",
      "execution_count": null,
      "metadata": {
        "id": "kElwR4oHk4WM"
      },
      "outputs": [],
      "source": [
        "df.tail(10)"
      ]
    },
    {
      "cell_type": "markdown",
      "metadata": {
        "id": "wh5e-0aO8sYY"
      },
      "source": [
        "데이터 구조 설정\n",
        "\n",
        "- 각 칼럼 라벨을 ':'으로 나누어 멀티인덱스로 지정 df.columns.str.split(':').tolist()\n",
        "- 칼럼 첫번째 레벨은 모두 분기를 나타내는 Q이므로 제거\n"
      ]
    },
    {
      "cell_type": "code",
      "execution_count": null,
      "metadata": {
        "id": "KGdooslK_kRd"
      },
      "outputs": [],
      "source": [
        "df.columns.str.split(':').tolist()"
      ]
    },
    {
      "cell_type": "markdown",
      "metadata": {
        "id": "Q1sFBM-slks0"
      },
      "source": [
        "라벨이 주어진 형태에 따라 멀티인덱스 생성 함수를 선택\n",
        "\n",
        "- from_tuples() : [['16', '미국'], ['16', '한국'], ['17', '미국'], ['17', '한국']]\n",
        "- from_product() : [['16', '17'], ['미국', '한국']]\n",
        "- from_arrays() : [['16', '16', '17', '17'], ['미국', '한국', '미국', '한국']]"
      ]
    },
    {
      "cell_type": "code",
      "execution_count": null,
      "metadata": {
        "id": "8IQav-reU9qA"
      },
      "outputs": [],
      "source": [
        "df.columns = pd.MultiIndex.from_tuples(df.columns.str.split(':').tolist())"
      ]
    },
    {
      "cell_type": "code",
      "execution_count": null,
      "metadata": {
        "id": "NpfWddwP_5T8"
      },
      "outputs": [],
      "source": [
        "df"
      ]
    },
    {
      "cell_type": "code",
      "execution_count": null,
      "metadata": {
        "id": "dZUP0Gxy9WbP"
      },
      "outputs": [],
      "source": [
        "df.columns.get_level_values(0).unique()"
      ]
    },
    {
      "cell_type": "code",
      "execution_count": null,
      "metadata": {
        "id": "4rUkb-AO9lBP"
      },
      "outputs": [],
      "source": [
        "df.columns.get_level_values(1).unique()"
      ]
    },
    {
      "cell_type": "code",
      "execution_count": null,
      "metadata": {
        "id": "ZLQiGs0S9efl"
      },
      "outputs": [],
      "source": [
        "df.columns.get_level_values(2).unique()"
      ]
    },
    {
      "cell_type": "code",
      "execution_count": null,
      "metadata": {
        "id": "kbSwsXAiU9qB"
      },
      "outputs": [],
      "source": [
        "df = df.droplevel(0, axis = 1) # df['Q']"
      ]
    },
    {
      "cell_type": "code",
      "execution_count": null,
      "metadata": {
        "id": "UHHo-ZSxU9qB"
      },
      "outputs": [],
      "source": [
        "df"
      ]
    },
    {
      "cell_type": "markdown",
      "metadata": {
        "id": "uEvaQ3FN-GnF"
      },
      "source": [
        "각 부문(민간, 비금융기업, 가계)에 대한 국가별 DSR 수준을 확인하기 쉽도록 칼럼 레벨 순서를 변경\n",
        "\n",
        "- df.reorder_levels()"
      ]
    },
    {
      "cell_type": "code",
      "execution_count": null,
      "metadata": {
        "id": "dUooR3UbU9qC"
      },
      "outputs": [],
      "source": [
        "df.reorder_levels([1, 0], axis = 1)"
      ]
    },
    {
      "cell_type": "markdown",
      "metadata": {
        "id": "Qz0NMGyF-1oU"
      },
      "source": [
        "칼럼을 부문 - 국가 순서로 정렬 sort_index(axis=1)"
      ]
    },
    {
      "cell_type": "code",
      "execution_count": null,
      "metadata": {
        "id": "Dw2dhNk7_ecY"
      },
      "outputs": [],
      "source": [
        "df.reorder_levels([1, 0], axis = 1).sort_index(axis=1)"
      ]
    },
    {
      "cell_type": "markdown",
      "metadata": {
        "id": "8nieSBeI_ABK"
      },
      "source": [
        "데이터 자료형을 확인"
      ]
    },
    {
      "cell_type": "code",
      "execution_count": null,
      "metadata": {
        "id": "Dnv7vycw_xK8"
      },
      "outputs": [],
      "source": [
        "df.info()"
      ]
    },
    {
      "cell_type": "code",
      "execution_count": null,
      "metadata": {
        "id": "7GQnKfk2_2kd"
      },
      "outputs": [],
      "source": [
        "df.tail()"
      ]
    },
    {
      "cell_type": "markdown",
      "metadata": {
        "id": "JH-WXVJkABez"
      },
      "source": [
        "그래프 그리기\n",
        "\n",
        "- 한국의 부문별 DSR 추이\n",
        "- 한국, 미국, 영국의 가계부문 DSR 추이 (idx = pd.IndexSlice 이용)\n",
        "- 2010년 이후 추이 (.loc['2010':, ])"
      ]
    },
    {
      "cell_type": "code",
      "execution_count": null,
      "metadata": {
        "id": "cYKUT7_ABoHC"
      },
      "outputs": [],
      "source": [
        "df"
      ]
    },
    {
      "cell_type": "code",
      "execution_count": null,
      "metadata": {
        "id": "ljOdwj-BAhi8"
      },
      "outputs": [],
      "source": [
        "fig, ax = plt.subplots(1, 3, figsize = (16, 4))\n",
        "\n",
        "\n",
        "df['KR'].plot(ax = ax[0])\n",
        "df.loc[:, ['KR', 'US', 'GB']].plot(ax = ax[1])\n",
        "df.reorder_levels([1, 0], axis = 1)['H'].loc['2010':, ['KR', 'US', 'GB']].plot(ax = ax[2])"
      ]
    },
    {
      "cell_type": "markdown",
      "metadata": {
        "id": "hAcd1M4TB2-t"
      },
      "source": [
        "그래프 꾸미기\n",
        "- python2021/script 폴더에서 RGB 값들이 리스트로 저장된 colors.py 파일 실행\n",
        "    - lcolors, bcolors\n",
        "- 색 지정, 범례, 그리드, 타이틀, 마커 등"
      ]
    },
    {
      "cell_type": "code",
      "execution_count": null,
      "metadata": {
        "id": "0L-XhrQNgHpu"
      },
      "outputs": [],
      "source": [
        "%run python101/script/colors.py"
      ]
    },
    {
      "cell_type": "code",
      "execution_count": null,
      "metadata": {
        "id": "NHFe4pOxU9qC"
      },
      "outputs": [],
      "source": [
        "fig, ax = plt.subplots(1, 3, figsize = (16, 4))\n",
        "\n",
        "\n",
        "df['KR'].plot(ax = ax[0], color=lcolors[:3])\n",
        "df.loc[:, ['KR', 'US', 'GB']].plot(ax = ax[1], color=lcolors[:3], marker='o')\n",
        "df.reorder_levels([1, 0], axis = 1)['H'].loc[:, ['KR', 'US', 'GB']].plot(ax = ax[2], lw=3, color=lcolors[:3])\n",
        "\n",
        "ax[2].legend(ncol=3, frameon=False, fontsize=12)\n",
        "ax[2].set_title('household DSR', fontsize=16, y=1.1)"
      ]
    },
    {
      "cell_type": "markdown",
      "metadata": {
        "id": "Xu2yit2kAp4k"
      },
      "source": [
        "연도별 그래프 그리기\n",
        "\n",
        "- 평균, 연말, moving average"
      ]
    },
    {
      "cell_type": "code",
      "execution_count": null,
      "metadata": {
        "id": "-uHLBctQB0Io"
      },
      "outputs": [],
      "source": [
        "fig, ax = plt.subplots(1, 3, figsize = (16, 4))\n",
        "\n",
        "df_h = df.reorder_levels([1, 0], axis = 1)['H'].loc[:, ['KR', 'US', 'GB']]\n",
        "df_h.index.names = [None]\n",
        "\n",
        "df_h.resample('A').mean().plot(ax = ax[0], lw=3, color=lcolors[:3])\n",
        "df_h.resample('A').last().plot(ax = ax[1], lw=3, color=lcolors[:3])\n",
        "df_h.rolling(4, center=False).mean().plot(ax = ax[2], lw=3, color=lcolors[:3])\n",
        "\n",
        "for i, t in enumerate(['연평균', '연말', '이동평균(직전 4분기)']):\n",
        "    ax[i].set_title(t)\n",
        "    ax[i].legend(frameon=False)\n"
      ]
    }
  ],
  "metadata": {
    "colab": {
      "name": "data_analysis.ipynb",
      "provenance": [],
      "include_colab_link": true
    },
    "hide_code_all_hidden": false,
    "kernelspec": {
      "display_name": "base",
      "language": "python",
      "name": "python3"
    },
    "language_info": {
      "codemirror_mode": {
        "name": "ipython",
        "version": 3
      },
      "file_extension": ".py",
      "mimetype": "text/x-python",
      "name": "python",
      "nbconvert_exporter": "python",
      "pygments_lexer": "ipython3",
      "version": "3.12.7"
    }
  },
  "nbformat": 4,
  "nbformat_minor": 0
}