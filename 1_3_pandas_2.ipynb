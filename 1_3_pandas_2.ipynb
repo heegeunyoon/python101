{
  "cells": [
    {
      "cell_type": "markdown",
      "metadata": {
        "colab_type": "text",
        "id": "view-in-github"
      },
      "source": [
        "<a href=\"https://colab.research.google.com/github/heegeunyoon/python101/blob/main/1_3_pandas_2.ipynb\" target=\"_parent\"><img src=\"https://colab.research.google.com/assets/colab-badge.svg\" alt=\"Open In Colab\"/></a>"
      ]
    },
    {
      "cell_type": "markdown",
      "metadata": {
        "id": "GHhSCmXu664F"
      },
      "source": [
        "### Pandas 시작- 파일을 DataFrame 로딩, 기본 API"
      ]
    },
    {
      "cell_type": "code",
      "execution_count": null,
      "metadata": {
        "id": "3TntSvjA664I"
      },
      "outputs": [],
      "source": [
        "import pandas as pd"
      ]
    },
    {
      "cell_type": "code",
      "execution_count": null,
      "metadata": {
        "colab": {
          "base_uri": "https://localhost:8080/"
        },
        "id": "l6hTnC-PDcG2",
        "outputId": "5ca5cfa1-b04d-4234-b7ad-cb73983e8d61"
      },
      "outputs": [],
      "source": [
        "!rm -r python101/\n",
        "!git clone https://github.com/pjhbrain/python101.git"
      ]
    },
    {
      "cell_type": "code",
      "execution_count": null,
      "metadata": {
        "id": "1kEzxuKuRHYb"
      },
      "outputs": [],
      "source": []
    },
    {
      "cell_type": "code",
      "execution_count": null,
      "metadata": {
        "id": "s2-8QNY4RpLA"
      },
      "outputs": [],
      "source": [
        "#df = pd.read_csv('/content/python101/input/SP500HistoricalData.csv')\n",
        "df = pd.read_csv('/content/python101/input/SP500HistoricalData1.csv')\n"
      ]
    },
    {
      "cell_type": "code",
      "execution_count": null,
      "metadata": {
        "colab": {
          "base_uri": "https://localhost:8080/",
          "height": 424
        },
        "id": "6-hxEwueq-4q",
        "outputId": "347ecf76-87a3-49cb-a970-8c90e37a024e"
      },
      "outputs": [],
      "source": [
        "df"
      ]
    },
    {
      "cell_type": "code",
      "execution_count": null,
      "metadata": {
        "colab": {
          "base_uri": "https://localhost:8080/"
        },
        "id": "nCi_R7LPSBCM",
        "outputId": "a993e689-35a2-4ef8-e101-a87d09cf4d60"
      },
      "outputs": [],
      "source": [
        "df.info()"
      ]
    },
    {
      "cell_type": "code",
      "execution_count": null,
      "metadata": {
        "colab": {
          "base_uri": "https://localhost:8080/",
          "height": 300
        },
        "id": "M9bYLfnz5gMl",
        "outputId": "99816a9b-644b-4538-ec37-50baeb98b0ec"
      },
      "outputs": [],
      "source": [
        "df.describe()"
      ]
    },
    {
      "cell_type": "code",
      "execution_count": null,
      "metadata": {
        "colab": {
          "base_uri": "https://localhost:8080/"
        },
        "id": "RDigBjperHgY",
        "outputId": "0cab9cf8-723e-4f2a-aaef-b653742bf8d8"
      },
      "outputs": [],
      "source": [
        "df.info()"
      ]
    },
    {
      "cell_type": "code",
      "execution_count": null,
      "metadata": {
        "colab": {
          "base_uri": "https://localhost:8080/",
          "height": 430
        },
        "id": "9NjJMFTvrc3i",
        "outputId": "2a1356ae-d642-4eef-c437-5553cd85fd21"
      },
      "outputs": [],
      "source": [
        "import matplotlib.pyplot as plt\n",
        "plt.plot(df.Price)\n",
        "plt.show()"
      ]
    },
    {
      "cell_type": "code",
      "execution_count": null,
      "metadata": {
        "colab": {
          "base_uri": "https://localhost:8080/"
        },
        "id": "8Fp0yp4ZCDdR",
        "outputId": "f6642345-2c05-4109-a798-c15dfd3e8557"
      },
      "outputs": [],
      "source": [
        "df.dtypes"
      ]
    },
    {
      "cell_type": "code",
      "execution_count": null,
      "metadata": {
        "colab": {
          "base_uri": "https://localhost:8080/",
          "height": 287
        },
        "id": "b66ZXbWerzFF",
        "outputId": "1ca7578b-4fca-463b-ecb1-5c0420fe19f6"
      },
      "outputs": [],
      "source": [
        "df.astype({'Price': 'float'})"
      ]
    },
    {
      "cell_type": "code",
      "execution_count": null,
      "metadata": {
        "colab": {
          "base_uri": "https://localhost:8080/",
          "height": 331
        },
        "id": "T2wGBemyCGti",
        "outputId": "dac1e2e4-319a-4f8a-c978-0a18bde21a08"
      },
      "outputs": [],
      "source": [
        "# df.astype({'Date': 'str', 'Price': 'float', 'Open': 'float', 'High': 'float', 'Low': 'float'})"
      ]
    },
    {
      "cell_type": "code",
      "execution_count": null,
      "metadata": {
        "id": "Nsk58q4hC00w"
      },
      "outputs": [],
      "source": [
        "def remove_comma(x):\n",
        "    return x.replace(',', '')"
      ]
    },
    {
      "cell_type": "code",
      "execution_count": null,
      "metadata": {
        "id": "x6tti4vNDHKA"
      },
      "outputs": [],
      "source": [
        "def remove_comma_float(x):\n",
        "    return float(x.replace(',', ''))"
      ]
    },
    {
      "cell_type": "code",
      "execution_count": null,
      "metadata": {
        "colab": {
          "base_uri": "https://localhost:8080/"
        },
        "id": "y4qE2VojsOWb",
        "outputId": "e0b13ad4-7b82-4d19-df84-229ebc883f68"
      },
      "outputs": [],
      "source": [
        "df['Price'].apply(remove_comma_float)"
      ]
    },
    {
      "cell_type": "code",
      "execution_count": null,
      "metadata": {
        "id": "at9lcu6qC_wS"
      },
      "outputs": [],
      "source": [
        "df['Price'] = df['Price'].apply(remove_comma_float)"
      ]
    },
    {
      "cell_type": "code",
      "execution_count": null,
      "metadata": {
        "id": "SLyS_i-JE0me"
      },
      "outputs": [],
      "source": [
        "df['Open'] = df['Open'].apply(remove_comma_float)"
      ]
    },
    {
      "cell_type": "code",
      "execution_count": null,
      "metadata": {
        "id": "T9Zl_DCmFEJn"
      },
      "outputs": [],
      "source": [
        "df['High'] = df['High'].apply(remove_comma_float)\n",
        "df['Low'] = df['Low'].apply(remove_comma_float)"
      ]
    },
    {
      "cell_type": "code",
      "execution_count": null,
      "metadata": {
        "colab": {
          "base_uri": "https://localhost:8080/",
          "height": 300
        },
        "id": "MauBWArCCd1B",
        "outputId": "56a634b5-ee83-4ef7-8ed2-44b3d470cea7"
      },
      "outputs": [],
      "source": [
        "df.describe()"
      ]
    },
    {
      "cell_type": "code",
      "execution_count": null,
      "metadata": {
        "id": "cBnOpQBMDWpa"
      },
      "outputs": [],
      "source": [
        "import matplotlib.pyplot as plt"
      ]
    },
    {
      "cell_type": "code",
      "execution_count": null,
      "metadata": {
        "colab": {
          "base_uri": "https://localhost:8080/",
          "height": 424
        },
        "id": "4lWMOGE5y9PN",
        "outputId": "fad469d2-c02b-4237-8b73-2ac81bfb0310"
      },
      "outputs": [],
      "source": [
        "df"
      ]
    },
    {
      "cell_type": "code",
      "execution_count": null,
      "metadata": {
        "id": "SW2n-40czHP9"
      },
      "outputs": [],
      "source": [
        "import matplotlib.pyplot as plt"
      ]
    },
    {
      "cell_type": "code",
      "execution_count": null,
      "metadata": {
        "colab": {
          "base_uri": "https://localhost:8080/",
          "height": 432
        },
        "id": "OnDpY_b7sex6",
        "outputId": "2274c5b2-c50a-412d-dfb5-6ce51d944616"
      },
      "outputs": [],
      "source": [
        "plt.plot(df['Price'])\n",
        "plt.show()"
      ]
    },
    {
      "cell_type": "code",
      "execution_count": null,
      "metadata": {
        "id": "35-iM4sT58xu"
      },
      "outputs": [],
      "source": []
    },
    {
      "cell_type": "code",
      "execution_count": null,
      "metadata": {
        "colab": {
          "base_uri": "https://localhost:8080/",
          "height": 432
        },
        "id": "JIVOs8ifDfto",
        "outputId": "aec5d9c4-4c4b-4132-9790-de61597895d7"
      },
      "outputs": [],
      "source": [
        "plt.plot(df['Date'], df['Price'])\n",
        "plt.show()"
      ]
    },
    {
      "cell_type": "code",
      "execution_count": null,
      "metadata": {
        "colab": {
          "base_uri": "https://localhost:8080/"
        },
        "id": "fQPjBzXuEJUu",
        "outputId": "b67b8891-7937-490d-851f-d5d28efd2b14"
      },
      "outputs": [],
      "source": [
        "df['Date']"
      ]
    },
    {
      "cell_type": "code",
      "execution_count": null,
      "metadata": {
        "colab": {
          "base_uri": "https://localhost:8080/"
        },
        "id": "cxZ4QuwvD5gv",
        "outputId": "a310fb8f-2554-4f51-fcf1-37d2880bbb70"
      },
      "outputs": [],
      "source": [
        "df['Date'] = pd.to_datetime(df['Date'], infer_datetime_format=True)"
      ]
    },
    {
      "cell_type": "code",
      "execution_count": null,
      "metadata": {
        "colab": {
          "base_uri": "https://localhost:8080/"
        },
        "id": "l4EYnBc6T_KL",
        "outputId": "90c63a66-7fa6-4649-ca1b-06f42a957245"
      },
      "outputs": [],
      "source": [
        "df.info()"
      ]
    },
    {
      "cell_type": "code",
      "execution_count": null,
      "metadata": {
        "id": "TC4SMPInzJn3"
      },
      "outputs": [],
      "source": [
        "df.set_index('Date', inplace=True)"
      ]
    },
    {
      "cell_type": "code",
      "execution_count": null,
      "metadata": {
        "id": "lrkrSgrSGbXL"
      },
      "outputs": [],
      "source": [
        "df.sort_index(inplace=True)"
      ]
    },
    {
      "cell_type": "code",
      "execution_count": null,
      "metadata": {
        "colab": {
          "base_uri": "https://localhost:8080/"
        },
        "id": "tL0W4cDFE5vP",
        "outputId": "0cc08801-9d2f-4de8-9224-d06a58d96696"
      },
      "outputs": [],
      "source": [
        "df.info()"
      ]
    },
    {
      "cell_type": "code",
      "execution_count": null,
      "metadata": {
        "colab": {
          "base_uri": "https://localhost:8080/",
          "height": 432
        },
        "id": "ne9mUDorUNtz",
        "outputId": "60b15ba5-e8c9-45ea-ebcb-2a64c70146e2"
      },
      "outputs": [],
      "source": [
        "plt.plot(df['Price'])\n",
        "plt.show()"
      ]
    },
    {
      "cell_type": "code",
      "execution_count": null,
      "metadata": {
        "colab": {
          "base_uri": "https://localhost:8080/",
          "height": 463
        },
        "id": "ZnjBVkcuEhuu",
        "outputId": "b00811ba-8de9-4bdb-ee16-af4a95f41c45"
      },
      "outputs": [],
      "source": [
        "fig, ax = plt.subplots(1, 1, figsize=(15, 7))\n",
        "ax.plot(df['High'] - df['Low'])\n",
        "plt.show()"
      ]
    },
    {
      "cell_type": "code",
      "execution_count": null,
      "metadata": {
        "id": "Yo20xQ2N6bNz"
      },
      "outputs": [],
      "source": []
    },
    {
      "cell_type": "code",
      "execution_count": null,
      "metadata": {
        "colab": {
          "base_uri": "https://localhost:8080/",
          "height": 35
        },
        "id": "LsI5aKGyYq55",
        "outputId": "3b8fdac9-7e61-42d4-cd60-9103efb6658a"
      },
      "outputs": [],
      "source": [
        "import os\n",
        "os.getcwd()"
      ]
    },
    {
      "cell_type": "code",
      "execution_count": null,
      "metadata": {
        "colab": {
          "base_uri": "https://localhost:8080/",
          "height": 1000
        },
        "id": "5bWWGC5iE6nf",
        "outputId": "6025da0d-f989-4dec-b04d-dd2509165fe7"
      },
      "outputs": [],
      "source": [
        "fig, ax = plt.subplots(1, 1, figsize=(15, 7))\n",
        "ax.plot(df['Date'], df['High'] - df['Low'])\n",
        "plt.show()"
      ]
    },
    {
      "cell_type": "code",
      "execution_count": null,
      "metadata": {
        "id": "He96SuwbwQh1"
      },
      "outputs": [],
      "source": [
        "df.set_index('Date', inplace=True)"
      ]
    },
    {
      "cell_type": "code",
      "execution_count": null,
      "metadata": {
        "colab": {
          "base_uri": "https://localhost:8080/",
          "height": 455
        },
        "id": "CVH8sMrEUpIW",
        "outputId": "8cca5018-eb6b-483f-b8f4-0695eaed1e0d"
      },
      "outputs": [],
      "source": [
        "df"
      ]
    },
    {
      "cell_type": "code",
      "execution_count": null,
      "metadata": {
        "id": "3k7HawoZwlhh"
      },
      "outputs": [],
      "source": [
        "df.sort_index(inplace=True)"
      ]
    },
    {
      "cell_type": "code",
      "execution_count": null,
      "metadata": {
        "id": "VPMWQK8b6kQk"
      },
      "outputs": [],
      "source": [
        "df1 = df.resample('M').last()"
      ]
    },
    {
      "cell_type": "code",
      "execution_count": null,
      "metadata": {
        "id": "0DfVLJRm63md"
      },
      "outputs": [],
      "source": []
    },
    {
      "cell_type": "code",
      "execution_count": null,
      "metadata": {
        "colab": {
          "base_uri": "https://localhost:8080/",
          "height": 455
        },
        "id": "2i6Wi5pbUxZe",
        "outputId": "d44e7638-44da-4552-b203-5aa56e6c3007"
      },
      "outputs": [],
      "source": [
        "df1"
      ]
    },
    {
      "cell_type": "code",
      "execution_count": null,
      "metadata": {
        "colab": {
          "base_uri": "https://localhost:8080/",
          "height": 430
        },
        "id": "AXphUNuz6saV",
        "outputId": "bdffeb1c-735e-423b-91e3-0405040925a6"
      },
      "outputs": [],
      "source": [
        "plt.plot(df1.High - df1.Low)\n",
        "plt.show()"
      ]
    },
    {
      "cell_type": "code",
      "execution_count": null,
      "metadata": {
        "colab": {
          "base_uri": "https://localhost:8080/"
        },
        "id": "OdSOEzpaVgY3",
        "outputId": "fb493139-6395-46f9-8e8c-5e6806747768"
      },
      "outputs": [],
      "source": [
        "df.resample('M')"
      ]
    },
    {
      "cell_type": "code",
      "execution_count": null,
      "metadata": {
        "colab": {
          "base_uri": "https://localhost:8080/",
          "height": 455
        },
        "id": "LiFcJZyiVBD2",
        "outputId": "1f810b71-2119-40d8-fa39-a44a08383bbf"
      },
      "outputs": [],
      "source": [
        "df1"
      ]
    },
    {
      "cell_type": "code",
      "execution_count": null,
      "metadata": {
        "id": "RR7IQhfg64Pe"
      },
      "outputs": [],
      "source": [
        "df2 = df1.loc['2021/1/1':]"
      ]
    },
    {
      "cell_type": "code",
      "execution_count": null,
      "metadata": {
        "colab": {
          "base_uri": "https://localhost:8080/",
          "height": 466
        },
        "id": "TgG8962L7ATJ",
        "outputId": "d9b42889-19dd-4bc3-dd13-c99d96027ff7"
      },
      "outputs": [],
      "source": [
        "plt.plot(df2.High - df2.Low)\n",
        "plt.xticks(rotation=45)\n",
        "plt.show()"
      ]
    },
    {
      "cell_type": "code",
      "execution_count": null,
      "metadata": {
        "colab": {
          "base_uri": "https://localhost:8080/",
          "height": 455
        },
        "id": "EVIim3tX_hHV",
        "outputId": "b476abf0-b53a-4362-f9f5-fcf54c8757aa"
      },
      "outputs": [],
      "source": [
        "df"
      ]
    },
    {
      "cell_type": "markdown",
      "metadata": {
        "id": "TDPGi9KPagLs"
      },
      "source": []
    },
    {
      "cell_type": "code",
      "execution_count": null,
      "metadata": {
        "id": "4DrYBvDNaMni"
      },
      "outputs": [],
      "source": [
        "df['price_ret'] = df['Price'].pct_change(periods=1)"
      ]
    },
    {
      "cell_type": "code",
      "execution_count": null,
      "metadata": {
        "colab": {
          "base_uri": "https://localhost:8080/",
          "height": 430
        },
        "id": "i7R4K1Qjag3c",
        "outputId": "cda3bea6-7495-43f3-84b6-b714e4a81ca6"
      },
      "outputs": [],
      "source": [
        "plt.plot(df['price_ret'].resample('M').std())\n",
        "plt.show()"
      ]
    },
    {
      "cell_type": "code",
      "execution_count": null,
      "metadata": {
        "colab": {
          "base_uri": "https://localhost:8080/"
        },
        "id": "mDj2KLtLb6fm",
        "outputId": "df50e110-c3ee-49fc-f599-2a7087029f2e"
      },
      "outputs": [],
      "source": [
        "df = pd.read_csv('USD_KRW Historical Data.csv')\n",
        "df.info()"
      ]
    },
    {
      "cell_type": "code",
      "execution_count": null,
      "metadata": {
        "id": "Ppa2ZUDEcrQM"
      },
      "outputs": [],
      "source": [
        "def str2num(x):\n",
        "  return float(x.replace(',', ''))\n",
        "\n",
        "df = pd.read_csv('USD_KRW Historical Data.csv',\n",
        "                 converters={'Price': str2num, 'Open': str2num,\n",
        "                             'Open': str2num, 'High': str2num,\n",
        "                             'Low': str2num},\n",
        "                 parse_dates=['Date'])\n",
        "\n",
        "df.set_index('Date', inplace=True)"
      ]
    },
    {
      "cell_type": "code",
      "execution_count": null,
      "metadata": {
        "colab": {
          "base_uri": "https://localhost:8080/"
        },
        "id": "LpD6rAsGi6pL",
        "outputId": "f1128be4-789d-43d4-d19e-78e4058589f6"
      },
      "outputs": [],
      "source": [
        "df['Price_mv_30'] = df['Price'].rolling(window=30).mean()\n",
        "df['Price_mv_180'] = df['Price'].rolling(window=180).mean()\n",
        "\n",
        "len(df[df['Price_mv_30'] - df['Price_mv_180'] >= 0])"
      ]
    },
    {
      "cell_type": "code",
      "execution_count": null,
      "metadata": {
        "colab": {
          "base_uri": "https://localhost:8080/"
        },
        "id": "s2e8yb3tjcCE",
        "outputId": "31380ec6-7403-48b9-ca42-c14d30881267"
      },
      "outputs": [],
      "source": []
    },
    {
      "cell_type": "code",
      "execution_count": null,
      "metadata": {
        "id": "bB5bNHjBi0M2"
      },
      "outputs": [],
      "source": []
    },
    {
      "cell_type": "code",
      "execution_count": null,
      "metadata": {
        "colab": {
          "base_uri": "https://localhost:8080/",
          "height": 430
        },
        "id": "XJtiCLRRc5H6",
        "outputId": "1851e0da-8213-4513-f7a3-64c717b56fc5"
      },
      "outputs": [],
      "source": [
        "plt.plot(df['Price'])\n",
        "plt.show()"
      ]
    },
    {
      "cell_type": "code",
      "execution_count": null,
      "metadata": {
        "id": "jzEOTMDpb6c8"
      },
      "outputs": [],
      "source": []
    },
    {
      "cell_type": "code",
      "execution_count": null,
      "metadata": {
        "id": "spRvkKO-b6Zq"
      },
      "outputs": [],
      "source": []
    },
    {
      "cell_type": "code",
      "execution_count": null,
      "metadata": {
        "id": "l46trgEGb6Tf"
      },
      "outputs": [],
      "source": []
    },
    {
      "cell_type": "code",
      "execution_count": null,
      "metadata": {
        "colab": {
          "base_uri": "https://localhost:8080/",
          "height": 455
        },
        "id": "xCId2bYTaPsi",
        "outputId": "e60ace26-b9fa-48a0-b066-bd373dcd30ce"
      },
      "outputs": [],
      "source": [
        "df"
      ]
    },
    {
      "cell_type": "markdown",
      "metadata": {
        "id": "54ADrx4uxRwt"
      },
      "source": []
    },
    {
      "cell_type": "code",
      "execution_count": null,
      "metadata": {
        "colab": {
          "base_uri": "https://localhost:8080/"
        },
        "id": "jpxvDq8yyh_g",
        "outputId": "4c43c134-aaea-4bca-b02b-c8e836b48a02"
      },
      "outputs": [],
      "source": [
        "import locale\n",
        "locale.setlocale(locale.LC_ALL, '')\n",
        "locale.atof('123,456.789')"
      ]
    },
    {
      "cell_type": "code",
      "execution_count": null,
      "metadata": {
        "id": "2o7N9a9q7rvc"
      },
      "outputs": [],
      "source": [
        "df.sort_index(inplace=True)"
      ]
    },
    {
      "cell_type": "code",
      "execution_count": null,
      "metadata": {
        "id": "q-R_L21v7emj"
      },
      "outputs": [],
      "source": [
        "df['Price_mv_5'] = df['Price'].rolling(window=5).mean()\n",
        "df['Price_mv_10'] = df['Price'].rolling(window=10).mean()\n",
        "df['Price_mv_20'] = df['Price'].rolling(window=20).mean()\n",
        "df['Price_mv_30'] = df['Price'].rolling(window=30).mean()\n",
        "df['Price_mv_60'] = df['Price'].rolling(window=60).mean()\n",
        "df['Price_mv_180'] = df['Price'].rolling(window=180).mean()"
      ]
    },
    {
      "cell_type": "code",
      "execution_count": null,
      "metadata": {
        "colab": {
          "base_uri": "https://localhost:8080/",
          "height": 455
        },
        "id": "QOyS7NVu8CQL",
        "outputId": "bee2259a-a156-420f-94bf-63d66eb28594"
      },
      "outputs": [],
      "source": [
        "df.dropna(axis=0)\n",
        "df.dropna(axis=1)"
      ]
    },
    {
      "cell_type": "code",
      "execution_count": null,
      "metadata": {
        "id": "0APVijAx821e"
      },
      "outputs": [],
      "source": [
        "from datetime import datetime"
      ]
    },
    {
      "cell_type": "code",
      "execution_count": null,
      "metadata": {
        "colab": {
          "base_uri": "https://localhost:8080/",
          "height": 421
        },
        "id": "OtU-ERRv8RMG",
        "outputId": "94826b11-d446-418e-f02e-4742305167e4"
      },
      "outputs": [],
      "source": [
        "fig, ax = plt.subplots(1, 1, figsize=(15,5))\n",
        "ax.plot(df['Price'], label='price')\n",
        "ax.plot(df['Price_mv_5'], label='price mv_5')\n",
        "ax.plot(df['Price_mv_10'], label='price mv_10')\n",
        "ax.plot(df['Price_mv_20'], label='price mv_20')\n",
        "ax.plot(df['Price_mv_30'], label='price mv_30')\n",
        "ax.plot(df['Price_mv_60'], label='price mv_60')\n",
        "ax.plot(df['Price_mv_180'], label='price mv_180')\n",
        "plt.xlim([datetime(2020,1,1), datetime(2020,3,30)])\n",
        "plt.legend()\n",
        "plt.show()\n"
      ]
    },
    {
      "cell_type": "code",
      "execution_count": null,
      "metadata": {
        "id": "xMrCuIvAFWEN"
      },
      "outputs": [],
      "source": [
        "df.drop('Vol.', inplace=True, axis=1)"
      ]
    },
    {
      "cell_type": "code",
      "execution_count": null,
      "metadata": {
        "id": "4OqT2BySF8f3"
      },
      "outputs": [],
      "source": [
        "df.dropna(axis=0, inplace=True)"
      ]
    },
    {
      "cell_type": "code",
      "execution_count": null,
      "metadata": {
        "colab": {
          "base_uri": "https://localhost:8080/",
          "height": 499
        },
        "id": "sivb6P4KKH70",
        "outputId": "4e2fa593-5609-4c0e-d072-bdaa8d8f42bc"
      },
      "outputs": [],
      "source": [
        "df"
      ]
    },
    {
      "cell_type": "code",
      "execution_count": null,
      "metadata": {
        "colab": {
          "base_uri": "https://localhost:8080/"
        },
        "id": "QNndW9rHGMLr",
        "outputId": "9ba0fe96-7dd8-4bd3-d958-f326dc0e27aa"
      },
      "outputs": [],
      "source": [
        "sum(df['Price_mv_30'] - df['Price_mv_180'] > 0)"
      ]
    },
    {
      "cell_type": "code",
      "execution_count": null,
      "metadata": {
        "colab": {
          "base_uri": "https://localhost:8080/"
        },
        "id": "itGxM8CEGC5M",
        "outputId": "8dc627aa-5322-4ef6-e520-da11585374fa"
      },
      "outputs": [],
      "source": [
        "sum(df['Price_mv_30'] - df['Price_mv_180'] > 0)"
      ]
    },
    {
      "cell_type": "code",
      "execution_count": null,
      "metadata": {
        "id": "SkvBXvhzI5XY"
      },
      "outputs": [],
      "source": [
        "cnt = 0\n",
        "\n",
        "for index, row in df.iterrows():\n",
        "    if row.Price_mv_30 > row.Price_mv_180:\n",
        "        cnt += 1\n",
        "\n",
        "\n",
        "for i in range(len(df)):\n",
        "    if df.iloc[i]"
      ]
    },
    {
      "cell_type": "code",
      "execution_count": null,
      "metadata": {
        "colab": {
          "base_uri": "https://localhost:8080/"
        },
        "id": "jmw1uwkNJP-c",
        "outputId": "1ba309e0-5b5f-4db4-a618-913ead7c1e41"
      },
      "outputs": [],
      "source": [
        "print(cnt)"
      ]
    },
    {
      "cell_type": "code",
      "execution_count": null,
      "metadata": {
        "id": "vR3s3cNQGwnG"
      },
      "outputs": [],
      "source": [
        "df['price_ret'] = df['Price'].pct_change(periods=1)"
      ]
    },
    {
      "cell_type": "code",
      "execution_count": null,
      "metadata": {
        "colab": {
          "base_uri": "https://localhost:8080/",
          "height": 510
        },
        "id": "ix0VMm0DHCKX",
        "outputId": "1e95a2a9-d17f-4b40-9d18-513c62e931f3"
      },
      "outputs": [],
      "source": [
        "plt.plot(df['price_ret'].rolling(10).std().dropna())\n",
        "plt.xlabel('date')\n",
        "plt.ylabel('volatility')\n",
        "plt.title('volatility timeseries', fontsize=16)\n",
        "plt.xticks(rotation=45)\n",
        "plt.xlim([datetime(2020,1,1), datetime(2020,12,31)])\n",
        "plt.show()"
      ]
    },
    {
      "cell_type": "code",
      "execution_count": null,
      "metadata": {
        "colab": {
          "base_uri": "https://localhost:8080/",
          "height": 455
        },
        "id": "2lH4-snC0CXK",
        "outputId": "1ad28080-c109-4db6-bda4-17e8b7ca7ffd"
      },
      "outputs": [],
      "source": [
        "df[['Price']].rolling(5).std()"
      ]
    },
    {
      "cell_type": "code",
      "execution_count": null,
      "metadata": {
        "id": "Vn4s6DDwyuD7"
      },
      "outputs": [],
      "source": [
        "from datetime import datetime"
      ]
    },
    {
      "cell_type": "code",
      "execution_count": null,
      "metadata": {
        "colab": {
          "base_uri": "https://localhost:8080/",
          "height": 455
        },
        "id": "lCnRgXvxypB-",
        "outputId": "f8892601-7d1a-4508-a06a-b211796209fd"
      },
      "outputs": [],
      "source": [
        "df.loc[df.index >= datetime(2023,1,1)]"
      ]
    },
    {
      "cell_type": "code",
      "execution_count": null,
      "metadata": {
        "colab": {
          "base_uri": "https://localhost:8080/",
          "height": 455
        },
        "id": "HAvvquHawT0n",
        "outputId": "d2e76f3a-fc04-4299-9b9d-a9baca32fa86"
      },
      "outputs": [],
      "source": [
        "df['2020-01-01':'2022-01-01']"
      ]
    },
    {
      "cell_type": "code",
      "execution_count": null,
      "metadata": {
        "colab": {
          "base_uri": "https://localhost:8080/",
          "height": 35
        },
        "id": "u1Bc5UKTDt8p",
        "outputId": "e6b88f9a-c5d3-4fb6-dabc-7d6429a24052"
      },
      "outputs": [],
      "source": [
        "df['Date'].iloc[0]"
      ]
    },
    {
      "cell_type": "code",
      "execution_count": null,
      "metadata": {
        "colab": {
          "base_uri": "https://localhost:8080/"
        },
        "id": "8vyEVAH7B3BJ",
        "outputId": "f29caf8b-d72b-4a3c-fb3b-2066de6674cc"
      },
      "outputs": [],
      "source": [
        "print(df.shape)"
      ]
    },
    {
      "cell_type": "code",
      "execution_count": null,
      "metadata": {
        "colab": {
          "base_uri": "https://localhost:8080/"
        },
        "id": "y7nx12daBbLS",
        "outputId": "824d4067-bac8-4298-9ba4-a5dd4276bff3"
      },
      "outputs": [],
      "source": [
        "print(df.info())"
      ]
    },
    {
      "cell_type": "code",
      "execution_count": null,
      "metadata": {
        "colab": {
          "base_uri": "https://localhost:8080/",
          "height": 206
        },
        "id": "gAS90ajE-vKF",
        "outputId": "def4a55d-a449-4969-a88c-5e53a68eed8d"
      },
      "outputs": [],
      "source": [
        "df.head(5)"
      ]
    },
    {
      "cell_type": "code",
      "execution_count": null,
      "metadata": {
        "colab": {
          "base_uri": "https://localhost:8080/",
          "height": 143
        },
        "id": "6eNPsKrdcNv5",
        "outputId": "eae2d01f-a332-4d04-9454-3e4012e021ae"
      },
      "outputs": [],
      "source": [
        "pd.DataFrame([1, 2, 3])"
      ]
    },
    {
      "cell_type": "code",
      "execution_count": null,
      "metadata": {
        "id": "vAwZqK2pcNmy"
      },
      "outputs": [],
      "source": []
    },
    {
      "cell_type": "code",
      "execution_count": null,
      "metadata": {
        "colab": {
          "base_uri": "https://localhost:8080/"
        },
        "id": "rpyQYhd6664J",
        "outputId": "d8f9049c-f74d-4f2b-adfb-225bd04f55a3"
      },
      "outputs": [],
      "source": [
        "titanic_df = pd.read_csv('/content/python101/input/titanic_train.csv')\n",
        "print('titanic 변수 type:',type(titanic_df))\n",
        "print(titanic_df)\n"
      ]
    },
    {
      "cell_type": "code",
      "execution_count": null,
      "metadata": {
        "colab": {
          "base_uri": "https://localhost:8080/",
          "height": 206
        },
        "id": "fcViS36U664J",
        "outputId": "e148e471-3f97-44a1-cfff-1b1038613a15"
      },
      "outputs": [],
      "source": [
        "titanic_df.head()"
      ]
    },
    {
      "cell_type": "code",
      "execution_count": null,
      "metadata": {
        "colab": {
          "base_uri": "https://localhost:8080/"
        },
        "id": "0CdcezCq664K",
        "outputId": "8d65d7b9-dabc-436f-b1a9-2aac92f4cbfe"
      },
      "outputs": [],
      "source": [
        "print('DataFrame 크기: ', titanic_df.shape)"
      ]
    },
    {
      "cell_type": "code",
      "execution_count": null,
      "metadata": {
        "colab": {
          "base_uri": "https://localhost:8080/"
        },
        "id": "EQ7zLIJg664K",
        "outputId": "ebc967f5-d459-4141-bbb2-cacf06f5516f"
      },
      "outputs": [],
      "source": [
        "titanic_df.info()"
      ]
    },
    {
      "cell_type": "code",
      "execution_count": null,
      "metadata": {
        "colab": {
          "base_uri": "https://localhost:8080/",
          "height": 300
        },
        "id": "kktfLLSz664K",
        "outputId": "b5ff5a47-923d-411e-e7b2-14851f0b3837"
      },
      "outputs": [],
      "source": [
        "titanic_df.describe()"
      ]
    },
    {
      "cell_type": "code",
      "execution_count": null,
      "metadata": {
        "colab": {
          "base_uri": "https://localhost:8080/"
        },
        "id": "8beRtiLigqn-",
        "outputId": "f99f4b31-9c56-44cb-e3f0-895e48be8c25"
      },
      "outputs": [],
      "source": [
        "titanic_df['Pclass']"
      ]
    },
    {
      "cell_type": "code",
      "execution_count": null,
      "metadata": {
        "colab": {
          "base_uri": "https://localhost:8080/"
        },
        "id": "SMhFqB1D664L",
        "outputId": "e02ea7ad-7f0e-4534-a991-c377c479a1f9"
      },
      "outputs": [],
      "source": [
        "value_counts = titanic_df['Pclass'].value_counts()\n",
        "print(value_counts)"
      ]
    },
    {
      "cell_type": "code",
      "execution_count": null,
      "metadata": {
        "colab": {
          "base_uri": "https://localhost:8080/"
        },
        "id": "Ptl1xtCt664L",
        "outputId": "86066ff6-c72a-49a7-e10b-a113ab24b46e"
      },
      "outputs": [],
      "source": [
        "titanic_pclass = titanic_df['Pclass']\n",
        "print(type(titanic_pclass))"
      ]
    },
    {
      "cell_type": "code",
      "execution_count": null,
      "metadata": {
        "colab": {
          "base_uri": "https://localhost:8080/"
        },
        "id": "9XU1J9y5664L",
        "outputId": "07eeb16e-d08f-4d2e-ad24-342990725b1b"
      },
      "outputs": [],
      "source": [
        "titanic_pclass.head()"
      ]
    },
    {
      "cell_type": "code",
      "execution_count": null,
      "metadata": {
        "colab": {
          "base_uri": "https://localhost:8080/"
        },
        "id": "dDTLYjBl664M",
        "outputId": "ab566993-53d8-4edd-d68e-7c23f995b751"
      },
      "outputs": [],
      "source": [
        "value_counts = titanic_df['Pclass'].value_counts()\n",
        "print(type(value_counts))\n",
        "print(value_counts)"
      ]
    },
    {
      "cell_type": "code",
      "execution_count": null,
      "metadata": {
        "colab": {
          "base_uri": "https://localhost:8080/"
        },
        "id": "rv8KkGNrhIz1",
        "outputId": "a39110e6-6d56-474d-9594-19ff60f79d9d"
      },
      "outputs": [],
      "source": [
        "print(titanic_df.shape)\n",
        "print('titanic_df 데이터 건수:', titanic_df.shape[0])\n",
        "print('titanic_df 컬럼 수:', titanic_df.shape[1])"
      ]
    },
    {
      "cell_type": "code",
      "execution_count": null,
      "metadata": {
        "colab": {
          "base_uri": "https://localhost:8080/"
        },
        "id": "mbZy3g5fhehk",
        "outputId": "09770a6f-dfb1-42c3-8de4-3390c196c6d0"
      },
      "outputs": [],
      "source": [
        "print(titanic_df['Embarked'].value_counts())"
      ]
    },
    {
      "cell_type": "code",
      "execution_count": null,
      "metadata": {
        "colab": {
          "base_uri": "https://localhost:8080/"
        },
        "id": "Omt6bdrVhisl",
        "outputId": "cd182f58-1a89-4de8-b1dd-a9ca6f04287a"
      },
      "outputs": [],
      "source": [
        "print(titanic_df['Embarked'].value_counts(dropna=False))"
      ]
    },
    {
      "cell_type": "code",
      "execution_count": null,
      "metadata": {
        "colab": {
          "base_uri": "https://localhost:8080/"
        },
        "id": "KNhdsUuehold",
        "outputId": "720e7450-49f2-4a41-92ef-7cec9c438269"
      },
      "outputs": [],
      "source": [
        "titanic_df.info()"
      ]
    },
    {
      "cell_type": "code",
      "execution_count": null,
      "metadata": {
        "colab": {
          "base_uri": "https://localhost:8080/"
        },
        "id": "dsccsfgz664M",
        "outputId": "44e73ce5-fdbf-4c9d-8c74-ba126cea5f95"
      },
      "outputs": [],
      "source": [
        "print('titanic_df 데이터 건수:', titanic_df.shape[0])\n",
        "print('기본 설정인 dropna=True로 value_counts()')\n",
        "# value_counts()는 디폴트로 dropna=True이므로 value_counts(dropna=True)와 동일.\n",
        "print(titanic_df['Embarked'].value_counts())\n",
        "print(titanic_df['Embarked'].value_counts(dropna=False))"
      ]
    },
    {
      "cell_type": "markdown",
      "metadata": {
        "id": "0kUKGlVF664M"
      },
      "source": [
        "### DataFrame과 리스트, 딕셔너리, 넘파이 ndarray 상호 변환\n",
        "\n",
        "* 넘파이 ndarray, 리스트, 딕셔너리를 DataFrame으로 변환하기"
      ]
    },
    {
      "cell_type": "code",
      "execution_count": null,
      "metadata": {
        "id": "W5t0CANfh4ks"
      },
      "outputs": [],
      "source": [
        "import numpy as np"
      ]
    },
    {
      "cell_type": "code",
      "execution_count": null,
      "metadata": {
        "id": "XzDvytyMhzbM"
      },
      "outputs": [],
      "source": [
        "col_name1=['col1']"
      ]
    },
    {
      "cell_type": "code",
      "execution_count": null,
      "metadata": {
        "id": "RBd5OF9lh26a"
      },
      "outputs": [],
      "source": [
        "list1 = [1, 2, 3]\n",
        "array1 = np.array(list1)"
      ]
    },
    {
      "cell_type": "code",
      "execution_count": null,
      "metadata": {
        "colab": {
          "base_uri": "https://localhost:8080/"
        },
        "id": "6Hv-qFOxiCzs",
        "outputId": "8157852e-2856-486d-8684-e2a55af41e70"
      },
      "outputs": [],
      "source": [
        "print('array1 shape:', array1.shape )"
      ]
    },
    {
      "cell_type": "code",
      "execution_count": null,
      "metadata": {
        "colab": {
          "base_uri": "https://localhost:8080/"
        },
        "id": "2MpjGbZsiF_b",
        "outputId": "fce9e11f-20be-4f99-bf0f-f713c8c89f10"
      },
      "outputs": [],
      "source": [
        "# 리스트를 이용해 DataFrame 생성.\n",
        "df_list1 = pd.DataFrame(list1, columns=col_name1)\n",
        "print(df_list1)"
      ]
    },
    {
      "cell_type": "code",
      "execution_count": null,
      "metadata": {
        "colab": {
          "base_uri": "https://localhost:8080/"
        },
        "id": "qYFSRzf8h71c",
        "outputId": "86f3327e-b76f-46fd-f88d-12198f511731"
      },
      "outputs": [],
      "source": [
        "# 넘파이 ndarray를 이용해 DataFrame 생성.\n",
        "# df_array1 = pd.DataFrame(array1, columns=col_name1)\n",
        "df_array1 = pd.DataFrame(array1, columns=['col1'])\n",
        "print('1차원 ndarray로 만든 DataFrame:\\n', df_array1)"
      ]
    },
    {
      "cell_type": "code",
      "execution_count": null,
      "metadata": {
        "colab": {
          "base_uri": "https://localhost:8080/"
        },
        "id": "JKFE4V2Uih5T",
        "outputId": "1b8e3c30-d7e7-4e3a-c59c-7e6510f9fc1b"
      },
      "outputs": [],
      "source": [
        "df_array1.info()"
      ]
    },
    {
      "cell_type": "code",
      "execution_count": null,
      "metadata": {
        "colab": {
          "base_uri": "https://localhost:8080/",
          "height": 300
        },
        "id": "Qma0wIg7in0U",
        "outputId": "2a31efef-89ba-4ccf-950a-fba589a3550d"
      },
      "outputs": [],
      "source": [
        "df_array1.describe()"
      ]
    },
    {
      "cell_type": "code",
      "execution_count": null,
      "metadata": {
        "colab": {
          "base_uri": "https://localhost:8080/"
        },
        "id": "Cf6fkNuy664M",
        "outputId": "0e142fad-330e-4bd3-a860-fcf54c3d9a46",
        "scrolled": true
      },
      "outputs": [],
      "source": [
        "import numpy as np\n",
        "\n",
        "col_name1=['col1']\n",
        "list1 = [1, 2, 3]\n",
        "array1 = np.array(list1)\n",
        "print('array1 shape:', array1.shape )\n",
        "# 리스트를 이용해 DataFrame 생성.\n",
        "df_list1 = pd.DataFrame(list1, columns=col_name1)\n",
        "print('1차원 리스트로 만든 DataFrame:\\n', df_list1)\n",
        "# 넘파이 ndarray를 이용해 DataFrame 생성.\n",
        "df_array1 = pd.DataFrame(array1, columns=col_name1)\n",
        "print('1차원 ndarray로 만든 DataFrame:\\n', df_array1)"
      ]
    },
    {
      "cell_type": "code",
      "execution_count": null,
      "metadata": {
        "colab": {
          "base_uri": "https://localhost:8080/"
        },
        "id": "MRFk9r3Kk0Mh",
        "outputId": "d92d03bd-2766-4324-e39e-000ad458dc44"
      },
      "outputs": [],
      "source": [
        "a = [1, 2, 3]\n",
        "A = [4, 5, 6]\n",
        "print(a)\n",
        "print(A)"
      ]
    },
    {
      "cell_type": "code",
      "execution_count": null,
      "metadata": {
        "id": "aMjKJxYKlTox"
      },
      "outputs": [],
      "source": [
        "# 3개의 칼럼명이 필요함.\n",
        "col_name2=['col1', 'col2', 'col3']"
      ]
    },
    {
      "cell_type": "code",
      "execution_count": null,
      "metadata": {
        "id": "A0JTplWSlVTh"
      },
      "outputs": [],
      "source": [
        "# 2행x3열 형태의 리스트와 ndarray 생성한 뒤 이를 DataFrame으로 변환.\n",
        "list2 = [[1, 2, 3],\n",
        "         [11, 12, 13]]"
      ]
    },
    {
      "cell_type": "code",
      "execution_count": null,
      "metadata": {
        "colab": {
          "base_uri": "https://localhost:8080/"
        },
        "id": "uxQYJ_0ylYmT",
        "outputId": "d5364093-5bff-4f8a-fed8-f09ef6c9d410"
      },
      "outputs": [],
      "source": [
        "print(list2)"
      ]
    },
    {
      "cell_type": "code",
      "execution_count": null,
      "metadata": {
        "id": "DXoSaCUKlaeZ"
      },
      "outputs": [],
      "source": [
        "array2 = np.array(list2)"
      ]
    },
    {
      "cell_type": "code",
      "execution_count": null,
      "metadata": {
        "colab": {
          "base_uri": "https://localhost:8080/"
        },
        "id": "oT3koZLXlesh",
        "outputId": "dccf3bb7-7618-4ba1-acda-ace3eb1e644e"
      },
      "outputs": [],
      "source": [
        "print('array2 shape:', array2.shape )"
      ]
    },
    {
      "cell_type": "code",
      "execution_count": null,
      "metadata": {
        "colab": {
          "base_uri": "https://localhost:8080/"
        },
        "id": "h7ArGc0blgKp",
        "outputId": "f5e4f186-902a-4df2-fd6a-e75d7583f264"
      },
      "outputs": [],
      "source": [
        "df_list2 = pd.DataFrame(list2, columns=col_name2)\n",
        "print('2차원 리스트로 만든 DataFrame:\\n', df_list2)"
      ]
    },
    {
      "cell_type": "code",
      "execution_count": null,
      "metadata": {
        "colab": {
          "base_uri": "https://localhost:8080/"
        },
        "id": "pzDRcrH8lp9I",
        "outputId": "77823a65-7c00-428e-c471-dc942c633641"
      },
      "outputs": [],
      "source": [
        "df_array2 = pd.DataFrame(array2, columns=col_name2)\n",
        "print('2차원 ndarray로 만든 DataFrame:\\n', df_array2)"
      ]
    },
    {
      "cell_type": "code",
      "execution_count": null,
      "metadata": {
        "colab": {
          "base_uri": "https://localhost:8080/"
        },
        "id": "1xPCdKe6664M",
        "outputId": "f1326a35-073f-45ea-fe61-f511ca14ace9"
      },
      "outputs": [],
      "source": [
        "# 3개의 칼럼명이 필요함.\n",
        "col_name2=['col1', 'col2', 'col3']\n",
        "\n",
        "# 2행x3열 형태의 리스트와 ndarray 생성한 뒤 이를 DataFrame으로 변환.\n",
        "list2 = [[1, 2, 3],\n",
        "         [11, 12, 13]]\n",
        "array2 = np.array(list2)\n",
        "print('array2 shape:', array2.shape )\n",
        "df_list2 = pd.DataFrame(list2, columns=col_name2)\n",
        "print('2차원 리스트로 만든 DataFrame:\\n', df_list2)\n",
        "df_array2 = pd.DataFrame(array2, columns=col_name2)\n",
        "print('2차원 ndarray로 만든 DataFrame:\\n', df_array2)"
      ]
    },
    {
      "cell_type": "code",
      "execution_count": null,
      "metadata": {
        "id": "wocwfNoZluJA"
      },
      "outputs": [],
      "source": [
        "# Key는 컬럼명으로 매핑, Value는 리스트 형(또는 ndarray)\n",
        "dict = {'col1':[1, 11], 'col2':[2, 22], 'col3':[3, 33]}"
      ]
    },
    {
      "cell_type": "code",
      "execution_count": null,
      "metadata": {
        "colab": {
          "base_uri": "https://localhost:8080/"
        },
        "id": "3iIKMWXT664N",
        "outputId": "bb309a06-a6d9-465a-872f-df58d6a5d352",
        "scrolled": true
      },
      "outputs": [],
      "source": [
        "# Key는 컬럼명으로 매핑, Value는 리스트 형(또는 ndarray)\n",
        "dict = {'col1':[1, 11], 'col2':[2, 22], 'col3':[3, 33]}\n",
        "df_dict = pd.DataFrame(dict)\n",
        "print('딕셔너리로 만든 DataFrame:\\n', df_dict)"
      ]
    },
    {
      "cell_type": "markdown",
      "metadata": {
        "id": "PwDD2ZmJ664N"
      },
      "source": [
        "* DataFrame을 넘파이 ndarray, 리스트, 딕셔너리로 변환하기"
      ]
    },
    {
      "cell_type": "code",
      "execution_count": null,
      "metadata": {
        "colab": {
          "base_uri": "https://localhost:8080/"
        },
        "id": "X7Fcf2Gil6MA",
        "outputId": "c4c820d8-af65-4aa1-edc3-f3b109c2710d"
      },
      "outputs": [],
      "source": [
        "type(df_dict)"
      ]
    },
    {
      "cell_type": "code",
      "execution_count": null,
      "metadata": {
        "colab": {
          "base_uri": "https://localhost:8080/"
        },
        "id": "nICaiJI0l_bp",
        "outputId": "d95cf79e-435d-4361-aa69-58c84f62d129"
      },
      "outputs": [],
      "source": [
        "df_dict.values"
      ]
    },
    {
      "cell_type": "code",
      "execution_count": null,
      "metadata": {
        "colab": {
          "base_uri": "https://localhost:8080/"
        },
        "id": "GnGKvbTB664N",
        "outputId": "f0b61bcc-64ff-4a26-a84b-c2c16338affb"
      },
      "outputs": [],
      "source": [
        "# DataFrame을 ndarray로 변환\n",
        "array3 = df_dict.values\n",
        "print('df_dict.values 타입:', type(array3), 'df_dict.values shape:', array3.shape)\n",
        "print(array3)\n",
        "\n"
      ]
    },
    {
      "cell_type": "code",
      "execution_count": null,
      "metadata": {
        "colab": {
          "base_uri": "https://localhost:8080/"
        },
        "id": "BPq4hBfZ664N",
        "outputId": "782bbe63-db69-42ac-e11a-e422ad56a425"
      },
      "outputs": [],
      "source": [
        "# DataFrame을 리스트로 변환\n",
        "list3 = df_dict.values.tolist()\n",
        "print('df_dict.values.tolist() 타입:', type(list3))\n",
        "print(list3)\n",
        "\n",
        "# DataFrame을 딕셔너리로 변환\n",
        "dict3 = df_dict.to_dict('list')\n",
        "print('\\n df_dict.to_dict() 타입:', type(dict3))\n",
        "print(dict3)"
      ]
    },
    {
      "cell_type": "markdown",
      "metadata": {
        "id": "G9Un3RzS664N"
      },
      "source": [
        "### DataFrame의 컬럼 데이터 셋 Access"
      ]
    },
    {
      "cell_type": "code",
      "execution_count": null,
      "metadata": {
        "colab": {
          "base_uri": "https://localhost:8080/",
          "height": 143
        },
        "id": "aM8Z15rL664N",
        "outputId": "dc710837-7c4a-448b-985c-033afa4f58b0"
      },
      "outputs": [],
      "source": [
        "titanic_df['Age_0'] = 0\n",
        "titanic_df.tail(3)"
      ]
    },
    {
      "cell_type": "code",
      "execution_count": null,
      "metadata": {
        "colab": {
          "base_uri": "https://localhost:8080/",
          "height": 143
        },
        "id": "Ia_yG-El664N",
        "outputId": "d0b094c0-50a2-401f-8cab-b1c238720370"
      },
      "outputs": [],
      "source": [
        "titanic_df['Age_by_10'] = titanic_df['Age']*10\n",
        "titanic_df['Family_No'] = titanic_df['SibSp'] + titanic_df['Parch']+1\n",
        "titanic_df.head(3)"
      ]
    },
    {
      "cell_type": "code",
      "execution_count": null,
      "metadata": {
        "colab": {
          "base_uri": "https://localhost:8080/",
          "height": 143
        },
        "id": "la9IO8HD664N",
        "outputId": "11e84142-91c0-45bb-b9d8-689d64d950f7"
      },
      "outputs": [],
      "source": [
        "titanic_df['Age_by_10'] = titanic_df['Age_by_10'] + 100\n",
        "titanic_df.head(3)"
      ]
    },
    {
      "cell_type": "code",
      "execution_count": null,
      "metadata": {
        "colab": {
          "base_uri": "https://localhost:8080/",
          "height": 206
        },
        "id": "u8ZuDg3unXLv",
        "outputId": "ee3838c0-9653-4de1-a718-40289be1de4a"
      },
      "outputs": [],
      "source": [
        "titanic_df.head()"
      ]
    },
    {
      "cell_type": "code",
      "execution_count": null,
      "metadata": {
        "colab": {
          "base_uri": "https://localhost:8080/",
          "height": 424
        },
        "id": "qK0m5RW7ndyX",
        "outputId": "3a1fe557-9800-4202-f89c-8f33aefb89cb"
      },
      "outputs": [],
      "source": [
        "titanic_df.drop('Age_0', axis=1)"
      ]
    },
    {
      "cell_type": "code",
      "execution_count": null,
      "metadata": {
        "colab": {
          "base_uri": "https://localhost:8080/",
          "height": 424
        },
        "id": "15t_0e0Rnga_",
        "outputId": "118c4bf8-1cb3-4951-c180-3d23723ca3e9"
      },
      "outputs": [],
      "source": [
        "titanic_df"
      ]
    },
    {
      "cell_type": "markdown",
      "metadata": {
        "id": "MBGGbiDn664O"
      },
      "source": [
        "### DataFrame 데이터 삭제"
      ]
    },
    {
      "cell_type": "code",
      "execution_count": null,
      "metadata": {
        "colab": {
          "base_uri": "https://localhost:8080/",
          "height": 143
        },
        "id": "6JGKTdJU664O",
        "outputId": "bd5ed85c-62cf-4219-d853-e9f95dbfe965"
      },
      "outputs": [],
      "source": [
        "titanic_drop_df = titanic_df.drop('Age_0', axis=1 )\n",
        "titanic_drop_df.head(3)"
      ]
    },
    {
      "cell_type": "code",
      "execution_count": null,
      "metadata": {
        "colab": {
          "base_uri": "https://localhost:8080/",
          "height": 424
        },
        "id": "ZzlTVtY1nxj3",
        "outputId": "146c17cb-6ff0-4345-ce9d-f4553346c0e7"
      },
      "outputs": [],
      "source": [
        "titanic_df"
      ]
    },
    {
      "cell_type": "code",
      "execution_count": null,
      "metadata": {
        "id": "6rc8skpqntwP"
      },
      "outputs": [],
      "source": [
        "titanic_df = titanic_df.drop('Age_0', axis=1 )"
      ]
    },
    {
      "cell_type": "code",
      "execution_count": null,
      "metadata": {
        "id": "nmPd2YGCn7DO"
      },
      "outputs": [],
      "source": [
        "titanic_df.drop('Age_0', axis=1, inplace=True)"
      ]
    },
    {
      "cell_type": "code",
      "execution_count": null,
      "metadata": {
        "colab": {
          "base_uri": "https://localhost:8080/",
          "height": 424
        },
        "id": "ykITTjntn1m3",
        "outputId": "faf399bf-5d47-4010-ae59-e0bbe47fa9c5"
      },
      "outputs": [],
      "source": [
        "titanic_df"
      ]
    },
    {
      "cell_type": "code",
      "execution_count": null,
      "metadata": {
        "colab": {
          "base_uri": "https://localhost:8080/",
          "height": 143
        },
        "id": "MRlqrlGy664O",
        "outputId": "73aeb898-a0c1-4b93-a2bb-730d5916701a"
      },
      "outputs": [],
      "source": [
        "titanic_df.head(3)"
      ]
    },
    {
      "cell_type": "code",
      "execution_count": null,
      "metadata": {
        "colab": {
          "base_uri": "https://localhost:8080/",
          "height": 162
        },
        "id": "Ym3lEncn664O",
        "outputId": "217872bc-a77c-4c93-fb25-f96fd87ff7f1"
      },
      "outputs": [],
      "source": [
        "drop_result = titanic_df.drop(['Age_0', 'Age_by_10', 'Family_No'], axis=1, inplace=True)\n",
        "print(' inplace=True 로 drop 후 반환된 값:',drop_result)\n",
        "titanic_df.head(3)"
      ]
    },
    {
      "cell_type": "code",
      "execution_count": null,
      "metadata": {
        "id": "zk4XCK8EoDu3"
      },
      "outputs": [],
      "source": [
        "pd.set_option('display.width', 1000)\n",
        "pd.set_option('display.max_colwidth', 15)"
      ]
    },
    {
      "cell_type": "code",
      "execution_count": null,
      "metadata": {
        "colab": {
          "base_uri": "https://localhost:8080/"
        },
        "id": "SPr3EcTFoHnX",
        "outputId": "30c51e59-f32f-46c1-ad84-d1a0c7d5f9f2"
      },
      "outputs": [],
      "source": [
        "print(titanic_df)"
      ]
    },
    {
      "cell_type": "code",
      "execution_count": null,
      "metadata": {
        "colab": {
          "base_uri": "https://localhost:8080/"
        },
        "id": "D3BzGwvs664O",
        "outputId": "c81f6d4f-e274-4678-e946-6bb5950a133e"
      },
      "outputs": [],
      "source": [
        "pd.set_option('display.width', 1000)\n",
        "pd.set_option('display.max_colwidth', 15)\n",
        "print('#### before axis 0 drop ####')\n",
        "print(titanic_df.head(3))\n",
        "\n",
        "titanic_df.drop([4,5,6], axis=0, inplace=True)\n",
        "\n",
        "print('#### after axis 0 drop ####')\n",
        "print(titanic_df.head(3))"
      ]
    },
    {
      "cell_type": "code",
      "execution_count": null,
      "metadata": {
        "colab": {
          "base_uri": "https://localhost:8080/"
        },
        "id": "sPDWUxiiol4e",
        "outputId": "907491e8-517b-4317-9ae2-3f0d0da41486"
      },
      "outputs": [],
      "source": [
        "titanic_df['Embarked'].fillna(0)"
      ]
    },
    {
      "cell_type": "code",
      "execution_count": null,
      "metadata": {
        "colab": {
          "base_uri": "https://localhost:8080/",
          "height": 81
        },
        "id": "fw7tu4ZRpBeG",
        "outputId": "c338cd67-7690-4019-b400-2bd2eda121af"
      },
      "outputs": [],
      "source": [
        "df = pd.DataFrame({'a': [1, 2], 'b': [3, 4]})\n",
        "df.drop('a', axis=1, inplace=True)\n",
        "df.drop(0, axis=0, inplace=True)\n",
        "df"
      ]
    },
    {
      "cell_type": "markdown",
      "metadata": {
        "id": "PCI6eCGp664O"
      },
      "source": [
        "### Index 객체"
      ]
    },
    {
      "cell_type": "code",
      "execution_count": null,
      "metadata": {
        "colab": {
          "base_uri": "https://localhost:8080/",
          "height": 442
        },
        "id": "todjSElkD2DA",
        "outputId": "0d585543-4b85-4676-fbe7-22df24e68dfc"
      },
      "outputs": [],
      "source": [
        "titanic_df = pd.read_csv('/content/python101/input/titanic_train.csv')\n",
        "print('titanic 변수 type:',type(titanic_df))\n",
        "titanic_df"
      ]
    },
    {
      "cell_type": "code",
      "execution_count": null,
      "metadata": {
        "colab": {
          "base_uri": "https://localhost:8080/"
        },
        "id": "Rc37S9YHpgve",
        "outputId": "66090230-6673-4996-c5ef-ae42ba89c68c"
      },
      "outputs": [],
      "source": [
        "titanic_df.columns"
      ]
    },
    {
      "cell_type": "code",
      "execution_count": null,
      "metadata": {
        "colab": {
          "base_uri": "https://localhost:8080/"
        },
        "id": "M7NCsQT3664O",
        "outputId": "4f781045-a727-4cbe-d5b8-afe6aecc1d92"
      },
      "outputs": [],
      "source": [
        "# 원본 파일 재 로딩\n",
        "# titanic_df = pd.read_csv('titanic_train.csv')\n",
        "# Index 객체 추출\n",
        "indexes = titanic_df.index\n",
        "print(indexes)\n",
        "# Index 객체를 실제 값 arrray로 변환\n",
        "print('Index 객체 array값:\\n',indexes.values)\n"
      ]
    },
    {
      "cell_type": "code",
      "execution_count": null,
      "metadata": {
        "colab": {
          "base_uri": "https://localhost:8080/"
        },
        "id": "Pfj5w3FK664O",
        "outputId": "76d3fbdf-9465-455a-f052-eea5f5e79041"
      },
      "outputs": [],
      "source": [
        "print(type(indexes.values))\n",
        "print(indexes.values.shape)\n",
        "print(indexes[:5].values)\n",
        "print(indexes.values[:5])\n",
        "print(indexes[6])"
      ]
    },
    {
      "cell_type": "code",
      "execution_count": null,
      "metadata": {
        "colab": {
          "base_uri": "https://localhost:8080/",
          "height": 303
        },
        "id": "bZTtGEF2664O",
        "outputId": "3fa2df8b-94ac-4940-8af8-7115dc9e443b"
      },
      "outputs": [],
      "source": [
        "indexes[0] = 5"
      ]
    },
    {
      "cell_type": "code",
      "execution_count": null,
      "metadata": {
        "colab": {
          "base_uri": "https://localhost:8080/"
        },
        "id": "dIsp1dHEp_dN",
        "outputId": "ca77d1a1-a45c-4c7f-fc0b-fccce66768c0"
      },
      "outputs": [],
      "source": [
        "series_fair = titanic_df['Fare']\n",
        "print(series_fair)"
      ]
    },
    {
      "cell_type": "code",
      "execution_count": null,
      "metadata": {
        "colab": {
          "base_uri": "https://localhost:8080/"
        },
        "id": "avZPNhIPqC08",
        "outputId": "922cad8b-2a19-480e-da22-9e50b3ee3c67"
      },
      "outputs": [],
      "source": [
        "type(series_fair)"
      ]
    },
    {
      "cell_type": "code",
      "execution_count": null,
      "metadata": {
        "colab": {
          "base_uri": "https://localhost:8080/"
        },
        "id": "z-l2nugBqMSN",
        "outputId": "d97c98a5-e5c7-4dae-e075-35f0e5018d44"
      },
      "outputs": [],
      "source": [
        "series_fair + 3"
      ]
    },
    {
      "cell_type": "code",
      "execution_count": null,
      "metadata": {
        "colab": {
          "base_uri": "https://localhost:8080/"
        },
        "id": "zU0epCHw664O",
        "outputId": "d0afd08b-3c46-43b2-f8e4-9d82b51cf42e"
      },
      "outputs": [],
      "source": [
        "series_fair = titanic_df['Fare']\n",
        "print('Fair Series max 값:', series_fair.max())\n",
        "print('Fair Series sum 값:', series_fair.sum())\n",
        "print('sum() Fair Series:', sum(series_fair))\n",
        "print('Fair Series + 3:\\n',(series_fair + 3).head(3) )"
      ]
    },
    {
      "cell_type": "code",
      "execution_count": null,
      "metadata": {
        "colab": {
          "base_uri": "https://localhost:8080/",
          "height": 424
        },
        "id": "BEZoaawrqhS8",
        "outputId": "1137294a-1992-4c09-ee9d-68338d394115"
      },
      "outputs": [],
      "source": [
        "titanic_df"
      ]
    },
    {
      "cell_type": "code",
      "execution_count": null,
      "metadata": {
        "colab": {
          "base_uri": "https://localhost:8080/",
          "height": 424
        },
        "id": "vqQamBXKqWdk",
        "outputId": "c48ac9fd-cabb-4973-8981-f3ffaec16325"
      },
      "outputs": [],
      "source": [
        "titanic_df.reset_index(inplace=False)"
      ]
    },
    {
      "cell_type": "code",
      "execution_count": null,
      "metadata": {
        "colab": {
          "base_uri": "https://localhost:8080/",
          "height": 143
        },
        "id": "HYPwu1Vp664O",
        "outputId": "70fbae3e-99f4-4f40-df75-b81dd6f7b97a"
      },
      "outputs": [],
      "source": [
        "titanic_reset_df = titanic_df.reset_index(inplace=False)\n",
        "titanic_reset_df.head(3)"
      ]
    },
    {
      "cell_type": "code",
      "execution_count": null,
      "metadata": {
        "colab": {
          "base_uri": "https://localhost:8080/"
        },
        "id": "sRukeR5rqxQN",
        "outputId": "9ae4a45f-8c2f-4df2-9c49-cd49a462b8c2"
      },
      "outputs": [],
      "source": [
        "print('### before reset_index ###')\n",
        "value_counts = titanic_df['Pclass'].value_counts()\n",
        "print(value_counts)\n",
        "print('value_counts 객체 변수 타입:',type(value_counts))"
      ]
    },
    {
      "cell_type": "code",
      "execution_count": null,
      "metadata": {
        "colab": {
          "base_uri": "https://localhost:8080/"
        },
        "id": "gZ1yDhLqqznk",
        "outputId": "ff75f9f3-2277-4f5c-ed1b-75ead1f401cb"
      },
      "outputs": [],
      "source": [
        "value_counts"
      ]
    },
    {
      "cell_type": "code",
      "execution_count": null,
      "metadata": {
        "colab": {
          "base_uri": "https://localhost:8080/"
        },
        "id": "j9UjgSp-q7Kc",
        "outputId": "a2e54f2c-471b-4c98-ed90-2bf166f15ee9"
      },
      "outputs": [],
      "source": [
        "new_value_counts = value_counts.reset_index(inplace=False)\n",
        "print('### After reset_index ###')\n",
        "print(new_value_counts)\n",
        "print('new_value_counts 객체 변수 타입:',type(new_value_counts))"
      ]
    },
    {
      "cell_type": "code",
      "execution_count": null,
      "metadata": {
        "colab": {
          "base_uri": "https://localhost:8080/"
        },
        "id": "phOKsXOq664O",
        "outputId": "be9c3951-e715-46f8-bed6-b0ba39ee3b43"
      },
      "outputs": [],
      "source": [
        "print('### before reset_index ###')\n",
        "value_counts = titanic_df['Pclass'].value_counts()\n",
        "print(value_counts)\n",
        "print('value_counts 객체 변수 타입:',type(value_counts))\n",
        "\n",
        "new_value_counts = value_counts.reset_index(inplace=False)\n",
        "print('### After reset_index ###')\n",
        "print(new_value_counts)\n",
        "print('new_value_counts 객체 변수 타입:',type(new_value_counts))"
      ]
    },
    {
      "cell_type": "markdown",
      "metadata": {
        "id": "-t45KaBY664P"
      },
      "source": [
        "### 데이터 셀렉션 및 필터링"
      ]
    },
    {
      "cell_type": "markdown",
      "metadata": {
        "id": "50GsQkxP664P"
      },
      "source": [
        "* DataFrame의 [ ] 연산자"
      ]
    },
    {
      "cell_type": "code",
      "execution_count": null,
      "metadata": {
        "colab": {
          "base_uri": "https://localhost:8080/"
        },
        "id": "2GT_kjp1rH_c",
        "outputId": "6fc83905-2bd2-437d-865c-388738321dbc"
      },
      "outputs": [],
      "source": [
        "titanic_df[ 'Pclass' ].head(3)"
      ]
    },
    {
      "cell_type": "code",
      "execution_count": null,
      "metadata": {
        "colab": {
          "base_uri": "https://localhost:8080/",
          "height": 143
        },
        "id": "hg2EfyoerOBs",
        "outputId": "32e9ab6a-792f-41c4-adb0-aec4b4e6eecb"
      },
      "outputs": [],
      "source": [
        "titanic_df[ ['Survived', 'Pclass'] ].head(3)"
      ]
    },
    {
      "cell_type": "code",
      "execution_count": null,
      "metadata": {
        "colab": {
          "base_uri": "https://localhost:8080/",
          "height": 731
        },
        "id": "E8UfEM2Z664P",
        "outputId": "26d4ee9e-3ffe-42c3-ec0d-4007d4929a38"
      },
      "outputs": [],
      "source": [
        "print('단일 컬럼 데이터 추출:\\n', titanic_df[ 'Pclass' ].head(3))\n",
        "print('\\n여러 컬럼들의 데이터 추출:\\n', titanic_df[ ['Survived', 'Pclass'] ].head(3))\n",
        "print('[ ] 안에 숫자 index는 KeyError 오류 발생:\\n', titanic_df[0])"
      ]
    },
    {
      "cell_type": "code",
      "execution_count": null,
      "metadata": {
        "colab": {
          "base_uri": "https://localhost:8080/",
          "height": 112
        },
        "id": "z2v5dLNCrdKz",
        "outputId": "8af22a12-8891-45c5-d8cc-09f7da6d6133"
      },
      "outputs": [],
      "source": [
        " titanic_df.iloc[0:2]"
      ]
    },
    {
      "cell_type": "code",
      "execution_count": null,
      "metadata": {
        "colab": {
          "base_uri": "https://localhost:8080/",
          "height": 112
        },
        "id": "uThWlusZ664P",
        "outputId": "479bd9f7-6c7d-4ec4-f9ed-69de0a87596f"
      },
      "outputs": [],
      "source": [
        "titanic_df[0:2]"
      ]
    },
    {
      "cell_type": "code",
      "execution_count": null,
      "metadata": {
        "colab": {
          "base_uri": "https://localhost:8080/",
          "height": 424
        },
        "id": "Zfgpoj80sA7r",
        "outputId": "07274d48-0f12-4546-f101-0a43af4bfb8a"
      },
      "outputs": [],
      "source": [
        "titanic_df"
      ]
    },
    {
      "cell_type": "code",
      "execution_count": null,
      "metadata": {
        "colab": {
          "base_uri": "https://localhost:8080/",
          "height": 424
        },
        "id": "rvJbYaA1ro-M",
        "outputId": "7cb01df7-6371-429d-9bc4-8ead5bcd9d23"
      },
      "outputs": [],
      "source": [
        "titanic_df.loc[titanic_df['Age'] < 20]"
      ]
    },
    {
      "cell_type": "code",
      "execution_count": null,
      "metadata": {
        "id": "lpdFRhYjrlf9"
      },
      "outputs": [],
      "source": [
        "titanic_df[ titanic_df['Pclass'] == 3].head(3)"
      ]
    },
    {
      "cell_type": "code",
      "execution_count": null,
      "metadata": {
        "colab": {
          "base_uri": "https://localhost:8080/",
          "height": 143
        },
        "id": "tQxQHuzC664T",
        "outputId": "fb811289-52af-4e16-b214-943de0fce43e"
      },
      "outputs": [],
      "source": [
        "titanic_df[ titanic_df['Pclass'] == 3].head(3)"
      ]
    },
    {
      "cell_type": "markdown",
      "metadata": {
        "id": "HGTN0Zkd664U"
      },
      "source": [
        "* DataFrame iloc[ ] 연산자"
      ]
    },
    {
      "cell_type": "code",
      "execution_count": null,
      "metadata": {
        "colab": {
          "base_uri": "https://localhost:8080/",
          "height": 175
        },
        "id": "l6YRyke-664U",
        "outputId": "a5312894-57e8-40b9-dfc1-a03688e926af"
      },
      "outputs": [],
      "source": [
        "data = {'Name': ['Chulmin', 'Eunkyung','Jinwoong','Soobeom'],\n",
        "        'Year': [2011, 2016, 2015, 2015],\n",
        "        'Gender': ['Male', 'Female', 'Male', 'Male']\n",
        "       }\n",
        "data_df = pd.DataFrame(data, index=['one','two','three','four'])\n",
        "data_df"
      ]
    },
    {
      "cell_type": "code",
      "execution_count": null,
      "metadata": {
        "colab": {
          "base_uri": "https://localhost:8080/",
          "height": 35
        },
        "id": "y-9P-gwD664U",
        "outputId": "bb8b29c9-dd5f-4d66-eded-d50d7bc59b2d"
      },
      "outputs": [],
      "source": [
        "data_df.iloc[0, 2]"
      ]
    },
    {
      "cell_type": "code",
      "execution_count": null,
      "metadata": {
        "colab": {
          "base_uri": "https://localhost:8080/",
          "height": 455
        },
        "id": "VNu8a1iq664U",
        "outputId": "bdb868b4-b693-4fbf-9ffc-b96b253698ad",
        "scrolled": false
      },
      "outputs": [],
      "source": [
        "# 아래 코드는 오류를 발생시킵니다.\n",
        "data_df.iloc[0, 'Name']"
      ]
    },
    {
      "cell_type": "code",
      "execution_count": null,
      "metadata": {
        "colab": {
          "base_uri": "https://localhost:8080/",
          "height": 455
        },
        "id": "1dz1N6us664U",
        "outputId": "688d8203-f3c6-4d64-99a6-e00b0647d146"
      },
      "outputs": [],
      "source": [
        "# 아래 코드는 오류를 발생합니다.\n",
        "data_df.iloc['one', 0]"
      ]
    },
    {
      "cell_type": "code",
      "execution_count": null,
      "metadata": {
        "colab": {
          "base_uri": "https://localhost:8080/",
          "height": 175
        },
        "id": "WO73vALysqRz",
        "outputId": "77330c8e-1d42-4751-8c24-8510cab82a42"
      },
      "outputs": [],
      "source": [
        "data_df"
      ]
    },
    {
      "cell_type": "code",
      "execution_count": null,
      "metadata": {
        "colab": {
          "base_uri": "https://localhost:8080/",
          "height": 175
        },
        "id": "S9LundcEspfi",
        "outputId": "ee1eecd8-0843-49cb-9b41-711753501fbf"
      },
      "outputs": [],
      "source": [
        "data_df.iloc[:, :2]"
      ]
    },
    {
      "cell_type": "code",
      "execution_count": null,
      "metadata": {
        "colab": {
          "base_uri": "https://localhost:8080/",
          "height": 175
        },
        "id": "3F1vFOTUs9mS",
        "outputId": "01875a89-0d13-4bd2-8280-8dae457ee33d"
      },
      "outputs": [],
      "source": [
        "data_df.iloc[:, 0:-1]"
      ]
    },
    {
      "cell_type": "code",
      "execution_count": null,
      "metadata": {
        "colab": {
          "base_uri": "https://localhost:8080/"
        },
        "id": "d7NsAajp664U",
        "outputId": "a8275a75-2e13-4078-a28b-f714712249fc"
      },
      "outputs": [],
      "source": [
        "print(\"\\n 맨 마지막 칼럼 데이터 [:, -1] \\n\", data_df.iloc[:, -1])\n",
        "print(\"\\n 맨 마지막 칼럼을 제외한 모든 데이터 [:, :-1] \\n\", data_df.iloc[: , :-1])"
      ]
    },
    {
      "cell_type": "markdown",
      "metadata": {
        "id": "SS8OSMaa664U"
      },
      "source": [
        "* DataFrame loc[ ] 연산자"
      ]
    },
    {
      "cell_type": "code",
      "execution_count": null,
      "metadata": {
        "colab": {
          "base_uri": "https://localhost:8080/",
          "height": 175
        },
        "id": "QFlFLef6tFhi",
        "outputId": "7362d5ab-78f5-4df2-d9ff-dddc5c1e0e5c"
      },
      "outputs": [],
      "source": [
        "data_df"
      ]
    },
    {
      "cell_type": "code",
      "execution_count": null,
      "metadata": {
        "colab": {
          "base_uri": "https://localhost:8080/",
          "height": 35
        },
        "id": "ecENF8fh664U",
        "outputId": "54a714ca-26fa-4fe7-9190-6dff0fa1f831"
      },
      "outputs": [],
      "source": [
        "data_df.loc['one', 'Name']"
      ]
    },
    {
      "cell_type": "code",
      "execution_count": null,
      "metadata": {
        "colab": {
          "base_uri": "https://localhost:8080/",
          "height": 193
        },
        "id": "cQvXHbqE664V",
        "outputId": "95fa4f8e-ac1b-47fc-c32a-8609eff534de"
      },
      "outputs": [],
      "source": [
        "# 아래 코드는 오류를 발생합니다.\n",
        "data_df_reset.loc[0, 'Name']"
      ]
    },
    {
      "cell_type": "code",
      "execution_count": null,
      "metadata": {
        "colab": {
          "base_uri": "https://localhost:8080/"
        },
        "id": "TbwIN-5s664V",
        "outputId": "a8d4aec5-7b11-409f-bb54-c57bef0dc31e"
      },
      "outputs": [],
      "source": [
        "print('위치기반 iloc slicing\\n', data_df.iloc[0:1, 0],'\\n')\n",
        "print('명칭기반 loc slicing\\n', data_df.loc['one':'two', 'Name'])"
      ]
    },
    {
      "cell_type": "markdown",
      "metadata": {
        "id": "5ZrKUc64664V"
      },
      "source": [
        "* 불린 인덱싱"
      ]
    },
    {
      "cell_type": "code",
      "execution_count": null,
      "metadata": {
        "colab": {
          "base_uri": "https://localhost:8080/",
          "height": 442
        },
        "id": "gl-_60xrEpw-",
        "outputId": "68f76204-4ee9-4143-a70f-064770449f1c"
      },
      "outputs": [],
      "source": [
        "titanic_df = pd.read_csv('/content/python101/input/titanic_train.csv')\n",
        "print('titanic 변수 type:',type(titanic_df))\n",
        "titanic_df"
      ]
    },
    {
      "cell_type": "code",
      "execution_count": null,
      "metadata": {
        "colab": {
          "base_uri": "https://localhost:8080/"
        },
        "id": "TPUiwE9utuHa",
        "outputId": "0dfc3607-c24b-4a0e-b93a-650e6e48b1af"
      },
      "outputs": [],
      "source": [
        "b = titanic_df['Age'] > 60\n",
        "b"
      ]
    },
    {
      "cell_type": "code",
      "execution_count": null,
      "metadata": {
        "colab": {
          "base_uri": "https://localhost:8080/",
          "height": 758
        },
        "id": "1o3E0r7rt2AS",
        "outputId": "17f0dd9f-b6d8-4907-a0ab-e83724ce34c0"
      },
      "outputs": [],
      "source": [
        "titanic_ = titanic_df.loc[b]\n",
        "print(type(titanic_))\n",
        "titanic_"
      ]
    },
    {
      "cell_type": "code",
      "execution_count": null,
      "metadata": {
        "id": "mlmrsraBuH_S"
      },
      "outputs": [],
      "source": [
        "titanic_df['Age'] = titanic_df['Age'].fillna(30)"
      ]
    },
    {
      "cell_type": "code",
      "execution_count": null,
      "metadata": {
        "id": "o6yBw-ZBuPOp"
      },
      "outputs": [],
      "source": [
        "value_1 = np.percentile(titanic_df['Age'].values, 1)\n",
        "value_99 = np.percentile(titanic_df['Age'].values, 99)"
      ]
    },
    {
      "cell_type": "code",
      "execution_count": null,
      "metadata": {
        "colab": {
          "base_uri": "https://localhost:8080/",
          "height": 424
        },
        "id": "n4ShZy7Wufwh",
        "outputId": "13959a2e-ae08-4c62-906e-8c35dfc69f5f"
      },
      "outputs": [],
      "source": [
        "titanic_df.loc[(titanic_df['Age'] > value_1) & (titanic_df['Age'] < value_99)]"
      ]
    },
    {
      "cell_type": "code",
      "execution_count": null,
      "metadata": {
        "colab": {
          "base_uri": "https://localhost:8080/",
          "height": 758
        },
        "id": "-77n3W-s664V",
        "outputId": "04072ac3-7793-45a2-9481-01858b6c3209"
      },
      "outputs": [],
      "source": [
        "# titanic_df = pd.read_csv('titanic_train.csv')\n",
        "titanic_ = titanic_df.loc[titanic_df['Age'] > 60]\n",
        "print(type(titanic_))\n",
        "titanic_"
      ]
    },
    {
      "cell_type": "code",
      "execution_count": null,
      "metadata": {
        "colab": {
          "base_uri": "https://localhost:8080/",
          "height": 206
        },
        "id": "5vU1EO6z664V",
        "outputId": "13e059e0-8258-4c14-d09d-3c997f2fe81b",
        "scrolled": true
      },
      "outputs": [],
      "source": [
        "titanic_df[titanic_df['Age'] > 60][['Name','Age']].head(5)"
      ]
    },
    {
      "cell_type": "code",
      "execution_count": null,
      "metadata": {
        "colab": {
          "base_uri": "https://localhost:8080/",
          "height": 143
        },
        "id": "fepjbYXZ664V",
        "outputId": "e133f752-7058-451b-9dae-7269c7c4b634"
      },
      "outputs": [],
      "source": [
        "titanic_df.loc[titanic_df['Age'] > 60, ['Name','Age']].head(3)"
      ]
    },
    {
      "cell_type": "code",
      "execution_count": null,
      "metadata": {
        "colab": {
          "base_uri": "https://localhost:8080/",
          "height": 426
        },
        "id": "JR0F5sn4u76o",
        "outputId": "6828e3e6-7cd6-40a8-b8f3-f15f9f8eb5a8"
      },
      "outputs": [],
      "source": [
        "titanic_df[ (titanic_df['Age'] > 60) & (titanic_df['Pclass']==1) & (titanic_df['Sex'] == 'male')]"
      ]
    },
    {
      "cell_type": "code",
      "execution_count": null,
      "metadata": {
        "colab": {
          "base_uri": "https://localhost:8080/",
          "height": 112
        },
        "id": "Fn1YHMgBu5E4",
        "outputId": "9d6beb64-a1dd-4509-8353-242992d4d036"
      },
      "outputs": [],
      "source": [
        "titanic_df[ (titanic_df['Age'] > 60) & (titanic_df['Pclass']==1) & (titanic_df['Sex']=='female')]"
      ]
    },
    {
      "cell_type": "code",
      "execution_count": null,
      "metadata": {
        "colab": {
          "base_uri": "https://localhost:8080/",
          "height": 112
        },
        "id": "mC84cAip664V",
        "outputId": "0097f693-1b10-4801-8175-f4a872e2cc37"
      },
      "outputs": [],
      "source": [
        "titanic_df[ (titanic_df['Age'] > 60) & (titanic_df['Pclass']==1) & (titanic_df['Sex']=='female')]"
      ]
    },
    {
      "cell_type": "code",
      "execution_count": null,
      "metadata": {
        "id": "67gHf3pSxOL2"
      },
      "outputs": [],
      "source": []
    },
    {
      "cell_type": "code",
      "execution_count": null,
      "metadata": {
        "colab": {
          "base_uri": "https://localhost:8080/",
          "height": 426
        },
        "id": "u3Ta99_z664V",
        "outputId": "c2abf377-4903-471c-88d1-31d194849f3a"
      },
      "outputs": [],
      "source": [
        "cond1 = titanic_df['Age'] > 60\n",
        "cond2 = titanic_df['Pclass']==1\n",
        "cond3 = titanic_df['Sex']=='male'\n",
        "titanic_df[ cond1 & cond2 & cond3]"
      ]
    },
    {
      "cell_type": "code",
      "execution_count": null,
      "metadata": {
        "id": "INr_GJk2xSeO"
      },
      "outputs": [],
      "source": []
    },
    {
      "cell_type": "code",
      "execution_count": null,
      "metadata": {
        "id": "PKxTv2DdxSbu"
      },
      "outputs": [],
      "source": []
    },
    {
      "cell_type": "code",
      "execution_count": null,
      "metadata": {
        "id": "AKvZWA4zxSWf"
      },
      "outputs": [],
      "source": []
    },
    {
      "cell_type": "code",
      "execution_count": null,
      "metadata": {
        "id": "wTy_XnkQxSTe"
      },
      "outputs": [],
      "source": []
    },
    {
      "cell_type": "markdown",
      "metadata": {
        "id": "TmcWuXFg664V"
      },
      "source": [
        "### 정렬, Aggregation함수, GroupBy 적용\n",
        "\n",
        "* DataFrame, Series의 정렬 - sort_values()\n"
      ]
    },
    {
      "cell_type": "code",
      "execution_count": null,
      "metadata": {
        "colab": {
          "base_uri": "https://localhost:8080/",
          "height": 143
        },
        "id": "CZGkiE5o664V",
        "outputId": "3e4d3bf1-0c6d-455c-b999-0e149ce8ed5b"
      },
      "outputs": [],
      "source": [
        "titanic_sorted = titanic_df.sort_values(by=['Pclass', 'Age'])\n",
        "titanic_sorted.head(3)"
      ]
    },
    {
      "cell_type": "code",
      "execution_count": null,
      "metadata": {
        "colab": {
          "base_uri": "https://localhost:8080/",
          "height": 143
        },
        "id": "xYYP6BN8664W",
        "outputId": "e5195e6c-d9ec-42b5-af34-c522522076fe"
      },
      "outputs": [],
      "source": [
        "titanic_sorted = titanic_df.sort_values(by=['Pclass', 'Age'], ascending=False)\n",
        "titanic_sorted.head(3)"
      ]
    },
    {
      "cell_type": "markdown",
      "metadata": {
        "id": "fqQ7VMsS664W"
      },
      "source": [
        "* Aggregation 함수 적용"
      ]
    },
    {
      "cell_type": "code",
      "execution_count": null,
      "metadata": {
        "colab": {
          "base_uri": "https://localhost:8080/"
        },
        "id": "K6NE36ZL664W",
        "outputId": "692f72a4-455e-43f4-ae74-2e11d026f2d2"
      },
      "outputs": [],
      "source": [
        "titanic_df.count()"
      ]
    },
    {
      "cell_type": "code",
      "execution_count": null,
      "metadata": {
        "colab": {
          "base_uri": "https://localhost:8080/"
        },
        "id": "drPehAwK664W",
        "outputId": "b54825af-fd61-4cb1-bcd4-1927c31b300e"
      },
      "outputs": [],
      "source": [
        "print(titanic_df[['Age', 'Fare']].mean())\n",
        "print(titanic_df[['Age', 'Fare']].max())\n",
        "print(titanic_df[['Age', 'Fare']].min())"
      ]
    },
    {
      "cell_type": "markdown",
      "metadata": {
        "id": "HnllDilM664W"
      },
      "source": [
        "* groupby() 이용하기"
      ]
    },
    {
      "cell_type": "code",
      "execution_count": null,
      "metadata": {
        "colab": {
          "base_uri": "https://localhost:8080/"
        },
        "id": "TefYy78o664W",
        "outputId": "479f7a39-653e-4382-89d3-520df120f6c6"
      },
      "outputs": [],
      "source": [
        "titanic_groupby = titanic_df.groupby(by='Pclass')\n",
        "print(type(titanic_groupby))"
      ]
    },
    {
      "cell_type": "code",
      "execution_count": null,
      "metadata": {
        "colab": {
          "base_uri": "https://localhost:8080/"
        },
        "id": "-jcxKkYOy01E",
        "outputId": "426411ff-03d6-4125-85ca-bc978c9ca412"
      },
      "outputs": [],
      "source": [
        "print(titanic_groupby)"
      ]
    },
    {
      "cell_type": "code",
      "execution_count": null,
      "metadata": {
        "colab": {
          "base_uri": "https://localhost:8080/",
          "height": 175
        },
        "id": "G7wsIrtn664W",
        "outputId": "bc78f8f9-de66-4735-98cc-5fa758b11059"
      },
      "outputs": [],
      "source": [
        "titanic_groupby = titanic_df.groupby('Pclass').count()\n",
        "titanic_groupby"
      ]
    },
    {
      "cell_type": "code",
      "execution_count": null,
      "metadata": {
        "colab": {
          "base_uri": "https://localhost:8080/",
          "height": 175
        },
        "id": "3BI5tlw4664W",
        "outputId": "8815f448-0965-40d6-8eb5-b5669761c565"
      },
      "outputs": [],
      "source": [
        "titanic_groupby = titanic_df.groupby('Pclass')[['PassengerId', 'Survived']].count()\n",
        "titanic_groupby"
      ]
    },
    {
      "cell_type": "code",
      "execution_count": null,
      "metadata": {
        "colab": {
          "base_uri": "https://localhost:8080/",
          "height": 175
        },
        "id": "c3ZewXIl664W",
        "outputId": "b794e558-49f0-4264-f245-60cb62152571"
      },
      "outputs": [],
      "source": [
        "titanic_df.groupby('Embarked')['Age'].agg([max, min])"
      ]
    },
    {
      "cell_type": "code",
      "execution_count": null,
      "metadata": {
        "colab": {
          "base_uri": "https://localhost:8080/"
        },
        "id": "iNOIYeAvzgb8",
        "outputId": "33ccfcf9-c4d4-403b-fb13-8d980625a585"
      },
      "outputs": [],
      "source": [
        "titanic_df.groupby('Pclass')['Fare'].agg('mean')"
      ]
    },
    {
      "cell_type": "code",
      "execution_count": null,
      "metadata": {
        "colab": {
          "base_uri": "https://localhost:8080/",
          "height": 175
        },
        "id": "UCJN9bXDzt-d",
        "outputId": "dbed56fe-f233-4eb5-a0a9-981eb3dcbd07"
      },
      "outputs": [],
      "source": [
        "titanic_df.groupby('Pclass').agg({'Age':'max', 'SibSp':'sum', 'Fare':'mean'})"
      ]
    },
    {
      "cell_type": "code",
      "execution_count": null,
      "metadata": {
        "colab": {
          "base_uri": "https://localhost:8080/",
          "height": 175
        },
        "id": "bOUVm4Mi664W",
        "outputId": "d76c322f-26fc-4ddf-d6ff-6c34ba1f4919"
      },
      "outputs": [],
      "source": [
        "agg_format={'Age':'max', 'SibSp':'sum', 'Fare':'mean'}\n",
        "titanic_df.groupby('Pclass').agg(agg_format)"
      ]
    },
    {
      "cell_type": "markdown",
      "metadata": {
        "id": "Uc3AaJWt664W"
      },
      "source": [
        "### 결손 데이터 처리하기\n",
        "* isna()로 결손 데이터 여부 확인"
      ]
    },
    {
      "cell_type": "code",
      "execution_count": null,
      "metadata": {
        "colab": {
          "base_uri": "https://localhost:8080/",
          "height": 424
        },
        "id": "1paSrKoY0BOk",
        "outputId": "e805fff0-6551-4c43-86d3-2a2c3ccb5af7"
      },
      "outputs": [],
      "source": [
        "titanic_df.isna()"
      ]
    },
    {
      "cell_type": "code",
      "execution_count": null,
      "metadata": {
        "colab": {
          "base_uri": "https://localhost:8080/",
          "height": 143
        },
        "id": "BW6Rc1kB664X",
        "outputId": "45a2f5a2-93d2-4164-9934-ab3e00b32fe3",
        "scrolled": true
      },
      "outputs": [],
      "source": [
        "titanic_df.isna().head(3)"
      ]
    },
    {
      "cell_type": "code",
      "execution_count": null,
      "metadata": {
        "colab": {
          "base_uri": "https://localhost:8080/"
        },
        "id": "rmUSxuOu664X",
        "outputId": "05b38d36-b805-41bb-efeb-72b31072a663"
      },
      "outputs": [],
      "source": [
        "titanic_df.isna( ).sum( )"
      ]
    },
    {
      "cell_type": "markdown",
      "metadata": {
        "id": "4f5qnU_O664X"
      },
      "source": [
        "* fillna( ) 로 Missing 데이터 대체하기"
      ]
    },
    {
      "cell_type": "code",
      "execution_count": null,
      "metadata": {
        "colab": {
          "base_uri": "https://localhost:8080/",
          "height": 143
        },
        "id": "CXd9GrPn664X",
        "outputId": "3fbe9852-57e0-44d8-e65f-cb7666d617cb"
      },
      "outputs": [],
      "source": [
        "titanic_df['Cabin'] = titanic_df['Cabin'].fillna('C000')\n",
        "titanic_df.head(3)"
      ]
    },
    {
      "cell_type": "code",
      "execution_count": null,
      "metadata": {
        "colab": {
          "base_uri": "https://localhost:8080/"
        },
        "id": "7ZV4_BiO0YBd",
        "outputId": "15cd3cd5-f43d-485e-9125-a3495c4b0338"
      },
      "outputs": [],
      "source": [
        "titanic_df['Age'].mean()"
      ]
    },
    {
      "cell_type": "code",
      "execution_count": null,
      "metadata": {
        "colab": {
          "base_uri": "https://localhost:8080/"
        },
        "id": "8Wcf7N7f664X",
        "outputId": "e2b969b2-66db-4e22-897f-2352fbd868e2"
      },
      "outputs": [],
      "source": [
        "titanic_df['Age'] = titanic_df['Age'].fillna(titanic_df['Age'].mean())\n",
        "titanic_df['Embarked'] = titanic_df['Embarked'].fillna('S')\n",
        "titanic_df.isna().sum()"
      ]
    },
    {
      "cell_type": "markdown",
      "metadata": {
        "id": "7UJfLNGX664X"
      },
      "source": [
        "### apply lambda 식으로 데이터 가공"
      ]
    },
    {
      "cell_type": "code",
      "execution_count": null,
      "metadata": {
        "colab": {
          "base_uri": "https://localhost:8080/"
        },
        "id": "HO57rKTb664X",
        "outputId": "a0319547-2c07-4522-8e2a-89673345d60d"
      },
      "outputs": [],
      "source": [
        "def get_square(a):\n",
        "    return a**2\n",
        "\n",
        "print(get_square(3))\n",
        "print('3의 제곱은:',get_square(3))"
      ]
    },
    {
      "cell_type": "code",
      "execution_count": null,
      "metadata": {
        "colab": {
          "base_uri": "https://localhost:8080/"
        },
        "id": "DUz0Usxc664X",
        "outputId": "524d5c26-273b-421b-aa7a-4736081e9f83"
      },
      "outputs": [],
      "source": [
        "lambda_square = lambda x : x ** 2\n",
        "print('3의 제곱은:',lambda_square(3))"
      ]
    },
    {
      "cell_type": "code",
      "execution_count": null,
      "metadata": {
        "colab": {
          "base_uri": "https://localhost:8080/"
        },
        "id": "yA2rPU2S664X",
        "outputId": "022d30e6-fa0a-4786-d75a-656e8cc66f15"
      },
      "outputs": [],
      "source": [
        "a=[1,2,3]\n",
        "squares = map(lambda x : x**3, a)\n",
        "list(squares)"
      ]
    },
    {
      "cell_type": "code",
      "execution_count": null,
      "metadata": {
        "colab": {
          "base_uri": "https://localhost:8080/"
        },
        "id": "DTNway8x1KKa",
        "outputId": "5c814eec-99f2-46c2-a14a-1a3dfef48a8f"
      },
      "outputs": [],
      "source": [
        "a=[1,2,3]\n",
        "squares = map(lambda_square, a)\n",
        "list(squares)"
      ]
    },
    {
      "cell_type": "code",
      "execution_count": null,
      "metadata": {
        "id": "3FhJ7fBp1Wz8"
      },
      "outputs": [],
      "source": [
        "lambda_len = lambda x : len(x)"
      ]
    },
    {
      "cell_type": "code",
      "execution_count": null,
      "metadata": {
        "colab": {
          "base_uri": "https://localhost:8080/"
        },
        "id": "mgUx15IG1ZBD",
        "outputId": "5a811eb4-ae8a-48f6-b9f5-8aabce0b8d80"
      },
      "outputs": [],
      "source": [
        "lambda_len('abc')"
      ]
    },
    {
      "cell_type": "code",
      "execution_count": null,
      "metadata": {
        "colab": {
          "base_uri": "https://localhost:8080/",
          "height": 206
        },
        "id": "czweAblI664X",
        "outputId": "a4e41e39-4c7d-4c92-8733-8d3888144a95"
      },
      "outputs": [],
      "source": [
        "titanic_df['Name_len']= titanic_df['Name'].apply(lambda x : len(x))\n",
        "# titanic_df['Name_len']= titanic_df['Name'].apply(lambda_len)\n",
        "titanic_df[['Name','Name_len']].head(5)"
      ]
    },
    {
      "cell_type": "code",
      "execution_count": null,
      "metadata": {
        "id": "PvuFx-mq1n-D"
      },
      "outputs": [],
      "source": [
        "lambda_child_adult = lambda x : 'Child' if x <=19 else 'Adult'"
      ]
    },
    {
      "cell_type": "code",
      "execution_count": null,
      "metadata": {
        "colab": {
          "base_uri": "https://localhost:8080/",
          "height": 300
        },
        "id": "hqhb6W6_664Y",
        "outputId": "5455fb73-a414-4ede-c432-682003832f7d"
      },
      "outputs": [],
      "source": [
        "titanic_df['Child_Adult'] = titanic_df['Age'].apply(lambda x : 'Child' if x <19 else 'Adult')\n",
        "# titanic_df['Child_Adult'] = titanic_df['Age'].apply(lambda_child_adult)\n",
        "titanic_df[['Age','Child_Adult']].head(8)"
      ]
    },
    {
      "cell_type": "code",
      "execution_count": null,
      "metadata": {
        "colab": {
          "base_uri": "https://localhost:8080/"
        },
        "id": "_OTa0Xvz664Y",
        "outputId": "4fb77076-8876-4c09-9a65-d733a516ef8e"
      },
      "outputs": [],
      "source": [
        "titanic_df['Age_cat'] = titanic_df['Age'].apply(lambda x : 'Child' if x<19 else ('Adult' if x < 60 else\n",
        "                                                                                  'Elderly'))\n",
        "titanic_df['Age_cat'].value_counts()"
      ]
    },
    {
      "cell_type": "code",
      "execution_count": null,
      "metadata": {
        "id": "wVDqy5Vu2hed"
      },
      "outputs": [],
      "source": [
        "# 나이에 따라 세분화된 분류를 수행하는 함수 생성.\n",
        "def get_category(age):\n",
        "    cat = ''\n",
        "    if age <= 5: cat = 'Baby'\n",
        "    elif age <= 12: cat = 'Child'\n",
        "    elif age <= 18: cat = 'Teenager'\n",
        "    elif age <= 25: cat = 'Student'\n",
        "    elif age <= 35: cat = 'Young Adult'\n",
        "    elif age <= 60: cat = 'Adult'\n",
        "    else : cat = 'Elderly'\n",
        "\n",
        "    return cat"
      ]
    },
    {
      "cell_type": "code",
      "execution_count": null,
      "metadata": {
        "id": "hKiyB_k22p1b"
      },
      "outputs": [],
      "source": [
        "titanic_df['Age_cat'] = titanic_df['Age'].apply(lambda x : get_category(x))"
      ]
    },
    {
      "cell_type": "code",
      "execution_count": null,
      "metadata": {
        "colab": {
          "base_uri": "https://localhost:8080/",
          "height": 206
        },
        "id": "JstSbIDL2ukK",
        "outputId": "21449f5f-3d5d-42d2-9778-c30d8e660247"
      },
      "outputs": [],
      "source": [
        "titanic_df[['Age','Age_cat']].head()"
      ]
    },
    {
      "cell_type": "code",
      "execution_count": null,
      "metadata": {
        "colab": {
          "base_uri": "https://localhost:8080/",
          "height": 206
        },
        "id": "TPuRD6cN664Y",
        "outputId": "d3943c97-62fa-4555-d4e9-fecb99a382d8"
      },
      "outputs": [],
      "source": [
        "# 나이에 따라 세분화된 분류를 수행하는 함수 생성.\n",
        "def get_category(age):\n",
        "    cat = ''\n",
        "    if age <= 5: cat = 'Baby'\n",
        "    elif age <= 12: cat = 'Child'\n",
        "    elif age <= 18: cat = 'Teenager'\n",
        "    elif age <= 25: cat = 'Student'\n",
        "    elif age <= 35: cat = 'Young Adult'\n",
        "    elif age <= 60: cat = 'Adult'\n",
        "    else : cat = 'Elderly'\n",
        "\n",
        "    return cat\n",
        "\n",
        "# lambda 식에 위에서 생성한 get_category( ) 함수를 반환값으로 지정.\n",
        "# get_category(X)는 입력값으로 ‘Age’ 컬럼 값을 받아서 해당하는 cat 반환\n",
        "titanic_df['Age_cat'] = titanic_df['Age'].apply(lambda x : get_category(x))\n",
        "titanic_df[['Age','Age_cat']].head()\n"
      ]
    },
    {
      "cell_type": "code",
      "execution_count": null,
      "metadata": {
        "id": "-yLBKZfo664Y"
      },
      "outputs": [],
      "source": []
    },
    {
      "cell_type": "code",
      "execution_count": null,
      "metadata": {
        "id": "fH6-ayjy664Y"
      },
      "outputs": [],
      "source": []
    },
    {
      "cell_type": "code",
      "execution_count": null,
      "metadata": {
        "id": "OcyzYXb1664Y"
      },
      "outputs": [],
      "source": []
    }
  ],
  "metadata": {
    "colab": {
      "include_colab_link": true,
      "provenance": []
    },
    "kernelspec": {
      "display_name": "Python 3 (ipykernel)",
      "language": "python",
      "name": "python3"
    },
    "language_info": {
      "codemirror_mode": {
        "name": "ipython",
        "version": 3
      },
      "file_extension": ".py",
      "mimetype": "text/x-python",
      "name": "python",
      "nbconvert_exporter": "python",
      "pygments_lexer": "ipython3",
      "version": "3.9.7"
    }
  },
  "nbformat": 4,
  "nbformat_minor": 0
}
