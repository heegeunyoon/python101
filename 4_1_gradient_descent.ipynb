{
  "cells": [
    {
      "cell_type": "markdown",
      "metadata": {
        "id": "view-in-github",
        "colab_type": "text"
      },
      "source": [
        "<a href=\"https://colab.research.google.com/github/heegeunyoon/python101/blob/main/4_1_gradient_descent.ipynb\" target=\"_parent\"><img src=\"https://colab.research.google.com/assets/colab-badge.svg\" alt=\"Open In Colab\"/></a>"
      ]
    },
    {
      "cell_type": "markdown",
      "metadata": {
        "id": "BteJ4w_gohoL"
      },
      "source": [
        "## Gradient Descent"
      ]
    },
    {
      "cell_type": "markdown",
      "metadata": {
        "id": "0XTDcj-JohoP"
      },
      "source": [
        "**실제값을 Y=4X+6 시뮬레이션하는 데이터 값 생성**"
      ]
    },
    {
      "cell_type": "code",
      "execution_count": 22,
      "metadata": {
        "id": "355NzAfAohoQ",
        "outputId": "fff5cd71-2afc-4e5f-c943-fa3a8960a0a2",
        "colab": {
          "base_uri": "https://localhost:8080/",
          "height": 465
        }
      },
      "outputs": [
        {
          "output_type": "stream",
          "name": "stdout",
          "text": [
            "(100, 1) (100, 1)\n"
          ]
        },
        {
          "output_type": "execute_result",
          "data": {
            "text/plain": [
              "<matplotlib.collections.PathCollection at 0x7f94691efd50>"
            ]
          },
          "metadata": {},
          "execution_count": 22
        },
        {
          "output_type": "display_data",
          "data": {
            "text/plain": [
              "<Figure size 640x480 with 1 Axes>"
            ],
            "image/png": "[encoded data removed]"
          },
          "metadata": {}
        }
      ],
      "source": [
        "import numpy as np\n",
        "import matplotlib.pyplot as plt\n",
        "%matplotlib inline\n",
        "\n",
        "np.random.seed()\n",
        "\n",
        "# y = 4X + 6 식을 근사(w1=4, w0=6). random 값은 Noise를 위해 만듬\n",
        "X = 2 * np.random.rand(100,1)\n",
        "y = 6 + 4 * X + np.random.randn(100,1)\n",
        "\n",
        "print(X.shape, y.shape)\n",
        "\n",
        "# X, y 데이터 셋 scatter plot으로 시각화\n",
        "plt.scatter(X, y)"
      ]
    },
    {
      "cell_type": "markdown",
      "metadata": {
        "id": "j8dpDJWqohoS"
      },
      "source": [
        "**w0과 w1의 값을 최소화 할 수 있도록 업데이트 수행하는 함수 생성**\n",
        "\n",
        "* 예측 배열 y_pred는 np.dot(X, w1.T) + w0 임\n",
        "100개의 데이터 X(1,2,...,100)이 있다면 예측값은 w0 + X(1)*w1 + X(2)*w1 +..+ X(100)*w1이며, 이는 입력 배열 X와 w1 배열의 내적임.\n",
        "* 새로운 w1과 w0를 update함\n",
        "![](https://github.com/minyoung347/python101/blob/main/image01.png?raw=1)"
      ]
    },
    {
      "cell_type": "code",
      "execution_count": null,
      "metadata": {
        "id": "AGDYsOtaohoS"
      },
      "outputs": [],
      "source": [
        "# w1 과 w0 를 업데이트 할 w1_update, w0_update를 반환.\n",
        "def get_weight_updates(w1, w0, X, y, learning_rate=0.01):\n",
        "    N = len(y)\n",
        "\n",
        "    # 먼저 w1_update, w0_update를 각각 w1, w0의 shape와 동일한 크기를 가진 0 값으로 초기화\n",
        "    w1_update = np.zeros_like(w1)\n",
        "    w0_update = np.zeros_like(w0)\n",
        "\n",
        "    # 예측 배열 계산하고 예측과 실제 값의 차이 계산\n",
        "    y_pred = np.dot(X, w1.T) + w0\n",
        "    diff = y - y_pred\n",
        "\n",
        "    # w0_update를 dot 행렬 연산으로 구하기 위해 모두 1값을 가진 행렬 생성\n",
        "    w0_factors = np.ones((N,1))\n",
        "\n",
        "    # w1과 w0을 업데이트할 w1_update와 w0_update 계산\n",
        "    w1_update = -(2/N) * learning_rate * (np.dot(X.T, diff))\n",
        "    w0_update = -(2/N) * learning_rate * (np.dot(w0_factors.T, diff))\n",
        "\n",
        "    return w1_update, w0_update"
      ]
    },
    {
      "cell_type": "code",
      "execution_count": null,
      "metadata": {
        "id": "t-r6ef7HohoT",
        "outputId": "17933482-79d1-4824-8ed1-1782e33ac898",
        "colab": {
          "base_uri": "https://localhost:8080/"
        }
      },
      "outputs": [
        {
          "output_type": "stream",
          "name": "stdout",
          "text": [
            "(100, 1)\n",
            "(1, 1) (1, 1)\n"
          ]
        },
        {
          "output_type": "execute_result",
          "data": {
            "text/plain": [
              "(array([[0.]]), array([[0.]]))"
            ]
          },
          "metadata": {},
          "execution_count": 36
        }
      ],
      "source": [
        "w0 = np.zeros((1,1))\n",
        "w1 = np.zeros((1,1))\n",
        "y_pred = np.dot(X, w1.T) + w0\n",
        "diff = y-y_pred\n",
        "print(diff.shape)\n",
        "\n",
        "w0_factors = np.ones((100,1))\n",
        "w1_update = -(2/100)*0.01*(np.dot(X.T, diff))\n",
        "w0_update = -(2/100)*0.01*(np.dot(w0_factors.T, diff))\n",
        "print(w1_update.shape, w0_update.shape)\n",
        "\n",
        "w1, w0"
      ]
    },
    {
      "cell_type": "markdown",
      "metadata": {
        "id": "ktpF7PoeohoT"
      },
      "source": [
        "**반복적으로 경사 하강법을 이용하여 get_weigth_updates()를 호출하여 w1과 w0를 업데이트 하는 함수 생성**"
      ]
    },
    {
      "cell_type": "code",
      "execution_count": null,
      "metadata": {
        "id": "iazpuIH_ohoU"
      },
      "outputs": [],
      "source": [
        "# 입력 인자 iters로 주어진 횟수만큼 반복적으로 w1과 w0를 업데이트 적용함.\n",
        "def gradient_descent_steps(X, y, iters=10000):\n",
        "    # w0와 w1을 모두 0으로 초기화.\n",
        "    w0 = np.zeros((1,1))\n",
        "    w1 = np.zeros((1,1))\n",
        "\n",
        "    # 인자로 주어진 iters 만큼 반복적으로 get_weight_updates() 호출하여 w1, w0 업데이트 수행.\n",
        "    for ind in range(iters):\n",
        "        w1_update, w0_update = get_weight_updates(w1, w0, X, y, learning_rate=0.01)\n",
        "        w1 = w1 - w1_update\n",
        "        w0 = w0 - w0_update\n",
        "\n",
        "    return w1, w0"
      ]
    },
    {
      "cell_type": "markdown",
      "metadata": {
        "id": "gpUVe1GTohoU"
      },
      "source": [
        "**예측 오차 비용을 계산을 수행하는 함수 생성 및 경사 하강법 수행**"
      ]
    },
    {
      "cell_type": "code",
      "execution_count": null,
      "metadata": {
        "id": "_NPYhIAfohoV",
        "outputId": "e526ba1c-97d7-4e50-ba6f-8cc190025d1c",
        "colab": {
          "base_uri": "https://localhost:8080/"
        }
      },
      "outputs": [
        {
          "output_type": "stream",
          "name": "stdout",
          "text": [
            "w1:4.096 w0:5.895\n",
            "Gradient Descent Total Cost:0.8024\n"
          ]
        }
      ],
      "source": [
        "def get_cost(y, y_pred):\n",
        "    N = len(y)\n",
        "    cost = np.sum(np.square(y - y_pred))/N\n",
        "\n",
        "    return cost\n",
        "\n",
        "\n",
        "w1, w0 = gradient_descent_steps(X, y, iters=1000)\n",
        "print(\"w1:{0:.3f} w0:{1:.3f}\".format(w1[0,0], w0[0,0]))\n",
        "\n",
        "y_pred = w1[0,0] * X + w0\n",
        "print('Gradient Descent Total Cost:{0:.4f}'.format(get_cost(y, y_pred)))"
      ]
    },
    {
      "cell_type": "code",
      "execution_count": null,
      "metadata": {
        "scrolled": true,
        "id": "kM8tK6ncohoV",
        "outputId": "6873c53d-03b9-4dc7-bebe-241b7441b4b6",
        "colab": {
          "base_uri": "https://localhost:8080/",
          "height": 449
        }
      },
      "outputs": [
        {
          "output_type": "execute_result",
          "data": {
            "text/plain": [
              "[<matplotlib.lines.Line2D at 0x7ade3102fd50>]"
            ]
          },
          "metadata": {},
          "execution_count": 55
        },
        {
          "output_type": "display_data",
          "data": {
            "text/plain": [
              "<Figure size 640x480 with 1 Axes>"
            ],
            "image/png": "[encoded data removed]"
          },
          "metadata": {}
        }
      ],
      "source": [
        "plt.scatter(X, y)\n",
        "plt.plot(X,y_pred)"
      ]
    },
    {
      "cell_type": "markdown",
      "metadata": {
        "id": "ay6gq9DpohoV"
      },
      "source": [
        "**미니 배치 확률적 경사 하강법을 이용한 최적 비용함수 도출**"
      ]
    },
    {
      "cell_type": "code",
      "execution_count": null,
      "metadata": {
        "id": "3syQ1CWVohoV"
      },
      "outputs": [],
      "source": [
        "def stochastic_gradient_descent_steps(X, y, batch_size=10, iters=1000):\n",
        "    w0 = np.zeros((1,1))\n",
        "    w1 = np.zeros((1,1))\n",
        "    prev_cost = 100000\n",
        "    iter_index = 0\n",
        "\n",
        "    for ind in range(iters):\n",
        "        np.random.seed(ind)\n",
        "\n",
        "        # 전체 X, y 데이터에서 랜덤하게 batch_size만큼 데이터 추출하여 sample_X, sample_y로 저장\n",
        "        stochastic_random_index = np.random.permutation(X.shape[0])\n",
        "        sample_X = X[stochastic_random_index[0:batch_size]]\n",
        "        sample_y = y[stochastic_random_index[0:batch_size]]\n",
        "\n",
        "        # 랜덤하게 batch_size만큼 추출된 데이터 기반으로 w1_update, w0_update 계산 후 업데이트\n",
        "        w1_update, w0_update = get_weight_updates(w1, w0, sample_X, sample_y, learning_rate=0.01)\n",
        "        w1 = w1 - w1_update\n",
        "        w0 = w0 - w0_update\n",
        "\n",
        "    return w1, w0"
      ]
    },
    {
      "cell_type": "code",
      "execution_count": null,
      "metadata": {
        "id": "x4dQMimEohoW",
        "outputId": "9b390b26-9437-456a-d4ff-01c2d6cd3071",
        "colab": {
          "base_uri": "https://localhost:8080/",
          "height": 484
        }
      },
      "outputs": [
        {
          "output_type": "stream",
          "name": "stdout",
          "text": [
            "w1: 4.078 w0: 5.849\n",
            "Stochastic Gradient Descent Total Cost:0.8074\n"
          ]
        },
        {
          "output_type": "execute_result",
          "data": {
            "text/plain": [
              "[<matplotlib.lines.Line2D at 0x7ade30efe810>]"
            ]
          },
          "metadata": {},
          "execution_count": 57
        },
        {
          "output_type": "display_data",
          "data": {
            "text/plain": [
              "<Figure size 640x480 with 1 Axes>"
            ],
            "image/png": "[encoded data removed]"
          },
          "metadata": {}
        }
      ],
      "source": [
        "w1, w0 = stochastic_gradient_descent_steps(X, y, iters=1000)\n",
        "print(\"w1:\",round(w1[0,0],3),\"w0:\",round(w0[0,0],3))\n",
        "\n",
        "y_pred = w1[0,0] * X + w0\n",
        "print('Stochastic Gradient Descent Total Cost:{0:.4f}'.format(get_cost(y, y_pred)))\n",
        "\n",
        "plt.scatter(X, y)\n",
        "plt.plot(X,y_pred)"
      ]
    }
  ],
  "metadata": {
    "kernelspec": {
      "display_name": "Python 3 (ipykernel)",
      "language": "python",
      "name": "python3"
    },
    "language_info": {
      "codemirror_mode": {
        "name": "ipython",
        "version": 3
      },
      "file_extension": ".py",
      "mimetype": "text/x-python",
      "name": "python",
      "nbconvert_exporter": "python",
      "pygments_lexer": "ipython3",
      "version": "3.9.7"
    },
    "colab": {
      "provenance": [],
      "toc_visible": true,
      "include_colab_link": true
    }
  },
  "nbformat": 4,
  "nbformat_minor": 0
}