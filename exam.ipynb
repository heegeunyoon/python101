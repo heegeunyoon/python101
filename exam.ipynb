{
 "cells": [
  {
   "cell_type": "code",
   "execution_count": 2,
   "id": "d588681c",
   "metadata": {},
   "outputs": [],
   "source": [
    "# 데이터프레임 생성\n",
    "'Q1. 다음 데이터를 사용하여 Pandas DataFrame을 생성하세요. 그리고 데이터 프레임의 첫 2개 행을 출력하는 코드를 작성하세요.'\n",
    "\n",
    "이름 = ['홍길동', '김영희', '이철수']\n",
    "나이 = [25, 30, 35]\n",
    "직업 = ['학생', '의사', '변호사']"
   ]
  },
  {
   "cell_type": "code",
   "execution_count": 18,
   "id": "1638d299",
   "metadata": {},
   "outputs": [],
   "source": [
    "#데이터 요약\n",
    "'Q2. Pandas DataFrame에서 head(), decribe(), info() 함수(정확히는 메서드)의 역할을 설명하세요'\n"
   ]
  },
  {
   "cell_type": "code",
   "execution_count": 6,
   "id": "6156ca62",
   "metadata": {},
   "outputs": [],
   "source": [
    "#데이터시각화\n",
    "'Q3. Matplotlib를 사용하여 다음 데이터를 막대 그래프로 시각화하는 코드를 작성하세요.'\n",
    "import matplotlib.pyplot as plt\n",
    "\n",
    "카테고리 = ['A', 'B', 'C', 'D']\n",
    "값 = [10, 20, 15, 25]\n"
   ]
  },
  {
   "cell_type": "code",
   "execution_count": 17,
   "id": "3e4a8024",
   "metadata": {},
   "outputs": [],
   "source": [
    "#결측치 처리\n",
    "'Q4. 결측치(NaN)가 포함된 아래 데이터에서 결측치를 0으로 대체하는 코드를 작성하세요.'\n",
    "\n",
    "data = {'이름': ['홍길동', '김영희', '이철수'],\n",
    "        '점수': [95, None, 85]}\n",
    "df = pd.DataFrame(data)\n"
   ]
  },
  {
   "cell_type": "code",
   "execution_count": 19,
   "id": "17059bac",
   "metadata": {},
   "outputs": [],
   "source": [
    "#데이터 필터링 \n",
    "'Q5. 아래 데이터 프레임에서 나이 30 이상인 행만 필터링하는 코드를 작성하세요.'\n",
    "import pandas as pd\n",
    "data = {'이름': ['홍길동', '김영희', '이철수'],\n",
    "        '나이': [25, 30, 35]}\n",
    "df = pd.DataFrame(data)"
   ]
  },
  {
   "cell_type": "code",
   "execution_count": 25,
   "id": "ba96f8df",
   "metadata": {},
   "outputs": [],
   "source": [
    "#데이터 병합\n",
    "'Q6. 아래 두 데이터 프레임을 이름 열을 기준으로 병합(Merge)하는 코드를 작성하세요.'\n",
    "df1 = {'이름': ['홍길동', '김영희', '이철수'],\n",
    "         '나이': [25, 30, 35]}\n",
    "df2 = {'이름': ['홍길동', '김영희', '박민수'],\n",
    "         '점수': [95, 85, 75]}\n",
    "\n",
    "df1 = pd.DataFrame(data1)\n",
    "df2 = pd.DataFrame(data2)"
   ]
  },
  {
   "cell_type": "code",
   "execution_count": 27,
   "id": "2c3b7270",
   "metadata": {},
   "outputs": [
    {
     "data": {
      "text/plain": [
       "'Q7. \"data.csv\"라는 파일을 읽어서 DataFrame으로 변환하는 코드를 작성하세요. 그리고 점수 열의 평균을 계산하세요.'"
      ]
     },
     "execution_count": 27,
     "metadata": {},
     "output_type": "execute_result"
    }
   ],
   "source": [
    "#csv 파일 읽기\n",
    "'Q7. \"titanic_train.csv\"라는 파일을 읽어서 DataFrame으로 변환하는 코드를 작성하세요. 그리고 fare 열의 평균을 계산하세요.'"
   ]
  }
 ],
 "metadata": {
  "kernelspec": {
   "display_name": "Python 3 (ipykernel)",
   "language": "python",
   "name": "python3"
  },
  "language_info": {
   "codemirror_mode": {
    "name": "ipython",
    "version": 3
   },
   "file_extension": ".py",
   "mimetype": "text/x-python",
   "name": "python",
   "nbconvert_exporter": "python",
   "pygments_lexer": "ipython3",
   "version": "3.11.5"
  }
 },
 "nbformat": 4,
 "nbformat_minor": 5
}
