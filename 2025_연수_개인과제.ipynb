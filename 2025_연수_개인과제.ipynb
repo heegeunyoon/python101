{
  "nbformat": 4,
  "nbformat_minor": 0,
  "metadata": {
    "colab": {
      "provenance": [],
      "authorship_tag": "ABX9TyP7aCy6kSW0mwQ746h16ldN",
      "include_colab_link": true
    },
    "kernelspec": {
      "name": "python3",
      "display_name": "Python 3"
    },
    "language_info": {
      "name": "python"
    }
  },
  "cells": [
    {
      "cell_type": "markdown",
      "metadata": {
        "id": "view-in-github",
        "colab_type": "text"
      },
      "source": [
        "<a href=\"https://colab.research.google.com/github/heegeunyoon/python101/blob/main/2025_%EC%97%B0%EC%88%98_%EA%B0%9C%EC%9D%B8%EA%B3%BC%EC%A0%9C.ipynb\" target=\"_parent\"><img src=\"https://colab.research.google.com/assets/colab-badge.svg\" alt=\"Open In Colab\"/></a>"
      ]
    },
    {
      "cell_type": "markdown",
      "source": [
        "# 파이썬 기반 데이터 사이언스 입문 연수<small>(7.24-25)</small> 최종 과제\n",
        "- ## 보스턴 집값 예측 <small>(The Boston Housing Dataset)</small>"
      ],
      "metadata": {
        "id": "D55M1gJTiEj_"
      }
    },
    {
      "cell_type": "markdown",
      "source": [
        "### 데이터 불러오기\n",
        "\n",
        "* CRIM: 지역별 범죄 발생률  \n",
        "* ZN: 25,000평방피트를 초과하는 거주 지역의 비율\n",
        "* INDUS: 비상업 지역 넓이 비율\n",
        "* CHAS: 찰스강에 대한 더미 변수(강의 경계에 위치한 경우는 1, 아니면 0)\n",
        "* NOX: 일산화질소 농도\n",
        "* RM: 거주할 수 있는 방 개수\n",
        "* AGE: 1940년 이전에 건축된 소유 주택의 비율\n",
        "* DIS: 5개 주요 고용센터까지의 가중 거리\n",
        "* RAD: 고속도로 접근 용이도\n",
        "* TAX: 10,000달러당 재산세율\n",
        "* PTRATIO: 지역의 교사와 학생 수 비율\n",
        "* B: 지역의 흑인 거주 비율\n",
        "* LSTAT: 하위 계층의 비율\n",
        "* MEDV: 본인 소유의 주택 가격(중앙값)"
      ],
      "metadata": {
        "id": "ctrAxHdpiRsF"
      }
    },
    {
      "cell_type": "code",
      "execution_count": null,
      "metadata": {
        "id": "bm0DPJeGeFbD"
      },
      "outputs": [],
      "source": [
        "# 데이터 및 git repository 다운로드\n",
        "![ ! -d python101 ] && git clone https://github.com/heegeunyoon/python101.git\n",
        "\n",
        "import matplotlib.pyplot as plt\n",
        "\n",
        "# 파일에서 불러오기\n",
        "df = pd.read_csv('/content/python101/input/BostonHousing.csv')\n",
        "df.columns = ['CRIM', 'ZN', 'INDUS',\t'CHAS', 'NOX', 'RM', 'AGE', 'DIS', 'RAD', 'TAX', 'PTRATIO', 'B', 'LSTAT', 'MEDV']\n",
        "\n",
        "print('Boston 데이타셋 크기 :',df.shape)\n",
        "df.head()"
      ]
    },
    {
      "cell_type": "markdown",
      "source": [
        "### Q1) 위 셀에서 불러온 데이터를 이용하여 아래의 내용을 수행하세요."
      ],
      "metadata": {
        "id": "ruoSbp30CRGW"
      }
    },
    {
      "cell_type": "markdown",
      "source": [
        " - describe() 함수를 이용하여 DataFrame 값들의 통계 정보를 출력하세요."
      ],
      "metadata": {
        "id": "Lv3f6HoFCkAx"
      }
    },
    {
      "cell_type": "code",
      "source": [
        "# 코드 작성"
      ],
      "metadata": {
        "id": "1doFO7UtCodF"
      },
      "execution_count": null,
      "outputs": []
    },
    {
      "cell_type": "markdown",
      "source": [
        " - head() 함수를 이용하여 데이터의 일부를 출력하세요."
      ],
      "metadata": {
        "id": "AQ2pAW5aCome"
      }
    },
    {
      "cell_type": "code",
      "source": [
        "# 코드 작성"
      ],
      "metadata": {
        "id": "jTBwXls6CzAW"
      },
      "execution_count": null,
      "outputs": []
    },
    {
      "cell_type": "markdown",
      "source": [
        "### Q2) DataFrame의 값들을 시각화 하세요.\n"
      ],
      "metadata": {
        "id": "e2KurqpkiXBb"
      }
    },
    {
      "cell_type": "markdown",
      "source": [
        " - hist() 함수를 사용하여 DataFrame에 포함된 모든 변수들의 히스토그램을 그리세요."
      ],
      "metadata": {
        "id": "vwFgYl2UDHIr"
      }
    },
    {
      "cell_type": "code",
      "source": [
        "# 코드 작성"
      ],
      "metadata": {
        "id": "y8XsJK18DOP4"
      },
      "execution_count": null,
      "outputs": []
    },
    {
      "cell_type": "markdown",
      "source": [
        "- seaborn의 boxplot() 함수를 이용하여 각 변수들의 특성을 확인하세요."
      ],
      "metadata": {
        "id": "tVZlkpu3Dbcd"
      }
    },
    {
      "cell_type": "code",
      "source": [
        "# 코드 작성"
      ],
      "metadata": {
        "id": "_X_ejd_kD-cd"
      },
      "execution_count": null,
      "outputs": []
    },
    {
      "cell_type": "markdown",
      "source": [
        "- seaborn의 regplot()함수를 이용해서 각 변수들과 예측 값(가격)간의 산점도와 선형 회귀 직선을 함께 출력하세요."
      ],
      "metadata": {
        "id": "NjdikyviEW0f"
      }
    },
    {
      "cell_type": "code",
      "source": [
        "# 코드 작성"
      ],
      "metadata": {
        "id": "RVNMcNf6fgRc"
      },
      "execution_count": null,
      "outputs": []
    },
    {
      "cell_type": "markdown",
      "source": [
        "변수들 간의 상관계수를 출력하세요."
      ],
      "metadata": {
        "id": "ieUU9ckmWNYg"
      }
    },
    {
      "cell_type": "code",
      "source": [
        "# 코드 작성"
      ],
      "metadata": {
        "id": "dalYiTk4WNC7"
      },
      "execution_count": null,
      "outputs": []
    },
    {
      "cell_type": "markdown",
      "source": [
        "- seaborn의 pairplot을 이용해서 2개 변수 조합과 가격(MEDV) 간의 산점도를 그리세요."
      ],
      "metadata": {
        "id": "OvUbyfPteUWZ"
      }
    },
    {
      "cell_type": "code",
      "source": [
        "# 코드 작성"
      ],
      "metadata": {
        "id": "t2gJc4e1eVBE"
      },
      "execution_count": null,
      "outputs": []
    },
    {
      "cell_type": "markdown",
      "source": [
        "### Q3) LinearRegression 모델을 학습하세요."
      ],
      "metadata": {
        "id": "vOLfILr5ir96"
      }
    },
    {
      "cell_type": "code",
      "source": [
        "# 코드 작성"
      ],
      "metadata": {
        "id": "K470SqvKgESm"
      },
      "execution_count": null,
      "outputs": []
    },
    {
      "cell_type": "markdown",
      "source": [
        "- 변수들의 회귀 계수를 출력하세요."
      ],
      "metadata": {
        "id": "uxq5x39WdCEZ"
      }
    },
    {
      "cell_type": "code",
      "source": [
        "# 코드 작성"
      ],
      "metadata": {
        "id": "1_jNJZhjdCSq"
      },
      "execution_count": null,
      "outputs": []
    },
    {
      "cell_type": "markdown",
      "source": [
        "- 학습된 모델을 이용해서 테스트 데이터를 예측하고 MSE, RMSE를 출력하시오."
      ],
      "metadata": {
        "id": "u_lXF9LZdSRv"
      }
    },
    {
      "cell_type": "code",
      "source": [
        "# 코드 작성"
      ],
      "metadata": {
        "id": "pPAHiS1HgQGR"
      },
      "execution_count": null,
      "outputs": []
    },
    {
      "cell_type": "markdown",
      "source": [
        "### Q4) DecisionTree 기반의 회귀 분석 모델을 학습하세요."
      ],
      "metadata": {
        "id": "MZjCfhAti00h"
      }
    },
    {
      "cell_type": "markdown",
      "source": [
        "- DecisionTreeRegression 모델을 학습하고 테스트 데이터에 대해서 MSE, RMSE를 출력하세요."
      ],
      "metadata": {
        "id": "OtRB6f8w7vUM"
      }
    },
    {
      "cell_type": "code",
      "source": [
        "# 코드 작성"
      ],
      "metadata": {
        "id": "fH9A2uItgasJ"
      },
      "execution_count": null,
      "outputs": []
    },
    {
      "cell_type": "markdown",
      "source": [
        "- Decision Tree 모델을 시각화 하세요."
      ],
      "metadata": {
        "id": "fCdUR5Awi9YM"
      }
    },
    {
      "cell_type": "code",
      "source": [
        "# 코드 작성"
      ],
      "metadata": {
        "id": "HIAJUzZMg9b5"
      },
      "execution_count": null,
      "outputs": []
    },
    {
      "cell_type": "markdown",
      "source": [
        "- Random Forest 기반 회귀 분석 모델을 학습하고 MSE, RMSE를 출력하세요."
      ],
      "metadata": {
        "id": "cNe1yMxTdup4"
      }
    },
    {
      "cell_type": "code",
      "source": [
        "# 코드 작성"
      ],
      "metadata": {
        "id": "zmXvvgaojk6V"
      },
      "execution_count": null,
      "outputs": []
    }
  ]
}