{
  "nbformat": 4,
  "nbformat_minor": 0,
  "metadata": {
    "colab": {
      "provenance": [],
      "gpuType": "T4",
      "authorship_tag": "ABX9TyMMxtL4YKm22y2b/bKmCuRy",
      "include_colab_link": true
    },
    "kernelspec": {
      "name": "python3",
      "display_name": "Python 3"
    },
    "language_info": {
      "name": "python"
    },
    "accelerator": "GPU"
  },
  "cells": [
    {
      "cell_type": "markdown",
      "metadata": {
        "id": "view-in-github",
        "colab_type": "text"
      },
      "source": [
        "<a href=\"https://colab.research.google.com/github/heegeunyoon/python101/blob/main/6_CPU_vs_GPU.ipynb\" target=\"_parent\"><img src=\"https://colab.research.google.com/assets/colab-badge.svg\" alt=\"Open In Colab\"/></a>"
      ]
    },
    {
      "cell_type": "code",
      "execution_count": null,
      "metadata": {
        "colab": {
          "base_uri": "https://localhost:8080/"
        },
        "id": "h1qknUz3VsSi",
        "outputId": "6783c300-6a08-4a7e-c018-60e22c56264f"
      },
      "outputs": [
        {
          "output_type": "stream",
          "name": "stdout",
          "text": [
            "CPU 소요 시간: 26.3968초\n",
            "GPU 소요 시간: 0.5996초\n"
          ]
        }
      ],
      "source": [
        "import torch\n",
        "import time\n",
        "\n",
        "# 행렬 크기 지정\n",
        "matrix_size = 10000\n",
        "\n",
        "# 랜덤 행렬 생성 (CPU에서)\n",
        "A_cpu = torch.randn(matrix_size, matrix_size)\n",
        "B_cpu = torch.randn(matrix_size, matrix_size)\n",
        "\n",
        "# CPU 연산 시간 측정\n",
        "start_cpu = time.time()\n",
        "C_cpu = torch.mm(A_cpu, B_cpu)\n",
        "end_cpu = time.time()\n",
        "print(f\"CPU 소요 시간: {end_cpu - start_cpu:.4f}초\")\n",
        "\n",
        "# GPU가 있다면, GPU에서도 연산 수행\n",
        "if torch.cuda.is_available():\n",
        "    device = torch.device(\"cuda\")\n",
        "    A_gpu = A_cpu.to(device)\n",
        "    B_gpu = B_cpu.to(device)\n",
        "\n",
        "    # 첫 실행시 초기화 시간 제외 (warm-up)\n",
        "    _ = torch.mm(A_gpu, B_gpu)\n",
        "\n",
        "    torch.cuda.synchronize()\n",
        "    start_gpu = time.time()\n",
        "    C_gpu = torch.mm(A_gpu, B_gpu)\n",
        "    torch.cuda.synchronize()\n",
        "    end_gpu = time.time()\n",
        "    print(f\"GPU 소요 시간: {end_gpu - start_gpu:.4f}초\")\n",
        "else:\n",
        "    print(\"CUDA 지원 GPU가 없습니다.\")"
      ]
    }
  ]
}