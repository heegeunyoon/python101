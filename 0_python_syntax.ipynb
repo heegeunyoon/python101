{
  "nbformat": 4,
  "nbformat_minor": 0,
  "metadata": {
    "colab": {
      "provenance": [],
      "collapsed_sections": [
        "RGFfCZKfO_gm"
      ],
      "authorship_tag": "ABX9TyPII2/duE56j/RCUV8XQ7/v",
      "include_colab_link": true
    },
    "kernelspec": {
      "name": "python3",
      "display_name": "Python 3"
    },
    "language_info": {
      "name": "python"
    }
  },
  "cells": [
    {
      "cell_type": "markdown",
      "metadata": {
        "id": "view-in-github",
        "colab_type": "text"
      },
      "source": [
        "<a href=\"https://colab.research.google.com/github/heegeunyoon/python101/blob/main/0_python_syntax.ipynb\" target=\"_parent\"><img src=\"https://colab.research.google.com/assets/colab-badge.svg\" alt=\"Open In Colab\"/></a>"
      ]
    },
    {
      "cell_type": "markdown",
      "source": [
        "# 자료형"
      ],
      "metadata": {
        "id": "KcmdZfSaLmKR"
      }
    },
    {
      "cell_type": "code",
      "execution_count": 9,
      "metadata": {
        "colab": {
          "base_uri": "https://localhost:8080/"
        },
        "id": "_a8ZiMvcElgR",
        "outputId": "02fae0d0-2704-41d9-b3d2-1471e7e54afc"
      },
      "outputs": [
        {
          "output_type": "stream",
          "name": "stdout",
          "text": [
            "<class 'str'> Heegeun\n",
            "<class 'str'> Yoon\n",
            "<class 'tuple'> ('Heegeun', 'Yoon')\n",
            "<class 'int'> 41\n",
            "<class 'bool'> True\n",
            "<class 'dict'> {'name ': 'Heegeun ', 'age ': 42}\n",
            "<class 'list'> [41, 8, 7]\n"
          ]
        }
      ],
      "source": [
        "first_name = 'Heegeun'                        # str\n",
        "last_name = 'Yoon'                            # str\n",
        "full_name = first_name , last_name            # tuple\n",
        "age = 41                                      # int\n",
        "is_male = True                                # bool\n",
        "person = {'name ' : 'Heegeun ', 'age ' : 42}  # dict\n",
        "numbers = [41, 8, 7]                          # list\n",
        "\n",
        "print(type(first_name), first_name)\n",
        "print(type(last_name), last_name)\n",
        "print(type(full_name), full_name)\n",
        "print(type(age), age)\n",
        "print(type(is_male), is_male)\n",
        "print(type(person), person)\n",
        "print(type(numbers), numbers)"
      ]
    },
    {
      "cell_type": "markdown",
      "source": [
        "# 연산자"
      ],
      "metadata": {
        "id": "q20o7k1HM67E"
      }
    },
    {
      "cell_type": "code",
      "source": [
        "print(1 + 2)\n",
        "print(3 - 2)\n",
        "print(6 % 3)\n",
        "print(5 / 4)\n",
        "print(5 // 4)\n",
        "print(1 == 2)\n",
        "print(1 and 2)\n",
        "\n",
        "a = 1\n",
        "a += 2\n",
        "print(a)\n",
        "\n",
        "a = [1, 2, 3]\n",
        "b = [1, 2, 3]\n",
        "print(a == b)  # True (값이 같음)\n",
        "print(a is b)  # False (다른 객체)\n",
        "\n",
        "c = [4, 5, 6]\n",
        "d = c\n",
        "print(c == d)  # True (값이 같음)\n",
        "print(c is d)  # True (같은 객체)"
      ],
      "metadata": {
        "colab": {
          "base_uri": "https://localhost:8080/"
        },
        "id": "WrpU5i6fEve9",
        "outputId": "fce045d4-6be6-449f-908e-974f5f5bce07"
      },
      "execution_count": 29,
      "outputs": [
        {
          "output_type": "stream",
          "name": "stdout",
          "text": [
            "3\n",
            "1\n",
            "0\n",
            "1.25\n",
            "1\n",
            "False\n",
            "2\n",
            "3\n",
            "True\n",
            "False\n",
            "True\n",
            "True\n"
          ]
        }
      ]
    },
    {
      "cell_type": "markdown",
      "source": [
        "# 들여쓰기"
      ],
      "metadata": {
        "id": "lKwGsu6LOL0R"
      }
    },
    {
      "cell_type": "code",
      "source": [
        "# 정상\n",
        "for i in range(1, 4):\n",
        "    print(\"반복 횟수:\", i)\n",
        "    print(\"제곱:\", i * i)\n",
        "    print(\"--------------\")\n",
        "\n",
        "# 오류발생\n",
        "for i in range(1, 4):\n",
        "    print(\"반복 횟수:\", i)\n",
        "  print(\"제곱:\", i * i)\n",
        "    print(\"--------------\")"
      ],
      "metadata": {
        "colab": {
          "base_uri": "https://localhost:8080/",
          "height": 106
        },
        "id": "rPJWkyZCONmN",
        "outputId": "3bfb63d4-12df-4a71-f18e-2287bdd1c0b8"
      },
      "execution_count": 32,
      "outputs": [
        {
          "output_type": "error",
          "ename": "IndentationError",
          "evalue": "unexpected indent (ipython-input-32-3504123602.py, line 10)",
          "traceback": [
            "\u001b[0;36m  File \u001b[0;32m\"/tmp/ipython-input-32-3504123602.py\"\u001b[0;36m, line \u001b[0;32m10\u001b[0m\n\u001b[0;31m    print(\"제곱:\", i * i)\u001b[0m\n\u001b[0m    ^\u001b[0m\n\u001b[0;31mIndentationError\u001b[0m\u001b[0;31m:\u001b[0m unexpected indent\n"
          ]
        }
      ]
    },
    {
      "cell_type": "markdown",
      "source": [
        "# 조건문"
      ],
      "metadata": {
        "id": "WE6tiz1nOZ1W"
      }
    },
    {
      "cell_type": "code",
      "source": [
        "num_of_apple = 3\n",
        "market = ('apple', 'watermelon')\n",
        "\n",
        "if 'watermelon' in market:\n",
        "    num_of_apple = 1\n",
        "\n",
        "print(num_of_apple)"
      ],
      "metadata": {
        "colab": {
          "base_uri": "https://localhost:8080/"
        },
        "id": "94Lta4WHOciQ",
        "outputId": "fe8152d0-b50b-4362-fa58-0e394ee74758"
      },
      "execution_count": 35,
      "outputs": [
        {
          "output_type": "stream",
          "name": "stdout",
          "text": [
            "1\n"
          ]
        }
      ]
    },
    {
      "cell_type": "markdown",
      "source": [
        "# 반복문"
      ],
      "metadata": {
        "id": "t0PJZyYxO4X3"
      }
    },
    {
      "cell_type": "markdown",
      "source": [
        "## for loop"
      ],
      "metadata": {
        "id": "RGFfCZKfO_gm"
      }
    },
    {
      "cell_type": "code",
      "source": [
        "colors = ['red ', 'green ', 'blue ']\n",
        "\n",
        "for x in colors:\n",
        "    print(x)\n",
        "\n",
        "print(colors)"
      ],
      "metadata": {
        "colab": {
          "base_uri": "https://localhost:8080/"
        },
        "id": "DPAn0RhvO5ye",
        "outputId": "393d4c71-057f-4253-ef97-2ae1abd067ae"
      },
      "execution_count": 38,
      "outputs": [
        {
          "output_type": "stream",
          "name": "stdout",
          "text": [
            "red \n",
            "green \n",
            "blue \n",
            "['red ', 'green ', 'blue ']\n"
          ]
        }
      ]
    },
    {
      "cell_type": "markdown",
      "source": [
        "## while loop"
      ],
      "metadata": {
        "id": "y9jicPtTPD3A"
      }
    },
    {
      "cell_type": "code",
      "source": [
        "colors = ['red ', 'green ', 'blue ']\n",
        "\n",
        "while colors:\n",
        "    print(colors.pop ())\n",
        "\n",
        "print(colors)"
      ],
      "metadata": {
        "colab": {
          "base_uri": "https://localhost:8080/"
        },
        "id": "mqsutskaPFqO",
        "outputId": "5eefc0f1-32a0-4aee-a143-5ea0681f6f10"
      },
      "execution_count": 39,
      "outputs": [
        {
          "output_type": "stream",
          "name": "stdout",
          "text": [
            "blue \n",
            "green \n",
            "red \n",
            "[]\n"
          ]
        }
      ]
    },
    {
      "cell_type": "markdown",
      "source": [
        "## 흐름 제어"
      ],
      "metadata": {
        "id": "R1I2gxctPiSO"
      }
    },
    {
      "cell_type": "markdown",
      "source": [
        "### Break"
      ],
      "metadata": {
        "id": "Mo6-0ANTPqg6"
      }
    },
    {
      "cell_type": "code",
      "source": [
        "colors = ['red ', 'green ', 'blue ']\n",
        "\n",
        "for x in colors:\n",
        "    if x == 'green ':\n",
        "        break\n",
        "    print(x)\n",
        "else:\n",
        "    print('Done!')"
      ],
      "metadata": {
        "colab": {
          "base_uri": "https://localhost:8080/"
        },
        "id": "jFLJwdqVPoHA",
        "outputId": "caa3d116-c8c8-4734-8f22-080caf402c7c"
      },
      "execution_count": 40,
      "outputs": [
        {
          "output_type": "stream",
          "name": "stdout",
          "text": [
            "red \n"
          ]
        }
      ]
    },
    {
      "cell_type": "markdown",
      "source": [
        "### Continue"
      ],
      "metadata": {
        "id": "87csHmR3Pt_x"
      }
    },
    {
      "cell_type": "code",
      "source": [
        "colors = ['red ', 'green ', 'blue ']\n",
        "\n",
        "for x in colors:\n",
        "    if x == 'green ':\n",
        "        continue\n",
        "    print(x)\n",
        "else:\n",
        "    print('Done!')"
      ],
      "metadata": {
        "colab": {
          "base_uri": "https://localhost:8080/"
        },
        "id": "OqwIXEb5PwrH",
        "outputId": "52ee2352-8d3e-4510-b21c-907880019be6"
      },
      "execution_count": 41,
      "outputs": [
        {
          "output_type": "stream",
          "name": "stdout",
          "text": [
            "red \n",
            "blue \n",
            "Done!\n"
          ]
        }
      ]
    },
    {
      "cell_type": "markdown",
      "source": [
        "# 함수"
      ],
      "metadata": {
        "id": "A0EY0T6SQAXq"
      }
    },
    {
      "cell_type": "code",
      "source": [
        "def divide(a:int , b:int)->float:\n",
        "    return a / b\n",
        "\n",
        "result = divide (6, 3)\n",
        "print(result) # 출력: 2.0"
      ],
      "metadata": {
        "colab": {
          "base_uri": "https://localhost:8080/"
        },
        "id": "VDTYyvBJQBpw",
        "outputId": "de3110f8-e6a4-4450-a230-928161bff1a4"
      },
      "execution_count": 42,
      "outputs": [
        {
          "output_type": "stream",
          "name": "stdout",
          "text": [
            "2.0\n"
          ]
        }
      ]
    },
    {
      "cell_type": "markdown",
      "source": [
        "## Poisitonal Arguments"
      ],
      "metadata": {
        "id": "ckxzsXKAQIP0"
      }
    },
    {
      "cell_type": "code",
      "source": [
        "def divide(a:int , b:int)->float:\n",
        "    return a / b\n",
        "\n",
        "print(divide (6, 3)) # 출력: 2.0\n",
        "print(divide (3, 6)) # 출력: 0.5"
      ],
      "metadata": {
        "colab": {
          "base_uri": "https://localhost:8080/"
        },
        "id": "W7c0_N8nQKgz",
        "outputId": "ee91ad63-7d2a-4c61-aaef-0b4d8a8403c5"
      },
      "execution_count": 44,
      "outputs": [
        {
          "output_type": "stream",
          "name": "stdout",
          "text": [
            "2.0\n",
            "0.5\n"
          ]
        }
      ]
    },
    {
      "cell_type": "markdown",
      "source": [
        "## Keyword Arguments"
      ],
      "metadata": {
        "id": "2xAwE6sWQNIL"
      }
    },
    {
      "cell_type": "code",
      "source": [
        "def divide (a, b):\n",
        "    return a / b\n",
        "\n",
        "print(divide(a = 6, b = 3)) # 출력: 2.0\n",
        "print(divide(b = 3, a = 6)) # 출력: 2.0"
      ],
      "metadata": {
        "colab": {
          "base_uri": "https://localhost:8080/"
        },
        "id": "gp9ugSmQQQK8",
        "outputId": "3c1207fb-cc34-472a-e6a8-899f1885ad49"
      },
      "execution_count": 43,
      "outputs": [
        {
          "output_type": "stream",
          "name": "stdout",
          "text": [
            "2.0\n",
            "2.0\n"
          ]
        }
      ]
    },
    {
      "cell_type": "markdown",
      "source": [
        "## Main Function"
      ],
      "metadata": {
        "id": "ptCrQ7yVQZoq"
      }
    },
    {
      "cell_type": "code",
      "source": [
        "def main ():\n",
        "    print(\"Hello World!\")\n",
        "\n",
        "print(__name__)\n",
        "\n",
        "if __name__ == '__main__':\n",
        "    main ()"
      ],
      "metadata": {
        "colab": {
          "base_uri": "https://localhost:8080/"
        },
        "id": "_8Cu5eEuQd7U",
        "outputId": "143f5615-7596-4852-c370-33b9016f62b5"
      },
      "execution_count": 54,
      "outputs": [
        {
          "output_type": "stream",
          "name": "stdout",
          "text": [
            "__main__\n",
            "Hello World!\n"
          ]
        }
      ]
    },
    {
      "cell_type": "markdown",
      "source": [
        "# 예외 처리"
      ],
      "metadata": {
        "id": "PryeXD7YQ0h-"
      }
    },
    {
      "cell_type": "code",
      "source": [
        "# finally clause is always executed\n",
        "try:\n",
        "    x = 1/0\n",
        "    print(x)\n",
        "except :\n",
        "    print('Something went wrong ')\n",
        "else :\n",
        "    print('Done ')\n",
        "finally :\n",
        "    print('Always execute this ')\n",
        "# Prints Something went wrong\n",
        "# Prints Always execute this"
      ],
      "metadata": {
        "colab": {
          "base_uri": "https://localhost:8080/"
        },
        "id": "TOp-0roWQ1_W",
        "outputId": "93d368bd-3da2-4d7a-b627-3a1d6186774c"
      },
      "execution_count": 56,
      "outputs": [
        {
          "output_type": "stream",
          "name": "stdout",
          "text": [
            "1.0\n",
            "Done \n",
            "Always execute this \n"
          ]
        }
      ]
    },
    {
      "cell_type": "markdown",
      "source": [
        "# 파일 입출력"
      ],
      "metadata": {
        "id": "49nQYZs-RLgX"
      }
    },
    {
      "cell_type": "code",
      "source": [
        "colors = ['red', 'green', 'blue']\n",
        "file = open('myfile.txt', 'w')\n",
        "\n",
        "for color in colors:\n",
        "    file.write(color + '\\n')\n",
        "\n",
        "# Read a file\n",
        "file = open('myfile.txt')\n",
        "\n",
        "for line in file.readlines():\n",
        "    print(line)"
      ],
      "metadata": {
        "colab": {
          "base_uri": "https://localhost:8080/"
        },
        "id": "cNr3VN_KRMpu",
        "outputId": "10f6ee32-f647-4e2a-dfb6-a7c7e204b875"
      },
      "execution_count": 57,
      "outputs": [
        {
          "output_type": "stream",
          "name": "stdout",
          "text": [
            "red\n",
            "\n",
            "green\n",
            "\n",
            "blue\n",
            "\n"
          ]
        }
      ]
    }
  ]
}