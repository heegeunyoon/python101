{
  "nbformat": 4,
  "nbformat_minor": 0,
  "metadata": {
    "colab": {
      "provenance": [],
      "collapsed_sections": [
        "RGFfCZKfO_gm"
      ],
      "authorship_tag": "ABX9TyPII2/duE56j/RCUV8XQ7/v",
      "include_colab_link": true
    },
    "kernelspec": {
      "name": "python3",
      "display_name": "Python 3"
    },
    "language_info": {
      "name": "python"
    }
  },
  "cells": [
    {
      "cell_type": "markdown",
      "metadata": {
        "id": "view-in-github",
        "colab_type": "text"
      },
      "source": [
        "<a href=\"https://colab.research.google.com/github/heegeunyoon/python101/blob/main/0_python_syntax.ipynb\" target=\"_parent\"><img src=\"https://colab.research.google.com/assets/colab-badge.svg\" alt=\"Open In Colab\"/></a>"
      ]
    },
    {
      "cell_type": "markdown",
      "source": [
        "# 자료형"
      ],
      "metadata": {
        "id": "KcmdZfSaLmKR"
      }
    },
    {
      "cell_type": "code",
      "execution_count": null,
      "metadata": {
        "id": "_a8ZiMvcElgR"
      },
      "outputs": [],
      "source": [
        "first_name = 'Heegeun'                        # str\n",
        "last_name = 'Yoon'                            # str\n",
        "full_name = first_name , last_name            # tuple\n",
        "age = 41                                      # int\n",
        "is_male = True                                # bool\n",
        "person = {'name ' : 'Heegeun ', 'age ' : 42}  # dict\n",
        "numbers = [41, 8, 7]                          # list\n",
        "\n",
        "print(type(first_name), first_name)\n",
        "print(type(last_name), last_name)\n",
        "print(type(full_name), full_name)\n",
        "print(type(age), age)\n",
        "print(type(is_male), is_male)\n",
        "print(type(person), person)\n",
        "print(type(numbers), numbers)"
      ]
    },
    {
      "cell_type": "markdown",
      "source": [
        "# 연산자"
      ],
      "metadata": {
        "id": "q20o7k1HM67E"
      }
    },
    {
      "cell_type": "code",
      "source": [
        "print(1 + 2)\n",
        "print(3 - 2)\n",
        "print(6 % 3)\n",
        "print(5 / 4)\n",
        "print(5 // 4)\n",
        "print(1 == 2)\n",
        "print(1 and 2)\n",
        "\n",
        "a = 1\n",
        "a += 2\n",
        "print(a)\n",
        "\n",
        "a = [1, 2, 3]\n",
        "b = [1, 2, 3]\n",
        "print(a == b)  # True (값이 같음)\n",
        "print(a is b)  # False (다른 객체)\n",
        "\n",
        "c = [4, 5, 6]\n",
        "d = c\n",
        "print(c == d)  # True (값이 같음)\n",
        "print(c is d)  # True (같은 객체)"
      ],
      "metadata": {
        "id": "WrpU5i6fEve9"
      },
      "execution_count": null,
      "outputs": []
    },
    {
      "cell_type": "markdown",
      "source": [
        "# 들여쓰기"
      ],
      "metadata": {
        "id": "lKwGsu6LOL0R"
      }
    },
    {
      "cell_type": "code",
      "source": [
        "# 정상\n",
        "for i in range(1, 4):\n",
        "    print(\"반복 횟수:\", i)\n",
        "    print(\"제곱:\", i * i)\n",
        "    print(\"--------------\")\n",
        "\n",
        "# 오류발생\n",
        "for i in range(1, 4):\n",
        "    print(\"반복 횟수:\", i)\n",
        "  print(\"제곱:\", i * i)\n",
        "    print(\"--------------\")"
      ],
      "metadata": {
        "id": "rPJWkyZCONmN"
      },
      "execution_count": null,
      "outputs": []
    },
    {
      "cell_type": "markdown",
      "source": [
        "# 조건문"
      ],
      "metadata": {
        "id": "WE6tiz1nOZ1W"
      }
    },
    {
      "cell_type": "code",
      "source": [
        "num_of_apple = 3\n",
        "market = ('apple', 'watermelon')\n",
        "\n",
        "if 'watermelon' in market:\n",
        "    num_of_apple = 1\n",
        "\n",
        "print(num_of_apple)"
      ],
      "metadata": {
        "id": "94Lta4WHOciQ"
      },
      "execution_count": null,
      "outputs": []
    },
    {
      "cell_type": "markdown",
      "source": [
        "# 반복문"
      ],
      "metadata": {
        "id": "t0PJZyYxO4X3"
      }
    },
    {
      "cell_type": "markdown",
      "source": [
        "## for loop"
      ],
      "metadata": {
        "id": "RGFfCZKfO_gm"
      }
    },
    {
      "cell_type": "code",
      "source": [
        "colors = ['red ', 'green ', 'blue ']\n",
        "\n",
        "for x in colors:\n",
        "    print(x)\n",
        "\n",
        "print(colors)"
      ],
      "metadata": {
        "id": "DPAn0RhvO5ye"
      },
      "execution_count": null,
      "outputs": []
    },
    {
      "cell_type": "markdown",
      "source": [
        "## while loop"
      ],
      "metadata": {
        "id": "y9jicPtTPD3A"
      }
    },
    {
      "cell_type": "code",
      "source": [
        "colors = ['red ', 'green ', 'blue ']\n",
        "\n",
        "while colors:\n",
        "    print(colors.pop ())\n",
        "\n",
        "print(colors)"
      ],
      "metadata": {
        "id": "mqsutskaPFqO"
      },
      "execution_count": null,
      "outputs": []
    },
    {
      "cell_type": "markdown",
      "source": [
        "## 흐름 제어"
      ],
      "metadata": {
        "id": "R1I2gxctPiSO"
      }
    },
    {
      "cell_type": "markdown",
      "source": [
        "### Break"
      ],
      "metadata": {
        "id": "Mo6-0ANTPqg6"
      }
    },
    {
      "cell_type": "code",
      "source": [
        "colors = ['red ', 'green ', 'blue ']\n",
        "\n",
        "for x in colors:\n",
        "    if x == 'green ':\n",
        "        break\n",
        "    print(x)\n",
        "else:\n",
        "    print('Done!')"
      ],
      "metadata": {
        "id": "jFLJwdqVPoHA"
      },
      "execution_count": null,
      "outputs": []
    },
    {
      "cell_type": "markdown",
      "source": [
        "### Continue"
      ],
      "metadata": {
        "id": "87csHmR3Pt_x"
      }
    },
    {
      "cell_type": "code",
      "source": [
        "colors = ['red ', 'green ', 'blue ']\n",
        "\n",
        "for x in colors:\n",
        "    if x == 'green ':\n",
        "        continue\n",
        "    print(x)\n",
        "else:\n",
        "    print('Done!')"
      ],
      "metadata": {
        "id": "OqwIXEb5PwrH"
      },
      "execution_count": null,
      "outputs": []
    },
    {
      "cell_type": "markdown",
      "source": [
        "# 함수"
      ],
      "metadata": {
        "id": "A0EY0T6SQAXq"
      }
    },
    {
      "cell_type": "code",
      "source": [
        "def divide(a:int , b:int)->float:\n",
        "    return a / b\n",
        "\n",
        "result = divide (6, 3)\n",
        "print(result) # 출력: 2.0"
      ],
      "metadata": {
        "id": "VDTYyvBJQBpw"
      },
      "execution_count": null,
      "outputs": []
    },
    {
      "cell_type": "markdown",
      "source": [
        "## Poisitonal Arguments"
      ],
      "metadata": {
        "id": "ckxzsXKAQIP0"
      }
    },
    {
      "cell_type": "code",
      "source": [
        "def divide(a:int , b:int)->float:\n",
        "    return a / b\n",
        "\n",
        "print(divide (6, 3)) # 출력: 2.0\n",
        "print(divide (3, 6)) # 출력: 0.5"
      ],
      "metadata": {
        "id": "W7c0_N8nQKgz"
      },
      "execution_count": null,
      "outputs": []
    },
    {
      "cell_type": "markdown",
      "source": [
        "## Keyword Arguments"
      ],
      "metadata": {
        "id": "2xAwE6sWQNIL"
      }
    },
    {
      "cell_type": "code",
      "source": [
        "def divide (a, b):\n",
        "    return a / b\n",
        "\n",
        "print(divide(a = 6, b = 3)) # 출력: 2.0\n",
        "print(divide(b = 3, a = 6)) # 출력: 2.0"
      ],
      "metadata": {
        "id": "gp9ugSmQQQK8"
      },
      "execution_count": null,
      "outputs": []
    },
    {
      "cell_type": "markdown",
      "source": [
        "## Main Function"
      ],
      "metadata": {
        "id": "ptCrQ7yVQZoq"
      }
    },
    {
      "cell_type": "code",
      "source": [
        "def main ():\n",
        "    print(\"Hello World!\")\n",
        "\n",
        "print(__name__)\n",
        "\n",
        "if __name__ == '__main__':\n",
        "    main ()"
      ],
      "metadata": {
        "id": "_8Cu5eEuQd7U"
      },
      "execution_count": null,
      "outputs": []
    },
    {
      "cell_type": "markdown",
      "source": [
        "# 예외 처리"
      ],
      "metadata": {
        "id": "PryeXD7YQ0h-"
      }
    },
    {
      "cell_type": "code",
      "source": [
        "# finally clause is always executed\n",
        "try:\n",
        "    x = 1/0\n",
        "    print(x)\n",
        "except :\n",
        "    print('Something went wrong ')\n",
        "else :\n",
        "    print('Done ')\n",
        "finally :\n",
        "    print('Always execute this ')\n",
        "# Prints Something went wrong\n",
        "# Prints Always execute this"
      ],
      "metadata": {
        "id": "TOp-0roWQ1_W"
      },
      "execution_count": null,
      "outputs": []
    },
    {
      "cell_type": "markdown",
      "source": [
        "# 파일 입출력"
      ],
      "metadata": {
        "id": "49nQYZs-RLgX"
      }
    },
    {
      "cell_type": "code",
      "source": [
        "colors = ['red', 'green', 'blue']\n",
        "file = open('myfile.txt', 'w')\n",
        "\n",
        "for color in colors:\n",
        "    file.write(color + '\\n')\n",
        "\n",
        "# Read a file\n",
        "file = open('myfile.txt')\n",
        "\n",
        "for line in file.readlines():\n",
        "    print(line)"
      ],
      "metadata": {
        "id": "cNr3VN_KRMpu"
      },
      "execution_count": null,
      "outputs": []
    }
  ]
}