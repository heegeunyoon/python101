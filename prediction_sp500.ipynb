{
  "cells": [
    {
      "cell_type": "markdown",
      "metadata": {
        "id": "view-in-github",
        "colab_type": "text"
      },
      "source": [
        "<a href=\"https://colab.research.google.com/github/minyoung347/python101/blob/main/prediction_sp500.ipynb\" target=\"_parent\"><img src=\"https://colab.research.google.com/assets/colab-badge.svg\" alt=\"Open In Colab\"/></a>"
      ]
    },
    {
      "cell_type": "markdown",
      "metadata": {
        "id": "GHhSCmXu664F"
      },
      "source": [
        "### Pandas 시작- 파일을 DataFrame 로딩, 기본 API"
      ]
    },
    {
      "cell_type": "code",
      "execution_count": 1,
      "metadata": {
        "id": "3TntSvjA664I"
      },
      "outputs": [],
      "source": [
        "import pandas as pd"
      ]
    },
    {
      "cell_type": "code",
      "source": [
        "!rm -r python101/\n",
        "!git clone https://github.com/minyoung347/python101.git"
      ],
      "metadata": {
        "id": "l6hTnC-PDcG2",
        "outputId": "32e7ab8a-687d-45bc-ad5c-f68e75a0813b",
        "colab": {
          "base_uri": "https://localhost:8080/"
        }
      },
      "execution_count": null,
      "outputs": [
        {
          "output_type": "stream",
          "name": "stdout",
          "text": [
            "Cloning into 'python101'...\n",
            "remote: Enumerating objects: 785, done.\u001b[K\n",
            "remote: Counting objects: 100% (322/322), done.\u001b[K\n",
            "remote: Compressing objects: 100% (177/177), done.\u001b[K\n",
            "remote: Total 785 (delta 160), reused 287 (delta 144), pack-reused 463\u001b[K\n",
            "Receiving objects: 100% (785/785), 91.96 MiB | 36.25 MiB/s, done.\n",
            "Resolving deltas: 100% (401/401), done.\n"
          ]
        }
      ]
    },
    {
      "cell_type": "code",
      "source": [
        "df = pd.read_csv('/content/python101/input/SP500HistoricalData.csv')"
      ],
      "metadata": {
        "id": "nHn8XIKLcN8C"
      },
      "execution_count": null,
      "outputs": []
    },
    {
      "cell_type": "code",
      "source": [
        "def remove_comma_float(x):\n",
        "    return float(x.replace(',', ''))"
      ],
      "metadata": {
        "id": "x6tti4vNDHKA"
      },
      "execution_count": null,
      "outputs": []
    },
    {
      "cell_type": "code",
      "source": [
        "df['Price'] = df['Price'].apply(remove_comma_float)\n",
        "df['Open'] = df['Open'].apply(remove_comma_float)\n",
        "df['High'] = df['High'].apply(remove_comma_float)\n",
        "df['Low'] = df['Low'].apply(remove_comma_float)"
      ],
      "metadata": {
        "id": "at9lcu6qC_wS"
      },
      "execution_count": null,
      "outputs": []
    },
    {
      "cell_type": "code",
      "source": [
        "df['Date'] = pd.to_datetime(df['Date'], infer_datetime_format=True)"
      ],
      "metadata": {
        "id": "cxZ4QuwvD5gv"
      },
      "execution_count": null,
      "outputs": []
    },
    {
      "cell_type": "code",
      "source": [
        "df.set_index('Date', inplace=True)\n",
        "df.sort_index(inplace=True)"
      ],
      "metadata": {
        "id": "TC4SMPInzJn3"
      },
      "execution_count": null,
      "outputs": []
    },
    {
      "cell_type": "code",
      "source": [
        "df.drop('Vol.', inplace=True, axis=1)"
      ],
      "metadata": {
        "id": "xMrCuIvAFWEN"
      },
      "execution_count": null,
      "outputs": []
    },
    {
      "cell_type": "code",
      "source": [
        "df['Price_diff'] = df['Price'].diff(1)"
      ],
      "metadata": {
        "id": "mWxwUZZ6lRSF"
      },
      "execution_count": null,
      "outputs": []
    },
    {
      "cell_type": "code",
      "source": [
        "df['up_down'] = 0"
      ],
      "metadata": {
        "id": "zGlmlgiilqrK"
      },
      "execution_count": null,
      "outputs": []
    },
    {
      "cell_type": "code",
      "source": [
        "# up: 1, down: 0"
      ],
      "metadata": {
        "id": "YzdtSJg_lxHz"
      },
      "execution_count": null,
      "outputs": []
    },
    {
      "cell_type": "code",
      "source": [
        "df.loc[df.Price_diff > 0, 'up_down'] = 1"
      ],
      "metadata": {
        "id": "0P6QGYfwmLvt"
      },
      "execution_count": null,
      "outputs": []
    },
    {
      "cell_type": "code",
      "source": [
        "df['up_down_shift'] = df['up_down'].shift(-1)"
      ],
      "metadata": {
        "id": "Ko2QUrw0l-Bp"
      },
      "execution_count": null,
      "outputs": []
    },
    {
      "cell_type": "code",
      "source": [
        "df.dropna(axis=0, inplace=True)"
      ],
      "metadata": {
        "id": "0_-E_vC9m2Ep"
      },
      "execution_count": null,
      "outputs": []
    },
    {
      "cell_type": "code",
      "source": [
        "df = df.astype({'up_down_shift': 'int'})"
      ],
      "metadata": {
        "id": "J5SNArr6nE7P"
      },
      "execution_count": null,
      "outputs": []
    },
    {
      "cell_type": "code",
      "source": [
        "df['up_down_shift_minus_1'] = df['up_down'].shift(-1)\n",
        "df['up_down_shift_plus_1'] = df['up_down'].shift(1)"
      ],
      "metadata": {
        "id": "TEsbtbm7n3JC"
      },
      "execution_count": null,
      "outputs": []
    },
    {
      "cell_type": "code",
      "source": [
        "df.drop(['up_down_shift_minus_1', 'up_down_shift_plus_1'], axis=1, inplace=True)"
      ],
      "metadata": {
        "id": "dp0DfSizn3Ek"
      },
      "execution_count": null,
      "outputs": []
    },
    {
      "cell_type": "code",
      "source": [
        "df"
      ],
      "metadata": {
        "id": "AT5AFyzas3oZ",
        "outputId": "da00c33f-b1f9-4d09-bd41-313ccea272cf",
        "colab": {
          "base_uri": "https://localhost:8080/",
          "height": 455
        }
      },
      "execution_count": null,
      "outputs": [
        {
          "output_type": "execute_result",
          "data": {
            "text/plain": [
              "              Price     Open     High      Low  Change %  Price_diff  up_down  \\\n",
              "Date                                                                            \n",
              "2019-01-03  2447.89  2491.92  2493.14  2443.96     -2.48      -62.14        0   \n",
              "2019-01-04  2531.94  2474.33  2538.07  2474.33      3.43       84.05        1   \n",
              "2019-01-07  2549.69  2535.61  2566.16  2524.56      0.70       17.75        1   \n",
              "2019-01-08  2574.41  2568.11  2579.82  2547.56      0.97       24.72        1   \n",
              "2019-01-09  2584.96  2580.00  2595.32  2568.89      0.41       10.55        1   \n",
              "...             ...      ...      ...      ...       ...         ...      ...   \n",
              "2023-06-13  4369.01  4352.61  4375.37  4349.31      0.69       30.08        1   \n",
              "2023-06-14  4372.59  4366.29  4391.82  4337.85      0.08        3.58        1   \n",
              "2023-06-15  4425.84  4365.33  4439.20  4362.60      1.22       53.25        1   \n",
              "2023-06-16  4409.59  4440.95  4448.47  4407.44     -0.37      -16.25        0   \n",
              "2023-06-20  4388.71  4396.11  4400.15  4367.19     -0.47      -20.88        0   \n",
              "\n",
              "            up_down_shift  \n",
              "Date                       \n",
              "2019-01-03              1  \n",
              "2019-01-04              1  \n",
              "2019-01-07              1  \n",
              "2019-01-08              1  \n",
              "2019-01-09              1  \n",
              "...                   ...  \n",
              "2023-06-13              1  \n",
              "2023-06-14              1  \n",
              "2023-06-15              0  \n",
              "2023-06-16              0  \n",
              "2023-06-20              0  \n",
              "\n",
              "[1123 rows x 8 columns]"
            ],
            "text/html": [
              "\n",
              "  <div id=\"df-2c65ca6c-90b8-4388-8d5f-2433600c9493\">\n",
              "    <div class=\"colab-df-container\">\n",
              "      <div>\n",
              "<style scoped>\n",
              "    .dataframe tbody tr th:only-of-type {\n",
              "        vertical-align: middle;\n",
              "    }\n",
              "\n",
              "    .dataframe tbody tr th {\n",
              "        vertical-align: top;\n",
              "    }\n",
              "\n",
              "    .dataframe thead th {\n",
              "        text-align: right;\n",
              "    }\n",
              "</style>\n",
              "<table border=\"1\" class=\"dataframe\">\n",
              "  <thead>\n",
              "    <tr style=\"text-align: right;\">\n",
              "      <th></th>\n",
              "      <th>Price</th>\n",
              "      <th>Open</th>\n",
              "      <th>High</th>\n",
              "      <th>Low</th>\n",
              "      <th>Change %</th>\n",
              "      <th>Price_diff</th>\n",
              "      <th>up_down</th>\n",
              "      <th>up_down_shift</th>\n",
              "    </tr>\n",
              "    <tr>\n",
              "      <th>Date</th>\n",
              "      <th></th>\n",
              "      <th></th>\n",
              "      <th></th>\n",
              "      <th></th>\n",
              "      <th></th>\n",
              "      <th></th>\n",
              "      <th></th>\n",
              "      <th></th>\n",
              "    </tr>\n",
              "  </thead>\n",
              "  <tbody>\n",
              "    <tr>\n",
              "      <th>2019-01-03</th>\n",
              "      <td>2447.89</td>\n",
              "      <td>2491.92</td>\n",
              "      <td>2493.14</td>\n",
              "      <td>2443.96</td>\n",
              "      <td>-2.48</td>\n",
              "      <td>-62.14</td>\n",
              "      <td>0</td>\n",
              "      <td>1</td>\n",
              "    </tr>\n",
              "    <tr>\n",
              "      <th>2019-01-04</th>\n",
              "      <td>2531.94</td>\n",
              "      <td>2474.33</td>\n",
              "      <td>2538.07</td>\n",
              "      <td>2474.33</td>\n",
              "      <td>3.43</td>\n",
              "      <td>84.05</td>\n",
              "      <td>1</td>\n",
              "      <td>1</td>\n",
              "    </tr>\n",
              "    <tr>\n",
              "      <th>2019-01-07</th>\n",
              "      <td>2549.69</td>\n",
              "      <td>2535.61</td>\n",
              "      <td>2566.16</td>\n",
              "      <td>2524.56</td>\n",
              "      <td>0.70</td>\n",
              "      <td>17.75</td>\n",
              "      <td>1</td>\n",
              "      <td>1</td>\n",
              "    </tr>\n",
              "    <tr>\n",
              "      <th>2019-01-08</th>\n",
              "      <td>2574.41</td>\n",
              "      <td>2568.11</td>\n",
              "      <td>2579.82</td>\n",
              "      <td>2547.56</td>\n",
              "      <td>0.97</td>\n",
              "      <td>24.72</td>\n",
              "      <td>1</td>\n",
              "      <td>1</td>\n",
              "    </tr>\n",
              "    <tr>\n",
              "      <th>2019-01-09</th>\n",
              "      <td>2584.96</td>\n",
              "      <td>2580.00</td>\n",
              "      <td>2595.32</td>\n",
              "      <td>2568.89</td>\n",
              "      <td>0.41</td>\n",
              "      <td>10.55</td>\n",
              "      <td>1</td>\n",
              "      <td>1</td>\n",
              "    </tr>\n",
              "    <tr>\n",
              "      <th>...</th>\n",
              "      <td>...</td>\n",
              "      <td>...</td>\n",
              "      <td>...</td>\n",
              "      <td>...</td>\n",
              "      <td>...</td>\n",
              "      <td>...</td>\n",
              "      <td>...</td>\n",
              "      <td>...</td>\n",
              "    </tr>\n",
              "    <tr>\n",
              "      <th>2023-06-13</th>\n",
              "      <td>4369.01</td>\n",
              "      <td>4352.61</td>\n",
              "      <td>4375.37</td>\n",
              "      <td>4349.31</td>\n",
              "      <td>0.69</td>\n",
              "      <td>30.08</td>\n",
              "      <td>1</td>\n",
              "      <td>1</td>\n",
              "    </tr>\n",
              "    <tr>\n",
              "      <th>2023-06-14</th>\n",
              "      <td>4372.59</td>\n",
              "      <td>4366.29</td>\n",
              "      <td>4391.82</td>\n",
              "      <td>4337.85</td>\n",
              "      <td>0.08</td>\n",
              "      <td>3.58</td>\n",
              "      <td>1</td>\n",
              "      <td>1</td>\n",
              "    </tr>\n",
              "    <tr>\n",
              "      <th>2023-06-15</th>\n",
              "      <td>4425.84</td>\n",
              "      <td>4365.33</td>\n",
              "      <td>4439.20</td>\n",
              "      <td>4362.60</td>\n",
              "      <td>1.22</td>\n",
              "      <td>53.25</td>\n",
              "      <td>1</td>\n",
              "      <td>0</td>\n",
              "    </tr>\n",
              "    <tr>\n",
              "      <th>2023-06-16</th>\n",
              "      <td>4409.59</td>\n",
              "      <td>4440.95</td>\n",
              "      <td>4448.47</td>\n",
              "      <td>4407.44</td>\n",
              "      <td>-0.37</td>\n",
              "      <td>-16.25</td>\n",
              "      <td>0</td>\n",
              "      <td>0</td>\n",
              "    </tr>\n",
              "    <tr>\n",
              "      <th>2023-06-20</th>\n",
              "      <td>4388.71</td>\n",
              "      <td>4396.11</td>\n",
              "      <td>4400.15</td>\n",
              "      <td>4367.19</td>\n",
              "      <td>-0.47</td>\n",
              "      <td>-20.88</td>\n",
              "      <td>0</td>\n",
              "      <td>0</td>\n",
              "    </tr>\n",
              "  </tbody>\n",
              "</table>\n",
              "<p>1123 rows × 8 columns</p>\n",
              "</div>\n",
              "      <button class=\"colab-df-convert\" onclick=\"convertToInteractive('df-2c65ca6c-90b8-4388-8d5f-2433600c9493')\"\n",
              "              title=\"Convert this dataframe to an interactive table.\"\n",
              "              style=\"display:none;\">\n",
              "        \n",
              "  <svg xmlns=\"http://www.w3.org/2000/svg\" height=\"24px\"viewBox=\"0 0 24 24\"\n",
              "       width=\"24px\">\n",
              "    <path d=\"M0 0h24v24H0V0z\" fill=\"none\"/>\n",
              "    <path d=\"M18.56 5.44l.94 2.06.94-2.06 2.06-.94-2.06-.94-.94-2.06-.94 2.06-2.06.94zm-11 1L8.5 8.5l.94-2.06 2.06-.94-2.06-.94L8.5 2.5l-.94 2.06-2.06.94zm10 10l.94 2.06.94-2.06 2.06-.94-2.06-.94-.94-2.06-.94 2.06-2.06.94z\"/><path d=\"M17.41 7.96l-1.37-1.37c-.4-.4-.92-.59-1.43-.59-.52 0-1.04.2-1.43.59L10.3 9.45l-7.72 7.72c-.78.78-.78 2.05 0 2.83L4 21.41c.39.39.9.59 1.41.59.51 0 1.02-.2 1.41-.59l7.78-7.78 2.81-2.81c.8-.78.8-2.07 0-2.86zM5.41 20L4 18.59l7.72-7.72 1.47 1.35L5.41 20z\"/>\n",
              "  </svg>\n",
              "      </button>\n",
              "      \n",
              "  <style>\n",
              "    .colab-df-container {\n",
              "      display:flex;\n",
              "      flex-wrap:wrap;\n",
              "      gap: 12px;\n",
              "    }\n",
              "\n",
              "    .colab-df-convert {\n",
              "      background-color: #E8F0FE;\n",
              "      border: none;\n",
              "      border-radius: 50%;\n",
              "      cursor: pointer;\n",
              "      display: none;\n",
              "      fill: #1967D2;\n",
              "      height: 32px;\n",
              "      padding: 0 0 0 0;\n",
              "      width: 32px;\n",
              "    }\n",
              "\n",
              "    .colab-df-convert:hover {\n",
              "      background-color: #E2EBFA;\n",
              "      box-shadow: 0px 1px 2px rgba(60, 64, 67, 0.3), 0px 1px 3px 1px rgba(60, 64, 67, 0.15);\n",
              "      fill: #174EA6;\n",
              "    }\n",
              "\n",
              "    [theme=dark] .colab-df-convert {\n",
              "      background-color: #3B4455;\n",
              "      fill: #D2E3FC;\n",
              "    }\n",
              "\n",
              "    [theme=dark] .colab-df-convert:hover {\n",
              "      background-color: #434B5C;\n",
              "      box-shadow: 0px 1px 3px 1px rgba(0, 0, 0, 0.15);\n",
              "      filter: drop-shadow(0px 1px 2px rgba(0, 0, 0, 0.3));\n",
              "      fill: #FFFFFF;\n",
              "    }\n",
              "  </style>\n",
              "\n",
              "      <script>\n",
              "        const buttonEl =\n",
              "          document.querySelector('#df-2c65ca6c-90b8-4388-8d5f-2433600c9493 button.colab-df-convert');\n",
              "        buttonEl.style.display =\n",
              "          google.colab.kernel.accessAllowed ? 'block' : 'none';\n",
              "\n",
              "        async function convertToInteractive(key) {\n",
              "          const element = document.querySelector('#df-2c65ca6c-90b8-4388-8d5f-2433600c9493');\n",
              "          const dataTable =\n",
              "            await google.colab.kernel.invokeFunction('convertToInteractive',\n",
              "                                                     [key], {});\n",
              "          if (!dataTable) return;\n",
              "\n",
              "          const docLinkHtml = 'Like what you see? Visit the ' +\n",
              "            '<a target=\"_blank\" href=https://colab.research.google.com/notebooks/data_table.ipynb>data table notebook</a>'\n",
              "            + ' to learn more about interactive tables.';\n",
              "          element.innerHTML = '';\n",
              "          dataTable['output_type'] = 'display_data';\n",
              "          await google.colab.output.renderOutput(dataTable, element);\n",
              "          const docLink = document.createElement('div');\n",
              "          docLink.innerHTML = docLinkHtml;\n",
              "          element.appendChild(docLink);\n",
              "        }\n",
              "      </script>\n",
              "    </div>\n",
              "  </div>\n",
              "  "
            ]
          },
          "metadata": {},
          "execution_count": 126
        }
      ]
    },
    {
      "cell_type": "code",
      "source": [
        "def strip_pct_float(x):\n",
        "    return float(x.replace('%', ''))"
      ],
      "metadata": {
        "id": "7CzOGWMXn2-7"
      },
      "execution_count": null,
      "outputs": []
    },
    {
      "cell_type": "code",
      "source": [
        "df['Change %'] = df['Change %'].apply(strip_pct_float)"
      ],
      "metadata": {
        "id": "BMu6DjKDp5Gi"
      },
      "execution_count": null,
      "outputs": []
    },
    {
      "cell_type": "code",
      "source": [
        "df.info()"
      ],
      "metadata": {
        "id": "SENPXTextP4a",
        "outputId": "e4afab32-4932-4ba5-93d5-e78ef8366007",
        "colab": {
          "base_uri": "https://localhost:8080/"
        }
      },
      "execution_count": null,
      "outputs": [
        {
          "output_type": "stream",
          "name": "stdout",
          "text": [
            "<class 'pandas.core.frame.DataFrame'>\n",
            "DatetimeIndex: 1123 entries, 2019-01-03 to 2023-06-20\n",
            "Data columns (total 8 columns):\n",
            " #   Column         Non-Null Count  Dtype  \n",
            "---  ------         --------------  -----  \n",
            " 0   Price          1123 non-null   float64\n",
            " 1   Open           1123 non-null   float64\n",
            " 2   High           1123 non-null   float64\n",
            " 3   Low            1123 non-null   float64\n",
            " 4   Change %       1123 non-null   float64\n",
            " 5   Price_diff     1123 non-null   float64\n",
            " 6   up_down        1123 non-null   int64  \n",
            " 7   up_down_shift  1123 non-null   int64  \n",
            "dtypes: float64(6), int64(2)\n",
            "memory usage: 79.0 KB\n"
          ]
        }
      ]
    },
    {
      "cell_type": "code",
      "source": [
        "from sklearn.model_selection import train_test_split"
      ],
      "metadata": {
        "id": "he4WfVg9nsZD"
      },
      "execution_count": null,
      "outputs": []
    },
    {
      "cell_type": "code",
      "source": [
        "X = df.drop(['up_down', 'up_down_shift'], axis=1)"
      ],
      "metadata": {
        "id": "NWShnHCAq6c-"
      },
      "execution_count": null,
      "outputs": []
    },
    {
      "cell_type": "code",
      "source": [
        "y = df['up_down_shift']"
      ],
      "metadata": {
        "id": "RUGMJk-9rGNN"
      },
      "execution_count": null,
      "outputs": []
    },
    {
      "cell_type": "code",
      "source": [
        "X_train, X_test, y_train, y_test = train_test_split(X, y,\n",
        "                                                    test_size=0.2, shuffle=False)"
      ],
      "metadata": {
        "id": "o-MO_uPznS9Z"
      },
      "execution_count": null,
      "outputs": []
    },
    {
      "cell_type": "code",
      "source": [
        "print(X_train.shape)\n",
        "print(y_train.shape)\n",
        "print('--------------')\n",
        "print(X_test.shape)\n",
        "print(y_test.shape)"
      ],
      "metadata": {
        "id": "9SLY7tR6rgLN",
        "outputId": "db71be58-0484-4687-972f-ca82bcfb1f07",
        "colab": {
          "base_uri": "https://localhost:8080/"
        }
      },
      "execution_count": null,
      "outputs": [
        {
          "output_type": "stream",
          "name": "stdout",
          "text": [
            "(898, 6)\n",
            "(898,)\n",
            "--------------\n",
            "(225, 6)\n",
            "(225,)\n"
          ]
        }
      ]
    },
    {
      "cell_type": "code",
      "source": [
        "from sklearn.tree import DecisionTreeClassifier\n",
        "from sklearn.ensemble import RandomForestClassifier\n",
        "from sklearn.linear_model import LogisticRegression\n",
        "\n",
        "from sklearn.metrics import accuracy_score\n",
        "\n",
        "# 결정트리, Random Forest, 로지스틱 회귀를 위한 사이킷런 Classifier 클래스 생성\n",
        "dt_clf = DecisionTreeClassifier(random_state=11)\n",
        "rf_clf = RandomForestClassifier(random_state=11)\n",
        "lr_clf = LogisticRegression(solver='liblinear')\n",
        "\n",
        "# DecisionTreeClassifier 학습/예측/평가\n",
        "dt_clf.fit(X_train , y_train)\n",
        "dt_pred = dt_clf.predict(X_test)\n",
        "print('DecisionTreeClassifier 정확도: {0:.4f}'.format(accuracy_score(y_test, dt_pred)))\n",
        "\n",
        "# RandomForestClassifier 학습/예측/평가\n",
        "rf_clf.fit(X_train , y_train)\n",
        "rf_pred = rf_clf.predict(X_test)\n",
        "print('RandomForestClassifier 정확도:{0:.4f}'.format(accuracy_score(y_test, rf_pred)))\n",
        "\n",
        "# LogisticRegression 학습/예측/평가\n",
        "lr_clf.fit(X_train , y_train)\n",
        "lr_pred = lr_clf.predict(X_test)\n",
        "print('LogisticRegression 정확도: {0:.4f}'.format(accuracy_score(y_test, lr_pred)))\n"
      ],
      "metadata": {
        "id": "2SRlDMlIsJJP",
        "outputId": "6e9f649b-7c6e-4fa0-db69-c0c1dbed945d",
        "colab": {
          "base_uri": "https://localhost:8080/"
        }
      },
      "execution_count": null,
      "outputs": [
        {
          "output_type": "stream",
          "name": "stdout",
          "text": [
            "DecisionTreeClassifier 정확도: 0.5244\n",
            "RandomForestClassifier 정확도:0.4978\n",
            "LogisticRegression 정확도: 0.4756\n"
          ]
        }
      ]
    }
  ],
  "metadata": {
    "kernelspec": {
      "display_name": "Python 3 (ipykernel)",
      "language": "python",
      "name": "python3"
    },
    "language_info": {
      "codemirror_mode": {
        "name": "ipython",
        "version": 3
      },
      "file_extension": ".py",
      "mimetype": "text/x-python",
      "name": "python",
      "nbconvert_exporter": "python",
      "pygments_lexer": "ipython3",
      "version": "3.9.7"
    },
    "colab": {
      "provenance": [],
      "include_colab_link": true
    }
  },
  "nbformat": 4,
  "nbformat_minor": 0
}